{
 "cells": [
  {
   "cell_type": "code",
   "execution_count": 71,
   "metadata": {},
   "outputs": [],
   "source": [
    "import sys\n",
    "import django\n",
    "import os\n",
    "file_dir = \"/Users/mirbilal/Desktop/MobCommission/commissionV2/\"\n",
    "if file_dir not in sys.path:\n",
    "    sys.path.insert(0, file_dir)\n",
    "\n",
    "os.environ[\"DJANGO_SETTINGS_MODULE\"] = \"commissionerv2.settings\"\n",
    "os.environ[\"DJANGO_ALLOW_ASYNC_UNSAFE\"] = \"true\" \n",
    "django.setup()\n",
    "from datetime import datetime, date\n",
    "from psx import stocks, tickers\n",
    "from IPython.display import display\n",
    "import pandas as pd\n",
    "import investpy\n",
    "import yfinance as yf\n"
   ]
  },
  {
   "cell_type": "code",
   "execution_count": 72,
   "metadata": {},
   "outputs": [],
   "source": [
    "pd.set_option('display.max_rows', None)\n",
    "pd.set_option('display.max_columns', None)"
   ]
  },
  {
   "cell_type": "code",
   "execution_count": 73,
   "metadata": {},
   "outputs": [
    {
     "data": {
      "text/plain": [
       "<bound method DataReader.tickers of <psx.web.DataReader object at 0x137733e50>>"
      ]
     },
     "metadata": {},
     "output_type": "display_data"
    }
   ],
   "source": [
    "display(tickers)"
   ]
  },
  {
   "cell_type": "code",
   "execution_count": 79,
   "metadata": {},
   "outputs": [
    {
     "name": "stdout",
     "output_type": "stream",
     "text": [
      "['AGSILSC', 'AKBLTFC6', 'AKBLTFC7', 'BAFLTFC6', 'BAFLTFC7', 'BAFLTFC8', 'BAHLTFC10', 'BAHLTFC9', 'BIPLSC', 'BOPTFC2', 'HBLTFC2', 'HBLTFC3', 'HUBCSC4', 'HUBPHLSC', 'JSBLTFC2', 'JSBLTFC3', 'KELSC5', 'KELSC6', 'MUGHALSC', 'P02PFL060425', 'P02PFL090225', 'P02PFL210925', 'P03PFL090226', 'P03PFL191026', 'P03PFL210926', 'P03PIB040825', 'P03PIB050824', 'P05GIS091225', 'P05GIS290725', 'P05GIS300425', 'P05PFL060428', 'P05PFL161127', 'P05PFL180625', 'P05PFL191028', 'P05PFL210928', 'P05PIB131027', 'P05PIB151025', 'P05PIB190924', 'P05PIB290427', 'P10PFL220829', 'P10PIB101230', 'P10PIB120728', 'P10PIB190929', 'PESC1', 'PESC2', 'PK03TB080224', 'PK03TB110124', 'PK03TB141223', 'PK03TB161123', 'PK03TB220224', 'PK03TB250124', 'PK03TB281223', 'PK06TB020524', 'PK06TB040424', 'PK06TB070324', 'PK06TB080224', 'PK06TB110124', 'PK06TB141223', 'PK06TB160524', 'PK06TB161123', 'PK06TB180424', 'PK06TB210324', 'PK06TB250124', 'PK06TB281223', 'PK06TB300524', 'PK06TB301123', 'PK12TB020524', 'PK12TB031024', 'PK12TB040424', 'PK12TB050924', 'PK12TB070324', 'PK12TB080224', 'PK12TB080824', 'PK12TB110724', 'PK12TB130624', 'PK12TB141124', 'PK12TB141223', 'PK12TB160524', 'PK12TB161123', 'PK12TB171024', 'PK12TB180424', 'PK12TB190924', 'PK12TB210324', 'PK12TB220224', 'PK12TB220824', 'PK12TB250724', 'PK12TB270624', 'PK12TB281124', 'PK12TB281223', 'PK12TB300524', 'PK12TB311024', 'SBLTFC', 'SNBLTFC3', 'SNBLTFC4', 'TPLSC', 'TPLTFC3', 'UBLTFC5', 'UMBLTFC1', 'PK12TB301123', 'PK03TB021123', 'PK03TB301123', 'PK06TB021123', 'PK06TB210923', 'PK12TB021123', 'HUBCSC2', 'KFTFC1', '786', 'AABS', 'AAL', 'AASM', 'AATM', 'ABL', 'ABOT', 'ABSON', 'ACIETF', 'ACPL', 'ADAMS', 'ADMM', 'ADOS', 'ADTM', 'AEL', 'AGHA', 'AGIC', 'AGIL', 'AGL', 'AGP', 'AGSML', 'AGTL', 'AHCL', 'AHL', 'AHTM', 'AICL', 'AIRLINK', 'AKBL', 'AKDCL', 'AKDHL', 'AKDSL', 'AKGL', 'AKZO', 'ALAC', 'ALIFE', 'ALNRS', 'ALQT', 'ALTN', 'AMBL', 'AMSL', 'AMTEX', 'ANL', 'ANNT', 'ANSM', 'ANTM', 'APL', 'APOT', 'AQTM', 'ARCTM', 'ARM', 'ARPAK', 'ARPL', 'ARUJ', 'ASC', 'ASCR1', 'ASHT', 'ASIC', 'ASL', 'ASRL', 'ASTL', 'ASTM', 'ATBA', 'ATIL', 'ATLH', 'ATRL', 'AVN', 'AWTX', 'AWWAL', 'AYTM', 'AYZT', 'AZMT', 'AZTM', 'BAFL', 'BAFS', 'BAHL', 'BAPL', 'BATA', 'BCL', 'BCML', 'BECO', 'BEEM', 'BELA', 'BERG', 'BFMOD', 'BGL', 'BHAT', 'BIFO', 'BIIC', 'BILF', 'BIPL', 'BIPLS', 'BML', 'BNL', 'BNWM', 'BOK', 'BOP', 'BPBL', 'BPL', 'BROT', 'BRR', 'BRRG', 'BTL', 'BUXL', 'BWCL', 'BWHL', 'BYCO', 'CASH', 'CCM', 'CECL', 'CENI', 'CEPB', 'CFL', 'CHAS', 'CHBL', 'CHCC', 'CJPL', 'CLCPS', 'CLOV', 'CLVL', 'CNERGY', 'COLG', 'COST', 'COTT', 'CPAL', 'CPHL', 'CPPL', 'CRTM', 'CSAP', 'CSIL', 'CSM', 'CTM', 'CWSM', 'CYAN', 'DAAG', 'DADX', 'DATM', 'DAWH', 'DBCI', 'DBSL', 'DCL', 'DCM', 'DCR', 'DCTL', 'DEL', 'DFML', 'DFSM', 'DGKC', 'DIIL', 'DINT', 'DKL', 'DKTM', 'DLL', 'DMIL', 'DMTM', 'DMTX', 'DNCC', 'DOL', 'DOLCPS', 'DOMF', 'DSFL', 'DSIL', 'DSL', 'DSML', 'DWAE', 'DWSM', 'DWTM', 'DYNO', 'ECOP', 'EFERT', 'EFGH', 'EFOODS', 'EFUG', 'EFUL', 'ELCM', 'ELSM', 'EMCO', 'ENGL', 'ENGRO', 'EPCL', 'EPCLR1', 'EPQL', 'ESBL', 'EWIC', 'EWICR1', 'EWLA', 'EXIDE', 'EXTR', 'FABL', 'FAEL', 'FANM', 'FASM', 'FATIMA', 'FCCL', 'FCEL', 'FCEPL', 'FCIBL', 'FCONM', 'FCSC', 'FDIBL', 'FDMF', 'FECM', 'FECTC', 'FEM', 'FEROZ', 'FFBL', 'FFC', 'FFL', 'FFLM', 'FFLNV', 'FFLR1', 'FHAM', 'FIBLM', 'FIL', 'FIM', 'FIMM', 'FLYNG', 'FLYNGR1', 'FML', 'FNBM', 'FNEL', 'FPJM', 'FPRM', 'FRCL', 'FRSM', 'FSWL', 'FTHM', 'FTMM', 'FTSM', 'FUDLM', 'FZCM', 'GADT', 'GAIL', 'GAILR1', 'GAL', 'GAMON', 'GASF', 'GATI', 'GATM', 'GCIL', 'GCILB', 'GEMPAPL', 'GEMSPNL', 'GEMUNSL', 'GENP', 'GFIL', 'GGGL', 'GGGLR1', 'GGL', 'GGLR1', 'GHGL', 'GHGLR1', 'GHNI', 'GHNL', 'GIL', 'GLAT', 'GLAXO', 'GLOT', 'GLPL', 'GOC', 'GOEM', 'GRR', 'GRYL', 'GSKCH', 'GSPM', 'GTECH', 'GTECHBR', 'GTYR', 'GUSM', 'GUTM', 'GVGL', 'GWLC', 'HABSM', 'HACC', 'HADC', 'HAEL', 'HAFL', 'HAJT', 'HAL', 'HALEON', 'HASCOL', 'HASCOLR1', 'HATM', 'HBL', 'HBLTETF', 'HCAR', 'HCL', 'HGFA', 'HICL', 'HIFA', 'HINO', 'HINOON', 'HIRAT', 'HKKT', 'HMB', 'HMICL', 'HMIM', 'HMM', 'HPL', 'HRPL', 'HSM', 'HSMCPS', 'HSMPSR', 'HSMR1', 'HSPI', 'HTL', 'HUBC', 'HUMNL', 'HUSI', 'HWQS', 'IBFL', 'IBLHL', 'ICCI', 'ICCT', 'ICI', 'ICIBL', 'ICL', 'ICLR1', 'IDRT', 'IDSM', 'IDYM', 'IFSL', 'IGIBL', 'IGIHL', 'IGIIL', 'IGIL', 'ILP', 'ILTM', 'IMAGE', 'IMAGER1', 'IML', 'IMSL', 'INDU', 'INIL', 'INKL', 'INL', 'INMF', 'ISHT', 'ISIL', 'ISL', 'ISTM', 'ITSL', 'ITTEFAQ', 'JATM', 'JDMT', 'JDWS', 'JGICL', 'JKSM', 'JLICL', 'JOPP', 'JOVC', 'JPGL', 'JSBL', 'JSBLR1', 'JSCL', 'JSCLR1', 'JSGBETF', 'JSGCL', 'JSIL', 'JSMFETF', 'JSML', 'JUBS', 'JVDC', 'JVDCR1', 'KACM', 'KAKL', 'KAPCO', 'KASBM', 'KCL', 'KEL', 'KHSM', 'KHTC', 'KHYT', 'KML', 'KOHC', 'KOHE', 'KOHP', 'KOHTM', 'KOIL', 'KOSM', 'KPUS', 'KSBP', 'KSTM', 'KTML', 'LCI', 'LEUL', 'LINDE', 'LMSM', 'LOADS', 'LOTCHEM', 'LPCL', 'LPGL', 'LPL', 'LSEPL', 'LSEVL', 'LUCK', 'MACFL', 'MACTER', 'MARI', 'MCB', 'MCBAH', 'MCBIM', 'MDTL', 'MDTM', 'MEBL', 'MEHT', 'MERIT', 'MERITR1', 'META', 'MFFL', 'MFL', 'MFTM', 'MIRKS', 'MLCF', 'MLCFR1', 'MODAM', 'MODAMR1', 'MOHE', 'MOIL', 'MOON', 'MQTM', 'MRNS', 'MSCL', 'MSOT', 'MTIL', 'MTL', 'MUBT', 'MUGHAL', 'MUGHALR1', 'MUKT', 'MUREB', 'MWMP', 'MZNPETF', 'MZSM', 'NAFL', 'NAGC', 'NATF', 'NATM', 'NBP', 'NBPGETF', 'NCL', 'NCML', 'NCPL', 'NESTLE', 'NETSOL', 'NEXT', 'NIB', 'NICL', 'NINA', 'NITGETF', 'NMFL', 'NML', 'NONS', 'NORS', 'NPL', 'NPSM', 'NRL', 'NRSL', 'NSRM', 'OBOY', 'OBOYR1', 'OCTOPUS', 'OGDC', 'OLPL', 'OLPM', 'OLSM', 'OML', 'ORIXM', 'ORM', 'OTSU', 'PABC', 'PACE', 'PAEL', 'PAKCEM', 'PAKD', 'PAKL', 'PAKMI', 'PAKOXY', 'PAKRI', 'PAKT', 'PASL', 'PASM', 'PCAL', 'PCML', 'PDGH', 'PECO', 'PGCL', 'PGF', 'PGIC', 'PGLC', 'PHDL', 'PIAA', 'PIAB', 'PIBTL', 'PICL', 'PICT', 'PIF', 'PIL', 'PIM', 'PINL', 'PIOC', 'PKGI', 'PKGP', 'PKGS', 'PMI', 'PMPK', 'PMRS', 'PNGRS', 'PNSC', 'POL', 'POML', 'POWER', 'POWERR1', 'PPL', 'PPP', 'PPVC', 'PREMA', 'PRET', 'PRIB', 'PRIC', 'PRL', 'PRLR1', 'PRWM', 'PSEL', 'PSMC', 'PSO', 'PSX', 'PSYL', 'PTC', 'PTL', 'PUDF', 'QUET', 'QUICE', 'QUSW', 'RAVT', 'RCML', 'REDCO', 'REGAL', 'REWM', 'RICL', 'RMPL', 'RPL', 'RUBY', 'RUPL', 'SAIF', 'SALT', 'SANE', 'SANSM', 'SAPL', 'SAPT', 'SARC', 'SASML', 'SAZEW', 'SBL', 'SCBPL', 'SCHT', 'SCL', 'SDIL', 'SDOT', 'SEARL', 'SEARLR1', 'SEL', 'SEPCO', 'SEPL', 'SERF', 'SERT', 'SFAT', 'SFL', 'SFLL', 'SGABL', 'SGF', 'SGFL', 'SGPL', 'SHCI', 'SHCM', 'SHDT', 'SHEL', 'SHEZ', 'SHFA', 'SHJS', 'SHNI', 'SHSML', 'SIBL', 'SICL', 'SIEM', 'SILK', 'SINDM', 'SING', 'SITC', 'SJTM', 'SKRS', 'SLCL', 'SLL', 'SLSO', 'SLSOPP', 'SLSOPVI', 'SLYT', 'SMBL', 'SMBLCPSA', 'SMBLCPSB', 'SMCPL', 'SML', 'SMLR1', 'SMTM', 'SNAI', 'SNBL', 'SNGP', 'SPEL', 'SPL', 'SPLC', 'SPLCTFC3', 'SPWL', 'SRSM', 'SRVI', 'SSGC', 'SSIC', 'SSML', 'SSOM', 'STCL', 'STJT', 'STML', 'STPL', 'SUCM', 'SUHJ', 'SURAJ', 'SURC', 'SUTM', 'SYM', 'SYS', 'SZTM', 'TAJT', 'TATM', 'TCLTC', 'TCORP', 'TDIL', 'TELE', 'TGL', 'THALL', 'THAS', 'THCCL', 'TICL', 'TOMCL', 'TOWL', 'TPL', 'TPLI', 'TPLP', 'TPLT', 'TREET', 'TREI', 'TRG', 'TRIBL', 'TRIPF', 'TRPOL', 'TRSM', 'TSBL', 'TSMF', 'TSML', 'TSPL', 'UBDL', 'UBL', 'UBLGSFO', 'UBLPETF', 'UCAPM', 'UDPL', 'UNIC', 'UNITY', 'UNITYR1', 'UPFL', 'USMT', 'UVIC', 'WAHN', 'WAVES', 'WAVESR1', 'WHALE', 'WTL', 'WYETH', 'YOUW', 'ZAHID', 'ZELP', 'ZHCM', 'ZIL', 'ZTL']\n"
     ]
    }
   ],
   "source": [
    "# Assuming tickers is your DataFrame\n",
    "tickers_column = tickers()\n",
    "symbols = list(tickers_column[\"symbol\"])\n",
    "# Print or display the tickers column\n",
    "# ticker_list = list(tickers_column)\n",
    "print(symbols)"
   ]
  },
  {
   "cell_type": "code",
   "execution_count": null,
   "metadata": {},
   "outputs": [],
   "source": [
    "\n",
    "from matplotlib.dates import relativedelta\n",
    "\n",
    "\n",
    "data = stocks(symbols, start=date(2020, 1, 1), end=(datetime.now() + relativedelta(days=2)).date())\n",
    "# data = stocks(\"786\", start=date(2020, 1, 1), end=(datetime.now() + date(2023, 1, 1)))\n"
   ]
  },
  {
   "cell_type": "code",
   "execution_count": null,
   "metadata": {},
   "outputs": [],
   "source": [
    "display(data)"
   ]
  },
  {
   "cell_type": "code",
   "execution_count": null,
   "metadata": {},
   "outputs": [],
   "source": [
    "investpy.get_commodities()"
   ]
  },
  {
   "cell_type": "code",
   "execution_count": null,
   "metadata": {},
   "outputs": [],
   "source": [
    "from_date = datetime(year=2022, month=1, day=1).strftime(\"%d/%m/%Y\")\n",
    "to_date = datetime(year=2023, month=1, day=1).strftime(\"%d/%m/%Y\")\n",
    "\n",
    "investpy.get_commodity_historical_data(\"GLD\", from_date=from_date, to_date=to_date,country=\"United States\")"
   ]
  },
  {
   "cell_type": "code",
   "execution_count": null,
   "metadata": {},
   "outputs": [],
   "source": [
    "wheat_symbol = \"WHEATFUTURE.CBT\"\n",
    "rice_symbol = \"RICEFUTURE.CBOT\"\n",
    "\n",
    "# Define the date range\n",
    "start_date = datetime(2023, 1, 1)\n",
    "end_date = datetime.now() + relativedelta(days=2)\n",
    "\n",
    "# Download historical data\n",
    "commodity_data = yf.download(\"PKR=X\", start=start_date, end=end_date)\n",
    "\n",
    "\n",
    "# Print the historical data\n",
    "display(commodity_data)"
   ]
  },
  {
   "cell_type": "code",
   "execution_count": null,
   "metadata": {},
   "outputs": [],
   "source": [
    "display(commodity_data)"
   ]
  },
  {
   "cell_type": "code",
   "execution_count": null,
   "metadata": {},
   "outputs": [],
   "source": [
    "\n",
    "\n",
    "def get_commodity_etfs():\n",
    "    # Get all tickers available on Yahoo Finance\n",
    "    all_tickers = yf.Tickers\n",
    "\n",
    "    # Get a list of all tickers\n",
    "    all_tickers_list = yf.download(\"AAPL\", group_by='ticker').index.get_level_values(1).unique()\n",
    "\n",
    "    # Filter out tickers related to commodities\n",
    "    commodity_tickers = [ticker for ticker in all_tickers_list if 'Commodity' in yf.Ticker(ticker).info.get('category', '').lower()]\n",
    "\n",
    "    return commodity_tickers\n",
    "\n",
    "# Get the list of commodity-related tickers\n",
    "commodity_tickers = get_commodity_etfs()\n",
    "\n",
    "# Print the tickers\n",
    "for ticker_symbol in commodity_tickers:\n",
    "    print(ticker_symbol)"
   ]
  },
  {
   "cell_type": "code",
   "execution_count": null,
   "metadata": {},
   "outputs": [],
   "source": [
    "import pandas_datareader as web\n",
    "\n",
    "tickers = [\"ALI=F\"]\n",
    "\n",
    "current_price = list()\n",
    "\n",
    "for i in range(len(tickers)):\n",
    "    company = yf.Ticker(tickers[i])\n",
    "    print(company.info)\n",
    "# print(current_price)"
   ]
  },
  {
   "cell_type": "code",
   "execution_count": null,
   "metadata": {},
   "outputs": [],
   "source": [
    "()"
   ]
  }
 ],
 "metadata": {
  "kernelspec": {
   "display_name": "v2env",
   "language": "python",
   "name": "v2env"
  },
  "language_info": {
   "codemirror_mode": {
    "name": "ipython",
    "version": 3
   },
   "file_extension": ".py",
   "mimetype": "text/x-python",
   "name": "python",
   "nbconvert_exporter": "python",
   "pygments_lexer": "ipython3",
   "version": "3.10.13"
  },
  "orig_nbformat": 4
 },
 "nbformat": 4,
 "nbformat_minor": 2
}
