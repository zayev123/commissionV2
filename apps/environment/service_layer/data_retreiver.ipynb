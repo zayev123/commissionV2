{
 "cells": [
  {
   "cell_type": "code",
   "execution_count": 1,
   "metadata": {},
   "outputs": [
    {
     "name": "stderr",
     "output_type": "stream",
     "text": [
      "2023-12-13 19:23:33.937188: I tensorflow/core/platform/cpu_feature_guard.cc:182] This TensorFlow binary is optimized to use available CPU instructions in performance-critical operations.\n",
      "To enable the following instructions: AVX2 FMA, in other operations, rebuild TensorFlow with the appropriate compiler flags.\n"
     ]
    }
   ],
   "source": [
    "import sys\n",
    "import django\n",
    "import os\n",
    "file_dir = \"/Users/mirbilal/Desktop/MobCommission/commissionV2/\"\n",
    "if file_dir not in sys.path:\n",
    "    sys.path.insert(0, file_dir)\n",
    "\n",
    "os.environ[\"DJANGO_SETTINGS_MODULE\"] = \"commissionerv2.settings\"\n",
    "os.environ[\"DJANGO_ALLOW_ASYNC_UNSAFE\"] = \"true\" \n",
    "django.setup()\n",
    "from os import path, environ\n",
    "from datetime import datetime\n",
    "from services.zayev.environment.market_simulator import MarketSimulator\n",
    "from services.zayev.service_layer.forester import Forester\n",
    "import tensorflow as tf\n",
    "from sklearn.ensemble import RandomForestClassifier\n",
    "import numpy as np\n",
    "from sklearn.metrics import accuracy_score\n",
    "from matplotlib.dates import relativedelta\n",
    "from apps.environment.service_layer.data_transformer import DataTransformer\n",
    "import pandas as pd\n",
    "from joblib import load\n",
    "import pathlib\n",
    "import pytz"
   ]
  },
  {
   "cell_type": "code",
   "execution_count": null,
   "metadata": {},
   "outputs": [],
   "source": [
    "starting_time_step = datetime(year=2020, month=1, day=1)\n",
    "\n",
    "db_params = {\n",
    "    'database': environ.get(\"POSTGRES_DB\"),\n",
    "    'user': environ.get(\"POSTGRES_USER\"),\n",
    "    'password': environ.get(\"POSTGRES_PASSWORD\"),\n",
    "    'host': environ.get(\"DB_HOST\"),\n",
    "    'port': environ.get(\"DB_PORT\"),\n",
    "}\n",
    "env_config = {\n",
    "    \"db_params\": db_params, \n",
    "    \"max_episode_steps\": 900, \n",
    "    \"the_current_time_step\": starting_time_step,\n",
    "    \"print_output\": False,\n",
    "    \"is_test\": False,\n",
    "    \"test_steps\": 200,\n",
    "    \"n_step_stocks\": 5,\n",
    "    \"n_step_cmmdties\": 5,\n",
    "    \"preparing\": True,\n",
    "    \"no_of_stocks\": 100,\n",
    "    \"no_of_cmmdts\": 14,\n",
    "    \"is_live\": True\n",
    "} \n",
    "dformer = DataTransformer(env_config=env_config)\n",
    "dformer.retreive_stocks_buffers()\n",
    "dformer.retreive_commodities_buffers()"
   ]
  },
  {
   "cell_type": "code",
   "execution_count": 2,
   "metadata": {},
   "outputs": [
    {
     "name": "stderr",
     "output_type": "stream",
     "text": [
      "/Users/mirbilal/Desktop/MobCommission/commissionV2/apps/environment/service_layer/data_transformer.py:279: FutureWarning: Series.fillna with 'method' is deprecated and will raise in a future version. Use obj.ffill() or obj.bfill() instead.\n",
      "  stcks_concatenated_df[field] = stcks_concatenated_df.groupby('index')[field].fillna(method='ffill')\n",
      "/Users/mirbilal/Desktop/MobCommission/commissionV2/apps/environment/service_layer/data_transformer.py:280: FutureWarning: Series.fillna with 'method' is deprecated and will raise in a future version. Use obj.ffill() or obj.bfill() instead.\n",
      "  stcks_concatenated_df[field] = stcks_concatenated_df.groupby('index')[field].fillna(method='bfill')\n",
      "/Users/mirbilal/Desktop/MobCommission/commissionV2/apps/environment/service_layer/data_transformer.py:309: FutureWarning: Series.fillna with 'method' is deprecated and will raise in a future version. Use obj.ffill() or obj.bfill() instead.\n",
      "  cmmdts_concatenated_df[field] = cmmdts_concatenated_df.groupby('index')[field].fillna(method='ffill')\n",
      "/Users/mirbilal/Desktop/MobCommission/commissionV2/apps/environment/service_layer/data_transformer.py:310: FutureWarning: Series.fillna with 'method' is deprecated and will raise in a future version. Use obj.ffill() or obj.bfill() instead.\n",
      "  cmmdts_concatenated_df[field] = cmmdts_concatenated_df.groupby('index')[field].fillna(method='bfill')\n"
     ]
    },
    {
     "name": "stdout",
     "output_type": "stream",
     "text": [
      "2100000.0\n",
      "2023-12-01 00:00:00+00:00 2023-12-13 19:23:40.077664+00:00\n",
      "2023-12-12 00:00:00+00:00\n",
      "[ 9. 11. 10. 11.  9. 10. 10. 11. 10. 11. 10. 11. 11. 10. 10. 10. 11. 11.\n",
      " 10. 11. 10. 11. 11. 11. 10. 11.  9. 10. 10. 11. 10. 10. 11. 10. 11. 10.\n",
      " 10. 11. 11. 10. 11. 11. 11. 10. 10. 11. 10. 11. 10. 11. 10. 10. 10. 11.\n",
      " 10.  9. 10. 11. 11. 10. 11. 11. 11. 10. 10. 10. 10. 11.  9. 11.  9. 11.\n",
      " 10. 10. 11. 10. 11. 10. 11. 11. 10. 10. 11.  8. 10. 10. 11. 10. 10. 10.\n",
      "  7. 10. 11. 11. 10. 11. 10. 10. 11. 11.]\n",
      "12 13\n",
      "2023-12-13 00:00:00+00:00\n",
      "[ 9. 11. 11. 11.  9. 10. 10. 11. 10. 11. 10.  9. 11. 10. 10. 10. 11. 11.\n",
      " 10. 11. 10.  9. 11. 11. 10. 11. 11. 10. 11. 11. 10. 10. 11. 10. 11. 10.\n",
      " 10. 11. 11. 11. 11. 10. 11. 10. 10. 11. 10. 11. 10. 11. 10. 10.  8. 11.\n",
      "  9.  9. 10. 11. 11. 10. 11. 11. 11. 10. 10. 10. 10. 11.  9. 11. 12. 11.\n",
      " 10.  8. 11. 10. 11. 10. 11. 11. 11.  9. 11.  8. 10. 10. 11. 10. 11.  7.\n",
      " 10. 10. 11. 11. 11. 11. 11. 10. 11. 11.]\n",
      "13 13\n",
      "0.0\n"
     ]
    }
   ],
   "source": [
    "(current_file_path, new_file_path) = DataTransformer.get_new_file_path()\n",
    "\n",
    "rf = load(pathlib.Path(current_file_path))\n",
    "\n",
    "nwb_starting_time_step = datetime(year=2023, month=12, day=1)\n",
    "now_time = pytz.utc.localize(datetime.now())\n",
    "\n",
    "nwb_db_params = {\n",
    "    'database': environ.get(\"POSTGRES_DB\"),\n",
    "    'user': environ.get(\"POSTGRES_USER\"),\n",
    "    'password': environ.get(\"POSTGRES_PASSWORD\"),\n",
    "    'host': environ.get(\"DB_HOST\"),\n",
    "    'port': environ.get(\"DB_PORT\"),\n",
    "}\n",
    "nwb_env_config = {\n",
    "    \"db_params\": nwb_db_params, \n",
    "    \"max_episode_steps\": 100, \n",
    "    \"the_current_time_step\": nwb_starting_time_step,\n",
    "    \"print_output\": False,\n",
    "    \"is_test\": False,\n",
    "    \"test_steps\": 200,\n",
    "    \"n_step_stocks\": 5,\n",
    "    \"n_step_cmmdties\": 5,\n",
    "    \"preparing\": False,\n",
    "    \"no_of_stocks\": 100,\n",
    "    \"no_of_cmmdts\": 14,\n",
    "    \"is_live\": True\n",
    "} \n",
    "nwb_dformer = DataTransformer(env_config=nwb_env_config)\n",
    "nwb_dfs = nwb_dformer.create_input_dataframes()\n",
    "# display(nwb_dfs[2])\n",
    "nwb_market = MarketSimulator(env_config=nwb_env_config, data_frames=nwb_dfs)\n",
    "nwb_forest = Forester(market=nwb_market)\n",
    "total_potfolio = nwb_market.wallet_state\n",
    "for ind in range(100):\n",
    "    data_index = ind+1\n",
    "    total_potfolio = total_potfolio + nwb_market.stock_data[data_index][\"price_snapshot\"]*nwb_market.shares_data[data_index]\n",
    "initial_total_potfolio = total_potfolio\n",
    "print(total_potfolio)\n",
    "print(nwb_market.the_current_time_step, now_time)\n",
    "for indx in range(100):\n",
    "    if indx < 7:\n",
    "        acts = np.full(100, 15)\n",
    "        rand_acts = nwb_forest.act_random(acts)\n",
    "        nwb_market.step(rand_acts)\n",
    "    else:\n",
    "        flat_state = np.array([nwb_forest.get_flattened_states(nwb_market.state)])\n",
    "        my_pred = rf.predict(flat_state)\n",
    "        acts = np.array([15,15,15,15,15])\n",
    "        acts = my_pred[0]\n",
    "        print(nwb_market.the_current_time_step)\n",
    "        print(acts)\n",
    "        rand_acts = nwb_forest.act_random(acts)\n",
    "        print(nwb_market.the_current_time_step.day, now_time.day)\n",
    "        if nwb_market.the_current_time_step.day >= now_time.day:\n",
    "            break\n",
    "        nwb_market.step(rand_acts)\n",
    "\n",
    "print(nwb_market.wallet_state)"
   ]
  }
 ],
 "metadata": {
  "kernelspec": {
   "display_name": "v2env",
   "language": "python",
   "name": "v2env"
  },
  "language_info": {
   "codemirror_mode": {
    "name": "ipython",
    "version": 3
   },
   "file_extension": ".py",
   "mimetype": "text/x-python",
   "name": "python",
   "nbconvert_exporter": "python",
   "pygments_lexer": "ipython3",
   "version": "3.10.13"
  },
  "orig_nbformat": 4
 },
 "nbformat": 4,
 "nbformat_minor": 2
}
