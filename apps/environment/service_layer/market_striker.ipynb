{
 "cells": [
  {
   "cell_type": "code",
   "execution_count": 1,
   "metadata": {},
   "outputs": [
    {
     "name": "stderr",
     "output_type": "stream",
     "text": [
      "2023-12-13 19:26:59.153875: I tensorflow/core/platform/cpu_feature_guard.cc:182] This TensorFlow binary is optimized to use available CPU instructions in performance-critical operations.\n",
      "To enable the following instructions: AVX2 FMA, in other operations, rebuild TensorFlow with the appropriate compiler flags.\n"
     ]
    }
   ],
   "source": [
    "import sys\n",
    "import django\n",
    "import os\n",
    "file_dir = \"/Users/mirbilal/Desktop/MobCommission/commissionV2/\"\n",
    "if file_dir not in sys.path:\n",
    "    sys.path.insert(0, file_dir)\n",
    "\n",
    "os.environ[\"DJANGO_SETTINGS_MODULE\"] = \"commissionerv2.settings\"\n",
    "os.environ[\"DJANGO_ALLOW_ASYNC_UNSAFE\"] = \"true\" \n",
    "django.setup()\n",
    "from os import path, environ\n",
    "from datetime import datetime\n",
    "from services.zayev.environment.market_simulator import MarketSimulator\n",
    "from services.zayev.service_layer.forester import Forester\n",
    "import tensorflow as tf\n",
    "from sklearn.ensemble import RandomForestClassifier\n",
    "import numpy as np\n",
    "from sklearn.metrics import accuracy_score\n",
    "from matplotlib.dates import relativedelta\n",
    "from apps.environment.service_layer.data_transformer import DataTransformer\n",
    "import pandas as pd\n",
    "from joblib import dump\n",
    "import pathlib\n",
    "from joblib import load\n"
   ]
  },
  {
   "cell_type": "code",
   "execution_count": 2,
   "metadata": {},
   "outputs": [
    {
     "name": "stderr",
     "output_type": "stream",
     "text": [
      "/Users/mirbilal/Desktop/MobCommission/commissionV2/apps/environment/service_layer/data_transformer.py:279: FutureWarning: Series.fillna with 'method' is deprecated and will raise in a future version. Use obj.ffill() or obj.bfill() instead.\n",
      "  stcks_concatenated_df[field] = stcks_concatenated_df.groupby('index')[field].fillna(method='ffill')\n",
      "/Users/mirbilal/Desktop/MobCommission/commissionV2/apps/environment/service_layer/data_transformer.py:280: FutureWarning: Series.fillna with 'method' is deprecated and will raise in a future version. Use obj.ffill() or obj.bfill() instead.\n",
      "  stcks_concatenated_df[field] = stcks_concatenated_df.groupby('index')[field].fillna(method='bfill')\n"
     ]
    },
    {
     "name": "stdout",
     "output_type": "stream",
     "text": [
      "here 2020-01-01 00:00:00+00:00 {1: 5319.148936170213, 2: 1188.3541295306002, 3: 116.795141322121, 4: 2.6666666666666665, 5: 776.0962359332557, 6: 103.58937173046046, 7: 215.21575379317764, 8: 1705.0298380221652, 9: 57.29181586410382, 10: 186.7936863734006, 11: 159.4514868851152, 12: 259.36973155232783, 13: 829.8755186721992, 14: 58.394160583941606, 15: 83.07717869901138, 16: 25.38135485672225, 17: 2.6954177897574123, 18: 113.63636363636364, 19: 631.9115323854661, 20: 8.62065249718751, 21: 2114.164904862579, 22: 1509.433962264151, 23: 102.30179028132993, 24: 20.2020202020202, 25: 144.6445360526506, 26: 43.26850269346429, 27: 1777.7777777777778, 28: 394.86673247778873, 29: 85.94387864724335, 30: 1428.5714285714287, 31: 708.4661707403471, 32: 49.5000495000495, 33: 139.9384270920795, 34: 185.8045336306206, 35: 2.4242424242424243, 36: 135.74046423238767, 37: 90.45680687471733, 38: 449.94375703037116, 39: 29.62962962962963, 40: 478.24007651841225, 41: 28.27214769369955, 42: 207.6196408180214, 43: 95.77626664112633, 44: 15.192488833520708, 45: 844.2380751371886, 46: 29.436439368294014, 47: 45.76868506567806, 48: 1410.4372355430185, 49: 635.3240152477764, 50: 507.35667174023337, 51: 256.44313373509425, 52: 4201.680672268908, 53: 694.6856547412297, 54: 59.701492537313435, 55: 338.52403520649966, 56: 177.03815172169604, 57: 339.84706881903145, 58: 16.863548596531167, 59: 333.3333333333333, 60: 91.75995595522114, 61: 37.17126661090977, 62: 1763.6684303350971, 63: 537.2011818426001, 64: 122.75963663147559, 65: 445.9308807134894, 66: 120.50370548894378, 67: 400.0, 68: 105.65240359218171, 69: 245.85125998770746, 70: 2061.855670103093, 71: 1039.5010395010395, 72: 195.40791402051784, 73: 975.1340809361286, 74: 1248.4394506866417, 75: 743.4944237918216, 76: 591.715976331361, 77: 270.7825616030328, 78: 56.452523427797225, 79: 180.99547511312218, 80: 1582.2784810126582, 81: 126.87135244861712, 82: 265.8513890735079, 83: 8.333333333333334, 84: 2777.777777777778, 85: 371.6090672612412, 86: 388.12342324859304, 87: 555.7099194220616, 88: 427.89901583226356, 89: 258.631837579206, 90: 509.03537795876815, 91: 170.96939647803043, 92: 54.3980851874014, 93: 52.17436673362377, 94: 1066.6666666666667, 95: 32.467532467532465, 96: 206.22808826562178, 97: 260.2133749674733, 98: 199.72039145196723, 99: 467.2897196261683, 100: 44.451359100304494}\n"
     ]
    },
    {
     "name": "stderr",
     "output_type": "stream",
     "text": [
      "/Users/mirbilal/Desktop/MobCommission/commissionV2/apps/environment/service_layer/data_transformer.py:309: FutureWarning: Series.fillna with 'method' is deprecated and will raise in a future version. Use obj.ffill() or obj.bfill() instead.\n",
      "  cmmdts_concatenated_df[field] = cmmdts_concatenated_df.groupby('index')[field].fillna(method='ffill')\n",
      "/Users/mirbilal/Desktop/MobCommission/commissionV2/apps/environment/service_layer/data_transformer.py:310: FutureWarning: Series.fillna with 'method' is deprecated and will raise in a future version. Use obj.ffill() or obj.bfill() instead.\n",
      "  cmmdts_concatenated_df[field] = cmmdts_concatenated_df.groupby('index')[field].fillna(method='bfill')\n"
     ]
    }
   ],
   "source": [
    "starting_time_step = datetime(year=2020, month=1, day=1)\n",
    "\n",
    "db_params = {\n",
    "    'database': environ.get(\"POSTGRES_DB\"),\n",
    "    'user': environ.get(\"POSTGRES_USER\"),\n",
    "    'password': environ.get(\"POSTGRES_PASSWORD\"),\n",
    "    'host': environ.get(\"DB_HOST\"),\n",
    "    'port': environ.get(\"DB_PORT\"),\n",
    "}\n",
    "env_config = {\n",
    "    \"db_params\": db_params, \n",
    "    \"max_episode_steps\": 900, \n",
    "    \"the_current_time_step\": starting_time_step,\n",
    "    \"print_output\": False,\n",
    "    \"is_test\": False,\n",
    "    \"test_steps\": 200,\n",
    "    \"n_step_stocks\": 5,\n",
    "    \"n_step_cmmdties\": 5,\n",
    "    \"preparing\": True,\n",
    "    \"no_of_stocks\": 100,\n",
    "    \"no_of_cmmdts\": 14,\n",
    "    \"is_live\": True\n",
    "} \n",
    "dformer = DataTransformer(env_config=env_config)\n",
    "dfs = dformer.create_input_dataframes()\n",
    "market = MarketSimulator(env_config=env_config, data_frames=dfs)\n",
    "market.reset()\n",
    "print(\"here\", market.the_current_time_step, market.shares_data)"
   ]
  },
  {
   "cell_type": "code",
   "execution_count": 3,
   "metadata": {},
   "outputs": [
    {
     "name": "stderr",
     "output_type": "stream",
     "text": [
      "/Users/mirbilal/Desktop/MobCommission/commissionV2/apps/environment/service_layer/data_transformer.py:279: FutureWarning: Series.fillna with 'method' is deprecated and will raise in a future version. Use obj.ffill() or obj.bfill() instead.\n",
      "  stcks_concatenated_df[field] = stcks_concatenated_df.groupby('index')[field].fillna(method='ffill')\n",
      "/Users/mirbilal/Desktop/MobCommission/commissionV2/apps/environment/service_layer/data_transformer.py:280: FutureWarning: Series.fillna with 'method' is deprecated and will raise in a future version. Use obj.ffill() or obj.bfill() instead.\n",
      "  stcks_concatenated_df[field] = stcks_concatenated_df.groupby('index')[field].fillna(method='bfill')\n"
     ]
    },
    {
     "name": "stdout",
     "output_type": "stream",
     "text": [
      "2023-09-01 00:00:00+00:00 {1: 7142.857142857143, 2: 883.3922261484099, 3: 141.1930815390046, 4: 0.9409550693954364, 5: 227.50540325332727, 6: 555.7099194220616, 7: 250.53238131028436, 8: 5797.101449275362, 9: 95.48818333731201, 10: 252.17500945656286, 11: 46.53760238272524, 12: 484.26150121065376, 13: 700.280112044818, 14: 163.9344262295082, 15: 150.71590052750565, 16: 62.5, 17: 2.5, 18: 174.97812773403325, 19: 244.76808224207565, 20: 28.78526194588371, 21: 3412.9692832764504, 22: 2597.402597402597, 23: 180.1477211313277, 24: 30.721966205837173, 25: 295.90176061547567, 26: 44.8058785312633, 27: 5571.030640668524, 28: 401.3646397752358, 29: 188.96447467876038, 30: 4819.277108433735, 31: 2183.406113537118, 32: 57.12816704276044, 33: 211.72983273343215, 34: 339.7893306150187, 35: 2.857142857142857, 36: 104.8767697954903, 37: 188.78610534264678, 38: 942.0631182289213, 39: 68.96551724137932, 40: 418.4975936388366, 41: 45.236587351850176, 42: 172.7264876068745, 43: 153.25670498084293, 44: 12.382214187541015, 45: 739.3715341959335, 46: 31.746031746031747, 47: 36.023054755043226, 48: 877.9631255487269, 49: 836.1204013377926, 50: 337.55274261603375, 51: 130.16596160104132, 52: 10526.315789473685, 53: 526.3157894736842, 54: 57.142857142857146, 55: 464.0371229698376, 56: 229.85863693828296, 57: 525.7623554153523, 58: 20.248858470603718, 59: 76.92603561675449, 60: 188.7504718761797, 61: 56.039676090672195, 62: 3703.7037037037035, 63: 469.7040864255519, 64: 208.61583394179618, 65: 1164.8223645894, 66: 285.7142857142857, 67: 800.0, 68: 106.09516736512653, 69: 357.27045373347624, 70: 2610.9660574412533, 71: 889.284126278346, 72: 210.54847878724078, 73: 1537.2790161414298, 74: 1860.4651162790697, 75: 719.9424046076314, 76: 497.7600796416127, 77: 259.87525987525987, 78: 81.25457056959455, 79: 254.77707006369425, 80: 1448.225923244026, 81: 206.4409578860446, 82: 479.15668423574505, 83: 15.785444241864576, 84: 7042.253521126761, 85: 160.05121638924456, 86: 835.421888053467, 87: 1000.0, 88: 501.3787916771121, 89: 382.55547054322875, 90: 418.14760610495506, 91: 90.22420715477963, 92: 70.24691791647642, 93: 76.33879155692965, 94: 1332.4450366422386, 95: 41.49377593360996, 96: 289.8550724637681, 97: 908.6778736937755, 98: 423.3700254022015, 99: 648.5084306095979, 100: 54.070128957257566}\n"
     ]
    },
    {
     "name": "stderr",
     "output_type": "stream",
     "text": [
      "/Users/mirbilal/Desktop/MobCommission/commissionV2/apps/environment/service_layer/data_transformer.py:309: FutureWarning: Series.fillna with 'method' is deprecated and will raise in a future version. Use obj.ffill() or obj.bfill() instead.\n",
      "  cmmdts_concatenated_df[field] = cmmdts_concatenated_df.groupby('index')[field].fillna(method='ffill')\n",
      "/Users/mirbilal/Desktop/MobCommission/commissionV2/apps/environment/service_layer/data_transformer.py:310: FutureWarning: Series.fillna with 'method' is deprecated and will raise in a future version. Use obj.ffill() or obj.bfill() instead.\n",
      "  cmmdts_concatenated_df[field] = cmmdts_concatenated_df.groupby('index')[field].fillna(method='bfill')\n"
     ]
    }
   ],
   "source": [
    "nw_starting_time_step = datetime(year=2023, month=9, day=1)\n",
    "\n",
    "nw_db_params = {\n",
    "    'database': environ.get(\"POSTGRES_DB\"),\n",
    "    'user': environ.get(\"POSTGRES_USER\"),\n",
    "    'password': environ.get(\"POSTGRES_PASSWORD\"),\n",
    "    'host': environ.get(\"DB_HOST\"),\n",
    "    'port': environ.get(\"DB_PORT\"),\n",
    "}\n",
    "nw_env_config = {\n",
    "    \"db_params\": nw_db_params, \n",
    "    \"max_episode_steps\": 60, \n",
    "    \"the_current_time_step\": nw_starting_time_step,\n",
    "    \"print_output\": False,\n",
    "    \"is_test\": False,\n",
    "    \"test_steps\": 60,\n",
    "    \"n_step_stocks\": 5,\n",
    "    \"n_step_cmmdties\": 5,\n",
    "    \"preparing\": True,\n",
    "    \"no_of_stocks\": 100,\n",
    "    \"no_of_cmmdts\": 14,\n",
    "    \"is_live\": True\n",
    "} \n",
    "nw_dformer = DataTransformer(env_config=nw_env_config)\n",
    "nw_dfs = nw_dformer.create_input_dataframes()\n",
    "# display(nw_dfs[2])\n",
    "nw_market = MarketSimulator(env_config=nw_env_config, data_frames=nw_dfs)\n",
    "nw_market.reset()\n",
    "nw_forest = Forester(market=nw_market)\n",
    "print(nw_market.the_current_time_step, nw_market.shares_data)\n"
   ]
  },
  {
   "cell_type": "code",
   "execution_count": null,
   "metadata": {},
   "outputs": [],
   "source": [
    "pd.set_option('display.max_rows', None)\n",
    "display(nw_dfs[2])"
   ]
  },
  {
   "cell_type": "code",
   "execution_count": 4,
   "metadata": {},
   "outputs": [
    {
     "name": "stdout",
     "output_type": "stream",
     "text": [
      "2023-06-14 00:00:00+00:00\n",
      "2023-11-24 00:00:00+00:00\n"
     ]
    }
   ],
   "source": [
    "forest = Forester(market=market)\n",
    "forest.make_forest_data()\n",
    "X_train = forest.train_input\n",
    "y_train = forest.train_output\n",
    "y_test = forest.test_output\n",
    "X_test = forest.test_input\n",
    "print(forest.market.the_current_time_step)\n",
    "\n",
    "nw_forest.make_forest_data()\n",
    "nw_X_train = nw_forest.train_input\n",
    "nw_y_train = nw_forest.train_output\n",
    "nw_y_test = nw_forest.test_output\n",
    "nw_X_test = nw_forest.test_input\n",
    "print(nw_forest.market.the_current_time_step)"
   ]
  },
  {
   "cell_type": "code",
   "execution_count": 6,
   "metadata": {},
   "outputs": [],
   "source": [
    "# Number of trees in random forest\n",
    "n_estimators = [int(x) for x in np.linspace(start = 200, stop = 1200, num = 10)]\n",
    "# Number of features to consider at every split\n",
    "max_features = ['sqrt', 'log2']\n",
    "# Maximum number of levels in tree\n",
    "max_depth = [73]\n",
    "# max_depth = [int(x) for x in np.linspace(10, 80, num = 11)]\n",
    "max_depth.append(None)\n",
    "# Minimum number of samples required to split a node\n",
    "min_samples_split = [5]\n",
    "# min_samples_split = [2, 5, 10]\n",
    "# Minimum number of samples required at each leaf node\n",
    "min_samples_leaf = [1, 2, 4]\n",
    "# Method of selecting samples for training each tree\n",
    "bootstrap = [True, False]\n",
    "\n",
    "random_grid = {\n",
    "    'n_estimators': n_estimators,\n",
    "    'max_features': max_features,\n",
    "    'max_depth': max_depth,\n",
    "    'min_samples_split': min_samples_split,\n",
    "    'min_samples_leaf': min_samples_leaf,\n",
    "    'bootstrap': bootstrap\n",
    "}\n",
    "\n",
    "best_params = {\n",
    "    'n_estimators': None,\n",
    "    'max_features': None,\n",
    "    'max_depth': None,\n",
    "    'min_samples_split': None,\n",
    "    'min_samples_leaf': None,\n",
    "    'bootstrap': None,\n",
    "    \"accuracy\": None\n",
    "}\n",
    "\n",
    "best_accuracy = 0"
   ]
  },
  {
   "cell_type": "code",
   "execution_count": 7,
   "metadata": {},
   "outputs": [
    {
     "ename": "KeyboardInterrupt",
     "evalue": "",
     "output_type": "error",
     "traceback": [
      "\u001b[0;31m---------------------------------------------------------------------------\u001b[0m",
      "\u001b[0;31mKeyboardInterrupt\u001b[0m                         Traceback (most recent call last)",
      "\u001b[1;32m/Users/mirbilal/Desktop/MobCommission/commissionV2/apps/environment/service_layer/market_striker.ipynb Cell 7\u001b[0m line \u001b[0;36m1\n\u001b[1;32m      <a href='vscode-notebook-cell:/Users/mirbilal/Desktop/MobCommission/commissionV2/apps/environment/service_layer/market_striker.ipynb#X10sZmlsZQ%3D%3D?line=6'>7</a>\u001b[0m \u001b[39mfor\u001b[39;00m bt_strp \u001b[39min\u001b[39;00m bootstrap:\n\u001b[1;32m      <a href='vscode-notebook-cell:/Users/mirbilal/Desktop/MobCommission/commissionV2/apps/environment/service_layer/market_striker.ipynb#X10sZmlsZQ%3D%3D?line=7'>8</a>\u001b[0m     rf \u001b[39m=\u001b[39m RandomForestClassifier(\n\u001b[1;32m      <a href='vscode-notebook-cell:/Users/mirbilal/Desktop/MobCommission/commissionV2/apps/environment/service_layer/market_striker.ipynb#X10sZmlsZQ%3D%3D?line=8'>9</a>\u001b[0m         n_estimators\u001b[39m=\u001b[39mn_ests,\n\u001b[1;32m     <a href='vscode-notebook-cell:/Users/mirbilal/Desktop/MobCommission/commissionV2/apps/environment/service_layer/market_striker.ipynb#X10sZmlsZQ%3D%3D?line=9'>10</a>\u001b[0m         max_features\u001b[39m=\u001b[39mmax_feat,\n\u001b[0;32m   (...)\u001b[0m\n\u001b[1;32m     <a href='vscode-notebook-cell:/Users/mirbilal/Desktop/MobCommission/commissionV2/apps/environment/service_layer/market_striker.ipynb#X10sZmlsZQ%3D%3D?line=13'>14</a>\u001b[0m         bootstrap\u001b[39m=\u001b[39mbt_strp\n\u001b[1;32m     <a href='vscode-notebook-cell:/Users/mirbilal/Desktop/MobCommission/commissionV2/apps/environment/service_layer/market_striker.ipynb#X10sZmlsZQ%3D%3D?line=14'>15</a>\u001b[0m     )\n\u001b[0;32m---> <a href='vscode-notebook-cell:/Users/mirbilal/Desktop/MobCommission/commissionV2/apps/environment/service_layer/market_striker.ipynb#X10sZmlsZQ%3D%3D?line=15'>16</a>\u001b[0m     rf\u001b[39m.\u001b[39;49mfit(X_train, y_train)\n\u001b[1;32m     <a href='vscode-notebook-cell:/Users/mirbilal/Desktop/MobCommission/commissionV2/apps/environment/service_layer/market_striker.ipynb#X10sZmlsZQ%3D%3D?line=16'>17</a>\u001b[0m     nw_X_test \u001b[39m=\u001b[39m nw_forest\u001b[39m.\u001b[39mtrain_input\n\u001b[1;32m     <a href='vscode-notebook-cell:/Users/mirbilal/Desktop/MobCommission/commissionV2/apps/environment/service_layer/market_striker.ipynb#X10sZmlsZQ%3D%3D?line=17'>18</a>\u001b[0m     nw_y_pred \u001b[39m=\u001b[39m rf\u001b[39m.\u001b[39mpredict(nw_X_test)\n",
      "File \u001b[0;32m~/Desktop/MobCommission/commissionV2/v2env/lib/python3.10/site-packages/sklearn/base.py:1152\u001b[0m, in \u001b[0;36m_fit_context.<locals>.decorator.<locals>.wrapper\u001b[0;34m(estimator, *args, **kwargs)\u001b[0m\n\u001b[1;32m   1145\u001b[0m     estimator\u001b[39m.\u001b[39m_validate_params()\n\u001b[1;32m   1147\u001b[0m \u001b[39mwith\u001b[39;00m config_context(\n\u001b[1;32m   1148\u001b[0m     skip_parameter_validation\u001b[39m=\u001b[39m(\n\u001b[1;32m   1149\u001b[0m         prefer_skip_nested_validation \u001b[39mor\u001b[39;00m global_skip_validation\n\u001b[1;32m   1150\u001b[0m     )\n\u001b[1;32m   1151\u001b[0m ):\n\u001b[0;32m-> 1152\u001b[0m     \u001b[39mreturn\u001b[39;00m fit_method(estimator, \u001b[39m*\u001b[39;49margs, \u001b[39m*\u001b[39;49m\u001b[39m*\u001b[39;49mkwargs)\n",
      "File \u001b[0;32m~/Desktop/MobCommission/commissionV2/v2env/lib/python3.10/site-packages/sklearn/ensemble/_forest.py:456\u001b[0m, in \u001b[0;36mBaseForest.fit\u001b[0;34m(self, X, y, sample_weight)\u001b[0m\n\u001b[1;32m    445\u001b[0m trees \u001b[39m=\u001b[39m [\n\u001b[1;32m    446\u001b[0m     \u001b[39mself\u001b[39m\u001b[39m.\u001b[39m_make_estimator(append\u001b[39m=\u001b[39m\u001b[39mFalse\u001b[39;00m, random_state\u001b[39m=\u001b[39mrandom_state)\n\u001b[1;32m    447\u001b[0m     \u001b[39mfor\u001b[39;00m i \u001b[39min\u001b[39;00m \u001b[39mrange\u001b[39m(n_more_estimators)\n\u001b[1;32m    448\u001b[0m ]\n\u001b[1;32m    450\u001b[0m \u001b[39m# Parallel loop: we prefer the threading backend as the Cython code\u001b[39;00m\n\u001b[1;32m    451\u001b[0m \u001b[39m# for fitting the trees is internally releasing the Python GIL\u001b[39;00m\n\u001b[1;32m    452\u001b[0m \u001b[39m# making threading more efficient than multiprocessing in\u001b[39;00m\n\u001b[1;32m    453\u001b[0m \u001b[39m# that case. However, for joblib 0.12+ we respect any\u001b[39;00m\n\u001b[1;32m    454\u001b[0m \u001b[39m# parallel_backend contexts set at a higher level,\u001b[39;00m\n\u001b[1;32m    455\u001b[0m \u001b[39m# since correctness does not rely on using threads.\u001b[39;00m\n\u001b[0;32m--> 456\u001b[0m trees \u001b[39m=\u001b[39m Parallel(\n\u001b[1;32m    457\u001b[0m     n_jobs\u001b[39m=\u001b[39;49m\u001b[39mself\u001b[39;49m\u001b[39m.\u001b[39;49mn_jobs,\n\u001b[1;32m    458\u001b[0m     verbose\u001b[39m=\u001b[39;49m\u001b[39mself\u001b[39;49m\u001b[39m.\u001b[39;49mverbose,\n\u001b[1;32m    459\u001b[0m     prefer\u001b[39m=\u001b[39;49m\u001b[39m\"\u001b[39;49m\u001b[39mthreads\u001b[39;49m\u001b[39m\"\u001b[39;49m,\n\u001b[1;32m    460\u001b[0m )(\n\u001b[1;32m    461\u001b[0m     delayed(_parallel_build_trees)(\n\u001b[1;32m    462\u001b[0m         t,\n\u001b[1;32m    463\u001b[0m         \u001b[39mself\u001b[39;49m\u001b[39m.\u001b[39;49mbootstrap,\n\u001b[1;32m    464\u001b[0m         X,\n\u001b[1;32m    465\u001b[0m         y,\n\u001b[1;32m    466\u001b[0m         sample_weight,\n\u001b[1;32m    467\u001b[0m         i,\n\u001b[1;32m    468\u001b[0m         \u001b[39mlen\u001b[39;49m(trees),\n\u001b[1;32m    469\u001b[0m         verbose\u001b[39m=\u001b[39;49m\u001b[39mself\u001b[39;49m\u001b[39m.\u001b[39;49mverbose,\n\u001b[1;32m    470\u001b[0m         class_weight\u001b[39m=\u001b[39;49m\u001b[39mself\u001b[39;49m\u001b[39m.\u001b[39;49mclass_weight,\n\u001b[1;32m    471\u001b[0m         n_samples_bootstrap\u001b[39m=\u001b[39;49mn_samples_bootstrap,\n\u001b[1;32m    472\u001b[0m     )\n\u001b[1;32m    473\u001b[0m     \u001b[39mfor\u001b[39;49;00m i, t \u001b[39min\u001b[39;49;00m \u001b[39menumerate\u001b[39;49m(trees)\n\u001b[1;32m    474\u001b[0m )\n\u001b[1;32m    476\u001b[0m \u001b[39m# Collect newly grown trees\u001b[39;00m\n\u001b[1;32m    477\u001b[0m \u001b[39mself\u001b[39m\u001b[39m.\u001b[39mestimators_\u001b[39m.\u001b[39mextend(trees)\n",
      "File \u001b[0;32m~/Desktop/MobCommission/commissionV2/v2env/lib/python3.10/site-packages/sklearn/utils/parallel.py:65\u001b[0m, in \u001b[0;36mParallel.__call__\u001b[0;34m(self, iterable)\u001b[0m\n\u001b[1;32m     60\u001b[0m config \u001b[39m=\u001b[39m get_config()\n\u001b[1;32m     61\u001b[0m iterable_with_config \u001b[39m=\u001b[39m (\n\u001b[1;32m     62\u001b[0m     (_with_config(delayed_func, config), args, kwargs)\n\u001b[1;32m     63\u001b[0m     \u001b[39mfor\u001b[39;00m delayed_func, args, kwargs \u001b[39min\u001b[39;00m iterable\n\u001b[1;32m     64\u001b[0m )\n\u001b[0;32m---> 65\u001b[0m \u001b[39mreturn\u001b[39;00m \u001b[39msuper\u001b[39;49m()\u001b[39m.\u001b[39;49m\u001b[39m__call__\u001b[39;49m(iterable_with_config)\n",
      "File \u001b[0;32m~/Desktop/MobCommission/commissionV2/v2env/lib/python3.10/site-packages/joblib/parallel.py:1863\u001b[0m, in \u001b[0;36mParallel.__call__\u001b[0;34m(self, iterable)\u001b[0m\n\u001b[1;32m   1861\u001b[0m     output \u001b[39m=\u001b[39m \u001b[39mself\u001b[39m\u001b[39m.\u001b[39m_get_sequential_output(iterable)\n\u001b[1;32m   1862\u001b[0m     \u001b[39mnext\u001b[39m(output)\n\u001b[0;32m-> 1863\u001b[0m     \u001b[39mreturn\u001b[39;00m output \u001b[39mif\u001b[39;00m \u001b[39mself\u001b[39m\u001b[39m.\u001b[39mreturn_generator \u001b[39melse\u001b[39;00m \u001b[39mlist\u001b[39;49m(output)\n\u001b[1;32m   1865\u001b[0m \u001b[39m# Let's create an ID that uniquely identifies the current call. If the\u001b[39;00m\n\u001b[1;32m   1866\u001b[0m \u001b[39m# call is interrupted early and that the same instance is immediately\u001b[39;00m\n\u001b[1;32m   1867\u001b[0m \u001b[39m# re-used, this id will be used to prevent workers that were\u001b[39;00m\n\u001b[1;32m   1868\u001b[0m \u001b[39m# concurrently finalizing a task from the previous call to run the\u001b[39;00m\n\u001b[1;32m   1869\u001b[0m \u001b[39m# callback.\u001b[39;00m\n\u001b[1;32m   1870\u001b[0m \u001b[39mwith\u001b[39;00m \u001b[39mself\u001b[39m\u001b[39m.\u001b[39m_lock:\n",
      "File \u001b[0;32m~/Desktop/MobCommission/commissionV2/v2env/lib/python3.10/site-packages/joblib/parallel.py:1792\u001b[0m, in \u001b[0;36mParallel._get_sequential_output\u001b[0;34m(self, iterable)\u001b[0m\n\u001b[1;32m   1790\u001b[0m \u001b[39mself\u001b[39m\u001b[39m.\u001b[39mn_dispatched_batches \u001b[39m+\u001b[39m\u001b[39m=\u001b[39m \u001b[39m1\u001b[39m\n\u001b[1;32m   1791\u001b[0m \u001b[39mself\u001b[39m\u001b[39m.\u001b[39mn_dispatched_tasks \u001b[39m+\u001b[39m\u001b[39m=\u001b[39m \u001b[39m1\u001b[39m\n\u001b[0;32m-> 1792\u001b[0m res \u001b[39m=\u001b[39m func(\u001b[39m*\u001b[39;49margs, \u001b[39m*\u001b[39;49m\u001b[39m*\u001b[39;49mkwargs)\n\u001b[1;32m   1793\u001b[0m \u001b[39mself\u001b[39m\u001b[39m.\u001b[39mn_completed_tasks \u001b[39m+\u001b[39m\u001b[39m=\u001b[39m \u001b[39m1\u001b[39m\n\u001b[1;32m   1794\u001b[0m \u001b[39mself\u001b[39m\u001b[39m.\u001b[39mprint_progress()\n",
      "File \u001b[0;32m~/Desktop/MobCommission/commissionV2/v2env/lib/python3.10/site-packages/sklearn/utils/parallel.py:127\u001b[0m, in \u001b[0;36m_FuncWrapper.__call__\u001b[0;34m(self, *args, **kwargs)\u001b[0m\n\u001b[1;32m    125\u001b[0m     config \u001b[39m=\u001b[39m {}\n\u001b[1;32m    126\u001b[0m \u001b[39mwith\u001b[39;00m config_context(\u001b[39m*\u001b[39m\u001b[39m*\u001b[39mconfig):\n\u001b[0;32m--> 127\u001b[0m     \u001b[39mreturn\u001b[39;00m \u001b[39mself\u001b[39;49m\u001b[39m.\u001b[39;49mfunction(\u001b[39m*\u001b[39;49margs, \u001b[39m*\u001b[39;49m\u001b[39m*\u001b[39;49mkwargs)\n",
      "File \u001b[0;32m~/Desktop/MobCommission/commissionV2/v2env/lib/python3.10/site-packages/sklearn/ensemble/_forest.py:188\u001b[0m, in \u001b[0;36m_parallel_build_trees\u001b[0;34m(tree, bootstrap, X, y, sample_weight, tree_idx, n_trees, verbose, class_weight, n_samples_bootstrap)\u001b[0m\n\u001b[1;32m    185\u001b[0m     \u001b[39melif\u001b[39;00m class_weight \u001b[39m==\u001b[39m \u001b[39m\"\u001b[39m\u001b[39mbalanced_subsample\u001b[39m\u001b[39m\"\u001b[39m:\n\u001b[1;32m    186\u001b[0m         curr_sample_weight \u001b[39m*\u001b[39m\u001b[39m=\u001b[39m compute_sample_weight(\u001b[39m\"\u001b[39m\u001b[39mbalanced\u001b[39m\u001b[39m\"\u001b[39m, y, indices\u001b[39m=\u001b[39mindices)\n\u001b[0;32m--> 188\u001b[0m     tree\u001b[39m.\u001b[39;49mfit(X, y, sample_weight\u001b[39m=\u001b[39;49mcurr_sample_weight, check_input\u001b[39m=\u001b[39;49m\u001b[39mFalse\u001b[39;49;00m)\n\u001b[1;32m    189\u001b[0m \u001b[39melse\u001b[39;00m:\n\u001b[1;32m    190\u001b[0m     tree\u001b[39m.\u001b[39mfit(X, y, sample_weight\u001b[39m=\u001b[39msample_weight, check_input\u001b[39m=\u001b[39m\u001b[39mFalse\u001b[39;00m)\n",
      "File \u001b[0;32m~/Desktop/MobCommission/commissionV2/v2env/lib/python3.10/site-packages/sklearn/base.py:1152\u001b[0m, in \u001b[0;36m_fit_context.<locals>.decorator.<locals>.wrapper\u001b[0;34m(estimator, *args, **kwargs)\u001b[0m\n\u001b[1;32m   1145\u001b[0m     estimator\u001b[39m.\u001b[39m_validate_params()\n\u001b[1;32m   1147\u001b[0m \u001b[39mwith\u001b[39;00m config_context(\n\u001b[1;32m   1148\u001b[0m     skip_parameter_validation\u001b[39m=\u001b[39m(\n\u001b[1;32m   1149\u001b[0m         prefer_skip_nested_validation \u001b[39mor\u001b[39;00m global_skip_validation\n\u001b[1;32m   1150\u001b[0m     )\n\u001b[1;32m   1151\u001b[0m ):\n\u001b[0;32m-> 1152\u001b[0m     \u001b[39mreturn\u001b[39;00m fit_method(estimator, \u001b[39m*\u001b[39;49margs, \u001b[39m*\u001b[39;49m\u001b[39m*\u001b[39;49mkwargs)\n",
      "File \u001b[0;32m~/Desktop/MobCommission/commissionV2/v2env/lib/python3.10/site-packages/sklearn/tree/_classes.py:959\u001b[0m, in \u001b[0;36mDecisionTreeClassifier.fit\u001b[0;34m(self, X, y, sample_weight, check_input)\u001b[0m\n\u001b[1;32m    928\u001b[0m \u001b[39m@_fit_context\u001b[39m(prefer_skip_nested_validation\u001b[39m=\u001b[39m\u001b[39mTrue\u001b[39;00m)\n\u001b[1;32m    929\u001b[0m \u001b[39mdef\u001b[39;00m \u001b[39mfit\u001b[39m(\u001b[39mself\u001b[39m, X, y, sample_weight\u001b[39m=\u001b[39m\u001b[39mNone\u001b[39;00m, check_input\u001b[39m=\u001b[39m\u001b[39mTrue\u001b[39;00m):\n\u001b[1;32m    930\u001b[0m \u001b[39m    \u001b[39m\u001b[39m\"\"\"Build a decision tree classifier from the training set (X, y).\u001b[39;00m\n\u001b[1;32m    931\u001b[0m \n\u001b[1;32m    932\u001b[0m \u001b[39m    Parameters\u001b[39;00m\n\u001b[0;32m   (...)\u001b[0m\n\u001b[1;32m    956\u001b[0m \u001b[39m        Fitted estimator.\u001b[39;00m\n\u001b[1;32m    957\u001b[0m \u001b[39m    \"\"\"\u001b[39;00m\n\u001b[0;32m--> 959\u001b[0m     \u001b[39msuper\u001b[39;49m()\u001b[39m.\u001b[39;49m_fit(\n\u001b[1;32m    960\u001b[0m         X,\n\u001b[1;32m    961\u001b[0m         y,\n\u001b[1;32m    962\u001b[0m         sample_weight\u001b[39m=\u001b[39;49msample_weight,\n\u001b[1;32m    963\u001b[0m         check_input\u001b[39m=\u001b[39;49mcheck_input,\n\u001b[1;32m    964\u001b[0m     )\n\u001b[1;32m    965\u001b[0m     \u001b[39mreturn\u001b[39;00m \u001b[39mself\u001b[39m\n",
      "File \u001b[0;32m~/Desktop/MobCommission/commissionV2/v2env/lib/python3.10/site-packages/sklearn/tree/_classes.py:443\u001b[0m, in \u001b[0;36mBaseDecisionTree._fit\u001b[0;34m(self, X, y, sample_weight, check_input, missing_values_in_feature_mask)\u001b[0m\n\u001b[1;32m    432\u001b[0m \u001b[39melse\u001b[39;00m:\n\u001b[1;32m    433\u001b[0m     builder \u001b[39m=\u001b[39m BestFirstTreeBuilder(\n\u001b[1;32m    434\u001b[0m         splitter,\n\u001b[1;32m    435\u001b[0m         min_samples_split,\n\u001b[0;32m   (...)\u001b[0m\n\u001b[1;32m    440\u001b[0m         \u001b[39mself\u001b[39m\u001b[39m.\u001b[39mmin_impurity_decrease,\n\u001b[1;32m    441\u001b[0m     )\n\u001b[0;32m--> 443\u001b[0m builder\u001b[39m.\u001b[39;49mbuild(\u001b[39mself\u001b[39;49m\u001b[39m.\u001b[39;49mtree_, X, y, sample_weight, missing_values_in_feature_mask)\n\u001b[1;32m    445\u001b[0m \u001b[39mif\u001b[39;00m \u001b[39mself\u001b[39m\u001b[39m.\u001b[39mn_outputs_ \u001b[39m==\u001b[39m \u001b[39m1\u001b[39m \u001b[39mand\u001b[39;00m is_classifier(\u001b[39mself\u001b[39m):\n\u001b[1;32m    446\u001b[0m     \u001b[39mself\u001b[39m\u001b[39m.\u001b[39mn_classes_ \u001b[39m=\u001b[39m \u001b[39mself\u001b[39m\u001b[39m.\u001b[39mn_classes_[\u001b[39m0\u001b[39m]\n",
      "\u001b[0;31mKeyboardInterrupt\u001b[0m: "
     ]
    }
   ],
   "source": [
    "iters = 1\n",
    "for n_ests in n_estimators:\n",
    "    for max_feat in max_features:\n",
    "        for max_dept in max_depth:\n",
    "            for min_sample_sp in min_samples_split:\n",
    "                for min_sample_lf in min_samples_leaf:\n",
    "                    for bt_strp in bootstrap:\n",
    "                        rf = RandomForestClassifier(\n",
    "                            n_estimators=n_ests,\n",
    "                            max_features=max_feat,\n",
    "                            max_depth=max_dept,\n",
    "                            min_samples_split=min_sample_sp,\n",
    "                            min_samples_leaf=min_sample_lf,\n",
    "                            bootstrap=bt_strp\n",
    "                        )\n",
    "                        rf.fit(X_train, y_train)\n",
    "                        nw_X_test = nw_forest.train_input\n",
    "                        nw_y_pred = rf.predict(nw_X_test)\n",
    "\n",
    "                        nw_y_test = nw_forest.train_output\n",
    "                        nw_y_test_first_column = [row[1] for row in nw_y_test]\n",
    "                        nw_y_pred_first_column = [row[1] for row in nw_y_pred]\n",
    "                        accuracy = accuracy_score(nw_y_test_first_column, nw_y_pred_first_column)\n",
    "                        print(f\"{iters} Accuracy:\", accuracy)\n",
    "                        if accuracy > best_accuracy:\n",
    "                            best_accuracy = accuracy\n",
    "                            best_params[\"n_estimators\"]=n_ests\n",
    "                            best_params[\"max_features\"]=max_feat\n",
    "                            best_params[\"max_depth\"]=max_dept\n",
    "                            best_params[\"min_samples_split\"]=min_sample_sp\n",
    "                            best_params[\"min_samples_leaf\"]=min_sample_lf\n",
    "                            best_params[\"bootstrap\"]=bt_strp\n",
    "                            best_params[\"accuracy\"] = accuracy\n",
    "                        iters = iters + 1"
   ]
  },
  {
   "cell_type": "code",
   "execution_count": 8,
   "metadata": {},
   "outputs": [
    {
     "name": "stdout",
     "output_type": "stream",
     "text": [
      "{'n_estimators': None, 'max_features': None, 'max_depth': None, 'min_samples_split': None, 'min_samples_leaf': None, 'bootstrap': None, 'accuracy': None}\n"
     ]
    }
   ],
   "source": [
    "print(best_params)"
   ]
  },
  {
   "cell_type": "code",
   "execution_count": 17,
   "metadata": {},
   "outputs": [
    {
     "data": {
      "text/plain": [
       "['/Users/mirbilal/Desktop/MobCommission/commissionV2/apps/environment/joblibs/trading_job_v1']"
      ]
     },
     "execution_count": 17,
     "metadata": {},
     "output_type": "execute_result"
    }
   ],
   "source": [
    "rf = RandomForestClassifier(\n",
    "    n_estimators=best_params[\"n_estimators\"],\n",
    "    max_features=best_params[\"max_features\"],\n",
    "    max_depth=best_params[\"max_depth\"],\n",
    "    min_samples_split=best_params[\"min_samples_split\"],\n",
    "    min_samples_leaf=best_params[\"min_samples_leaf\"],\n",
    "    bootstrap=best_params[\"bootstrap\"]\n",
    ")\n",
    "\n",
    "(current_file_path, new_file_path) = DataTransformer.get_new_file_path()\n",
    "rf.fit(X_train, y_train)  # Your existing code\n",
    "\n",
    "dump(rf, new_file_path)"
   ]
  },
  {
   "cell_type": "code",
   "execution_count": 12,
   "metadata": {},
   "outputs": [
    {
     "name": "stderr",
     "output_type": "stream",
     "text": [
      "/Users/mirbilal/Desktop/MobCommission/commissionV2/apps/environment/service_layer/data_transformer.py:275: FutureWarning: Series.fillna with 'method' is deprecated and will raise in a future version. Use obj.ffill() or obj.bfill() instead.\n",
      "  stcks_concatenated_df[field] = stcks_concatenated_df.groupby('index')[field].fillna(method='ffill')\n",
      "/Users/mirbilal/Desktop/MobCommission/commissionV2/apps/environment/service_layer/data_transformer.py:276: FutureWarning: Series.fillna with 'method' is deprecated and will raise in a future version. Use obj.ffill() or obj.bfill() instead.\n",
      "  stcks_concatenated_df[field] = stcks_concatenated_df.groupby('index')[field].fillna(method='bfill')\n",
      "/Users/mirbilal/Desktop/MobCommission/commissionV2/apps/environment/service_layer/data_transformer.py:305: FutureWarning: Series.fillna with 'method' is deprecated and will raise in a future version. Use obj.ffill() or obj.bfill() instead.\n",
      "  cmmdts_concatenated_df[field] = cmmdts_concatenated_df.groupby('index')[field].fillna(method='ffill')\n",
      "/Users/mirbilal/Desktop/MobCommission/commissionV2/apps/environment/service_layer/data_transformer.py:306: FutureWarning: Series.fillna with 'method' is deprecated and will raise in a future version. Use obj.ffill() or obj.bfill() instead.\n",
      "  cmmdts_concatenated_df[field] = cmmdts_concatenated_df.groupby('index')[field].fillna(method='bfill')\n"
     ]
    },
    {
     "name": "stdout",
     "output_type": "stream",
     "text": [
      "Accuracy: 0.18867924528301888\n"
     ]
    }
   ],
   "source": [
    "(current_file_path, new_file_path) = DataTransformer.get_new_file_path()\n",
    "\n",
    "rf = load(pathlib.Path(current_file_path))\n",
    "nwa_starting_time_step = datetime(year=2023, month=1, day=1)\n",
    "\n",
    "nwa_db_params = {\n",
    "    'database': environ.get(\"POSTGRES_DB\"),\n",
    "    'user': environ.get(\"POSTGRES_USER\"),\n",
    "    'password': environ.get(\"POSTGRES_PASSWORD\"),\n",
    "    'host': environ.get(\"DB_HOST\"),\n",
    "    'port': environ.get(\"DB_PORT\"),\n",
    "}\n",
    "nwa_env_config = {\n",
    "    \"db_params\": nwa_db_params, \n",
    "    \"max_episode_steps\": 100, \n",
    "    \"the_current_time_step\": nwa_starting_time_step,\n",
    "    \"print_output\": False,\n",
    "    \"is_test\": False,\n",
    "    \"test_steps\": 200,\n",
    "    \"n_step_stocks\": 5,\n",
    "    \"n_step_cmmdties\": 5,\n",
    "    \"preparing\": False,\n",
    "    \"no_of_stocks\": 100,\n",
    "    \"no_of_cmmdts\": 14,\n",
    "    \"is_live\": True\n",
    "} \n",
    "nwa_dformer = DataTransformer(env_config=nw_env_config)\n",
    "nwa_dfs = nwa_dformer.create_input_dataframes()\n",
    "# display(nwa_dfs[2])\n",
    "nwa_market = MarketSimulator(env_config=nw_env_config, data_frames=nwa_dfs)\n",
    "nwa_market.reset()\n",
    "nwa_forest = Forester(market=nwa_market)\n",
    "\n",
    "nwa_forest.make_forest_data()\n",
    "\n",
    "nwa_X_train = nwa_forest.train_input\n",
    "nwa_y_train = nwa_forest.train_output\n",
    "\n",
    "nwa_y_pred = rf.predict(nwa_X_train)\n",
    "\n",
    "nwa_y_test = nwa_forest.train_output\n",
    "nwa_y_test_first_column = [row[0] for row in nwa_y_test]\n",
    "nwa_y_pred_first_column = [row[0] for row in nwa_y_pred]\n",
    "\n",
    "accuracy = accuracy_score(nwa_y_test_first_column, nwa_y_pred_first_column)\n",
    "print(\"Accuracy:\", accuracy)"
   ]
  },
  {
   "cell_type": "code",
   "execution_count": 15,
   "metadata": {},
   "outputs": [
    {
     "name": "stderr",
     "output_type": "stream",
     "text": [
      "/Users/mirbilal/Desktop/MobCommission/commissionV2/apps/environment/service_layer/data_transformer.py:275: FutureWarning: Series.fillna with 'method' is deprecated and will raise in a future version. Use obj.ffill() or obj.bfill() instead.\n",
      "  stcks_concatenated_df[field] = stcks_concatenated_df.groupby('index')[field].fillna(method='ffill')\n",
      "/Users/mirbilal/Desktop/MobCommission/commissionV2/apps/environment/service_layer/data_transformer.py:276: FutureWarning: Series.fillna with 'method' is deprecated and will raise in a future version. Use obj.ffill() or obj.bfill() instead.\n",
      "  stcks_concatenated_df[field] = stcks_concatenated_df.groupby('index')[field].fillna(method='bfill')\n",
      "/Users/mirbilal/Desktop/MobCommission/commissionV2/apps/environment/service_layer/data_transformer.py:305: FutureWarning: Series.fillna with 'method' is deprecated and will raise in a future version. Use obj.ffill() or obj.bfill() instead.\n",
      "  cmmdts_concatenated_df[field] = cmmdts_concatenated_df.groupby('index')[field].fillna(method='ffill')\n",
      "/Users/mirbilal/Desktop/MobCommission/commissionV2/apps/environment/service_layer/data_transformer.py:306: FutureWarning: Series.fillna with 'method' is deprecated and will raise in a future version. Use obj.ffill() or obj.bfill() instead.\n",
      "  cmmdts_concatenated_df[field] = cmmdts_concatenated_df.groupby('index')[field].fillna(method='bfill')\n"
     ]
    },
    {
     "name": "stdout",
     "output_type": "stream",
     "text": [
      "2100000.0\n",
      "2023-01-02 00:00:00+00:00\n",
      "0.0\n"
     ]
    }
   ],
   "source": [
    "nwb_starting_time_step = datetime(year=2023, month=1, day=1)\n",
    "\n",
    "nwb_db_params = {\n",
    "    'database': environ.get(\"POSTGRES_DB\"),\n",
    "    'user': environ.get(\"POSTGRES_USER\"),\n",
    "    'password': environ.get(\"POSTGRES_PASSWORD\"),\n",
    "    'host': environ.get(\"DB_HOST\"),\n",
    "    'port': environ.get(\"DB_PORT\"),\n",
    "}\n",
    "nwb_env_config = {\n",
    "    \"db_params\": nwb_db_params, \n",
    "    \"max_episode_steps\": 100, \n",
    "    \"the_current_time_step\": nwb_starting_time_step,\n",
    "    \"print_output\": False,\n",
    "    \"is_test\": False,\n",
    "    \"test_steps\": 200,\n",
    "    \"n_step_stocks\": 5,\n",
    "    \"n_step_cmmdties\": 5,\n",
    "    \"preparing\": False,\n",
    "    \"no_of_stocks\": 100,\n",
    "    \"no_of_cmmdts\": 14,\n",
    "    \"is_live\": True\n",
    "} \n",
    "nwb_dformer = DataTransformer(env_config=nwb_env_config)\n",
    "nwb_dfs = nwb_dformer.create_input_dataframes()\n",
    "# display(nwb_dfs[2])\n",
    "nwb_market = MarketSimulator(env_config=nwb_env_config, data_frames=nwb_dfs)\n",
    "total_potfolio = nwb_market.wallet_state\n",
    "for ind in range(100):\n",
    "    data_index = ind+1\n",
    "    total_potfolio = total_potfolio + nwb_market.stock_data[data_index][\"price_snapshot\"]*nwb_market.shares_data[data_index]\n",
    "initial_total_potfolio = total_potfolio\n",
    "print(total_potfolio)\n",
    "print(nwb_market.the_current_time_step)\n",
    "for indx in range(100):\n",
    "    if indx < 7:\n",
    "        acts = np.full(100, 15)\n",
    "        rand_acts = nwa_forest.act_random(acts)\n",
    "        nwb_market.step(rand_acts)\n",
    "    else:\n",
    "        flat_state = np.array([nwa_forest.get_flattened_states(nwb_market.state)])\n",
    "        my_pred = rf.predict(flat_state)\n",
    "        acts = np.array([15,15,15,15,15])\n",
    "        # acts = my_pred[0]\n",
    "        rand_acts = nwa_forest.act_random(acts)\n",
    "        nwb_market.step(rand_acts)\n",
    "\n",
    "print(nwb_market.wallet_state)"
   ]
  },
  {
   "cell_type": "code",
   "execution_count": 16,
   "metadata": {},
   "outputs": [
    {
     "name": "stdout",
     "output_type": "stream",
     "text": [
      "1947374.2297988413\n",
      "2023-05-17 20:00:00+00:00\n",
      "gain -152625.7702011587\n"
     ]
    }
   ],
   "source": [
    "total_potfolio = nwb_market.wallet_state\n",
    "for ind in range(100):\n",
    "    data_index = ind+1\n",
    "    total_potfolio = total_potfolio + nwb_market.stock_data[data_index][\"price_snapshot\"]*nwb_market.shares_data[data_index]\n",
    "print(total_potfolio)\n",
    "print(nwb_market.the_current_time_step - relativedelta(hours=100))\n",
    "final_total_potfolio = total_potfolio\n",
    "gain = final_total_potfolio - initial_total_potfolio\n",
    "print(\"gain\", gain)"
   ]
  },
  {
   "cell_type": "code",
   "execution_count": null,
   "metadata": {},
   "outputs": [],
   "source": []
  }
 ],
 "metadata": {
  "kernelspec": {
   "display_name": "v2env",
   "language": "python",
   "name": "v2env"
  },
  "language_info": {
   "codemirror_mode": {
    "name": "ipython",
    "version": 3
   },
   "file_extension": ".py",
   "mimetype": "text/x-python",
   "name": "python",
   "nbconvert_exporter": "python",
   "pygments_lexer": "ipython3",
   "version": "3.10.13"
  },
  "orig_nbformat": 4
 },
 "nbformat": 4,
 "nbformat_minor": 2
}
