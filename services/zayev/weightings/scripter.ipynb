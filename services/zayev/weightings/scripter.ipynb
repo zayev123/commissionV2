{
 "cells": [
  {
   "cell_type": "code",
   "execution_count": 4,
   "metadata": {},
   "outputs": [],
   "source": [
    "import h5py\n",
    "service_path = \"/Users/mirbilal/Desktop/MobCommission/commissionV2/services/zayev\"\n",
    "actor_name = \"actor.h5\"\n",
    "critic_name = \"critic.h5\"\n",
    "actor_path = f\"{service_path}/weightings/{actor_name}\"\n",
    "critic_path = f\"{service_path}/weightings/{critic_name}\""
   ]
  },
  {
   "cell_type": "code",
   "execution_count": 18,
   "metadata": {},
   "outputs": [],
   "source": [
    "\n",
    "\n",
    "with h5py.File(actor_name, 'w') as f:\n",
    "    # Create a dataset\n",
    "    data = [1, 2, 3, 4, 5]\n",
    "    f.create_dataset('my_dataset', data=data)\n",
    "\n",
    "with h5py.File(critic_name, 'w') as f:\n",
    "    # Create a dataset\n",
    "    data = [1, 2, 3, 4, 5]\n",
    "    f.create_dataset('my_dataset', data=data)\n",
    "\n"
   ]
  },
  {
   "cell_type": "code",
   "execution_count": 5,
   "metadata": {},
   "outputs": [
    {
     "name": "stdout",
     "output_type": "stream",
     "text": [
      "Group: commodity_observation_input\n",
      "Group: dense\n",
      "Group: dense/dense\n",
      "Dataset: dense/dense/bias:0\n",
      "Dataset: dense/dense/kernel:0\n",
      "Group: dense_1\n",
      "Group: dense_1/dense_1\n",
      "Dataset: dense_1/dense_1/bias:0\n",
      "Dataset: dense_1/dense_1/kernel:0\n",
      "Group: dense_2\n",
      "Group: dense_2/dense_2\n",
      "Dataset: dense_2/dense_2/bias:0\n",
      "Dataset: dense_2/dense_2/kernel:0\n",
      "Group: dense_3\n",
      "Group: dense_3/dense_3\n",
      "Dataset: dense_3/dense_3/bias:0\n",
      "Dataset: dense_3/dense_3/kernel:0\n",
      "Group: flatten\n",
      "Group: flatten_1\n",
      "Group: flatten_2\n",
      "Group: flatten_3\n",
      "Group: ppo_input\n",
      "Group: stock_observation_input\n",
      "Group: top_level_model_weights\n",
      "Group: wallet_observation_input\n",
      "Group: commodity_observation_input\n",
      "Group: dense_4\n",
      "Group: dense_4/dense_4\n",
      "Dataset: dense_4/dense_4/bias:0\n",
      "Dataset: dense_4/dense_4/kernel:0\n",
      "Group: dense_5\n",
      "Group: dense_5/dense_5\n",
      "Dataset: dense_5/dense_5/bias:0\n",
      "Dataset: dense_5/dense_5/kernel:0\n",
      "Group: dense_6\n",
      "Group: dense_6/dense_6\n",
      "Dataset: dense_6/dense_6/bias:0\n",
      "Dataset: dense_6/dense_6/kernel:0\n",
      "Group: dense_7\n",
      "Group: dense_7/dense_7\n",
      "Dataset: dense_7/dense_7/bias:0\n",
      "Dataset: dense_7/dense_7/kernel:0\n",
      "Group: flatten_4\n",
      "Group: flatten_5\n",
      "Group: flatten_6\n",
      "Group: flatten_7\n",
      "Group: input_1\n",
      "Group: ppo_input\n",
      "Group: stock_observation_input\n",
      "Group: top_level_model_weights\n",
      "Group: wallet_observation_input\n"
     ]
    }
   ],
   "source": [
    "with h5py.File(actor_path, 'r') as file:\n",
    "    # Recursively traverse the HDF5 file and print all dataset and group names\n",
    "    def list_hdf5_items(name, obj):\n",
    "        if isinstance(obj, h5py.Group):\n",
    "            print(f\"Group: {name}\")\n",
    "        elif isinstance(obj, h5py.Dataset):\n",
    "            print(f\"Dataset: {name}\")\n",
    "\n",
    "    file.visititems(list_hdf5_items)\n",
    "\n",
    "with h5py.File(critic_path, 'r') as file:\n",
    "    # Recursively traverse the HDF5 file and print all dataset and group names\n",
    "    def list_hdf5_items(name, obj):\n",
    "        if isinstance(obj, h5py.Group):\n",
    "            print(f\"Group: {name}\")\n",
    "        elif isinstance(obj, h5py.Dataset):\n",
    "            print(f\"Dataset: {name}\")\n",
    "\n",
    "    file.visititems(list_hdf5_items)"
   ]
  },
  {
   "cell_type": "code",
   "execution_count": 21,
   "metadata": {},
   "outputs": [],
   "source": [
    "with h5py.File(actor_path, 'a') as file:\n",
    "    if 'my_dataset' in file:\n",
    "        del file['my_dataset']\n",
    "\n",
    "with h5py.File(critic_path, 'a') as file:\n",
    "    if 'my_dataset' in file:\n",
    "        del file['my_dataset']"
   ]
  }
 ],
 "metadata": {
  "kernelspec": {
   "display_name": "v2env",
   "language": "python",
   "name": "python3"
  },
  "language_info": {
   "codemirror_mode": {
    "name": "ipython",
    "version": 3
   },
   "file_extension": ".py",
   "mimetype": "text/x-python",
   "name": "python",
   "nbconvert_exporter": "python",
   "pygments_lexer": "ipython3",
   "version": "3.10.13"
  },
  "orig_nbformat": 4
 },
 "nbformat": 4,
 "nbformat_minor": 2
}
