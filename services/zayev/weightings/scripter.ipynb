{
 "cells": [
  {
   "cell_type": "code",
   "execution_count": 1,
   "metadata": {},
   "outputs": [],
   "source": [
    "import h5py"
   ]
  },
  {
   "cell_type": "code",
   "execution_count": 18,
   "metadata": {},
   "outputs": [],
   "source": [
    "service_path = \"/Users/mirbilal/Desktop/MobCommission/commissionV2/services/zayev\"\n",
    "actor_name = \"actor.h5\"\n",
    "critic_name = \"critic.h5\"\n",
    "actor_path = f\"{service_path}/weightings/{actor_name}\"\n",
    "critic_path = f\"{service_path}/weightings/{critic_name}\"\n",
    "\n",
    "with h5py.File(actor_name, 'w') as f:\n",
    "    # Create a dataset\n",
    "    data = [1, 2, 3, 4, 5]\n",
    "    f.create_dataset('my_dataset', data=data)\n",
    "\n",
    "with h5py.File(critic_name, 'w') as f:\n",
    "    # Create a dataset\n",
    "    data = [1, 2, 3, 4, 5]\n",
    "    f.create_dataset('my_dataset', data=data)\n",
    "\n"
   ]
  },
  {
   "cell_type": "code",
   "execution_count": 22,
   "metadata": {},
   "outputs": [],
   "source": [
    "with h5py.File(actor_path, 'r') as file:\n",
    "    # Recursively traverse the HDF5 file and print all dataset and group names\n",
    "    def list_hdf5_items(name, obj):\n",
    "        if isinstance(obj, h5py.Group):\n",
    "            print(f\"Group: {name}\")\n",
    "        elif isinstance(obj, h5py.Dataset):\n",
    "            print(f\"Dataset: {name}\")\n",
    "\n",
    "    file.visititems(list_hdf5_items)\n",
    "\n",
    "with h5py.File(critic_path, 'r') as file:\n",
    "    # Recursively traverse the HDF5 file and print all dataset and group names\n",
    "    def list_hdf5_items(name, obj):\n",
    "        if isinstance(obj, h5py.Group):\n",
    "            print(f\"Group: {name}\")\n",
    "        elif isinstance(obj, h5py.Dataset):\n",
    "            print(f\"Dataset: {name}\")\n",
    "\n",
    "    file.visititems(list_hdf5_items)"
   ]
  },
  {
   "cell_type": "code",
   "execution_count": 21,
   "metadata": {},
   "outputs": [],
   "source": [
    "with h5py.File(actor_path, 'a') as file:\n",
    "    if 'my_dataset' in file:\n",
    "        del file['my_dataset']\n",
    "\n",
    "with h5py.File(critic_path, 'a') as file:\n",
    "    if 'my_dataset' in file:\n",
    "        del file['my_dataset']"
   ]
  }
 ],
 "metadata": {
  "kernelspec": {
   "display_name": "v2env",
   "language": "python",
   "name": "python3"
  },
  "language_info": {
   "codemirror_mode": {
    "name": "ipython",
    "version": 3
   },
   "file_extension": ".py",
   "mimetype": "text/x-python",
   "name": "python",
   "nbconvert_exporter": "python",
   "pygments_lexer": "ipython3",
   "version": "3.10.13"
  },
  "orig_nbformat": 4
 },
 "nbformat": 4,
 "nbformat_minor": 2
}
