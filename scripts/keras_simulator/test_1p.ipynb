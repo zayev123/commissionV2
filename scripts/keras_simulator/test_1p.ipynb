{
 "cells": [
  {
   "cell_type": "code",
   "execution_count": 1,
   "metadata": {},
   "outputs": [
    {
     "name": "stderr",
     "output_type": "stream",
     "text": [
      "2023-10-11 07:10:32.417450: I tensorflow/core/platform/cpu_feature_guard.cc:182] This TensorFlow binary is optimized to use available CPU instructions in performance-critical operations.\n",
      "To enable the following instructions: AVX2 FMA, in other operations, rebuild TensorFlow with the appropriate compiler flags.\n"
     ]
    }
   ],
   "source": [
    "import sys\n",
    "import django\n",
    "import os\n",
    "file_dir = \"/Users/mirbilal/Desktop/MobCommission/commissionV2/\"\n",
    "if file_dir not in sys.path:\n",
    "    sys.path.insert(0, file_dir)\n",
    "\n",
    "os.environ[\"DJANGO_SETTINGS_MODULE\"] = \"commissionerv2.settings\"\n",
    "os.environ[\"DJANGO_ALLOW_ASYNC_UNSAFE\"] = \"true\" \n",
    "django.setup()\n",
    "from datetime import datetime\n",
    "from os import environ\n",
    "from scripts.keras_simulator.test_1 import Test1\n",
    "from matplotlib.dates import relativedelta\n",
    "\n",
    "from services.zayev.environment.market_simulator import MarketSimulator\n"
   ]
  },
  {
   "cell_type": "code",
   "execution_count": 2,
   "metadata": {},
   "outputs": [
    {
     "name": "stdout",
     "output_type": "stream",
     "text": [
      "{'db_params': {'database': 'traderdb', 'user': 'traderadmin', 'password': 'i4n6s9l1y', 'host': 'localhost', 'port': '5432'}, 'max_episode_steps': 150, 'print_output': False, 'the_current_time_step': datetime.datetime(1995, 1, 1, 10, 0)}\n"
     ]
    }
   ],
   "source": [
    "\n",
    "\n",
    "\n",
    "db_params = {\n",
    "    'database': environ.get(\"POSTGRES_DB\"),\n",
    "    'user': environ.get(\"POSTGRES_USER\"),\n",
    "    'password': environ.get(\"POSTGRES_PASSWORD\"),\n",
    "    'host': environ.get(\"DB_HOST\"),\n",
    "    'port': environ.get(\"DB_PORT\"),\n",
    "}\n",
    "my_current_time_step  = datetime(year=1995, month=1, day=1, hour=10) + relativedelta(hours=0)\n",
    "\n",
    "env_config = {\n",
    "    \"db_params\": db_params, \n",
    "    \"max_episode_steps\": 150, \n",
    "    \"print_output\": False,\n",
    "    \"the_current_time_step\": my_current_time_step,\n",
    "}\n",
    "\n",
    "myEnv = MarketSimulator(env_config)"
   ]
  },
  {
   "cell_type": "code",
   "execution_count": 3,
   "metadata": {},
   "outputs": [
    {
     "name": "stdout",
     "output_type": "stream",
     "text": [
      "{'db_params': {'database': 'traderdb', 'user': 'traderadmin', 'password': 'i4n6s9l1y', 'host': 'localhost', 'port': '5432'}, 'max_episode_steps': 150, 'print_output': False, 'the_current_time_step': datetime.datetime(1995, 1, 1, 10, 0)}\n"
     ]
    }
   ],
   "source": [
    "tes = Test1()\n",
    "# tes.get_Q_test()\n",
    "tes.tes2()"
   ]
  },
  {
   "cell_type": "code",
   "execution_count": 3,
   "metadata": {},
   "outputs": [
    {
     "data": {
      "text/plain": [
       "<Figure size 1800x900 with 0 Axes>"
      ]
     },
     "metadata": {},
     "output_type": "display_data"
    }
   ],
   "source": [
    "from services.zayev.service_layer.actor import Actor_Model\n",
    "from services.zayev.service_layer.agent import PPOAgent\n",
    "from keras.optimizers import Adam\n",
    "\n",
    "# tes = Actor_Model(myEnv, 0.00025, Adam)\n",
    "# tes.get_Q_test()"
   ]
  },
  {
   "cell_type": "code",
   "execution_count": null,
   "metadata": {},
   "outputs": [],
   "source": [
    "import numpy as np\n",
    "state = myEnv.reset()\n",
    "stock_observation, commodity_observation, wallet_observation = state\n",
    "\n",
    "# Reshape and preprocess each component\n",
    "stock_observation = np.reshape(stock_observation, (1,) + stock_observation.shape)\n",
    "commodity_observation = np.reshape(commodity_observation, (1,) + commodity_observation.shape)\n",
    "wallet_observation = np.reshape(wallet_observation, (1,) + wallet_observation.shape)\n",
    "\n",
    "# Predict an action from the actor model\n",
    "action = tes.Actor.predict([stock_observation, commodity_observation, wallet_observation])[0]\n",
    "print(action)"
   ]
  },
  {
   "cell_type": "code",
   "execution_count": 4,
   "metadata": {},
   "outputs": [
    {
     "name": "stderr",
     "output_type": "stream",
     "text": [
      "WARNING:absl:`lr` is deprecated in Keras optimizer, please use `learning_rate` or use the legacy optimizer, e.g.,tf.keras.optimizers.legacy.Adam.\n"
     ]
    },
    {
     "name": "stdout",
     "output_type": "stream",
     "text": [
      "{'db_params': {'database': 'traderdb', 'user': 'traderadmin', 'password': 'i4n6s9l1y', 'host': 'localhost', 'port': '5432'}, 'max_episode_steps': 150, 'the_current_time_step': datetime.datetime(1995, 1, 1, 10, 0), 'print_output': False}\n"
     ]
    },
    {
     "name": "stderr",
     "output_type": "stream",
     "text": [
      "WARNING:absl:`lr` is deprecated in Keras optimizer, please use `learning_rate` or use the legacy optimizer, e.g.,tf.keras.optimizers.legacy.Adam.\n"
     ]
    }
   ],
   "source": [
    "starting_time_step = datetime(year=1995, month=1, day=1, hour=10)\n",
    "\n",
    "\n",
    "\n",
    "tes = PPOAgent(starting_time_step)"
   ]
  },
  {
   "cell_type": "code",
   "execution_count": 33,
   "metadata": {},
   "outputs": [],
   "source": [
    "tes.load()"
   ]
  },
  {
   "cell_type": "code",
   "execution_count": null,
   "metadata": {},
   "outputs": [],
   "source": [
    "tes.test()"
   ]
  }
 ],
 "metadata": {
  "kernelspec": {
   "display_name": "v2env",
   "language": "python",
   "name": "v2env"
  },
  "language_info": {
   "codemirror_mode": {
    "name": "ipython",
    "version": 3
   },
   "file_extension": ".py",
   "mimetype": "text/x-python",
   "name": "python",
   "nbconvert_exporter": "python",
   "pygments_lexer": "ipython3",
   "version": "3.10.13"
  },
  "orig_nbformat": 4
 },
 "nbformat": 4,
 "nbformat_minor": 2
}
