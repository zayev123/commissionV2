{
 "cells": [
  {
   "cell_type": "code",
   "execution_count": 1,
   "metadata": {},
   "outputs": [
    {
     "name": "stderr",
     "output_type": "stream",
     "text": [
      "2023-10-10 06:06:26.758549: I tensorflow/core/platform/cpu_feature_guard.cc:182] This TensorFlow binary is optimized to use available CPU instructions in performance-critical operations.\n",
      "To enable the following instructions: AVX2 FMA, in other operations, rebuild TensorFlow with the appropriate compiler flags.\n"
     ]
    }
   ],
   "source": [
    "import sys\n",
    "import django\n",
    "import os\n",
    "file_dir = \"/Users/mirbilal/Desktop/MobCommission/commissionV2/\"\n",
    "if file_dir not in sys.path:\n",
    "    sys.path.insert(0, file_dir)\n",
    "\n",
    "os.environ[\"DJANGO_SETTINGS_MODULE\"] = \"commissionerv2.settings\"\n",
    "os.environ[\"DJANGO_ALLOW_ASYNC_UNSAFE\"] = \"true\" \n",
    "django.setup()\n",
    "from datetime import datetime\n",
    "from os import environ\n",
    "from scripts.keras_simulator.test_1 import Test1\n"
   ]
  },
  {
   "cell_type": "code",
   "execution_count": 2,
   "metadata": {},
   "outputs": [
    {
     "name": "stdout",
     "output_type": "stream",
     "text": [
      "(1,)\n",
      "(5, 8)\n",
      "Model: \"model\"\n",
      "__________________________________________________________________________________________________\n",
      " Layer (type)                Output Shape                 Param #   Connected to                  \n",
      "==================================================================================================\n",
      " input_1 (InputLayer)        [(None, 40)]                 0         []                            \n",
      "                                                                                                  \n",
      " input_2 (InputLayer)        [(None, 6)]                  0         []                            \n",
      "                                                                                                  \n",
      " input_3 (InputLayer)        [(None, 1)]                  0         []                            \n",
      "                                                                                                  \n",
      " meged_input (Concatenate)   (None, 47)                   0         ['input_1[0][0]',             \n",
      "                                                                     'input_2[0][0]',             \n",
      "                                                                     'input_3[0][0]']             \n",
      "                                                                                                  \n",
      " flatten_3 (Flatten)         (None, 47)                   0         ['meged_input[1][0]']         \n",
      "                                                                                                  \n",
      " Q_1 (Dense)                 (None, 256)                  12288     ['flatten_3[1][0]']           \n",
      "                                                                                                  \n",
      " Q_2 (Dense)                 (None, 256)                  65792     ['Q_1[1][0]']                 \n",
      "                                                                                                  \n",
      " Q_output (Dense)            (None, 5)                    1285      ['Q_2[1][0]']                 \n",
      "                                                                                                  \n",
      "==================================================================================================\n",
      "Total params: 79365 (310.02 KB)\n",
      "Trainable params: 79365 (310.02 KB)\n",
      "Non-trainable params: 0 (0.00 Byte)\n",
      "__________________________________________________________________________________________________\n",
      "lalaland\n",
      "my_layer_0 meged_input\n",
      "my_layer_1 input_2\n",
      "obs_input KerasTensor(type_spec=TensorSpec(shape=(None, 47), dtype=tf.float32, name=None), name='meged_input/concat:0', description=\"created by layer 'meged_input'\")\n",
      "obs_input KerasTensor(type_spec=TensorSpec(shape=(None, 47), dtype=tf.float32, name=None), name='meged_input/concat:0', description=\"created by layer 'meged_input'\")\n"
     ]
    }
   ],
   "source": [
    "tes = Test1()\n",
    "# tes.get_Q_test()\n",
    "tes.get_trainable_model()"
   ]
  }
 ],
 "metadata": {
  "kernelspec": {
   "display_name": "v2env",
   "language": "python",
   "name": "v2env"
  },
  "language_info": {
   "codemirror_mode": {
    "name": "ipython",
    "version": 3
   },
   "file_extension": ".py",
   "mimetype": "text/x-python",
   "name": "python",
   "nbconvert_exporter": "python",
   "pygments_lexer": "ipython3",
   "version": "3.10.13"
  },
  "orig_nbformat": 4
 },
 "nbformat": 4,
 "nbformat_minor": 2
}
