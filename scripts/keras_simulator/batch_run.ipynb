{
 "cells": [
  {
   "cell_type": "code",
   "execution_count": 1,
   "metadata": {},
   "outputs": [
    {
     "name": "stderr",
     "output_type": "stream",
     "text": [
      "2023-11-05 01:36:20.801308: I tensorflow/core/platform/cpu_feature_guard.cc:182] This TensorFlow binary is optimized to use available CPU instructions in performance-critical operations.\n",
      "To enable the following instructions: AVX2 FMA, in other operations, rebuild TensorFlow with the appropriate compiler flags.\n"
     ]
    },
    {
     "data": {
      "text/plain": [
       "<Figure size 1800x900 with 0 Axes>"
      ]
     },
     "metadata": {},
     "output_type": "display_data"
    }
   ],
   "source": [
    "import sys\n",
    "import django\n",
    "import os\n",
    "file_dir = \"/Users/mirbilal/Desktop/MobCommission/commissionV2/\"\n",
    "if file_dir not in sys.path:\n",
    "    sys.path.insert(0, file_dir)\n",
    "\n",
    "os.environ[\"DJANGO_SETTINGS_MODULE\"] = \"commissionerv2.settings\"\n",
    "os.environ[\"DJANGO_ALLOW_ASYNC_UNSAFE\"] = \"true\" \n",
    "django.setup()\n",
    "from datetime import datetime\n",
    "from os import environ\n",
    "from services.zayev.service_layer.agent import PPOAgent as ZPPO\n",
    "from matplotlib.dates import relativedelta\n",
    "import numpy as np\n"
   ]
  },
  {
   "cell_type": "code",
   "execution_count": 2,
   "metadata": {},
   "outputs": [
    {
     "name": "stderr",
     "output_type": "stream",
     "text": [
      "/Users/mirbilal/Desktop/MobCommission/commissionV2/v2env/lib/python3.10/site-packages/keras/src/optimizers/legacy/adam.py:118: UserWarning: The `lr` argument is deprecated, use `learning_rate` instead.\n",
      "  super().__init__(name, **kwargs)\n"
     ]
    }
   ],
   "source": [
    "\n",
    "starting_time_step = datetime(year=1995, month=1, day=1, hour=10)\n",
    "\n",
    "db_params = {\n",
    "            'database': environ.get(\"POSTGRES_DB\"),\n",
    "            'user': environ.get(\"POSTGRES_USER\"),\n",
    "            'password': environ.get(\"POSTGRES_PASSWORD\"),\n",
    "            'host': environ.get(\"DB_HOST\"),\n",
    "            'port': environ.get(\"DB_PORT\"),\n",
    "        }\n",
    "env_config = {\n",
    "    \"db_params\": db_params, \n",
    "    \"max_episode_steps\": 5, \n",
    "    \"the_current_time_step\": starting_time_step,\n",
    "    \"print_output\": False,\n",
    "    \"test_steps\": 5,\n",
    "    \"n_step_stocks\": 5,\n",
    "    \"n_step_cmmdties\": 5\n",
    "} \n",
    "\n",
    "\n",
    "\n",
    "zayev = ZPPO(env_config)"
   ]
  },
  {
   "cell_type": "code",
   "execution_count": 3,
   "metadata": {},
   "outputs": [
    {
     "name": "stdout",
     "output_type": "stream",
     "text": [
      "Model: \"model\"\n",
      "__________________________________________________________________________________________________\n",
      " Layer (type)                Output Shape                 Param #   Connected to                  \n",
      "==================================================================================================\n",
      " stock_observation_input (I  [(None, 5, 9)]               0         []                            \n",
      " nputLayer)                                                                                       \n",
      "                                                                                                  \n",
      " commodity_observation_inpu  [(None, 6, 5)]               0         []                            \n",
      " t (InputLayer)                                                                                   \n",
      "                                                                                                  \n",
      " flatten (Flatten)           (None, 45)                   0         ['stock_observation_input[0][0\n",
      "                                                                    ]']                           \n",
      "                                                                                                  \n",
      " flatten_1 (Flatten)         (None, 30)                   0         ['commodity_observation_input[\n",
      "                                                                    0][0]']                       \n",
      "                                                                                                  \n",
      " ppo_input (Concatenate)     (None, 75)                   0         ['flatten[0][0]',             \n",
      "                                                                     'flatten_1[0][0]']           \n",
      "                                                                                                  \n",
      " flatten_2 (Flatten)         (None, 75)                   0         ['ppo_input[0][0]']           \n",
      "                                                                                                  \n",
      " dense (Dense)               (None, 512)                  38912     ['flatten_2[0][0]']           \n",
      "                                                                                                  \n",
      " dense_1 (Dense)             (None, 256)                  131328    ['dense[0][0]']               \n",
      "                                                                                                  \n",
      " dense_2 (Dense)             (None, 6)                    1542      ['dense_1[0][0]']             \n",
      "                                                                                                  \n",
      " lambda (Lambda)             (None, 6)                    0         ['dense_2[0][0]']             \n",
      "                                                                                                  \n",
      "==================================================================================================\n",
      "Total params: 171782 (671.02 KB)\n",
      "Trainable params: 171782 (671.02 KB)\n",
      "Non-trainable params: 0 (0.00 Byte)\n",
      "__________________________________________________________________________________________________\n",
      "None\n"
     ]
    }
   ],
   "source": [
    "print(zayev.Actor.Actor.summary())"
   ]
  },
  {
   "cell_type": "code",
   "execution_count": 31,
   "metadata": {},
   "outputs": [
    {
     "name": "stderr",
     "output_type": "stream",
     "text": [
      "2023-11-04 22:37:09.079605: W tensorflow/c/c_api.cc:305] Operation '{name:'dense_30/kernel/Assign' id:4220 op device:{requested: '', assigned: ''} def:{{{node dense_30/kernel/Assign}} = AssignVariableOp[_has_manual_control_dependencies=true, dtype=DT_FLOAT, validate_shape=false](dense_30/kernel, dense_30/kernel/Initializer/random_normal)}}' was changed by setting attribute after it was run by a session. This mutation will have no effect, and will trigger an error in the future. Either don't modify nodes after running them or create a new session.\n"
     ]
    }
   ],
   "source": [
    "zayev.save()"
   ]
  },
  {
   "cell_type": "code",
   "execution_count": 4,
   "metadata": {},
   "outputs": [
    {
     "name": "stderr",
     "output_type": "stream",
     "text": [
      "/Users/mirbilal/Desktop/MobCommission/commissionV2/v2env/lib/python3.10/site-packages/keras/src/engine/training_v1.py:2359: UserWarning: `Model.state_updates` will be removed in a future version. This property should not be used in TensorFlow 2.0, as `updates` are applied automatically.\n",
      "  updates=self.state_updates,\n",
      "2023-11-05 01:36:48.301076: I tensorflow/compiler/mlir/mlir_graph_optimization_pass.cc:382] MLIR V1 optimization pass is not enabled\n",
      "2023-11-05 01:36:48.321341: W tensorflow/c/c_api.cc:305] Operation '{name:'dense_5/bias/Assign' id:285 op device:{requested: '', assigned: ''} def:{{{node dense_5/bias/Assign}} = AssignVariableOp[_has_manual_control_dependencies=true, dtype=DT_FLOAT, validate_shape=false](dense_5/bias, dense_5/bias/Initializer/zeros)}}' was changed by setting attribute after it was run by a session. This mutation will have no effect, and will trigger an error in the future. Either don't modify nodes after running them or create a new session.\n"
     ]
    },
    {
     "name": "stdout",
     "output_type": "stream",
     "text": [
      "episode: 1/20, score: 0.0, average: 0.00 SAVING\n",
      "episode: 2/20, score: 0.0, average: 0.00 SAVING\n",
      "episode: 3/20, score: 0.0, average: 0.00 SAVING\n",
      "episode: 4/20, score: 0.0, average: 0.00 SAVING\n",
      "episode: 5/20, score: 0.0, average: 0.00 SAVING\n",
      "episode: 6/20, score: 0.0, average: 0.00 SAVING\n",
      "episode: 7/20, score: 0.0, average: 0.00 SAVING\n",
      "episode: 8/20, score: 0.0, average: 0.00 SAVING\n",
      "episode: 9/20, score: 0.0, average: 0.00 SAVING\n",
      "episode: 10/20, score: 0.0, average: 0.00 SAVING\n",
      "episode: 11/20, score: 0.0, average: 0.00 SAVING\n",
      "episode: 12/20, score: 0.0, average: 0.00 SAVING\n",
      "episode: 13/20, score: 0.0, average: 0.00 SAVING\n",
      "episode: 14/20, score: 0.0, average: 0.00 SAVING\n",
      "episode: 15/20, score: 0.0, average: 0.00 SAVING\n",
      "episode: 16/20, score: 0.0, average: 0.00 SAVING\n",
      "episode: 17/20, score: 0.0, average: 0.00 SAVING\n",
      "episode: 18/20, score: 0.0, average: 0.00 SAVING\n",
      "episode: 19/20, score: 0.0, average: 0.00 SAVING\n",
      "episode: 20/20, score: 0.0, average: 0.00 SAVING\n",
      "episode: 21/20, score: 0.0, average: 0.00 SAVING\n",
      "episode: 22/20, score: 0.0, average: 0.00 SAVING\n",
      "episode: 23/20, score: 0.0, average: 0.00 SAVING\n",
      "episode: 24/20, score: 0.0, average: 0.00 SAVING\n",
      "episode: 25/20, score: 0.0, average: 0.00 SAVING\n",
      "episode: 26/20, score: 0.0, average: 0.00 SAVING\n",
      "episode: 27/20, score: 0.0, average: 0.00 SAVING\n",
      "episode: 28/20, score: 0.0, average: 0.00 SAVING\n",
      "episode: 29/20, score: 0.0, average: 0.00 SAVING\n",
      "episode: 30/20, score: 0.0, average: 0.00 SAVING\n",
      "episode: 31/20, score: 0.0, average: 0.00 SAVING\n",
      "episode: 32/20, score: 0.0, average: 0.00 SAVING\n",
      "episode: 33/20, score: 0.0, average: 0.00 SAVING\n",
      "episode: 34/20, score: 0.0, average: 0.00 SAVING\n",
      "episode: 35/20, score: 0.0, average: 0.00 SAVING\n",
      "episode: 36/20, score: 0.0, average: 0.00 SAVING\n",
      "episode: 37/20, score: 0.0, average: 0.00 SAVING\n",
      "episode: 38/20, score: 0.0, average: 0.00 SAVING\n",
      "episode: 39/20, score: 0.0, average: 0.00 SAVING\n",
      "episode: 40/20, score: 0.0, average: 0.00 SAVING\n",
      "episode: 41/20, score: 0.0, average: 0.00 SAVING\n",
      "episode: 42/20, score: 0.0, average: 0.00 SAVING\n",
      "episode: 43/20, score: 0.0, average: 0.00 SAVING\n",
      "episode: 44/20, score: 0.0, average: 0.00 SAVING\n",
      "episode: 45/20, score: 0.0, average: 0.00 SAVING\n",
      "episode: 46/20, score: 0.0, average: 0.00 SAVING\n",
      "episode: 47/20, score: 0.0, average: 0.00 SAVING\n",
      "episode: 48/20, score: 0.0, average: 0.00 SAVING\n",
      "episode: 49/20, score: 0.0, average: 0.00 SAVING\n",
      "episode: 50/20, score: 0.0, average: 0.00 SAVING\n",
      "episode: 51/20, score: 0.0, average: 0.00 SAVING\n",
      "episode: 52/20, score: 0.0, average: 0.00 SAVING\n",
      "episode: 53/20, score: 0.0, average: 0.00 SAVING\n",
      "episode: 54/20, score: 0.0, average: 0.00 SAVING\n",
      "episode: 55/20, score: 0.0, average: 0.00 SAVING\n",
      "episode: 56/20, score: 0.0, average: 0.00 SAVING\n",
      "episode: 57/20, score: 0.0, average: 0.00 SAVING\n",
      "episode: 58/20, score: 0.0, average: 0.00 SAVING\n",
      "episode: 59/20, score: 0.0, average: 0.00 SAVING\n",
      "episode: 60/20, score: 0.0, average: 0.00 SAVING\n",
      "episode: 61/20, score: 0.0, average: 0.00 SAVING\n",
      "episode: 62/20, score: 0.0, average: 0.00 SAVING\n",
      "episode: 63/20, score: 0.0, average: 0.00 SAVING\n",
      "episode: 64/20, score: 0.0, average: 0.00 SAVING\n",
      "episode: 65/20, score: 0.0, average: 0.00 SAVING\n",
      "episode: 66/20, score: 0.0, average: 0.00 SAVING\n",
      "episode: 67/20, score: 0.0, average: 0.00 SAVING\n",
      "episode: 68/20, score: 0.0, average: 0.00 SAVING\n",
      "episode: 69/20, score: 0.0, average: 0.00 SAVING\n",
      "episode: 70/20, score: 0.0, average: 0.00 SAVING\n",
      "episode: 71/20, score: 0.0, average: 0.00 SAVING\n",
      "episode: 72/20, score: 0.0, average: 0.00 SAVING\n",
      "episode: 73/20, score: 0.0, average: 0.00 SAVING\n",
      "episode: 74/20, score: 0.0, average: 0.00 SAVING\n",
      "episode: 75/20, score: 0.0, average: 0.00 SAVING\n",
      "episode: 76/20, score: 0.0, average: 0.00 SAVING\n",
      "episode: 77/20, score: 0.0, average: 0.00 SAVING\n",
      "episode: 78/20, score: 0.0, average: 0.00 SAVING\n",
      "episode: 79/20, score: 0.0, average: 0.00 SAVING\n",
      "episode: 80/20, score: 0.0, average: 0.00 SAVING\n",
      "episode: 81/20, score: 0.0, average: 0.00 SAVING\n",
      "episode: 82/20, score: 0.0, average: 0.00 SAVING\n",
      "episode: 83/20, score: 0.0, average: 0.00 SAVING\n",
      "episode: 84/20, score: 0.0, average: 0.00 SAVING\n",
      "episode: 85/20, score: 0.0, average: 0.00 SAVING\n",
      "episode: 86/20, score: 0.0, average: 0.00 SAVING\n",
      "episode: 87/20, score: 0.0, average: 0.00 SAVING\n",
      "episode: 88/20, score: 0.0, average: 0.00 SAVING\n",
      "episode: 89/20, score: 0.0, average: 0.00 SAVING\n",
      "episode: 90/20, score: 0.0, average: 0.00 SAVING\n",
      "episode: 91/20, score: 0.0, average: 0.00 SAVING\n",
      "episode: 92/20, score: 0.0, average: 0.00 SAVING\n",
      "episode: 93/20, score: 0.0, average: 0.00 SAVING\n",
      "episode: 94/20, score: 0.0, average: 0.00 SAVING\n",
      "episode: 95/20, score: 0.0, average: 0.00 SAVING\n",
      "episode: 96/20, score: 0.0, average: 0.00 SAVING\n",
      "episode: 97/20, score: 0.0, average: 0.00 SAVING\n",
      "episode: 98/20, score: 0.0, average: 0.00 SAVING\n",
      "episode: 99/20, score: 0.0, average: 0.00 SAVING\n",
      "episode: 100/20, score: 0.0, average: 0.00 SAVING\n",
      "episode: 101/20, score: 0.0, average: 0.00 SAVING\n",
      "episode: 102/20, score: 0.0, average: 0.00 SAVING\n",
      "episode: 103/20, score: 0.0, average: 0.00 SAVING\n",
      "episode: 104/20, score: 0.0, average: 0.00 SAVING\n",
      "episode: 105/20, score: 0.0, average: 0.00 SAVING\n",
      "episode: 106/20, score: 0.0, average: 0.00 SAVING\n",
      "episode: 107/20, score: 0.0, average: 0.00 SAVING\n",
      "episode: 108/20, score: 0.0, average: 0.00 SAVING\n",
      "episode: 109/20, score: 0.0, average: 0.00 SAVING\n",
      "episode: 110/20, score: 0.0, average: 0.00 SAVING\n",
      "episode: 111/20, score: 0.0, average: 0.00 SAVING\n",
      "episode: 112/20, score: 0.0, average: 0.00 SAVING\n",
      "episode: 113/20, score: 0.0, average: 0.00 SAVING\n",
      "episode: 114/20, score: 0.0, average: 0.00 SAVING\n",
      "episode: 115/20, score: 0.0, average: 0.00 SAVING\n",
      "episode: 116/20, score: 0.0, average: 0.00 SAVING\n",
      "episode: 117/20, score: 0.0, average: 0.00 SAVING\n",
      "episode: 118/20, score: 0.0, average: 0.00 SAVING\n",
      "episode: 119/20, score: 0.0, average: 0.00 SAVING\n",
      "episode: 120/20, score: 0.0, average: 0.00 SAVING\n",
      "episode: 121/20, score: 0.0, average: 0.00 SAVING\n",
      "episode: 122/20, score: 0.0, average: 0.00 SAVING\n",
      "episode: 123/20, score: 0.0, average: 0.00 SAVING\n",
      "episode: 124/20, score: 0.0, average: 0.00 SAVING\n",
      "episode: 125/20, score: 0.0, average: 0.00 SAVING\n",
      "episode: 126/20, score: 0.0, average: 0.00 SAVING\n",
      "episode: 127/20, score: 0.0, average: 0.00 SAVING\n",
      "episode: 128/20, score: 0.0, average: 0.00 SAVING\n",
      "episode: 129/20, score: 0.0, average: 0.00 SAVING\n",
      "episode: 130/20, score: 0.0, average: 0.00 SAVING\n",
      "episode: 131/20, score: 0.0, average: 0.00 SAVING\n",
      "episode: 132/20, score: 0.0, average: 0.00 SAVING\n",
      "episode: 133/20, score: 0.0, average: 0.00 SAVING\n",
      "episode: 134/20, score: 0.0, average: 0.00 SAVING\n",
      "episode: 135/20, score: 0.0, average: 0.00 SAVING\n",
      "episode: 136/20, score: 0.0, average: 0.00 SAVING\n",
      "episode: 137/20, score: 0.0, average: 0.00 SAVING\n",
      "episode: 138/20, score: 0.0, average: 0.00 SAVING\n",
      "episode: 139/20, score: 0.0, average: 0.00 SAVING\n",
      "episode: 140/20, score: 0.0, average: 0.00 SAVING\n",
      "episode: 141/20, score: 0.0, average: 0.00 SAVING\n",
      "episode: 142/20, score: 0.0, average: 0.00 SAVING\n",
      "episode: 143/20, score: 0.0, average: 0.00 SAVING\n",
      "episode: 144/20, score: 0.0, average: 0.00 SAVING\n",
      "episode: 145/20, score: 0.0, average: 0.00 SAVING\n",
      "episode: 146/20, score: 0.0, average: 0.00 SAVING\n",
      "episode: 147/20, score: 0.0, average: 0.00 SAVING\n",
      "episode: 148/20, score: 0.0, average: 0.00 SAVING\n",
      "episode: 149/20, score: 0.0, average: 0.00 SAVING\n"
     ]
    },
    {
     "name": "stderr",
     "output_type": "stream",
     "text": [
      "/Users/mirbilal/Desktop/MobCommission/commissionV2/v2env/lib/python3.10/site-packages/keras/src/engine/training_v1.py:2359: UserWarning: `Model.state_updates` will be removed in a future version. This property should not be used in TensorFlow 2.0, as `updates` are applied automatically.\n",
      "  updates=self.state_updates,\n",
      "2023-11-05 01:36:58.105651: W tensorflow/c/c_api.cc:305] Operation '{name:'dense_5/BiasAdd' id:290 op device:{requested: '', assigned: ''} def:{{{node dense_5/BiasAdd}} = BiasAdd[T=DT_FLOAT, _has_manual_control_dependencies=true, data_format=\"NHWC\"](dense_5/MatMul, dense_5/BiasAdd/ReadVariableOp)}}' was changed by setting attribute after it was run by a session. This mutation will have no effect, and will trigger an error in the future. Either don't modify nodes after running them or create a new session.\n",
      "2023-11-05 01:36:58.355783: W tensorflow/c/c_api.cc:305] Operation '{name:'loss/mul' id:216 op device:{requested: '', assigned: ''} def:{{{node loss/mul}} = Mul[T=DT_FLOAT, _has_manual_control_dependencies=true](loss/mul/x, loss/lambda_loss/value)}}' was changed by setting attribute after it was run by a session. This mutation will have no effect, and will trigger an error in the future. Either don't modify nodes after running them or create a new session.\n",
      "2023-11-05 01:36:58.385259: W tensorflow/c/c_api.cc:305] Operation '{name:'training/Adam/dense_2/kernel/v/Assign' id:733 op device:{requested: '', assigned: ''} def:{{{node training/Adam/dense_2/kernel/v/Assign}} = AssignVariableOp[_has_manual_control_dependencies=true, dtype=DT_FLOAT, validate_shape=false](training/Adam/dense_2/kernel/v, training/Adam/dense_2/kernel/v/Initializer/zeros)}}' was changed by setting attribute after it was run by a session. This mutation will have no effect, and will trigger an error in the future. Either don't modify nodes after running them or create a new session.\n",
      "2023-11-05 01:36:58.814403: W tensorflow/c/c_api.cc:305] Operation '{name:'loss_1/mul' id:325 op device:{requested: '', assigned: ''} def:{{{node loss_1/mul}} = Mul[T=DT_FLOAT, _has_manual_control_dependencies=true](loss_1/mul/x, loss_1/dense_5_loss/value)}}' was changed by setting attribute after it was run by a session. This mutation will have no effect, and will trigger an error in the future. Either don't modify nodes after running them or create a new session.\n",
      "2023-11-05 01:36:58.852321: W tensorflow/c/c_api.cc:305] Operation '{name:'training_2/Adam/dense_5/bias/m/Assign' id:1023 op device:{requested: '', assigned: ''} def:{{{node training_2/Adam/dense_5/bias/m/Assign}} = AssignVariableOp[_has_manual_control_dependencies=true, dtype=DT_FLOAT, validate_shape=false](training_2/Adam/dense_5/bias/m, training_2/Adam/dense_5/bias/m/Initializer/zeros)}}' was changed by setting attribute after it was run by a session. This mutation will have no effect, and will trigger an error in the future. Either don't modify nodes after running them or create a new session.\n"
     ]
    },
    {
     "data": {
      "image/png": "[encoded data removed]",
      "text/plain": [
       "<Figure size 640x480 with 1 Axes>"
      ]
     },
     "metadata": {},
     "output_type": "display_data"
    }
   ],
   "source": [
    "np.random.seed(np.random.randint(0,100))\n",
    "zayev.run_batch()\n",
    "# zayev.run_multiprocesses(num_worker=4)"
   ]
  },
  {
   "cell_type": "code",
   "execution_count": 32,
   "metadata": {},
   "outputs": [
    {
     "name": "stderr",
     "output_type": "stream",
     "text": [
      "/Users/mirbilal/Desktop/MobCommission/commissionV2/v2env/lib/python3.10/site-packages/keras/src/engine/training_v1.py:2359: UserWarning: `Model.state_updates` will be removed in a future version. This property should not be used in TensorFlow 2.0, as `updates` are applied automatically.\n",
      "  updates=self.state_updates,\n",
      "2023-11-04 22:37:13.568504: W tensorflow/c/c_api.cc:305] Operation '{name:'lambda_5/SelectV2_1' id:4355 op device:{requested: '', assigned: ''} def:{{{node lambda_5/SelectV2_1}} = SelectV2[T=DT_FLOAT, _has_manual_control_dependencies=true](lambda_5/Greater, lambda_5/mul_1, lambda_5/SelectV2)}}' was changed by setting attribute after it was run by a session. This mutation will have no effect, and will trigger an error in the future. Either don't modify nodes after running them or create a new session.\n"
     ]
    }
   ],
   "source": [
    "# print(zayev.Actor.Actor)\n",
    "# [-1.         -0.99999756  0.9822062  -1.         -0.99031776]\n",
    "# zayev.load()\n",
    "zayev.test()"
   ]
  },
  {
   "cell_type": "code",
   "execution_count": 33,
   "metadata": {},
   "outputs": [
    {
     "name": "stdout",
     "output_type": "stream",
     "text": [
      "[array([[[0.00000000e+00, 1.00000000e+00, 1.00000000e+00, 1.54524668e+01,\n",
      "         1.00041813e+00, 1.37197951e+01, 1.00141521e+00, 1.88042220e-02,\n",
      "         8.56054748e-04, 5.46544499e+01, 5.56171443e+01, 5.63393723e+01,\n",
      "         5.57931104e+01, 5.49843161e+01],\n",
      "        [0.00000000e+00, 1.00000000e+00, 1.00000000e+00, 6.07051559e+01,\n",
      "         1.00011215e+00, 8.73155621e+01, 1.00093372e+00, 2.79729724e-02,\n",
      "         1.52224852e-04, 3.53955958e+01, 3.53475710e+01, 3.49850244e+01,\n",
      "         3.47076025e+01, 3.44247914e+01],\n",
      "        [0.00000000e+00, 1.00000000e+00, 1.00000000e+00, 2.43012615e+00,\n",
      "         1.00009306e+00, 2.72993635e+00, 1.00017161e+00, 3.91037226e-03,\n",
      "         7.42704105e-04, 2.52476320e+02, 2.48925811e+02, 2.47043929e+02,\n",
      "         2.46697094e+02, 2.43051473e+02],\n",
      "        [0.00000000e+00, 1.00000000e+00, 1.00000000e+00, 3.99958418e+00,\n",
      "         1.00360852e+00, 3.76899321e+00, 1.00667429e+00, 1.62844065e-02,\n",
      "         1.20926838e-03, 5.78197475e+01, 5.50522831e+01, 5.18676190e+01,\n",
      "         5.05703410e+01, 4.85877859e+01],\n",
      "        [0.00000000e+00, 1.00000000e+00, 1.00000000e+00, 5.30342280e+01,\n",
      "         1.00019953e+00, 4.18596018e+01, 1.00115524e+00, 4.72468647e-02,\n",
      "         1.99052924e-03, 2.10194308e+01, 2.06988941e+01, 2.04252874e+01,\n",
      "         2.01398344e+01, 1.96954077e+01]]]), array([[[0.00000000e+00, 1.00000000e+00, 1.47196111e+02, 1.42688839e+02,\n",
      "         1.37513820e+02, 1.33862819e+02, 1.28925085e+02],\n",
      "        [0.00000000e+00, 1.00000000e+00, 3.63704187e+00, 3.67513718e+00,\n",
      "         3.65873978e+00, 3.66158984e+00, 3.70637213e+00],\n",
      "        [0.00000000e+00, 1.00000000e+00, 4.52127569e+02, 4.44663313e+02,\n",
      "         4.30739375e+02, 4.25677034e+02, 4.24846822e+02],\n",
      "        [0.00000000e+00, 1.00000000e+00, 1.02299095e+04, 1.00280908e+04,\n",
      "         9.77479867e+03, 9.62992885e+03, 9.47164855e+03],\n",
      "        [0.00000000e+00, 1.00000000e+00, 2.38714540e+04, 2.40981604e+04,\n",
      "         2.44342480e+04, 2.42112139e+04, 2.38436322e+04],\n",
      "        [0.00000000e+00, 1.00000000e+00, 2.73042818e+03, 2.68140850e+03,\n",
      "         2.64551710e+03, 2.64275794e+03, 2.62246616e+03]]])]\n",
      "[ 0.25 -0.5  -0.5   0.25  0.25  0.25]\n",
      "100.0\n",
      "[array([[[0.00000000e+00, 1.00000000e+00, 1.00000000e+00, 1.57957339e+01,\n",
      "         1.00003853e+00, 1.41164092e+01, 1.00006516e+00, 1.87830365e-02,\n",
      "         8.65255664e-04, 5.31795465e+01, 5.46544499e+01, 5.56171443e+01,\n",
      "         5.63393723e+01, 5.57931104e+01],\n",
      "        [0.00000000e+00, 1.00000000e+00, 1.00000000e+00, 5.96205175e+01,\n",
      "         1.00003630e+00, 9.02828029e+01, 1.00007057e+00, 2.79509750e-02,\n",
      "         1.50682694e-04, 3.57487930e+01, 3.53955958e+01, 3.53475710e+01,\n",
      "         3.49850244e+01, 3.47076025e+01],\n",
      "        [0.00000000e+00, 1.00000000e+00, 1.00000000e+00, 2.40484301e+00,\n",
      "         1.00002807e+00, 2.85823844e+00, 1.00007219e+00, 3.88425852e-03,\n",
      "         7.36623646e-04, 2.55730129e+02, 2.52476320e+02, 2.48925811e+02,\n",
      "         2.47043929e+02, 2.46697094e+02],\n",
      "        [0.00000000e+00, 1.00000000e+00, 1.00000000e+00, 3.82083522e+00,\n",
      "         1.00070170e+00, 3.68662626e+00, 1.00212795e+00, 1.56429644e-02,\n",
      "         1.17904057e-03, 6.14084400e+01, 5.78197475e+01, 5.50522831e+01,\n",
      "         5.18676190e+01, 5.05703410e+01],\n",
      "        [0.00000000e+00, 1.00000000e+00, 1.00000000e+00, 5.06453956e+01,\n",
      "         1.00204063e+00, 4.08922479e+01, 1.00417702e+00, 4.59591112e-02,\n",
      "         1.91019549e-03, 2.11654256e+01, 2.10194308e+01, 2.06988941e+01,\n",
      "         2.04252874e+01, 2.01398344e+01]]]), array([[[0.00000000e+00, 1.00000000e+00, 1.52847226e+02, 1.47196111e+02,\n",
      "         1.42688839e+02, 1.37513820e+02, 1.33862819e+02],\n",
      "        [0.00000000e+00, 1.00000000e+00, 3.65217229e+00, 3.63704187e+00,\n",
      "         3.67513718e+00, 3.65873978e+00, 3.66158984e+00],\n",
      "        [0.00000000e+00, 1.00000000e+00, 4.67208006e+02, 4.52127569e+02,\n",
      "         4.44663313e+02, 4.30739375e+02, 4.25677034e+02],\n",
      "        [0.00000000e+00, 1.00000000e+00, 1.04777665e+04, 1.02299095e+04,\n",
      "         1.00280908e+04, 9.77479867e+03, 9.62992885e+03],\n",
      "        [0.00000000e+00, 1.00000000e+00, 2.35419543e+04, 2.38714540e+04,\n",
      "         2.40981604e+04, 2.44342480e+04, 2.42112139e+04],\n",
      "        [0.00000000e+00, 1.00000000e+00, 2.77730282e+03, 2.73042818e+03,\n",
      "         2.68140850e+03, 2.64551710e+03, 2.64275794e+03]]])]\n"
     ]
    }
   ],
   "source": [
    "print(zayev.previous_state)\n",
    "print(zayev.previous_actn)\n",
    "print((zayev.env.the_current_time_step.replace(tzinfo=None) - datetime(year=1995, month=1, day=1, hour=10)).total_seconds()/3600)\n",
    "print(zayev.latest_state)"
   ]
  },
  {
   "cell_type": "code",
   "execution_count": 11,
   "metadata": {},
   "outputs": [
    {
     "name": "stdout",
     "output_type": "stream",
     "text": [
      "[[0.00000000e+00 1.00000000e+00 1.00000000e+00 6.15761740e+00\n",
      "  1.00017104e+00 6.44445845e+00 1.00035163e+00 8.18755006e-03\n",
      "  1.98342846e-04 1.20066941e+02 1.17999387e+02 1.15206158e+02\n",
      "  1.13169647e+02 1.10928133e+02]\n",
      " [0.00000000e+00 1.00000000e+00 1.00000000e+00 7.22659759e+01\n",
      "  1.00041292e+00 1.18166388e+02 1.00148260e+00 3.06645439e-02\n",
      "  1.13731560e-04 3.30445340e+01 3.35409554e+01 3.42795862e+01\n",
      "  3.47092041e+01 3.51007748e+01]\n",
      " [0.00000000e+00 1.00000000e+00 1.00000000e+00 3.86452797e+00\n",
      "  1.00005785e+00 3.36606318e+00 1.00032849e+00 5.60454043e-03\n",
      "  5.43117077e-04 1.82493018e+02 1.82627171e+02 1.88436079e+02\n",
      "  1.93965323e+02 2.00481794e+02]\n",
      " [0.00000000e+00 1.00000000e+00 1.00000000e+00 4.64449821e+00\n",
      "  1.00044261e+00 5.81271397e+00 1.00083449e+00 1.94455957e-02\n",
      "  5.07921252e-04 5.22033036e+01 5.28914244e+01 5.47043845e+01\n",
      "  5.44425862e+01 5.48498547e+01]\n",
      " [0.00000000e+00 1.00000000e+00 1.00000000e+00 5.06453125e+01\n",
      "  1.00014850e+00 2.50573391e+01 1.00078634e+00 3.57416849e-02\n",
      "  2.66886344e-04 2.77795932e+01 2.76522372e+01 2.72582139e+01\n",
      "  2.69625519e+01 2.68868523e+01]]\n",
      "1631.5469617083393\n",
      "1995-01-07 16:00:00+00:00\n"
     ]
    }
   ],
   "source": [
    "ztt = zayev.latest_state\n",
    "stt_stt = zayev.latest_state[0][0]\n",
    "print(stt_stt)\n",
    "\n",
    "total_potfolio = zayev.env.wallet_state\n",
    "for st_dta in stt_stt:\n",
    "    total_potfolio = total_potfolio + st_dta[0]*st_dta[7]\n",
    "print(total_potfolio)\n",
    "print(zayev.env.the_current_time_step - relativedelta(hours=100))"
   ]
  },
  {
   "cell_type": "code",
   "execution_count": 8,
   "metadata": {},
   "outputs": [
    {
     "name": "stdout",
     "output_type": "stream",
     "text": [
      "1995-01-02 11:00:00\n"
     ]
    }
   ],
   "source": [
    "tm = starting_time_step + relativedelta(hours=25)\n",
    "print(tm)"
   ]
  },
  {
   "cell_type": "code",
   "execution_count": 6,
   "metadata": {},
   "outputs": [
    {
     "data": {
      "text/plain": [
       "[array([[[  86.98892013, 1780.88718796,  806.78320262,   86.99418474,\n",
       "           815.32319724,   87.01223627,   86.22798652,  231.66143027],\n",
       "         [  24.55947431, 5311.76025676, 2294.7676268 ,   24.5622656 ,\n",
       "          2544.55969405,   24.56600397,   24.61056939,  795.63826776],\n",
       "         [ 139.2253307 , 1086.44600003,  505.13989644,  139.25715658,\n",
       "           561.13738873,  139.33339698,  144.20254547,  126.31578947],\n",
       "         [  38.81905216,  614.39851888,  328.47856092,   38.82553138,\n",
       "           308.16662239,   38.84516044,   38.48886214,  533.33333333],\n",
       "         [  21.18280565, 1786.27803173,  976.56194102,   21.18713267,\n",
       "           841.46566394,   21.19766482,   21.08023049,  937.5       ]]]),\n",
       " array([[[1.71481016e+02],\n",
       "         [3.49922248e+00],\n",
       "         [4.32156117e+02],\n",
       "         [7.54711667e+03],\n",
       "         [2.72181363e+04],\n",
       "         [3.93169616e+03]]]),\n",
       " array([[0]])]"
      ]
     },
     "execution_count": 6,
     "metadata": {},
     "output_type": "execute_result"
    }
   ],
   "source": [
    "zayev.latest_state"
   ]
  },
  {
   "cell_type": "code",
   "execution_count": 8,
   "metadata": {},
   "outputs": [
    {
     "name": "stdout",
     "output_type": "stream",
     "text": [
      "[1000 2000 3000]\n"
     ]
    }
   ],
   "source": [
    "actp = np.array([1,2,3])*1000\n",
    "print(actp)"
   ]
  },
  {
   "cell_type": "code",
   "execution_count": 13,
   "metadata": {},
   "outputs": [
    {
     "name": "stdout",
     "output_type": "stream",
     "text": [
      "[0.5 0.5 0.5 0.5 0.5]\n",
      "[1.6487212 1.6487212 1.6487212 1.6487212 1.6487212]\n"
     ]
    }
   ],
   "source": [
    "log_std = .5 * np.ones(5, dtype=np.float32)\n",
    "std = np.exp(log_std)\n",
    "\n",
    "print(log_std)\n",
    "print(std)"
   ]
  },
  {
   "cell_type": "code",
   "execution_count": 6,
   "metadata": {},
   "outputs": [
    {
     "name": "stdout",
     "output_type": "stream",
     "text": [
      "1995-01-16 20:00:00+00:00\n"
     ]
    }
   ],
   "source": [
    "# print(zayev.env.the_current_time_step)"
   ]
  }
 ],
 "metadata": {
  "kernelspec": {
   "display_name": "v2env",
   "language": "python",
   "name": "v2env"
  },
  "language_info": {
   "codemirror_mode": {
    "name": "ipython",
    "version": 3
   },
   "file_extension": ".py",
   "mimetype": "text/x-python",
   "name": "python",
   "nbconvert_exporter": "python",
   "pygments_lexer": "ipython3",
   "version": "3.10.13"
  },
  "orig_nbformat": 4
 },
 "nbformat": 4,
 "nbformat_minor": 2
}
