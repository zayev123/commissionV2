{
 "cells": [
  {
   "cell_type": "code",
   "execution_count": 1,
   "metadata": {},
   "outputs": [
    {
     "name": "stderr",
     "output_type": "stream",
     "text": [
      "2023-11-09 14:55:36.966687: I tensorflow/core/platform/cpu_feature_guard.cc:182] This TensorFlow binary is optimized to use available CPU instructions in performance-critical operations.\n",
      "To enable the following instructions: AVX2 FMA, in other operations, rebuild TensorFlow with the appropriate compiler flags.\n"
     ]
    },
    {
     "data": {
      "text/plain": [
       "<Figure size 1800x900 with 0 Axes>"
      ]
     },
     "metadata": {},
     "output_type": "display_data"
    }
   ],
   "source": [
    "import sys\n",
    "import django\n",
    "import os\n",
    "file_dir = \"/Users/mirbilal/Desktop/MobCommission/commissionV2/\"\n",
    "if file_dir not in sys.path:\n",
    "    sys.path.insert(0, file_dir)\n",
    "\n",
    "os.environ[\"DJANGO_SETTINGS_MODULE\"] = \"commissionerv2.settings\"\n",
    "os.environ[\"DJANGO_ALLOW_ASYNC_UNSAFE\"] = \"true\" \n",
    "django.setup()\n",
    "from datetime import datetime\n",
    "from os import environ\n",
    "from services.zayev.service_layer.agent import PPOAgent as ZPPO\n",
    "from matplotlib.dates import relativedelta\n",
    "import numpy as np\n"
   ]
  },
  {
   "cell_type": "code",
   "execution_count": 2,
   "metadata": {},
   "outputs": [
    {
     "name": "stderr",
     "output_type": "stream",
     "text": [
      "/Users/mirbilal/Desktop/MobCommission/commissionV2/v2env/lib/python3.10/site-packages/keras/src/optimizers/legacy/adam.py:118: UserWarning: The `lr` argument is deprecated, use `learning_rate` instead.\n",
      "  super().__init__(name, **kwargs)\n"
     ]
    }
   ],
   "source": [
    "\n",
    "starting_time_step = datetime(year=1995, month=1, day=1, hour=10)\n",
    "\n",
    "db_params = {\n",
    "    'database': environ.get(\"POSTGRES_DB\"),\n",
    "    'user': environ.get(\"POSTGRES_USER\"),\n",
    "    'password': environ.get(\"POSTGRES_PASSWORD\"),\n",
    "    'host': environ.get(\"DB_HOST\"),\n",
    "    'port': environ.get(\"DB_PORT\"),\n",
    "}\n",
    "env_config = {\n",
    "    \"db_params\": db_params, \n",
    "    \"max_episode_steps\": 290, \n",
    "    \"the_current_time_step\": starting_time_step,\n",
    "    \"print_output\": False,\n",
    "    \"is_test\": False,\n",
    "    \"test_steps\": 270,\n",
    "    \"n_step_stocks\": 5,\n",
    "    \"n_step_cmmdties\": 5\n",
    "} \n",
    "\n",
    "\n",
    "\n",
    "zayev = ZPPO(env_config)"
   ]
  },
  {
   "cell_type": "code",
   "execution_count": 3,
   "metadata": {},
   "outputs": [
    {
     "name": "stdout",
     "output_type": "stream",
     "text": [
      "Model: \"model\"\n",
      "__________________________________________________________________________________________________\n",
      " Layer (type)                Output Shape                 Param #   Connected to                  \n",
      "==================================================================================================\n",
      " stock_observation_input (I  [(None, 5, 5)]               0         []                            \n",
      " nputLayer)                                                                                       \n",
      "                                                                                                  \n",
      " commodity_observation_inpu  [(None, 6, 5)]               0         []                            \n",
      " t (InputLayer)                                                                                   \n",
      "                                                                                                  \n",
      " volume_observation_input (  [(None, 5, 5)]               0         []                            \n",
      " InputLayer)                                                                                      \n",
      "                                                                                                  \n",
      " flatten (Flatten)           (None, 25)                   0         ['stock_observation_input[0][0\n",
      "                                                                    ]']                           \n",
      "                                                                                                  \n",
      " flatten_1 (Flatten)         (None, 30)                   0         ['commodity_observation_input[\n",
      "                                                                    0][0]']                       \n",
      "                                                                                                  \n",
      " flatten_2 (Flatten)         (None, 25)                   0         ['volume_observation_input[0][\n",
      "                                                                    0]']                          \n",
      "                                                                                                  \n",
      " ppo_input (Concatenate)     (None, 80)                   0         ['flatten[0][0]',             \n",
      "                                                                     'flatten_1[0][0]',           \n",
      "                                                                     'flatten_2[0][0]']           \n",
      "                                                                                                  \n",
      " flatten_3 (Flatten)         (None, 80)                   0         ['ppo_input[0][0]']           \n",
      "                                                                                                  \n",
      " dense (Dense)               (None, 512)                  41472     ['flatten_3[0][0]']           \n",
      "                                                                                                  \n",
      " dense_1 (Dense)             (None, 256)                  131328    ['dense[0][0]']               \n",
      "                                                                                                  \n",
      " dense_2 (Dense)             (None, 6)                    1542      ['dense_1[0][0]']             \n",
      "                                                                                                  \n",
      " lambda (Lambda)             (None, 6)                    0         ['dense_2[0][0]']             \n",
      "                                                                                                  \n",
      "==================================================================================================\n",
      "Total params: 174342 (681.02 KB)\n",
      "Trainable params: 174342 (681.02 KB)\n",
      "Non-trainable params: 0 (0.00 Byte)\n",
      "__________________________________________________________________________________________________\n",
      "None\n"
     ]
    }
   ],
   "source": [
    "print(zayev.Actor.Actor.summary())"
   ]
  },
  {
   "cell_type": "code",
   "execution_count": 10,
   "metadata": {},
   "outputs": [
    {
     "name": "stderr",
     "output_type": "stream",
     "text": [
      "2023-11-09 13:46:56.112396: W tensorflow/c/c_api.cc:305] Operation '{name:'dense_9/bias/Assign' id:1428 op device:{requested: '', assigned: ''} def:{{{node dense_9/bias/Assign}} = AssignVariableOp[_has_manual_control_dependencies=true, dtype=DT_FLOAT, validate_shape=false](dense_9/bias, dense_9/bias/Initializer/zeros)}}' was changed by setting attribute after it was run by a session. This mutation will have no effect, and will trigger an error in the future. Either don't modify nodes after running them or create a new session.\n"
     ]
    }
   ],
   "source": [
    "zayev.load()\n",
    "# zayev.save()"
   ]
  },
  {
   "cell_type": "code",
   "execution_count": 3,
   "metadata": {},
   "outputs": [
    {
     "name": "stderr",
     "output_type": "stream",
     "text": [
      "/Users/mirbilal/Desktop/MobCommission/commissionV2/v2env/lib/python3.10/site-packages/keras/src/engine/training_v1.py:2359: UserWarning: `Model.state_updates` will be removed in a future version. This property should not be used in TensorFlow 2.0, as `updates` are applied automatically.\n",
      "  updates=self.state_updates,\n",
      "2023-11-09 14:55:46.836958: I tensorflow/compiler/mlir/mlir_graph_optimization_pass.cc:382] MLIR V1 optimization pass is not enabled\n",
      "2023-11-09 14:55:46.860537: W tensorflow/c/c_api.cc:305] Operation '{name:'dense_7/bias/Assign' id:369 op device:{requested: '', assigned: ''} def:{{{node dense_7/bias/Assign}} = AssignVariableOp[_has_manual_control_dependencies=true, dtype=DT_FLOAT, validate_shape=false](dense_7/bias, dense_7/bias/Initializer/zeros)}}' was changed by setting attribute after it was run by a session. This mutation will have no effect, and will trigger an error in the future. Either don't modify nodes after running them or create a new session.\n",
      "/Users/mirbilal/Desktop/MobCommission/commissionV2/v2env/lib/python3.10/site-packages/keras/src/engine/training_v1.py:2359: UserWarning: `Model.state_updates` will be removed in a future version. This property should not be used in TensorFlow 2.0, as `updates` are applied automatically.\n",
      "  updates=self.state_updates,\n",
      "2023-11-09 14:55:50.338336: W tensorflow/c/c_api.cc:305] Operation '{name:'dense_7/BiasAdd' id:374 op device:{requested: '', assigned: ''} def:{{{node dense_7/BiasAdd}} = BiasAdd[T=DT_FLOAT, _has_manual_control_dependencies=true, data_format=\"NHWC\"](dense_7/MatMul, dense_7/BiasAdd/ReadVariableOp)}}' was changed by setting attribute after it was run by a session. This mutation will have no effect, and will trigger an error in the future. Either don't modify nodes after running them or create a new session.\n",
      "2023-11-09 14:55:50.612886: W tensorflow/c/c_api.cc:305] Operation '{name:'loss/mul' id:277 op device:{requested: '', assigned: ''} def:{{{node loss/mul}} = Mul[T=DT_FLOAT, _has_manual_control_dependencies=true](loss/mul/x, loss/lambda_loss/value)}}' was changed by setting attribute after it was run by a session. This mutation will have no effect, and will trigger an error in the future. Either don't modify nodes after running them or create a new session.\n",
      "2023-11-09 14:55:50.648206: W tensorflow/c/c_api.cc:305] Operation '{name:'training/Adam/dense_2/kernel/m/Assign' id:849 op device:{requested: '', assigned: ''} def:{{{node training/Adam/dense_2/kernel/m/Assign}} = AssignVariableOp[_has_manual_control_dependencies=true, dtype=DT_FLOAT, validate_shape=false](training/Adam/dense_2/kernel/m, training/Adam/dense_2/kernel/m/Initializer/zeros)}}' was changed by setting attribute after it was run by a session. This mutation will have no effect, and will trigger an error in the future. Either don't modify nodes after running them or create a new session.\n",
      "2023-11-09 14:55:51.327390: W tensorflow/c/c_api.cc:305] Operation '{name:'loss_1/mul' id:409 op device:{requested: '', assigned: ''} def:{{{node loss_1/mul}} = Mul[T=DT_FLOAT, _has_manual_control_dependencies=true](loss_1/mul/x, loss_1/dense_7_loss/value)}}' was changed by setting attribute after it was run by a session. This mutation will have no effect, and will trigger an error in the future. Either don't modify nodes after running them or create a new session.\n",
      "2023-11-09 14:55:51.363741: W tensorflow/c/c_api.cc:305] Operation '{name:'training_2/Adam/dense_5/kernel/m/Assign' id:1192 op device:{requested: '', assigned: ''} def:{{{node training_2/Adam/dense_5/kernel/m/Assign}} = AssignVariableOp[_has_manual_control_dependencies=true, dtype=DT_FLOAT, validate_shape=false](training_2/Adam/dense_5/kernel/m, training_2/Adam/dense_5/kernel/m/Initializer/zeros)}}' was changed by setting attribute after it was run by a session. This mutation will have no effect, and will trigger an error in the future. Either don't modify nodes after running them or create a new session.\n"
     ]
    },
    {
     "name": "stdout",
     "output_type": "stream",
     "text": [
      "episode: 1/20, score: 0.3072064684796193, average: 0.31 SAVING\n",
      "episode: 2/20, score: -0.6980482189434869, average: -0.20 \n",
      "episode: 3/20, score: -0.5343029579418764, average: -0.31 \n",
      "episode: 4/20, score: -2.9063494780809367, average: -0.96 \n",
      "episode: 5/20, score: -0.566837684774498, average: -0.88 \n",
      "episode: 6/20, score: -0.20488973099766236, average: -0.77 \n",
      "episode: 7/20, score: 0.04559628999553417, average: -0.65 \n",
      "episode: 8/20, score: -2.3718271757061835, average: -0.87 \n",
      "episode: 9/20, score: -0.8016830048547976, average: -0.86 \n",
      "episode: 10/20, score: -1.2709581275398771, average: -0.90 \n",
      "episode: 11/20, score: -0.14947351477264184, average: -0.83 \n",
      "episode: 12/20, score: -0.2656152403076471, average: -0.78 \n",
      "episode: 13/20, score: -1.0765507761021633, average: -0.81 \n",
      "episode: 14/20, score: -0.6873127593456605, average: -0.80 \n",
      "episode: 15/20, score: -0.29839933885599795, average: -0.77 \n"
     ]
    }
   ],
   "source": [
    "np.random.seed(np.random.randint(0,100))\n",
    "zayev.run_batch()\n",
    "# zayev.run_multiprocesses(num_worker=4)"
   ]
  },
  {
   "cell_type": "code",
   "execution_count": 4,
   "metadata": {},
   "outputs": [
    {
     "name": "stdout",
     "output_type": "stream",
     "text": [
      "       id               captured_at  price_snapshot    change        volume  \\\n",
      "915  5551 1995-01-22 16:00:00+00:00       98.702231  4.970577   4007.062237   \n",
      "916  5552 1995-01-22 16:00:00+00:00       25.037440 -0.466621   8792.804488   \n",
      "917  5553 1995-01-22 16:00:00+00:00       38.328534  0.225369  15397.836814   \n",
      "918  5554 1995-01-22 16:00:00+00:00      121.984370 -3.442836  49533.062425   \n",
      "919  5555 1995-01-22 16:00:00+00:00       28.793264  0.522759   9301.270765   \n",
      "\n",
      "         bid_vol   bid_price    offer_vol  offer_price  stock_id  index  \n",
      "915   526.865920   98.889961   523.697493    99.003572        13      3  \n",
      "916   910.216679   25.054586   883.722837    25.096208        15      5  \n",
      "917  1624.442924   38.331448  3437.426342    38.345048        12      2  \n",
      "918   649.724116  122.001654   968.868751   122.051076        11      1  \n",
      "919   198.951127   28.799958   220.297125    28.839932        14      4  \n",
      "1995-01-02 01:00:00+00:00\n",
      "170.0\n"
     ]
    }
   ],
   "source": [
    "a_stck_condition = zayev.env.stcks_buffer_df['captured_at'] == datetime.fromisoformat(\"1995-01-22T16:00:00+00:00\")\n",
    "a_filtered_stck_df = zayev.env.stcks_buffer_df.loc[a_stck_condition]\n",
    "# print(a_stck_condition)\n",
    "print(a_filtered_stck_df)\n",
    "print(zayev.env.stcks_buffer_df[\"captured_at\"][1000])\n",
    "print((zayev.env.the_current_time_step.replace(tzinfo=None) - datetime(year=1995, month=1, day=1, hour=10)).total_seconds()/(3600*2.5))"
   ]
  },
  {
   "cell_type": "code",
   "execution_count": 11,
   "metadata": {},
   "outputs": [
    {
     "name": "stderr",
     "output_type": "stream",
     "text": [
      "/Users/mirbilal/Desktop/MobCommission/commissionV2/v2env/lib/python3.10/site-packages/keras/src/engine/training_v1.py:2359: UserWarning: `Model.state_updates` will be removed in a future version. This property should not be used in TensorFlow 2.0, as `updates` are applied automatically.\n",
      "  updates=self.state_updates,\n",
      "2023-11-09 13:47:00.368279: W tensorflow/c/c_api.cc:305] Operation '{name:'lambda_2/SelectV2_2' id:2004 op device:{requested: '', assigned: ''} def:{{{node lambda_2/SelectV2_2}} = SelectV2[T=DT_FLOAT, _has_manual_control_dependencies=true](lambda_2/Greater_1, lambda_2/mul_2, lambda_2/SelectV2_1)}}' was changed by setting attribute after it was run by a session. This mutation will have no effect, and will trigger an error in the future. Either don't modify nodes after running them or create a new session.\n"
     ]
    }
   ],
   "source": [
    "# print(zayev.Actor.Actor)\n",
    "# [-1.         -0.99999756  0.9822062  -1.         -0.99031776]\n",
    "# zayev.load()\n",
    "zayev.test()"
   ]
  },
  {
   "cell_type": "code",
   "execution_count": 12,
   "metadata": {},
   "outputs": [
    {
     "name": "stdout",
     "output_type": "stream",
     "text": [
      "[ 0.08696084  0.30024046 -0.8871061   0.29513964  0.31765902 -0.11289383]\n",
      "0.0\n"
     ]
    }
   ],
   "source": [
    "# print(zayev.previous_state)\n",
    "print(zayev.previous_actn)\n",
    "# print((zayev.env.the_current_time_step.replace(tzinfo=None) - datetime(year=1995, month=1, day=1, hour=10)).total_seconds()/3600)\n",
    "# print(zayev.latest_state)\n",
    "asum = 0\n",
    "for act in zayev.previous_actn:\n",
    "    asum = asum + act\n",
    "print(asum)\n",
    "# [ 0.7059819  -0.42333204 -0.3999321   0.29401806 -0.01280397 -0.16393185]"
   ]
  },
  {
   "cell_type": "code",
   "execution_count": 13,
   "metadata": {},
   "outputs": [
    {
     "name": "stdout",
     "output_type": "stream",
     "text": [
      "444880.6558859359\n",
      "1995-01-25 09:00:00+00:00\n"
     ]
    }
   ],
   "source": [
    "ztt = zayev.latest_state\n",
    "zt_env = zayev.env\n",
    "\n",
    "total_potfolio = zayev.env.wallet_state\n",
    "for ind in range(5):\n",
    "    data_index = ind+1\n",
    "    total_potfolio = total_potfolio + zt_env.stock_data[data_index][\"price_snapshot\"]*zt_env.shares_data[data_index]\n",
    "print(total_potfolio)\n",
    "print(zayev.env.the_current_time_step - relativedelta(hours=100))"
   ]
  },
  {
   "cell_type": "code",
   "execution_count": 8,
   "metadata": {},
   "outputs": [
    {
     "name": "stdout",
     "output_type": "stream",
     "text": [
      "1995-01-02 11:00:00\n"
     ]
    }
   ],
   "source": [
    "tm = starting_time_step + relativedelta(hours=25)\n",
    "print(tm)"
   ]
  },
  {
   "cell_type": "code",
   "execution_count": 6,
   "metadata": {},
   "outputs": [
    {
     "data": {
      "text/plain": [
       "[array([[[  86.98892013, 1780.88718796,  806.78320262,   86.99418474,\n",
       "           815.32319724,   87.01223627,   86.22798652,  231.66143027],\n",
       "         [  24.55947431, 5311.76025676, 2294.7676268 ,   24.5622656 ,\n",
       "          2544.55969405,   24.56600397,   24.61056939,  795.63826776],\n",
       "         [ 139.2253307 , 1086.44600003,  505.13989644,  139.25715658,\n",
       "           561.13738873,  139.33339698,  144.20254547,  126.31578947],\n",
       "         [  38.81905216,  614.39851888,  328.47856092,   38.82553138,\n",
       "           308.16662239,   38.84516044,   38.48886214,  533.33333333],\n",
       "         [  21.18280565, 1786.27803173,  976.56194102,   21.18713267,\n",
       "           841.46566394,   21.19766482,   21.08023049,  937.5       ]]]),\n",
       " array([[[1.71481016e+02],\n",
       "         [3.49922248e+00],\n",
       "         [4.32156117e+02],\n",
       "         [7.54711667e+03],\n",
       "         [2.72181363e+04],\n",
       "         [3.93169616e+03]]]),\n",
       " array([[0]])]"
      ]
     },
     "execution_count": 6,
     "metadata": {},
     "output_type": "execute_result"
    }
   ],
   "source": [
    "zayev.latest_state"
   ]
  },
  {
   "cell_type": "code",
   "execution_count": 8,
   "metadata": {},
   "outputs": [
    {
     "name": "stdout",
     "output_type": "stream",
     "text": [
      "[1000 2000 3000]\n"
     ]
    }
   ],
   "source": [
    "actp = np.array([1,2,3])*1000\n",
    "print(actp)"
   ]
  },
  {
   "cell_type": "code",
   "execution_count": 13,
   "metadata": {},
   "outputs": [
    {
     "name": "stdout",
     "output_type": "stream",
     "text": [
      "[0.5 0.5 0.5 0.5 0.5]\n",
      "[1.6487212 1.6487212 1.6487212 1.6487212 1.6487212]\n"
     ]
    }
   ],
   "source": [
    "log_std = .5 * np.ones(5, dtype=np.float32)\n",
    "std = np.exp(log_std)\n",
    "\n",
    "print(log_std)\n",
    "print(std)"
   ]
  },
  {
   "cell_type": "code",
   "execution_count": 6,
   "metadata": {},
   "outputs": [
    {
     "name": "stdout",
     "output_type": "stream",
     "text": [
      "1995-01-16 20:00:00+00:00\n"
     ]
    }
   ],
   "source": [
    "# print(zayev.env.the_current_time_step)"
   ]
  },
  {
   "cell_type": "code",
   "execution_count": null,
   "metadata": {},
   "outputs": [],
   "source": []
  }
 ],
 "metadata": {
  "kernelspec": {
   "display_name": "v2env",
   "language": "python",
   "name": "v2env"
  },
  "language_info": {
   "codemirror_mode": {
    "name": "ipython",
    "version": 3
   },
   "file_extension": ".py",
   "mimetype": "text/x-python",
   "name": "python",
   "nbconvert_exporter": "python",
   "pygments_lexer": "ipython3",
   "version": "3.10.13"
  },
  "orig_nbformat": 4
 },
 "nbformat": 4,
 "nbformat_minor": 2
}
