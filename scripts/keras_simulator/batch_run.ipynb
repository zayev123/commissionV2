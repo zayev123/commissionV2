{
 "cells": [
  {
   "cell_type": "code",
   "execution_count": 8,
   "metadata": {},
   "outputs": [],
   "source": [
    "import sys\n",
    "import django\n",
    "import os\n",
    "file_dir = \"/Users/mirbilal/Desktop/MobCommission/commissionV2/\"\n",
    "if file_dir not in sys.path:\n",
    "    sys.path.insert(0, file_dir)\n",
    "\n",
    "os.environ[\"DJANGO_SETTINGS_MODULE\"] = \"commissionerv2.settings\"\n",
    "os.environ[\"DJANGO_ALLOW_ASYNC_UNSAFE\"] = \"true\" \n",
    "django.setup()\n",
    "from datetime import datetime\n",
    "from os import environ\n",
    "from services.zayev.service_layer.agent import PPOAgent as ZPPO\n",
    "from matplotlib.dates import relativedelta\n"
   ]
  },
  {
   "cell_type": "code",
   "execution_count": 9,
   "metadata": {},
   "outputs": [
    {
     "name": "stderr",
     "output_type": "stream",
     "text": [
      "/Users/mirbilal/Desktop/MobCommission/commissionV2/v2env/lib/python3.10/site-packages/keras/src/optimizers/legacy/adam.py:118: UserWarning: The `lr` argument is deprecated, use `learning_rate` instead.\n",
      "  super().__init__(name, **kwargs)\n"
     ]
    }
   ],
   "source": [
    "\n",
    "starting_time_step = datetime(year=1995, month=1, day=1, hour=10)\n",
    "\n",
    "\n",
    "\n",
    "zayev = ZPPO(starting_time_step)"
   ]
  },
  {
   "cell_type": "code",
   "execution_count": null,
   "metadata": {},
   "outputs": [],
   "source": [
    "print(zayev.Actor.Actor.summary())"
   ]
  },
  {
   "cell_type": "code",
   "execution_count": 10,
   "metadata": {},
   "outputs": [
    {
     "name": "stderr",
     "output_type": "stream",
     "text": [
      "2023-10-11 21:16:13.675281: W tensorflow/c/c_api.cc:305] Operation '{name:'dense_9/kernel/Assign' id:1109 op device:{requested: '', assigned: ''} def:{{{node dense_9/kernel/Assign}} = AssignVariableOp[_has_manual_control_dependencies=true, dtype=DT_FLOAT, validate_shape=false](dense_9/kernel, dense_9/kernel/Initializer/random_normal)}}' was changed by setting attribute after it was run by a session. This mutation will have no effect, and will trigger an error in the future. Either don't modify nodes after running them or create a new session.\n"
     ]
    }
   ],
   "source": [
    "zayev.save()"
   ]
  },
  {
   "cell_type": "code",
   "execution_count": 21,
   "metadata": {},
   "outputs": [
    {
     "name": "stdout",
     "output_type": "stream",
     "text": [
      "[ 0.999999    0.99999243 -0.9996938  -0.99984765 -0.99743074]\n",
      "[ 0.9999989   0.99999195 -0.99971724 -0.99982834 -0.99739903]\n",
      "[ 0.9999988   0.999991   -0.9997077  -0.99980015 -0.997492  ]\n",
      "[ 0.9999988   0.99999034 -0.9997242  -0.9997703  -0.99748963]\n",
      "[ 0.99999905  0.9999907  -0.99974096 -0.99976504 -0.9978153 ]\n"
     ]
    }
   ],
   "source": [
    "# print(zayev.Actor.Actor)\n",
    "# [ 0.9999985   0.99998677 -0.99966973 -0.99976164 -0.9979452 ]\n",
    "# [ 0.99999905  0.9999907  -0.99974096 -0.99976504 -0.9978153 ]\n",
    "# zayev.load()\n",
    "zayev.test()"
   ]
  },
  {
   "cell_type": "code",
   "execution_count": 12,
   "metadata": {},
   "outputs": [
    {
     "name": "stderr",
     "output_type": "stream",
     "text": [
      "/Users/mirbilal/Desktop/MobCommission/commissionV2/v2env/lib/python3.10/site-packages/keras/src/engine/training_v1.py:2359: UserWarning: `Model.state_updates` will be removed in a future version. This property should not be used in TensorFlow 2.0, as `updates` are applied automatically.\n",
      "  updates=self.state_updates,\n",
      "2023-10-11 21:17:51.638978: W tensorflow/c/c_api.cc:305] Operation '{name:'dense_15/BiasAdd' id:1322 op device:{requested: '', assigned: ''} def:{{{node dense_15/BiasAdd}} = BiasAdd[T=DT_FLOAT, _has_manual_control_dependencies=true, data_format=\"NHWC\"](dense_15/MatMul, dense_15/BiasAdd/ReadVariableOp)}}' was changed by setting attribute after it was run by a session. This mutation will have no effect, and will trigger an error in the future. Either don't modify nodes after running them or create a new session.\n",
      "2023-10-11 21:17:51.870448: W tensorflow/c/c_api.cc:305] Operation '{name:'loss_2/mul' id:1225 op device:{requested: '', assigned: ''} def:{{{node loss_2/mul}} = Mul[T=DT_FLOAT, _has_manual_control_dependencies=true](loss_2/mul/x, loss_2/dense_11_loss/value)}}' was changed by setting attribute after it was run by a session. This mutation will have no effect, and will trigger an error in the future. Either don't modify nodes after running them or create a new session.\n",
      "2023-10-11 21:17:51.923920: W tensorflow/c/c_api.cc:305] Operation '{name:'training_4/Adam/decay/Assign' id:1611 op device:{requested: '', assigned: ''} def:{{{node training_4/Adam/decay/Assign}} = AssignVariableOp[_has_manual_control_dependencies=true, dtype=DT_FLOAT, validate_shape=false](training_4/Adam/decay, training_4/Adam/decay/Initializer/initial_value)}}' was changed by setting attribute after it was run by a session. This mutation will have no effect, and will trigger an error in the future. Either don't modify nodes after running them or create a new session.\n",
      "2023-10-11 21:17:52.238319: W tensorflow/c/c_api.cc:305] Operation '{name:'loss_3/mul' id:1357 op device:{requested: '', assigned: ''} def:{{{node loss_3/mul}} = Mul[T=DT_FLOAT, _has_manual_control_dependencies=true](loss_3/mul/x, loss_3/dense_15_loss/value)}}' was changed by setting attribute after it was run by a session. This mutation will have no effect, and will trigger an error in the future. Either don't modify nodes after running them or create a new session.\n",
      "2023-10-11 21:17:52.292743: W tensorflow/c/c_api.cc:305] Operation '{name:'training_6/Adam/dense_15/bias/v/Assign' id:2063 op device:{requested: '', assigned: ''} def:{{{node training_6/Adam/dense_15/bias/v/Assign}} = AssignVariableOp[_has_manual_control_dependencies=true, dtype=DT_FLOAT, validate_shape=false](training_6/Adam/dense_15/bias/v, training_6/Adam/dense_15/bias/v/Initializer/zeros)}}' was changed by setting attribute after it was run by a session. This mutation will have no effect, and will trigger an error in the future. Either don't modify nodes after running them or create a new session.\n"
     ]
    },
    {
     "name": "stdout",
     "output_type": "stream",
     "text": [
      "episode: 1/50, score: 81715.74864820637, average: 81715.75 SAVING\n",
      "episode: 2/50, score: 71586.83994180152, average: 76651.29 \n",
      "episode: 3/50, score: 93750.84163224103, average: 82351.14 SAVING\n",
      "episode: 4/50, score: 63531.62030210094, average: 77646.26 \n",
      "episode: 5/50, score: 80437.41729576839, average: 78204.49 \n",
      "episode: 6/50, score: 81211.34035292853, average: 78705.63 \n",
      "episode: 7/50, score: 96368.41221598408, average: 81228.89 \n",
      "episode: 8/50, score: 64756.5118220071, average: 79169.84 \n",
      "episode: 9/50, score: 68660.94813139884, average: 78002.19 \n",
      "episode: 10/50, score: 81009.09860426707, average: 78302.88 \n",
      "episode: 11/50, score: 78454.83303429445, average: 78316.69 \n",
      "episode: 12/50, score: 65911.93909458267, average: 77282.96 \n",
      "episode: 13/50, score: 81187.95790046891, average: 77583.35 \n",
      "episode: 14/50, score: 72593.29640181309, average: 77226.91 \n",
      "episode: 15/50, score: 81458.25964342705, average: 77509.00 \n",
      "episode: 16/50, score: 68365.29182353901, average: 76937.52 \n",
      "episode: 17/50, score: 64934.439567516994, average: 76231.46 \n",
      "episode: 18/50, score: 69830.86629196137, average: 75875.87 \n",
      "episode: 19/50, score: 78842.87641820984, average: 76032.03 \n",
      "episode: 20/50, score: 78828.21353305921, average: 76171.84 \n",
      "episode: 21/50, score: 65681.34131388552, average: 75672.29 \n",
      "episode: 22/50, score: 83902.23455957454, average: 76046.38 \n",
      "episode: 23/50, score: 84563.94917425161, average: 76416.71 \n",
      "episode: 24/50, score: 93545.73227697102, average: 77130.42 \n",
      "episode: 25/50, score: 70178.2374820806, average: 76852.33 \n",
      "episode: 26/50, score: 83731.44229236218, average: 77116.91 \n",
      "episode: 27/50, score: 63270.41424484471, average: 76604.08 \n",
      "episode: 28/50, score: 86240.67534580086, average: 76948.24 \n",
      "episode: 29/50, score: 87874.85919388314, average: 77325.02 \n",
      "episode: 30/50, score: 85958.36516738686, average: 77612.80 \n",
      "episode: 31/50, score: 73733.27332434403, average: 77487.65 \n",
      "episode: 32/50, score: 81188.91349535181, average: 77603.32 \n",
      "episode: 33/50, score: 90194.19440283875, average: 77984.86 \n",
      "episode: 34/50, score: 83206.52754286888, average: 78138.44 \n",
      "episode: 35/50, score: 89150.76095797654, average: 78453.08 \n",
      "episode: 36/50, score: 73730.3774283084, average: 78321.89 \n",
      "episode: 37/50, score: 68449.98708964315, average: 78055.08 \n",
      "episode: 38/50, score: 70078.46437428697, average: 77845.17 \n",
      "episode: 39/50, score: 62792.7893553763, average: 77459.21 \n",
      "episode: 40/50, score: 58944.93316544482, average: 76996.36 \n",
      "episode: 41/50, score: 78809.49334000346, average: 77040.58 \n",
      "episode: 42/50, score: 96192.42742806609, average: 77496.57 \n",
      "episode: 43/50, score: 75858.97361658911, average: 77458.49 \n",
      "episode: 44/50, score: 94146.21106525384, average: 77837.76 \n",
      "episode: 45/50, score: 88580.01233079919, average: 78076.47 \n",
      "episode: 46/50, score: 70671.73878109475, average: 77915.50 \n",
      "episode: 47/50, score: 77016.66044936866, average: 77896.38 \n",
      "episode: 48/50, score: 81906.71991470846, average: 77979.93 \n",
      "episode: 49/50, score: 71067.87997019387, average: 77838.86 \n",
      "episode: 50/50, score: 91119.8435552853, average: 78104.48 \n"
     ]
    }
   ],
   "source": [
    "zayev.run_batch()"
   ]
  },
  {
   "cell_type": "code",
   "execution_count": 4,
   "metadata": {},
   "outputs": [
    {
     "name": "stdout",
     "output_type": "stream",
     "text": [
      "[array([[[5.05534840e+06, 7.72420901e+02, 3.34219041e+02, 5.05534841e+06,\n",
      "         3.56796789e+02, 5.05534842e+06, 5.02728025e+06, 5.00400000e+00],\n",
      "        [5.00447401e+06, 1.06653944e+03, 5.21777845e+02, 5.00447401e+06,\n",
      "         5.75293001e+02, 5.00447401e+06, 5.00416773e+06, 1.00000000e+00],\n",
      "        [5.01372633e+06, 1.39023268e+03, 6.46212668e+02, 5.01372633e+06,\n",
      "         6.15156831e+02, 5.01372634e+06, 5.00783010e+06, 5.00399999e+00],\n",
      "        [5.00176081e+06, 4.11551341e+02, 2.13850827e+02, 5.00176081e+06,\n",
      "         2.11008135e+02, 5.00176081e+06, 5.00130530e+06, 1.00000000e+00],\n",
      "        [5.02931838e+06, 4.10789316e+03, 2.01551601e+03, 5.02931838e+06,\n",
      "         1.72927747e+03, 5.02931838e+06, 5.02544064e+06, 1.00000000e+00]]]), array([[[0.],\n",
      "        [0.],\n",
      "        [0.],\n",
      "        [0.],\n",
      "        [0.],\n",
      "        [0.]]]), array([[24894998]])]\n"
     ]
    }
   ],
   "source": [
    "print(zayev.latest_state)"
   ]
  },
  {
   "cell_type": "code",
   "execution_count": 6,
   "metadata": {},
   "outputs": [
    {
     "name": "stdout",
     "output_type": "stream",
     "text": [
      "[[5.05534840e+06 7.72420901e+02 3.34219041e+02 5.05534841e+06\n",
      "  3.56796789e+02 5.05534842e+06 5.02728025e+06 5.00400000e+00]\n",
      " [5.00447401e+06 1.06653944e+03 5.21777845e+02 5.00447401e+06\n",
      "  5.75293001e+02 5.00447401e+06 5.00416773e+06 1.00000000e+00]\n",
      " [5.01372633e+06 1.39023268e+03 6.46212668e+02 5.01372633e+06\n",
      "  6.15156831e+02 5.01372634e+06 5.00783010e+06 5.00399999e+00]\n",
      " [5.00176081e+06 4.11551341e+02 2.13850827e+02 5.00176081e+06\n",
      "  2.11008135e+02 5.00176081e+06 5.00130530e+06 1.00000000e+00]\n",
      " [5.02931838e+06 4.10789316e+03 2.01551601e+03 5.02931838e+06\n",
      "  1.72927747e+03 5.02931838e+06 5.02544064e+06 1.00000000e+00]]\n",
      "65421203.111634105\n"
     ]
    }
   ],
   "source": [
    "ztt = zayev.latest_state\n",
    "stt_stt = zayev.latest_state[0][0]\n",
    "print(stt_stt)\n",
    "\n",
    "total_potfolio = 0\n",
    "for st_dta in stt_stt:\n",
    "    total_potfolio = total_potfolio + st_dta[0]*st_dta[7]\n",
    "print(total_potfolio)"
   ]
  },
  {
   "cell_type": "code",
   "execution_count": 8,
   "metadata": {},
   "outputs": [
    {
     "name": "stdout",
     "output_type": "stream",
     "text": [
      "1995-01-02 11:00:00\n"
     ]
    }
   ],
   "source": [
    "tm = starting_time_step + relativedelta(hours=25)\n",
    "print(tm)"
   ]
  }
 ],
 "metadata": {
  "kernelspec": {
   "display_name": "v2env",
   "language": "python",
   "name": "v2env"
  },
  "language_info": {
   "codemirror_mode": {
    "name": "ipython",
    "version": 3
   },
   "file_extension": ".py",
   "mimetype": "text/x-python",
   "name": "python",
   "nbconvert_exporter": "python",
   "pygments_lexer": "ipython3",
   "version": "3.10.13"
  },
  "orig_nbformat": 4
 },
 "nbformat": 4,
 "nbformat_minor": 2
}
