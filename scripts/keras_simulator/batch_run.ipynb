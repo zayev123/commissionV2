{
 "cells": [
  {
   "cell_type": "code",
   "execution_count": 1,
   "metadata": {},
   "outputs": [
    {
     "name": "stderr",
     "output_type": "stream",
     "text": [
      "2023-11-08 15:41:32.776588: I tensorflow/core/platform/cpu_feature_guard.cc:182] This TensorFlow binary is optimized to use available CPU instructions in performance-critical operations.\n",
      "To enable the following instructions: AVX2 FMA, in other operations, rebuild TensorFlow with the appropriate compiler flags.\n"
     ]
    },
    {
     "data": {
      "text/plain": [
       "<Figure size 1800x900 with 0 Axes>"
      ]
     },
     "metadata": {},
     "output_type": "display_data"
    }
   ],
   "source": [
    "import sys\n",
    "import django\n",
    "import os\n",
    "file_dir = \"/Users/mirbilal/Desktop/MobCommission/commissionV2/\"\n",
    "if file_dir not in sys.path:\n",
    "    sys.path.insert(0, file_dir)\n",
    "\n",
    "os.environ[\"DJANGO_SETTINGS_MODULE\"] = \"commissionerv2.settings\"\n",
    "os.environ[\"DJANGO_ALLOW_ASYNC_UNSAFE\"] = \"true\" \n",
    "django.setup()\n",
    "from datetime import datetime\n",
    "from os import environ\n",
    "from services.zayev.service_layer.agent import PPOAgent as ZPPO\n",
    "from matplotlib.dates import relativedelta\n",
    "import numpy as np\n"
   ]
  },
  {
   "cell_type": "code",
   "execution_count": 16,
   "metadata": {},
   "outputs": [
    {
     "name": "stderr",
     "output_type": "stream",
     "text": [
      "/Users/mirbilal/Desktop/MobCommission/commissionV2/v2env/lib/python3.10/site-packages/keras/src/optimizers/legacy/adam.py:118: UserWarning: The `lr` argument is deprecated, use `learning_rate` instead.\n",
      "  super().__init__(name, **kwargs)\n"
     ]
    }
   ],
   "source": [
    "\n",
    "starting_time_step = datetime(year=1995, month=1, day=1, hour=10)\n",
    "\n",
    "db_params = {\n",
    "    'database': environ.get(\"POSTGRES_DB\"),\n",
    "    'user': environ.get(\"POSTGRES_USER\"),\n",
    "    'password': environ.get(\"POSTGRES_PASSWORD\"),\n",
    "    'host': environ.get(\"DB_HOST\"),\n",
    "    'port': environ.get(\"DB_PORT\"),\n",
    "}\n",
    "env_config = {\n",
    "    \"db_params\": db_params, \n",
    "    \"max_episode_steps\": 15, \n",
    "    \"the_current_time_step\": starting_time_step,\n",
    "    \"print_output\": False,\n",
    "    \"is_test\": True,\n",
    "    \"test_steps\": 15,\n",
    "    \"n_step_stocks\": 5,\n",
    "    \"n_step_cmmdties\": 5\n",
    "} \n",
    "\n",
    "\n",
    "\n",
    "zayev = ZPPO(env_config)"
   ]
  },
  {
   "cell_type": "code",
   "execution_count": 3,
   "metadata": {},
   "outputs": [
    {
     "name": "stdout",
     "output_type": "stream",
     "text": [
      "Model: \"model\"\n",
      "__________________________________________________________________________________________________\n",
      " Layer (type)                Output Shape                 Param #   Connected to                  \n",
      "==================================================================================================\n",
      " stock_observation_input (I  [(None, 5, 5)]               0         []                            \n",
      " nputLayer)                                                                                       \n",
      "                                                                                                  \n",
      " commodity_observation_inpu  [(None, 6, 5)]               0         []                            \n",
      " t (InputLayer)                                                                                   \n",
      "                                                                                                  \n",
      " volume_observation_input (  [(None, 5, 5)]               0         []                            \n",
      " InputLayer)                                                                                      \n",
      "                                                                                                  \n",
      " flatten (Flatten)           (None, 25)                   0         ['stock_observation_input[0][0\n",
      "                                                                    ]']                           \n",
      "                                                                                                  \n",
      " flatten_1 (Flatten)         (None, 30)                   0         ['commodity_observation_input[\n",
      "                                                                    0][0]']                       \n",
      "                                                                                                  \n",
      " flatten_2 (Flatten)         (None, 25)                   0         ['volume_observation_input[0][\n",
      "                                                                    0]']                          \n",
      "                                                                                                  \n",
      " ppo_input (Concatenate)     (None, 80)                   0         ['flatten[0][0]',             \n",
      "                                                                     'flatten_1[0][0]',           \n",
      "                                                                     'flatten_2[0][0]']           \n",
      "                                                                                                  \n",
      " flatten_3 (Flatten)         (None, 80)                   0         ['ppo_input[0][0]']           \n",
      "                                                                                                  \n",
      " dense (Dense)               (None, 512)                  41472     ['flatten_3[0][0]']           \n",
      "                                                                                                  \n",
      " dense_1 (Dense)             (None, 256)                  131328    ['dense[0][0]']               \n",
      "                                                                                                  \n",
      " dense_2 (Dense)             (None, 6)                    1542      ['dense_1[0][0]']             \n",
      "                                                                                                  \n",
      " lambda (Lambda)             (None, 6)                    0         ['dense_2[0][0]']             \n",
      "                                                                                                  \n",
      "==================================================================================================\n",
      "Total params: 174342 (681.02 KB)\n",
      "Trainable params: 174342 (681.02 KB)\n",
      "Non-trainable params: 0 (0.00 Byte)\n",
      "__________________________________________________________________________________________________\n",
      "None\n"
     ]
    }
   ],
   "source": [
    "print(zayev.Actor.Actor.summary())"
   ]
  },
  {
   "cell_type": "code",
   "execution_count": 17,
   "metadata": {},
   "outputs": [
    {
     "name": "stderr",
     "output_type": "stream",
     "text": [
      "2023-11-08 15:53:22.886590: W tensorflow/c/c_api.cc:305] Operation '{name:'dense_22/bias/Assign' id:2093 op device:{requested: '', assigned: ''} def:{{{node dense_22/bias/Assign}} = AssignVariableOp[_has_manual_control_dependencies=true, dtype=DT_FLOAT, validate_shape=false](dense_22/bias, dense_22/bias/Initializer/zeros)}}' was changed by setting attribute after it was run by a session. This mutation will have no effect, and will trigger an error in the future. Either don't modify nodes after running them or create a new session.\n"
     ]
    }
   ],
   "source": [
    "zayev.load()"
   ]
  },
  {
   "cell_type": "code",
   "execution_count": 3,
   "metadata": {},
   "outputs": [
    {
     "name": "stderr",
     "output_type": "stream",
     "text": [
      "/Users/mirbilal/Desktop/MobCommission/commissionV2/v2env/lib/python3.10/site-packages/keras/src/engine/training_v1.py:2359: UserWarning: `Model.state_updates` will be removed in a future version. This property should not be used in TensorFlow 2.0, as `updates` are applied automatically.\n",
      "  updates=self.state_updates,\n",
      "2023-11-08 15:41:44.117502: I tensorflow/compiler/mlir/mlir_graph_optimization_pass.cc:382] MLIR V1 optimization pass is not enabled\n",
      "2023-11-08 15:41:44.137048: W tensorflow/c/c_api.cc:305] Operation '{name:'dense_5/kernel/Assign' id:286 op device:{requested: '', assigned: ''} def:{{{node dense_5/kernel/Assign}} = AssignVariableOp[_has_manual_control_dependencies=true, dtype=DT_FLOAT, validate_shape=false](dense_5/kernel, dense_5/kernel/Initializer/stateless_random_uniform)}}' was changed by setting attribute after it was run by a session. This mutation will have no effect, and will trigger an error in the future. Either don't modify nodes after running them or create a new session.\n",
      "/Users/mirbilal/Desktop/MobCommission/commissionV2/v2env/lib/python3.10/site-packages/keras/src/engine/training_v1.py:2359: UserWarning: `Model.state_updates` will be removed in a future version. This property should not be used in TensorFlow 2.0, as `updates` are applied automatically.\n",
      "  updates=self.state_updates,\n",
      "2023-11-08 15:41:46.442032: W tensorflow/c/c_api.cc:305] Operation '{name:'dense_5/BiasAdd' id:296 op device:{requested: '', assigned: ''} def:{{{node dense_5/BiasAdd}} = BiasAdd[T=DT_FLOAT, _has_manual_control_dependencies=true, data_format=\"NHWC\"](dense_5/MatMul, dense_5/BiasAdd/ReadVariableOp)}}' was changed by setting attribute after it was run by a session. This mutation will have no effect, and will trigger an error in the future. Either don't modify nodes after running them or create a new session.\n",
      "2023-11-08 15:41:46.661899: W tensorflow/c/c_api.cc:305] Operation '{name:'loss/mul' id:219 op device:{requested: '', assigned: ''} def:{{{node loss/mul}} = Mul[T=DT_FLOAT, _has_manual_control_dependencies=true](loss/mul/x, loss/lambda_loss/value)}}' was changed by setting attribute after it was run by a session. This mutation will have no effect, and will trigger an error in the future. Either don't modify nodes after running them or create a new session.\n",
      "2023-11-08 15:41:46.692517: W tensorflow/c/c_api.cc:305] Operation '{name:'training/Adam/dense_1/bias/m/Assign' id:696 op device:{requested: '', assigned: ''} def:{{{node training/Adam/dense_1/bias/m/Assign}} = AssignVariableOp[_has_manual_control_dependencies=true, dtype=DT_FLOAT, validate_shape=false](training/Adam/dense_1/bias/m, training/Adam/dense_1/bias/m/Initializer/zeros)}}' was changed by setting attribute after it was run by a session. This mutation will have no effect, and will trigger an error in the future. Either don't modify nodes after running them or create a new session.\n",
      "2023-11-08 15:41:47.118763: W tensorflow/c/c_api.cc:305] Operation '{name:'loss_1/mul' id:331 op device:{requested: '', assigned: ''} def:{{{node loss_1/mul}} = Mul[T=DT_FLOAT, _has_manual_control_dependencies=true](loss_1/mul/x, loss_1/dense_5_loss/value)}}' was changed by setting attribute after it was run by a session. This mutation will have no effect, and will trigger an error in the future. Either don't modify nodes after running them or create a new session.\n",
      "2023-11-08 15:41:47.149538: W tensorflow/c/c_api.cc:305] Operation '{name:'training_2/Adam/dense_5/kernel/v/Assign' id:1058 op device:{requested: '', assigned: ''} def:{{{node training_2/Adam/dense_5/kernel/v/Assign}} = AssignVariableOp[_has_manual_control_dependencies=true, dtype=DT_FLOAT, validate_shape=false](training_2/Adam/dense_5/kernel/v, training_2/Adam/dense_5/kernel/v/Initializer/zeros)}}' was changed by setting attribute after it was run by a session. This mutation will have no effect, and will trigger an error in the future. Either don't modify nodes after running them or create a new session.\n"
     ]
    },
    {
     "name": "stdout",
     "output_type": "stream",
     "text": [
      "episode: 1/20, score: 721176.7918225979, average: 721176.79 SAVING\n",
      "episode: 2/20, score: -393105.4680843521, average: 164035.66 \n",
      "episode: 3/20, score: 11018964.473237999, average: 3782345.27 SAVING\n",
      "episode: 4/20, score: 7145298.020334386, average: 4623083.45 SAVING\n",
      "episode: 5/20, score: -1427675.9428093615, average: 3412931.57 \n",
      "episode: 6/20, score: 5364037.837053823, average: 3738115.95 \n",
      "episode: 7/20, score: 10297253.225440178, average: 4675135.56 SAVING\n",
      "episode: 8/20, score: 7909872.163712298, average: 5079477.64 SAVING\n",
      "episode: 9/20, score: 4070090.8794852216, average: 4967323.55 \n",
      "episode: 10/20, score: 11572562.114538472, average: 5627847.41 SAVING\n",
      "episode: 11/20, score: 4205083.631797855, average: 5498505.25 \n",
      "episode: 12/20, score: 4483297.549389762, average: 5413904.61 \n",
      "episode: 13/20, score: 7738586.986094435, average: 5592726.33 \n",
      "episode: 14/20, score: 13016139.336792115, average: 6122970.11 SAVING\n",
      "episode: 15/20, score: 2806905.1004117075, average: 5901899.11 \n",
      "episode: 16/20, score: 12525497.634682696, average: 6315874.02 SAVING\n",
      "episode: 17/20, score: 10716320.700840035, average: 6574723.83 SAVING\n",
      "episode: 18/20, score: 5510157.973605846, average: 6515581.28 \n",
      "episode: 19/20, score: 3704442.2411151705, average: 6367626.59 \n",
      "episode: 20/20, score: 8294778.140019222, average: 6463984.17 \n"
     ]
    }
   ],
   "source": [
    "np.random.seed(np.random.randint(0,100))\n",
    "zayev.run_batch()\n",
    "# zayev.run_multiprocesses(num_worker=4)"
   ]
  },
  {
   "cell_type": "code",
   "execution_count": 18,
   "metadata": {},
   "outputs": [
    {
     "name": "stderr",
     "output_type": "stream",
     "text": [
      "/Users/mirbilal/Desktop/MobCommission/commissionV2/v2env/lib/python3.10/site-packages/keras/src/engine/training_v1.py:2359: UserWarning: `Model.state_updates` will be removed in a future version. This property should not be used in TensorFlow 2.0, as `updates` are applied automatically.\n",
      "  updates=self.state_updates,\n",
      "2023-11-08 15:53:28.340093: W tensorflow/c/c_api.cc:305] Operation '{name:'lambda_3/SelectV2_1' id:1984 op device:{requested: '', assigned: ''} def:{{{node lambda_3/SelectV2_1}} = SelectV2[T=DT_FLOAT, _has_manual_control_dependencies=true](lambda_3/Greater, lambda_3/mul_1, lambda_3/SelectV2)}}' was changed by setting attribute after it was run by a session. This mutation will have no effect, and will trigger an error in the future. Either don't modify nodes after running them or create a new session.\n"
     ]
    }
   ],
   "source": [
    "# print(zayev.Actor.Actor)\n",
    "# [-1.         -0.99999756  0.9822062  -1.         -0.99031776]\n",
    "# zayev.load()\n",
    "zayev.test()"
   ]
  },
  {
   "cell_type": "code",
   "execution_count": 19,
   "metadata": {},
   "outputs": [
    {
     "name": "stdout",
     "output_type": "stream",
     "text": [
      "[array([[[117.99938716, 115.20615779, 113.16964672, 110.92813348,\n",
      "         109.90632851],\n",
      "        [ 33.54095535,  34.27958618,  34.70920412,  35.10077482,\n",
      "          35.47284248],\n",
      "        [182.62717099, 188.43607898, 193.96532318, 200.48179416,\n",
      "         206.98568882],\n",
      "        [ 52.89142444,  54.70438447,  54.44258624,  54.84985467,\n",
      "          55.72916342],\n",
      "        [ 27.6522372 ,  27.25821393,  26.96255195,  26.88685228,\n",
      "          27.21011622]]]), array([[[3.00701462e+02, 3.01888280e+02, 2.94465392e+02, 2.88884152e+02,\n",
      "         2.85055873e+02],\n",
      "        [2.77931941e+00, 2.80679331e+00, 2.84323437e+00, 2.84691868e+00,\n",
      "         2.82123110e+00],\n",
      "        [5.27056519e+02, 5.30180170e+02, 5.23190016e+02, 5.19538456e+02,\n",
      "         5.13511903e+02],\n",
      "        [1.09168575e+04, 1.10664050e+04, 1.10117018e+04, 1.10023625e+04,\n",
      "         1.10626162e+04],\n",
      "        [3.53073562e+04, 3.48219958e+04, 3.44134968e+04, 3.41151088e+04,\n",
      "         3.38285843e+04],\n",
      "        [4.44153013e+03, 4.39425359e+03, 4.31734053e+03, 4.26251730e+03,\n",
      "         4.21435810e+03]]]), array([[[4941.89357107, 4940.26107776, 4938.72676217, 4928.93310988,\n",
      "         4928.12632398],\n",
      "        [8755.23083502, 8741.84592356, 8738.60164468, 8735.1938147 ,\n",
      "         8680.90580058],\n",
      "        [1834.88737674, 1791.37549885, 1786.93705505, 1781.39113053,\n",
      "         1770.88395664],\n",
      "        [1949.18004004, 1946.52005872, 1942.52823524, 1923.37425758,\n",
      "         1919.38631258],\n",
      "        [3614.76120679, 3527.19976153, 3526.05682753, 3521.45257654,\n",
      "         3502.7024226 ]]])]\n",
      "[ 0.33333334  0.33333334 -0.3333333  -0.3333333   0.33333334 -0.3333333 ]\n",
      "250.0\n",
      "[array([[[120.06694116, 117.99938716, 115.20615779, 113.16964672,\n",
      "         110.92813348],\n",
      "        [ 33.04453405,  33.54095535,  34.27958618,  34.70920412,\n",
      "          35.10077482],\n",
      "        [182.49301804, 182.62717099, 188.43607898, 193.96532318,\n",
      "         200.48179416],\n",
      "        [ 52.20330363,  52.89142444,  54.70438447,  54.44258624,\n",
      "          54.84985467],\n",
      "        [ 27.77959321,  27.6522372 ,  27.25821393,  26.96255195,\n",
      "          26.88685228]]]), array([[[2.99915950e+02, 3.00701462e+02, 3.01888280e+02, 2.94465392e+02,\n",
      "         2.88884152e+02],\n",
      "        [2.77170339e+00, 2.77931941e+00, 2.80679331e+00, 2.84323437e+00,\n",
      "         2.84691868e+00],\n",
      "        [5.21819959e+02, 5.27056519e+02, 5.30180170e+02, 5.23190016e+02,\n",
      "         5.19538456e+02],\n",
      "        [1.07727038e+04, 1.09168575e+04, 1.10664050e+04, 1.10117018e+04,\n",
      "         1.10023625e+04],\n",
      "        [3.56520540e+04, 3.53073562e+04, 3.48219958e+04, 3.44134968e+04,\n",
      "         3.41151088e+04],\n",
      "        [4.49622248e+03, 4.44153013e+03, 4.39425359e+03, 4.31734053e+03,\n",
      "         4.26251730e+03]]]), array([[[5033.60494386, 4941.89357107, 4940.26107776, 4938.72676217,\n",
      "         4928.93310988],\n",
      "        [8788.33659026, 8755.23083502, 8741.84592356, 8738.60164468,\n",
      "         8735.1938147 ],\n",
      "        [1835.06915193, 1834.88737674, 1791.37549885, 1786.93705505,\n",
      "         1781.39113053],\n",
      "        [1967.86172411, 1949.18004004, 1946.52005872, 1942.52823524,\n",
      "         1923.37425758],\n",
      "        [3688.59500024, 3614.76120679, 3527.19976153, 3526.05682753,\n",
      "         3521.45257654]]])]\n"
     ]
    }
   ],
   "source": [
    "print(zayev.previous_state)\n",
    "print(zayev.previous_actn)\n",
    "print((zayev.env.the_current_time_step.replace(tzinfo=None) - datetime(year=1995, month=1, day=1, hour=10)).total_seconds()/3600)\n",
    "print(zayev.latest_state)"
   ]
  },
  {
   "cell_type": "code",
   "execution_count": 20,
   "metadata": {},
   "outputs": [
    {
     "name": "stdout",
     "output_type": "stream",
     "text": [
      "280448.6373180951\n",
      "1995-01-07 16:00:00+00:00\n"
     ]
    }
   ],
   "source": [
    "ztt = zayev.latest_state\n",
    "zt_env = zayev.env\n",
    "\n",
    "total_potfolio = zayev.env.wallet_state\n",
    "for ind in range(5):\n",
    "    data_index = ind+1\n",
    "    total_potfolio = total_potfolio + zt_env.stock_data[data_index][\"price_snapshot\"]*zt_env.shares_data[data_index]\n",
    "print(total_potfolio)\n",
    "print(zayev.env.the_current_time_step - relativedelta(hours=100))"
   ]
  },
  {
   "cell_type": "code",
   "execution_count": 8,
   "metadata": {},
   "outputs": [
    {
     "name": "stdout",
     "output_type": "stream",
     "text": [
      "1995-01-02 11:00:00\n"
     ]
    }
   ],
   "source": [
    "tm = starting_time_step + relativedelta(hours=25)\n",
    "print(tm)"
   ]
  },
  {
   "cell_type": "code",
   "execution_count": 6,
   "metadata": {},
   "outputs": [
    {
     "data": {
      "text/plain": [
       "[array([[[  86.98892013, 1780.88718796,  806.78320262,   86.99418474,\n",
       "           815.32319724,   87.01223627,   86.22798652,  231.66143027],\n",
       "         [  24.55947431, 5311.76025676, 2294.7676268 ,   24.5622656 ,\n",
       "          2544.55969405,   24.56600397,   24.61056939,  795.63826776],\n",
       "         [ 139.2253307 , 1086.44600003,  505.13989644,  139.25715658,\n",
       "           561.13738873,  139.33339698,  144.20254547,  126.31578947],\n",
       "         [  38.81905216,  614.39851888,  328.47856092,   38.82553138,\n",
       "           308.16662239,   38.84516044,   38.48886214,  533.33333333],\n",
       "         [  21.18280565, 1786.27803173,  976.56194102,   21.18713267,\n",
       "           841.46566394,   21.19766482,   21.08023049,  937.5       ]]]),\n",
       " array([[[1.71481016e+02],\n",
       "         [3.49922248e+00],\n",
       "         [4.32156117e+02],\n",
       "         [7.54711667e+03],\n",
       "         [2.72181363e+04],\n",
       "         [3.93169616e+03]]]),\n",
       " array([[0]])]"
      ]
     },
     "execution_count": 6,
     "metadata": {},
     "output_type": "execute_result"
    }
   ],
   "source": [
    "zayev.latest_state"
   ]
  },
  {
   "cell_type": "code",
   "execution_count": 8,
   "metadata": {},
   "outputs": [
    {
     "name": "stdout",
     "output_type": "stream",
     "text": [
      "[1000 2000 3000]\n"
     ]
    }
   ],
   "source": [
    "actp = np.array([1,2,3])*1000\n",
    "print(actp)"
   ]
  },
  {
   "cell_type": "code",
   "execution_count": 13,
   "metadata": {},
   "outputs": [
    {
     "name": "stdout",
     "output_type": "stream",
     "text": [
      "[0.5 0.5 0.5 0.5 0.5]\n",
      "[1.6487212 1.6487212 1.6487212 1.6487212 1.6487212]\n"
     ]
    }
   ],
   "source": [
    "log_std = .5 * np.ones(5, dtype=np.float32)\n",
    "std = np.exp(log_std)\n",
    "\n",
    "print(log_std)\n",
    "print(std)"
   ]
  },
  {
   "cell_type": "code",
   "execution_count": 6,
   "metadata": {},
   "outputs": [
    {
     "name": "stdout",
     "output_type": "stream",
     "text": [
      "1995-01-16 20:00:00+00:00\n"
     ]
    }
   ],
   "source": [
    "# print(zayev.env.the_current_time_step)"
   ]
  },
  {
   "cell_type": "code",
   "execution_count": null,
   "metadata": {},
   "outputs": [],
   "source": []
  }
 ],
 "metadata": {
  "kernelspec": {
   "display_name": "v2env",
   "language": "python",
   "name": "v2env"
  },
  "language_info": {
   "codemirror_mode": {
    "name": "ipython",
    "version": 3
   },
   "file_extension": ".py",
   "mimetype": "text/x-python",
   "name": "python",
   "nbconvert_exporter": "python",
   "pygments_lexer": "ipython3",
   "version": "3.10.13"
  },
  "orig_nbformat": 4
 },
 "nbformat": 4,
 "nbformat_minor": 2
}
