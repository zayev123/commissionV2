{
 "cells": [
  {
   "cell_type": "code",
   "execution_count": 1,
   "metadata": {},
   "outputs": [
    {
     "name": "stderr",
     "output_type": "stream",
     "text": [
      "2023-10-12 19:14:49.399762: I tensorflow/core/platform/cpu_feature_guard.cc:182] This TensorFlow binary is optimized to use available CPU instructions in performance-critical operations.\n",
      "To enable the following instructions: AVX2 FMA, in other operations, rebuild TensorFlow with the appropriate compiler flags.\n"
     ]
    },
    {
     "data": {
      "text/plain": [
       "<Figure size 1800x900 with 0 Axes>"
      ]
     },
     "metadata": {},
     "output_type": "display_data"
    }
   ],
   "source": [
    "import sys\n",
    "import django\n",
    "import os\n",
    "file_dir = \"/Users/mirbilal/Desktop/MobCommission/commissionV2/\"\n",
    "if file_dir not in sys.path:\n",
    "    sys.path.insert(0, file_dir)\n",
    "\n",
    "os.environ[\"DJANGO_SETTINGS_MODULE\"] = \"commissionerv2.settings\"\n",
    "os.environ[\"DJANGO_ALLOW_ASYNC_UNSAFE\"] = \"true\" \n",
    "django.setup()\n",
    "from datetime import datetime\n",
    "from os import environ\n",
    "from services.zayev.service_layer.agent import PPOAgent as ZPPO\n",
    "from matplotlib.dates import relativedelta\n",
    "import numpy as np\n"
   ]
  },
  {
   "cell_type": "code",
   "execution_count": 2,
   "metadata": {},
   "outputs": [
    {
     "name": "stderr",
     "output_type": "stream",
     "text": [
      "/Users/mirbilal/Desktop/MobCommission/commissionV2/v2env/lib/python3.10/site-packages/keras/src/optimizers/legacy/adam.py:118: UserWarning: The `lr` argument is deprecated, use `learning_rate` instead.\n",
      "  super().__init__(name, **kwargs)\n"
     ]
    }
   ],
   "source": [
    "\n",
    "starting_time_step = datetime(year=1995, month=1, day=1, hour=10)\n",
    "\n",
    "db_params = {\n",
    "            'database': environ.get(\"POSTGRES_DB\"),\n",
    "            'user': environ.get(\"POSTGRES_USER\"),\n",
    "            'password': environ.get(\"POSTGRES_PASSWORD\"),\n",
    "            'host': environ.get(\"DB_HOST\"),\n",
    "            'port': environ.get(\"DB_PORT\"),\n",
    "        }\n",
    "env_config = {\n",
    "    \"db_params\": db_params, \n",
    "    \"max_episode_steps\": 300, \n",
    "    \"the_current_time_step\": starting_time_step,\n",
    "    \"print_output\": False,\n",
    "    \"test_steps\": 100\n",
    "} \n",
    "\n",
    "\n",
    "\n",
    "zayev = ZPPO(env_config)"
   ]
  },
  {
   "cell_type": "code",
   "execution_count": null,
   "metadata": {},
   "outputs": [],
   "source": [
    "print(zayev.Actor.Actor.summary())"
   ]
  },
  {
   "cell_type": "code",
   "execution_count": 10,
   "metadata": {},
   "outputs": [
    {
     "name": "stderr",
     "output_type": "stream",
     "text": [
      "2023-10-12 11:49:11.501124: W tensorflow/c/c_api.cc:305] Operation '{name:'dense_24/kernel/Assign' id:3721 op device:{requested: '', assigned: ''} def:{{{node dense_24/kernel/Assign}} = AssignVariableOp[_has_manual_control_dependencies=true, dtype=DT_FLOAT, validate_shape=false](dense_24/kernel, dense_24/kernel/Initializer/random_normal)}}' was changed by setting attribute after it was run by a session. This mutation will have no effect, and will trigger an error in the future. Either don't modify nodes after running them or create a new session.\n"
     ]
    }
   ],
   "source": [
    "zayev.save()"
   ]
  },
  {
   "cell_type": "code",
   "execution_count": 7,
   "metadata": {},
   "outputs": [
    {
     "name": "stdout",
     "output_type": "stream",
     "text": [
      "episode: 1/20, score: 48854.69264156878, average: 45777.64 \n",
      "episode: 2/20, score: 95918.10379711664, average: 47451.60 \n",
      "episode: 3/20, score: 11803.928871801603, average: 46371.65 \n",
      "episode: 4/20, score: 130796.00268517956, average: 48569.19 \n",
      "episode: 5/20, score: 48364.56818875371, average: 47056.55 \n",
      "episode: 6/20, score: 76014.0689788439, average: 47933.80 \n",
      "episode: 7/20, score: 32191.80136547936, average: 47898.58 \n",
      "episode: 8/20, score: 42186.22666491673, average: 49248.56 \n",
      "episode: 9/20, score: 79591.96927500726, average: 50499.77 \n",
      "episode: 10/20, score: 75468.00244705513, average: 51207.55 \n",
      "episode: 11/20, score: 56927.66802015784, average: 51190.37 \n",
      "episode: 12/20, score: 23607.381008248005, average: 50994.45 \n",
      "episode: 13/20, score: 35048.363044771264, average: 49744.81 \n",
      "episode: 14/20, score: 146070.78104450268, average: 51511.67 \n",
      "episode: 15/20, score: 55456.202695765984, average: 52457.28 \n",
      "episode: 16/20, score: 46427.822962565886, average: 52217.46 \n",
      "episode: 17/20, score: 68251.81657770537, average: 52284.49 \n",
      "episode: 18/20, score: 112219.8698468225, average: 53613.85 \n",
      "episode: 19/20, score: 78401.28829115152, average: 55376.07 \n",
      "episode: 20/20, score: 59632.983449016014, average: 56565.47 \n"
     ]
    }
   ],
   "source": [
    "# np.random.seed(np.random.randint(0,10))\n",
    "zayev.run_batch()\n",
    "# zayev.run_multiprocesses(num_worker=4)"
   ]
  },
  {
   "cell_type": "code",
   "execution_count": 24,
   "metadata": {},
   "outputs": [
    {
     "name": "stderr",
     "output_type": "stream",
     "text": [
      "2023-10-12 19:13:28.201244: W tensorflow/c/c_api.cc:305] Operation '{name:'dense_26/kernel/Assign' id:2421 op device:{requested: '', assigned: ''} def:{{{node dense_26/kernel/Assign}} = AssignVariableOp[_has_manual_control_dependencies=true, dtype=DT_FLOAT, validate_shape=false](dense_26/kernel, dense_26/kernel/Initializer/stateless_random_uniform)}}' was changed by setting attribute after it was run by a session. This mutation will have no effect, and will trigger an error in the future. Either don't modify nodes after running them or create a new session.\n",
      "/Users/mirbilal/Desktop/MobCommission/commissionV2/v2env/lib/python3.10/site-packages/keras/src/engine/training_v1.py:2359: UserWarning: `Model.state_updates` will be removed in a future version. This property should not be used in TensorFlow 2.0, as `updates` are applied automatically.\n",
      "  updates=self.state_updates,\n",
      "2023-10-12 19:13:28.434187: W tensorflow/c/c_api.cc:305] Operation '{name:'lambda_4/SelectV2_1' id:2512 op device:{requested: '', assigned: ''} def:{{{node lambda_4/SelectV2_1}} = SelectV2[T=DT_FLOAT, _has_manual_control_dependencies=true](lambda_4/Greater, lambda_4/mul_1, lambda_4/SelectV2)}}' was changed by setting attribute after it was run by a session. This mutation will have no effect, and will trigger an error in the future. Either don't modify nodes after running them or create a new session.\n"
     ]
    }
   ],
   "source": [
    "# print(zayev.Actor.Actor)\n",
    "# [-1.         -0.99999756  0.9822062  -1.         -0.99031776]\n",
    "# zayev.load()\n",
    "zayev.test()"
   ]
  },
  {
   "cell_type": "code",
   "execution_count": 22,
   "metadata": {},
   "outputs": [
    {
     "name": "stdout",
     "output_type": "stream",
     "text": [
      "[array([[[1.52699057e+02, 1.59610876e+04, 7.36979777e+02, 1.52704517e+02,\n",
      "         5.81693347e+02, 1.52710224e+02, 1.52087833e+02, 6.46309628e+02],\n",
      "        [2.51995869e+01, 8.72888042e+03, 2.40792423e+03, 2.52044428e+01,\n",
      "         3.38610089e+03, 2.52131157e+01, 2.50898042e+01, 8.00000000e+02],\n",
      "        [1.50760981e+02, 1.85230963e+03, 6.55517373e+02, 1.50779321e+02,\n",
      "         4.89346921e+02, 1.50842878e+02, 1.54086095e+02, 1.00000000e+00],\n",
      "        [3.50326955e+01, 1.08547914e+03, 2.49368059e+02, 3.50335886e+01,\n",
      "         2.29734750e+02, 3.50365985e+01, 3.50805766e+01, 1.00000000e+00],\n",
      "        [1.87200546e+01, 3.90986299e+03, 7.89353704e+02, 1.87211317e+01,\n",
      "         7.27672188e+02, 1.87316410e+01, 1.87927922e+01, 9.37500000e+02]]]), array([[[1.39815383e+02],\n",
      "        [4.72562807e+00],\n",
      "        [4.42226204e+02],\n",
      "        [7.56656221e+03],\n",
      "        [2.23556928e+04],\n",
      "        [3.59424991e+03]]]), array([[0]])]\n",
      "[ 0.33333334  0.33333334 -0.3333333  -0.3333333   0.33333334 -0.3333333 ]\n",
      "[array([[[1.52419001e+02, 1.60005291e+04, 7.57802916e+02, 1.52421865e+02,\n",
      "         6.04087155e+02, 1.52424047e+02, 1.52699057e+02, 6.46309628e+02],\n",
      "        [2.51821853e+01, 8.81783100e+03, 2.39878448e+03, 2.51832983e+01,\n",
      "         3.27808268e+03, 2.51849120e+01, 2.51995869e+01, 8.00000000e+02],\n",
      "        [1.47940674e+02, 1.87949453e+03, 6.62104761e+02, 1.47963755e+02,\n",
      "         4.81112867e+02, 1.47996282e+02, 1.50760981e+02, 1.00000000e+00],\n",
      "        [3.46065458e+01, 1.11111750e+03, 2.55223370e+02, 3.46145133e+01,\n",
      "         2.26905869e+02, 3.46510265e+01, 3.50326955e+01, 1.00000000e+00],\n",
      "        [1.86370910e+01, 3.92799701e+03, 8.05119374e+02, 1.86422028e+01,\n",
      "         7.33562640e+02, 1.86510274e+01, 1.87200546e+01, 9.37500000e+02]]]), array([[[1.36963946e+02],\n",
      "        [4.79820068e+00],\n",
      "        [4.42557334e+02],\n",
      "        [7.51896269e+03],\n",
      "        [2.23963788e+04],\n",
      "        [3.53678767e+03]]]), array([[0]])]\n"
     ]
    }
   ],
   "source": [
    "print(zayev.previous_state)\n",
    "print(zayev.previous_actn)\n",
    "print(zayev.latest_state)"
   ]
  },
  {
   "cell_type": "code",
   "execution_count": 25,
   "metadata": {},
   "outputs": [
    {
     "name": "stdout",
     "output_type": "stream",
     "text": [
      "[[1.52419001e+02 1.60005291e+04 7.57802916e+02 1.52421865e+02\n",
      "  6.04087155e+02 1.52424047e+02 1.52699057e+02 6.46309628e+02]\n",
      " [2.51821853e+01 8.81783100e+03 2.39878448e+03 2.51832983e+01\n",
      "  3.27808268e+03 2.51849120e+01 2.51995869e+01 8.00000000e+02]\n",
      " [1.47940674e+02 1.87949453e+03 6.62104761e+02 1.47963755e+02\n",
      "  4.81112867e+02 1.47996282e+02 1.50760981e+02 1.00000000e+00]\n",
      " [3.46065458e+01 1.11111750e+03 2.55223370e+02 3.46145133e+01\n",
      "  2.26905869e+02 3.46510265e+01 3.50326955e+01 1.00000000e+00]\n",
      " [1.86370910e+01 3.92799701e+03 8.05119374e+02 1.86422028e+01\n",
      "  7.33562640e+02 1.86510274e+01 1.87200546e+01 9.37500000e+02]]\n",
      "[136310.43597307]\n"
     ]
    }
   ],
   "source": [
    "ztt = zayev.latest_state\n",
    "stt_stt = zayev.latest_state[0][0]\n",
    "print(stt_stt)\n",
    "\n",
    "total_potfolio = zayev.latest_state[2][0]\n",
    "for st_dta in stt_stt:\n",
    "    total_potfolio = total_potfolio + st_dta[0]*st_dta[7]\n",
    "print(total_potfolio)"
   ]
  },
  {
   "cell_type": "code",
   "execution_count": 8,
   "metadata": {},
   "outputs": [
    {
     "name": "stdout",
     "output_type": "stream",
     "text": [
      "1995-01-02 11:00:00\n"
     ]
    }
   ],
   "source": [
    "tm = starting_time_step + relativedelta(hours=25)\n",
    "print(tm)"
   ]
  },
  {
   "cell_type": "code",
   "execution_count": 6,
   "metadata": {},
   "outputs": [
    {
     "data": {
      "text/plain": [
       "[array([[[  86.98892013, 1780.88718796,  806.78320262,   86.99418474,\n",
       "           815.32319724,   87.01223627,   86.22798652,  231.66143027],\n",
       "         [  24.55947431, 5311.76025676, 2294.7676268 ,   24.5622656 ,\n",
       "          2544.55969405,   24.56600397,   24.61056939,  795.63826776],\n",
       "         [ 139.2253307 , 1086.44600003,  505.13989644,  139.25715658,\n",
       "           561.13738873,  139.33339698,  144.20254547,  126.31578947],\n",
       "         [  38.81905216,  614.39851888,  328.47856092,   38.82553138,\n",
       "           308.16662239,   38.84516044,   38.48886214,  533.33333333],\n",
       "         [  21.18280565, 1786.27803173,  976.56194102,   21.18713267,\n",
       "           841.46566394,   21.19766482,   21.08023049,  937.5       ]]]),\n",
       " array([[[1.71481016e+02],\n",
       "         [3.49922248e+00],\n",
       "         [4.32156117e+02],\n",
       "         [7.54711667e+03],\n",
       "         [2.72181363e+04],\n",
       "         [3.93169616e+03]]]),\n",
       " array([[0]])]"
      ]
     },
     "execution_count": 6,
     "metadata": {},
     "output_type": "execute_result"
    }
   ],
   "source": [
    "zayev.latest_state"
   ]
  },
  {
   "cell_type": "code",
   "execution_count": 8,
   "metadata": {},
   "outputs": [
    {
     "name": "stdout",
     "output_type": "stream",
     "text": [
      "[1000 2000 3000]\n"
     ]
    }
   ],
   "source": [
    "actp = np.array([1,2,3])*1000\n",
    "print(actp)"
   ]
  },
  {
   "cell_type": "code",
   "execution_count": 13,
   "metadata": {},
   "outputs": [
    {
     "name": "stdout",
     "output_type": "stream",
     "text": [
      "[0.5 0.5 0.5 0.5 0.5]\n",
      "[1.6487212 1.6487212 1.6487212 1.6487212 1.6487212]\n"
     ]
    }
   ],
   "source": [
    "log_std = .5 * np.ones(5, dtype=np.float32)\n",
    "std = np.exp(log_std)\n",
    "\n",
    "print(log_std)\n",
    "print(std)"
   ]
  },
  {
   "cell_type": "code",
   "execution_count": 6,
   "metadata": {},
   "outputs": [
    {
     "name": "stdout",
     "output_type": "stream",
     "text": [
      "1995-01-16 20:00:00+00:00\n"
     ]
    }
   ],
   "source": [
    "# print(zayev.env.the_current_time_step)"
   ]
  }
 ],
 "metadata": {
  "kernelspec": {
   "display_name": "v2env",
   "language": "python",
   "name": "v2env"
  },
  "language_info": {
   "codemirror_mode": {
    "name": "ipython",
    "version": 3
   },
   "file_extension": ".py",
   "mimetype": "text/x-python",
   "name": "python",
   "nbconvert_exporter": "python",
   "pygments_lexer": "ipython3",
   "version": "3.10.13"
  },
  "orig_nbformat": 4
 },
 "nbformat": 4,
 "nbformat_minor": 2
}
