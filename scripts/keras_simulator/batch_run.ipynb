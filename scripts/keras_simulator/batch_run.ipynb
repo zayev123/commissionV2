{
 "cells": [
  {
   "cell_type": "code",
   "execution_count": 1,
   "metadata": {},
   "outputs": [
    {
     "name": "stderr",
     "output_type": "stream",
     "text": [
      "2023-10-11 17:01:04.275890: I tensorflow/core/platform/cpu_feature_guard.cc:182] This TensorFlow binary is optimized to use available CPU instructions in performance-critical operations.\n",
      "To enable the following instructions: AVX2 FMA, in other operations, rebuild TensorFlow with the appropriate compiler flags.\n"
     ]
    },
    {
     "data": {
      "text/plain": [
       "<Figure size 1800x900 with 0 Axes>"
      ]
     },
     "metadata": {},
     "output_type": "display_data"
    }
   ],
   "source": [
    "import sys\n",
    "import django\n",
    "import os\n",
    "file_dir = \"/Users/mirbilal/Desktop/MobCommission/commissionV2/\"\n",
    "if file_dir not in sys.path:\n",
    "    sys.path.insert(0, file_dir)\n",
    "\n",
    "os.environ[\"DJANGO_SETTINGS_MODULE\"] = \"commissionerv2.settings\"\n",
    "os.environ[\"DJANGO_ALLOW_ASYNC_UNSAFE\"] = \"true\" \n",
    "django.setup()\n",
    "from datetime import datetime\n",
    "from os import environ\n",
    "from services.zayev.service_layer.agent import PPOAgent as ZPPO\n"
   ]
  },
  {
   "cell_type": "code",
   "execution_count": 2,
   "metadata": {},
   "outputs": [],
   "source": [
    "\n",
    "starting_time_step = datetime(year=1995, month=1, day=1, hour=10)\n",
    "\n",
    "\n",
    "\n",
    "zayev = ZPPO(starting_time_step)"
   ]
  },
  {
   "cell_type": "code",
   "execution_count": 7,
   "metadata": {},
   "outputs": [
    {
     "name": "stdout",
     "output_type": "stream",
     "text": [
      "Model: \"model_2\"\n",
      "__________________________________________________________________________________________________\n",
      " Layer (type)                Output Shape                 Param #   Connected to                  \n",
      "==================================================================================================\n",
      " stock_observation_input (I  [(None, 5, 8)]               0         []                            \n",
      " nputLayer)                                                                                       \n",
      "                                                                                                  \n",
      " commodity_observation_inpu  [(None, 6, 1)]               0         []                            \n",
      " t (InputLayer)                                                                                   \n",
      "                                                                                                  \n",
      " wallet_observation_input (  [(None, 1)]                  0         []                            \n",
      " InputLayer)                                                                                      \n",
      "                                                                                                  \n",
      " flatten_8 (Flatten)         (None, 40)                   0         ['stock_observation_input[0][0\n",
      "                                                                    ]']                           \n",
      "                                                                                                  \n",
      " flatten_9 (Flatten)         (None, 6)                    0         ['commodity_observation_input[\n",
      "                                                                    0][0]']                       \n",
      "                                                                                                  \n",
      " flatten_10 (Flatten)        (None, 1)                    0         ['wallet_observation_input[0][\n",
      "                                                                    0]']                          \n",
      "                                                                                                  \n",
      " ppo_input (Concatenate)     (None, 47)                   0         ['flatten_8[0][0]',           \n",
      "                                                                     'flatten_9[0][0]',           \n",
      "                                                                     'flatten_10[0][0]']          \n",
      "                                                                                                  \n",
      " flatten_11 (Flatten)        (None, 47)                   0         ['ppo_input[0][0]']           \n",
      "                                                                                                  \n",
      " dense_8 (Dense)             (None, 512)                  24576     ['flatten_11[0][0]']          \n",
      "                                                                                                  \n",
      " dense_9 (Dense)             (None, 256)                  131328    ['dense_8[0][0]']             \n",
      "                                                                                                  \n",
      " dense_10 (Dense)            (None, 64)                   16448     ['dense_9[0][0]']             \n",
      "                                                                                                  \n",
      " dense_11 (Dense)            (None, 5)                    325       ['dense_10[0][0]']            \n",
      "                                                                                                  \n",
      "==================================================================================================\n",
      "Total params: 172677 (674.52 KB)\n",
      "Trainable params: 172677 (674.52 KB)\n",
      "Non-trainable params: 0 (0.00 Byte)\n",
      "__________________________________________________________________________________________________\n",
      "None\n"
     ]
    }
   ],
   "source": [
    "print(zayev.Actor.Actor.summary())"
   ]
  },
  {
   "cell_type": "code",
   "execution_count": null,
   "metadata": {},
   "outputs": [],
   "source": []
  },
  {
   "cell_type": "code",
   "execution_count": 3,
   "metadata": {},
   "outputs": [
    {
     "name": "stderr",
     "output_type": "stream",
     "text": [
      "2023-10-11 14:58:24.115153: I tensorflow/compiler/mlir/mlir_graph_optimization_pass.cc:382] MLIR V1 optimization pass is not enabled\n",
      "2023-10-11 14:58:24.141761: W tensorflow/c/c_api.cc:305] Operation '{name:'dense_7/bias/Assign' id:261 op device:{requested: '', assigned: ''} def:{{{node dense_7/bias/Assign}} = AssignVariableOp[_has_manual_control_dependencies=true, dtype=DT_FLOAT, validate_shape=false](dense_7/bias, dense_7/bias/Initializer/zeros)}}' was changed by setting attribute after it was run by a session. This mutation will have no effect, and will trigger an error in the future. Either don't modify nodes after running them or create a new session.\n",
      "/Users/mirbilal/Desktop/MobCommission/commissionV2/v2env/lib/python3.10/site-packages/keras/src/engine/training_v1.py:2359: UserWarning: `Model.state_updates` will be removed in a future version. This property should not be used in TensorFlow 2.0, as `updates` are applied automatically.\n",
      "  updates=self.state_updates,\n",
      "2023-10-11 14:58:24.268307: W tensorflow/c/c_api.cc:305] Operation '{name:'dense_3/Tanh' id:98 op device:{requested: '', assigned: ''} def:{{{node dense_3/Tanh}} = Tanh[T=DT_FLOAT, _has_manual_control_dependencies=true](dense_3/BiasAdd)}}' was changed by setting attribute after it was run by a session. This mutation will have no effect, and will trigger an error in the future. Either don't modify nodes after running them or create a new session.\n"
     ]
    },
    {
     "name": "stdout",
     "output_type": "stream",
     "text": [
      "[ 1.  1.  1. -1.  1.]\n",
      "[ 1.  1.  1. -1.  1.]\n",
      "[ 1.  1.  1. -1.  1.]\n",
      "[ 1.  1.  1. -1.  1.]\n",
      "[ 1.  1.  1. -1.  1.]\n",
      "[ 1.  1.  1. -1.  1.]\n",
      "[ 1.  1.  1. -1.  1.]\n",
      "[ 1.  1.  1. -1.  1.]\n",
      "[ 1.  1.  1. -1.  1.]\n",
      "[ 1.  1.  1. -1.  1.]\n",
      "[ 1.  1.  1. -1.  1.]\n",
      "[ 1.  1.  1. -1.  1.]\n",
      "[ 1.  1.  1. -1.  1.]\n",
      "[ 1.  1.  1. -1.  1.]\n",
      "[ 1.  1.  1. -1.  1.]\n",
      "[ 1.  1.  1. -1.  1.]\n",
      "[ 1.  1.  1. -1.  1.]\n",
      "[ 1.  1.  1. -1.  1.]\n",
      "[ 1.  1.  1. -1.  1.]\n",
      "[ 1.  1.  1. -1.  1.]\n",
      "[ 1.  1.  1. -1.  1.]\n",
      "[ 1.  1.  1. -1.  1.]\n",
      "[ 1.  1.  1. -1.  1.]\n",
      "[ 1.  1.  1. -1.  1.]\n",
      "[ 1.  1.  1. -1.  1.]\n",
      "[ 1.  1.  1. -1.  1.]\n",
      "[ 1.  1.  1. -1.  1.]\n",
      "[ 1.  1.  1. -1.  1.]\n",
      "[ 1.  1.  1. -1.  1.]\n",
      "[ 1.  1.  1. -1.  1.]\n",
      "[ 1.  1.  1. -1.  1.]\n",
      "[ 1.  1.  1. -1.  1.]\n",
      "[ 1.  1.  1. -1.  1.]\n",
      "[ 1.  1.  1. -1.  1.]\n",
      "[ 1.  1.  1. -1.  1.]\n",
      "[ 1.  1.  1. -1.  1.]\n",
      "[ 1.  1.  1. -1.  1.]\n",
      "[ 1.  1.  1. -1.  1.]\n",
      "[ 1.  1.  1. -1.  1.]\n",
      "[ 1.  1.  1. -1.  1.]\n",
      "[ 1.  1.  1. -1.  1.]\n",
      "[ 1.  1.  1. -1.  1.]\n",
      "[ 1.  1.  1. -1.  1.]\n",
      "[ 1.  1.  1. -1.  1.]\n",
      "[ 1.  1.  1. -1.  1.]\n",
      "[ 1.  1.  1. -1.  1.]\n",
      "[ 1.  1.  1. -1.  1.]\n",
      "[ 1.  1.  1. -1.  1.]\n",
      "[ 1.  1.  1. -1.  1.]\n",
      "[ 1.  1.  1. -1.  1.]\n",
      "[ 1.  1.  1. -1.  1.]\n",
      "[ 1.  1.  1. -1.  1.]\n",
      "[ 1.  1.  1. -1.  1.]\n",
      "[ 1.  1.  1. -1.  1.]\n",
      "[ 1.  1.  1. -1.  1.]\n",
      "[ 1.  1.  1. -1.  1.]\n",
      "[ 1.  1.  1. -1.  1.]\n",
      "[ 1.  1.  1. -1.  1.]\n",
      "[ 1.  1.  1. -1.  1.]\n",
      "[ 1.  1.  1. -1.  1.]\n",
      "[ 1.  1.  1. -1.  1.]\n",
      "[ 1.  1.  1. -1.  1.]\n",
      "[ 1.  1.  1. -1.  1.]\n",
      "[ 1.  1.  1. -1.  1.]\n",
      "[ 1.  1.  1. -1.  1.]\n",
      "[ 1.  1.  1. -1.  1.]\n",
      "[ 1.  1.  1. -1.  1.]\n",
      "[ 1.  1.  1. -1.  1.]\n",
      "[ 1.  1.  1. -1.  1.]\n",
      "[ 1.  1.  1. -1.  1.]\n",
      "[ 1.  1.  1. -1.  1.]\n",
      "[ 1.  1.  1. -1.  1.]\n",
      "[ 1.  1.  1. -1.  1.]\n",
      "[ 1.  1.  1. -1.  1.]\n",
      "[ 1.  1.  1. -1.  1.]\n",
      "[ 1.  1.  1. -1.  1.]\n",
      "[ 1.  1.  1. -1.  1.]\n",
      "[ 1.  1.  1. -1.  1.]\n",
      "[ 1.  1.  1. -1.  1.]\n",
      "[ 1.  1.  1. -1.  1.]\n",
      "[ 1.  1.  1. -1.  1.]\n",
      "[ 1.  1.  1. -1.  1.]\n",
      "[ 1.  1.  1. -1.  1.]\n",
      "[ 1.  1.  1. -1.  1.]\n",
      "[ 1.  1.  1. -1.  1.]\n",
      "[ 1.  1.  1. -1.  1.]\n",
      "[ 1.  1.  1. -1.  1.]\n",
      "[ 1.  1.  1. -1.  1.]\n",
      "[ 1.  1.  1. -1.  1.]\n",
      "[ 1.  1.  1. -1.  1.]\n",
      "[ 1.  1.  1. -1.  1.]\n",
      "[ 1.  1.  1. -1.  1.]\n",
      "[ 1.  1.  1. -1.  1.]\n",
      "[ 1.  1.  1. -1.  1.]\n",
      "[ 1.  1.  1. -1.  1.]\n",
      "[ 1.  1.  1. -1.  1.]\n",
      "[ 1.  1.  1. -1.  1.]\n",
      "[ 1.  1.  1. -1.  1.]\n",
      "[ 1.  1.  1. -1.  1.]\n",
      "[ 1.  1.  1. -1.  1.]\n"
     ]
    }
   ],
   "source": [
    "# print(zayev.Actor.Actor)\n",
    "zayev.test()"
   ]
  },
  {
   "cell_type": "code",
   "execution_count": 3,
   "metadata": {},
   "outputs": [
    {
     "name": "stderr",
     "output_type": "stream",
     "text": [
      "/Users/mirbilal/Desktop/MobCommission/commissionV2/v2env/lib/python3.10/site-packages/keras/src/engine/training_v1.py:2359: UserWarning: `Model.state_updates` will be removed in a future version. This property should not be used in TensorFlow 2.0, as `updates` are applied automatically.\n",
      "  updates=self.state_updates,\n",
      "2023-10-11 16:31:38.712565: I tensorflow/compiler/mlir/mlir_graph_optimization_pass.cc:382] MLIR V1 optimization pass is not enabled\n",
      "2023-10-11 16:31:38.735618: W tensorflow/c/c_api.cc:305] Operation '{name:'dense_7/kernel/Assign' id:256 op device:{requested: '', assigned: ''} def:{{{node dense_7/kernel/Assign}} = AssignVariableOp[_has_manual_control_dependencies=true, dtype=DT_FLOAT, validate_shape=false](dense_7/kernel, dense_7/kernel/Initializer/stateless_random_uniform)}}' was changed by setting attribute after it was run by a session. This mutation will have no effect, and will trigger an error in the future. Either don't modify nodes after running them or create a new session.\n"
     ]
    },
    {
     "ename": "AttributeError",
     "evalue": "'list' object has no attribute 'shape'",
     "output_type": "error",
     "traceback": [
      "\u001b[0;31m---------------------------------------------------------------------------\u001b[0m",
      "\u001b[0;31mAttributeError\u001b[0m                            Traceback (most recent call last)",
      "\u001b[1;32m/Users/mirbilal/Desktop/MobCommission/commissionV2/scripts/keras_simulator/batch_run.ipynb Cell 5\u001b[0m line \u001b[0;36m1\n\u001b[0;32m----> <a href='vscode-notebook-cell:/Users/mirbilal/Desktop/MobCommission/commissionV2/scripts/keras_simulator/batch_run.ipynb#W2sZmlsZQ%3D%3D?line=0'>1</a>\u001b[0m zayev\u001b[39m.\u001b[39;49mrun_batch()\n",
      "File \u001b[0;32m~/Desktop/MobCommission/commissionV2/services/zayev/service_layer/agent.py:306\u001b[0m, in \u001b[0;36mPPOAgent.run_batch\u001b[0;34m(self)\u001b[0m\n\u001b[1;32m    303\u001b[0m         state, done, score, SAVING \u001b[39m=\u001b[39m \u001b[39mself\u001b[39m\u001b[39m.\u001b[39menv\u001b[39m.\u001b[39mreset(), \u001b[39mFalse\u001b[39;00m, \u001b[39m0\u001b[39m, \u001b[39m'\u001b[39m\u001b[39m'\u001b[39m\n\u001b[1;32m    304\u001b[0m         state \u001b[39m=\u001b[39m \u001b[39mself\u001b[39m\u001b[39m.\u001b[39mreshape_state(state)\n\u001b[0;32m--> 306\u001b[0m \u001b[39mself\u001b[39;49m\u001b[39m.\u001b[39;49mreplay(\n\u001b[1;32m    307\u001b[0m     stock_states, commodity_states, wallet_states, \n\u001b[1;32m    308\u001b[0m     actions, rewards, dones, \n\u001b[1;32m    309\u001b[0m     next_stock_states, next_commodity_states, next_wallet_states, \n\u001b[1;32m    310\u001b[0m     logp_ts\n\u001b[1;32m    311\u001b[0m )\n\u001b[1;32m    312\u001b[0m \u001b[39mif\u001b[39;00m \u001b[39mself\u001b[39m\u001b[39m.\u001b[39mepisode \u001b[39m>\u001b[39m\u001b[39m=\u001b[39m \u001b[39mself\u001b[39m\u001b[39m.\u001b[39mEPISODES:\n\u001b[1;32m    313\u001b[0m     \u001b[39mbreak\u001b[39;00m\n",
      "File \u001b[0;32m~/Desktop/MobCommission/commissionV2/services/zayev/service_layer/agent.py:180\u001b[0m, in \u001b[0;36mPPOAgent.replay\u001b[0;34m(self, stock_states, commodity_states, wallet_states, actions, rewards, dones, next_stock_states, next_commodity_states, next_wallet_states, logp_ts)\u001b[0m\n\u001b[1;32m    177\u001b[0m logp_ts \u001b[39m=\u001b[39m np\u001b[39m.\u001b[39mvstack(logp_ts)\n\u001b[1;32m    179\u001b[0m \u001b[39m# Get Critic network predictions \u001b[39;00m\n\u001b[0;32m--> 180\u001b[0m values \u001b[39m=\u001b[39m \u001b[39mself\u001b[39;49m\u001b[39m.\u001b[39;49mCritic\u001b[39m.\u001b[39;49mpredict([stock_states, commodity_states, wallet_states])\n\u001b[1;32m    181\u001b[0m next_values \u001b[39m=\u001b[39m \u001b[39mself\u001b[39m\u001b[39m.\u001b[39mCritic\u001b[39m.\u001b[39mpredict([next_stock_states, next_commodity_states, next_wallet_states])\n\u001b[1;32m    183\u001b[0m \u001b[39m# Compute discounted rewards and advantages\u001b[39;00m\n\u001b[1;32m    184\u001b[0m \u001b[39m#discounted_r = self.discount_rewards(rewards)\u001b[39;00m\n\u001b[1;32m    185\u001b[0m \u001b[39m#advantages = np.vstack(discounted_r - values)\u001b[39;00m\n",
      "File \u001b[0;32m~/Desktop/MobCommission/commissionV2/services/zayev/service_layer/critic.py:42\u001b[0m, in \u001b[0;36mCritic_Model.predict\u001b[0;34m(self, state)\u001b[0m\n\u001b[1;32m     41\u001b[0m \u001b[39mdef\u001b[39;00m \u001b[39mpredict\u001b[39m(\u001b[39mself\u001b[39m, state):\n\u001b[0;32m---> 42\u001b[0m     \u001b[39mreturn\u001b[39;00m \u001b[39mself\u001b[39m\u001b[39m.\u001b[39mCritic\u001b[39m.\u001b[39mpredict([state, np\u001b[39m.\u001b[39mzeros((state\u001b[39m.\u001b[39;49mshape[\u001b[39m0\u001b[39m], \u001b[39m1\u001b[39m))])\n",
      "\u001b[0;31mAttributeError\u001b[0m: 'list' object has no attribute 'shape'"
     ]
    }
   ],
   "source": [
    "zayev.run_batch()"
   ]
  },
  {
   "cell_type": "code",
   "execution_count": 42,
   "metadata": {},
   "outputs": [
    {
     "name": "stdout",
     "output_type": "stream",
     "text": [
      "[[0]\n",
      " [0]]\n"
     ]
    },
    {
     "data": {
      "text/plain": [
       "array([[ 1.,  1.,  1., -1.,  1.],\n",
       "       [ 1.,  1.,  1., -1.,  1.]], dtype=float32)"
      ]
     },
     "execution_count": 42,
     "metadata": {},
     "output_type": "execute_result"
    }
   ],
   "source": [
    "import numpy as np\n",
    "import copy\n",
    "\n",
    "# Your original list with corrected formatting\n",
    "original_list = [\n",
    "    np.array([[[6.18533117e+06, 1.27167986e+03, 3.27242924e+02, 6.18533118e+06, 2.25929212e+02, 6.18533121e+06, 6.12344432e+06, 6.95512187e+00],\n",
    "              [5.14902154e+06, 1.73213343e+03, 4.09901119e+02, 5.14902154e+06, 6.54760917e+02, 5.14902154e+06, 5.14822946e+06, 4.23177655e+00],\n",
    "              [5.22310567e+06, 2.27002018e+03, 6.42464946e+02, 5.22310567e+06, 4.29871624e+02, 5.22310567e+06, 5.21969722e+06, 1.30825354e+01],\n",
    "              [5.03184443e+06, 6.91959690e+02, 2.03325204e+02, 5.03184443e+06, 1.38764497e+02, 5.03184443e+06, 5.03158268e+06, 1.00000000e+00],\n",
    "              [5.88737714e+06, 6.07730985e+03, 1.54629231e+03, 5.88737714e+06, 1.60129385e+03, 5.88737715e+06, 5.85476184e+06, 1.00000000e+00]]]),\n",
    "    np.array([[[2.11824527e+02],\n",
    "              [3.90397460e+00],\n",
    "              [4.83594046e+02],\n",
    "              [9.62521579e+03],\n",
    "              [2.22831137e+04],\n",
    "              [3.27575791e+03]]]),\n",
    "    np.array([[0]])\n",
    "]\n",
    "\n",
    "# Use np.vstack to stack the arrays\n",
    "# stacked_array = np.array(original_list)\n",
    "list2 = copy.deepcopy(original_list)\n",
    "# for an in original_list:\n",
    "#     print(an)\n",
    "#     print(\"\")\n",
    "nw_lis = [original_list, list2]\n",
    "# np.vstack(nw_lis)\n",
    "# processed_data = []\n",
    "\n",
    "# for element in nw_lis:\n",
    "#     # Assuming each element contains three arrays\n",
    "#     array1 = element[0]\n",
    "#     array2 = element[1]\n",
    "#     array3 = element[2]\n",
    "#     print(array1, array2)\n",
    "#     new_el = np.concatenate([element[0], element[1], element[2]], axis=1)\n",
    "#     processed_data.append(new_el)\n",
    "\n",
    "#     # Optionally, pad or preprocess the arrays if needed\n",
    "#     # ...\n",
    "\n",
    "# # input_data = [np.array(batch) for batch in processed_data]\n",
    "# print(processed_data)\n",
    "stks = np.vstack([nw_lis[0][0], nw_lis[1][0]])\n",
    "cmmdts = np.vstack([nw_lis[0][1], nw_lis[1][1]])\n",
    "wllts = np.vstack([nw_lis[0][2], nw_lis[1][2]])\n",
    "print(wllts)\n",
    "zayev.Actor.predict([stks, cmmdts, wllts])"
   ]
  },
  {
   "cell_type": "code",
   "execution_count": null,
   "metadata": {},
   "outputs": [],
   "source": [
    "import numpy as np\n",
    "\n",
    "# Your original list with corrected formatting\n",
    "original_list = [\n",
    "    np.array([[[6.18533117e+06, 1.27167986e+03, 3.27242924e+02, 6.18533118e+06, 2.25929212e+02, 6.18533121e+06, 6.12344432e+06, 6.95512187e+00],\n",
    "              [5.14902154e+06, 1.73213343e+03, 4.09901119e+02, 5.14902154e+06, 6.54760917e+02, 5.14902154e+06, 5.14822946e+06, 4.23177655e+00],\n",
    "              [5.22310567e+06, 2.27002018e+03, 6.42464946e+02, 5.22310567e+06, 4.29871624e+02, 5.22310567e+06, 5.21969722e+06, 1.30825354e+01],\n",
    "              [5.03184443e+06, 6.91959690e+02, 2.03325204e+02, 5.03184443e+06, 1.38764497e+02, 5.03184443e+06, 5.03158268e+06, 1.00000000e+00],\n",
    "              [5.88737714e+06, 6.07730985e+03, 1.54629231e+03, 5.88737714e+06, 1.60129385e+03, 5.88737715e+06, 5.85476184e+06, 1.00000000e+00]]]),\n",
    "    np.array([[[2.11824527e+02],\n",
    "              [3.90397460e+00],\n",
    "              [4.83594046e+02],\n",
    "              [9.62521579e+03],\n",
    "              [2.22831137e+04],\n",
    "              [3.27575791e+03]]]),\n",
    "    np.array([[0]])\n",
    "]\n",
    "\n",
    "\n",
    "ar1 = np.array([[1,2],[2,3]])\n",
    "ar2 = np.array([[1,2]])\n",
    "nw = np.vstack([ar1, ar2])\n",
    "print(ar1)\n",
    "print(ar2)\n",
    "print(nw)\n",
    "abd = (1,2,3)\n",
    "print(abd[0])"
   ]
  }
 ],
 "metadata": {
  "kernelspec": {
   "display_name": "v2env",
   "language": "python",
   "name": "v2env"
  },
  "language_info": {
   "codemirror_mode": {
    "name": "ipython",
    "version": 3
   },
   "file_extension": ".py",
   "mimetype": "text/x-python",
   "name": "python",
   "nbconvert_exporter": "python",
   "pygments_lexer": "ipython3",
   "version": "3.10.13"
  },
  "orig_nbformat": 4
 },
 "nbformat": 4,
 "nbformat_minor": 2
}
