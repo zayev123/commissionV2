{
 "cells": [
  {
   "cell_type": "code",
   "execution_count": 27,
   "metadata": {},
   "outputs": [],
   "source": [
    "import sys\n",
    "import django\n",
    "import os\n",
    "file_dir = \"/Users/mirbilal/Desktop/MobCommission/commissionV2/\"\n",
    "if file_dir not in sys.path:\n",
    "    sys.path.insert(0, file_dir)\n",
    "\n",
    "os.environ[\"DJANGO_SETTINGS_MODULE\"] = \"commissionerv2.settings\"\n",
    "os.environ[\"DJANGO_ALLOW_ASYNC_UNSAFE\"] = \"true\" \n",
    "django.setup()\n",
    "from apps.environment_simulator.models import (\n",
    "    SimulatedStock, \n",
    "    SimulatedStockCovariance, \n",
    "    SimulatedStockBuffer,\n",
    "    SimulatedSector\n",
    ")\n",
    "\n",
    "import numpy as np\n",
    "import json\n",
    "from datetime import datetime"
   ]
  },
  {
   "cell_type": "code",
   "execution_count": 28,
   "metadata": {},
   "outputs": [
    {
     "data": {
      "text/plain": [
       "[]"
      ]
     },
     "execution_count": 28,
     "metadata": {},
     "output_type": "execute_result"
    }
   ],
   "source": [
    "old_sectors_list = SimulatedSector.objects.all()\n",
    "old_sectors = {}\n",
    "for an_old_sector in old_sectors_list:\n",
    "    old_sectors[an_old_sector.name] = an_old_sector.name\n",
    "\n",
    "new_sectors_list = []\n",
    "sector_names = [\n",
    "    \"Healthcare\", \n",
    "    \"Materials\", \n",
    "    \"Real Estate\", \n",
    "    \"Consumer Staples\",\n",
    "    \"Consumer Discretionary\",\n",
    "    \"Utilities\",\n",
    "    \"Energy\",\n",
    "    \"Industrials\",\n",
    "    \"Consumer Services\",\n",
    "    \"Financials\",\n",
    "    \"Technology\"\n",
    "]\n",
    "\n",
    "for s in range(len(sector_names)):\n",
    "    if sector_names[s] not in old_sectors:\n",
    "        new_sectors_list.append(\n",
    "            SimulatedSector(\n",
    "                name = sector_names[s],\n",
    "                index = s+1\n",
    "            )\n",
    "        )\n",
    "\n",
    "SimulatedSector.objects.bulk_create(new_sectors_list)"
   ]
  },
  {
   "cell_type": "code",
   "execution_count": 29,
   "metadata": {},
   "outputs": [
    {
     "data": {
      "text/plain": [
       "[<SimulatedStock: 391, 1, stock_1>,\n",
       " <SimulatedStock: 392, 2, stock_2>,\n",
       " <SimulatedStock: 393, 3, stock_3>,\n",
       " <SimulatedStock: 394, 4, stock_4>,\n",
       " <SimulatedStock: 395, 5, stock_5>]"
      ]
     },
     "execution_count": 29,
     "metadata": {},
     "output_type": "execute_result"
    }
   ],
   "source": [
    "np.random.seed(5)\n",
    "new_sectors = SimulatedSector.objects.all()\n",
    "new_sectors = list(new_sectors)\n",
    "no_of_new_sectors = len(new_sectors)\n",
    "SimulatedStock.objects.all().delete()\n",
    "nsew_stocks = []\n",
    "for i in range(1,6):\n",
    "    avg_price = np.random.choice(list(range(1,11)))*np.random.choice(list(range(1,11)))\n",
    "    grad_temp = avg_price/100\n",
    "    sd = np.random.choice([grad_temp*2, grad_temp/2])\n",
    "    pos_gradient = np.random.normal(grad_temp, sd)\n",
    "    gradient = np.random.choice([pos_gradient, -1*pos_gradient])\n",
    "    sector_index = i%no_of_new_sectors\n",
    "    min_price = avg_price/np.random.choice([3,4,5,6])\n",
    "    max_price = avg_price*np.random.choice([3,4,5,6])\n",
    "    avg_forward_steps = np.random.choice(list(range(7,18)))\n",
    "    avg_backward_steps = avg_forward_steps\n",
    "    volume_sd=np.random.rand()*np.random.choice(list(range(500,2500,250)))\n",
    "    nsew_stocks.append(\n",
    "        SimulatedStock(\n",
    "            name = f\"stock_{i}\",\n",
    "            index = i,\n",
    "            sector = new_sectors[sector_index],\n",
    "            price_gradient = gradient,\n",
    "            price_sd = sd,\n",
    "            min_price = min_price,\n",
    "            max_price = max_price,\n",
    "            avg_forward_steps = avg_forward_steps,\n",
    "            avg_backward_steps = avg_backward_steps,\n",
    "            price_steps_left = avg_forward_steps,\n",
    "            volume_sd = volume_sd,\n",
    "            price_x_volume_factor = np.random.rand()*0.5,\n",
    "            volume_x_price_factor = np.random.rand()*0.5\n",
    "        )\n",
    "    )\n",
    "SimulatedStock.objects.bulk_create(nsew_stocks)"
   ]
  },
  {
   "cell_type": "code",
   "execution_count": 30,
   "metadata": {},
   "outputs": [
    {
     "data": {
      "text/plain": [
       "[<SimulatedStockCovariance: 15011, stock_1, stock_2>,\n",
       " <SimulatedStockCovariance: 15012, stock_1, stock_3>,\n",
       " <SimulatedStockCovariance: 15013, stock_1, stock_4>,\n",
       " <SimulatedStockCovariance: 15014, stock_1, stock_5>,\n",
       " <SimulatedStockCovariance: 15015, stock_2, stock_3>,\n",
       " <SimulatedStockCovariance: 15016, stock_2, stock_4>,\n",
       " <SimulatedStockCovariance: 15017, stock_2, stock_5>,\n",
       " <SimulatedStockCovariance: 15018, stock_3, stock_4>,\n",
       " <SimulatedStockCovariance: 15019, stock_3, stock_5>,\n",
       " <SimulatedStockCovariance: 15020, stock_4, stock_5>]"
      ]
     },
     "execution_count": 30,
     "metadata": {},
     "output_type": "execute_result"
    }
   ],
   "source": [
    "np.random.seed(0)\n",
    "\n",
    "SimulatedStockCovariance.objects.all().delete()\n",
    "comvars = []\n",
    "accounted_for_stocks = {}\n",
    "new_stocks = SimulatedStock.objects.all()\n",
    "for nw_stck in new_stocks:\n",
    "    # print(\"nw_stck.id\", nw_stck.id)\n",
    "    # print(\"recheck\", json.dumps(accounted_for_stocks, indent=3))\n",
    "    if nw_stck.id not in accounted_for_stocks:\n",
    "        accounted_for_stocks[nw_stck.id] = {}\n",
    "    stck_a_stcks = accounted_for_stocks[nw_stck.id]\n",
    "    for a_stck in new_stocks:\n",
    "        if a_stck.id != nw_stck.id:\n",
    "            if a_stck.id not in accounted_for_stocks:\n",
    "                accounted_for_stocks[a_stck.id] = {}\n",
    "            stck_b_stcks = accounted_for_stocks[a_stck.id]\n",
    "            if (\n",
    "                a_stck.id not in stck_a_stcks\n",
    "                and nw_stck.id not in stck_b_stcks\n",
    "            ):\n",
    "                stck_a_stcks[a_stck.id] = a_stck.id\n",
    "                stck_b_stcks[nw_stck.id] = nw_stck.id\n",
    "                new_covar = SimulatedStockCovariance(\n",
    "                    stock_a = nw_stck,\n",
    "                    stock_b = a_stck,\n",
    "                    factor = np.random.rand()*np.random.choice([0.5,-0.5])\n",
    "                )\n",
    "                comvars.append(new_covar)\n",
    "                # print(json.dumps(accounted_for_stocks, indent=3))\n",
    "                # print(\"\")\n",
    "\n",
    "SimulatedStockCovariance.objects.bulk_create(comvars)"
   ]
  },
  {
   "cell_type": "code",
   "execution_count": 31,
   "metadata": {},
   "outputs": [],
   "source": [
    "def generate_first_buffer():\n",
    "    starting_time_step = datetime(year=1995, month=1, day=1, hour=10)\n",
    "\n",
    "    SimulatedStockBuffer.objects.all().delete()\n",
    "    z_stocks = SimulatedStock.objects.all()\n",
    "    buffer = []\n",
    "    for z_stck in z_stocks:\n",
    "        mid_price = (z_stck.min_price + z_stck.max_price)\n",
    "        mid_price = mid_price/2\n",
    "        vol = np.random.choice(list(range(30,100,10)))*np.random.choice(list(range(5,70,10)))\n",
    "        if vol < 20:\n",
    "            vol =20\n",
    "\n",
    "        offer_vol = np.random.normal(vol/2,vol/40)\n",
    "        offer_price = mid_price + 0.2\n",
    "        bid_vol = np.random.normal(vol/2,vol/40)\n",
    "        bid_price = mid_price + 0.1\n",
    "\n",
    "        starting_snapshot = SimulatedStockBuffer(\n",
    "            stock = z_stck,\n",
    "            captured_at = starting_time_step,\n",
    "            price_snapshot = mid_price,\n",
    "            change = 0,\n",
    "            volume = vol,\n",
    "            offer_vol = offer_vol,\n",
    "            offer_price = offer_price,\n",
    "            bid_vol = bid_vol,\n",
    "            bid_price = bid_price\n",
    "        )\n",
    "        buffer.append(starting_snapshot)\n",
    "\n",
    "    SimulatedStockBuffer.objects.bulk_create(buffer)\n",
    "\n",
    "generate_first_buffer()"
   ]
  },
  {
   "cell_type": "code",
   "execution_count": 32,
   "metadata": {},
   "outputs": [
    {
     "data": {
      "text/plain": [
       "5"
      ]
     },
     "execution_count": 32,
     "metadata": {},
     "output_type": "execute_result"
    }
   ],
   "source": [
    "updtd_stcks = []\n",
    "u_stocks = SimulatedStock.objects.all()\n",
    "for u_stck in u_stocks:\n",
    "    u_stck.price_steps_left = u_stck.avg_forward_steps\n",
    "    updtd_stcks.append(u_stck)\n",
    "\n",
    "u_stocks.bulk_update(updtd_stcks, [\"price_steps_left\"])"
   ]
  },
  {
   "cell_type": "code",
   "execution_count": 33,
   "metadata": {},
   "outputs": [],
   "source": [
    "SimulatedStockBuffer.objects.all().delete()\n",
    "generate_first_buffer()"
   ]
  },
  {
   "cell_type": "code",
   "execution_count": 34,
   "metadata": {},
   "outputs": [],
   "source": [
    "def reset_covariances():\n",
    "    updtd_covs = []\n",
    "    covs = SimulatedStockCovariance.objects.all()\n",
    "    for acov in covs:\n",
    "        acov.factor = 0\n",
    "        updtd_covs.append(acov)\n",
    "\n",
    "    SimulatedStockCovariance.objects.bulk_update(updtd_covs, [\"factor\",])\n",
    "\n",
    "reset_covariances()"
   ]
  },
  {
   "cell_type": "code",
   "execution_count": 36,
   "metadata": {},
   "outputs": [],
   "source": [
    "def reset_reverses():\n",
    "    updtd_covs = []\n",
    "    covs = SimulatedStock.objects.all()\n",
    "    n = 0\n",
    "    for acov in covs:\n",
    "        acov.avg_backward_steps = 1\n",
    "        if n>=3:\n",
    "            acov.avg_backward_steps = 10\n",
    "            acov.avg_forward_steps = 1\n",
    "            acov.price_gradient = -1*acov.price_gradient\n",
    "        else:\n",
    "            acov.avg_backward_steps = 1\n",
    "            acov.avg_forward_steps = 10\n",
    "        acov.max_price = 10000000\n",
    "        updtd_covs.append(acov)\n",
    "        n=n+1\n",
    "\n",
    "    SimulatedStock.objects.bulk_update(updtd_covs, [\"avg_backward_steps\", \"max_price\", \"price_gradient\"])\n",
    "\n",
    "reset_reverses()"
   ]
  }
 ],
 "metadata": {
  "kernelspec": {
   "display_name": "v2env",
   "language": "python",
   "name": "v2env"
  },
  "language_info": {
   "codemirror_mode": {
    "name": "ipython",
    "version": 3
   },
   "file_extension": ".py",
   "mimetype": "text/x-python",
   "name": "python",
   "nbconvert_exporter": "python",
   "pygments_lexer": "ipython3",
   "version": "3.10.13"
  },
  "orig_nbformat": 4
 },
 "nbformat": 4,
 "nbformat_minor": 2
}
