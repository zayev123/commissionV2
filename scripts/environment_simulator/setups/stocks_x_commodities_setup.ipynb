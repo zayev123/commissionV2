{
 "cells": [
  {
   "cell_type": "code",
   "execution_count": 1,
   "metadata": {},
   "outputs": [],
   "source": [
    "import sys\n",
    "import django\n",
    "import os\n",
    "file_dir = \"/Users/mirbilal/Desktop/MobCommission/commissionV2/\"\n",
    "if file_dir not in sys.path:\n",
    "    sys.path.insert(0, file_dir)\n",
    "\n",
    "os.environ[\"DJANGO_SETTINGS_MODULE\"] = \"commissionerv2.settings\"\n",
    "os.environ[\"DJANGO_ALLOW_ASYNC_UNSAFE\"] = \"true\" \n",
    "django.setup()\n",
    "from apps.environment_simulator.models import (\n",
    "    SimulatedStock, \n",
    "    SimulatedCommodity, \n",
    "    SimulatedStockXCommodity,\n",
    ")\n",
    "\n",
    "import numpy as np\n",
    "import json\n",
    "from datetime import datetime"
   ]
  },
  {
   "cell_type": "code",
   "execution_count": 3,
   "metadata": {},
   "outputs": [
    {
     "data": {
      "text/plain": [
       "[<SimulatedStockXCommodity: 421, stock_1, crude_oil>,\n",
       " <SimulatedStockXCommodity: 422, stock_1, natural_gas>,\n",
       " <SimulatedStockXCommodity: 423, stock_1, al_com>,\n",
       " <SimulatedStockXCommodity: 424, stock_1, copper>,\n",
       " <SimulatedStockXCommodity: 425, stock_1, nickel_lme>,\n",
       " <SimulatedStockXCommodity: 426, stock_1, lead_lme>,\n",
       " <SimulatedStockXCommodity: 427, stock_2, crude_oil>,\n",
       " <SimulatedStockXCommodity: 428, stock_2, natural_gas>,\n",
       " <SimulatedStockXCommodity: 429, stock_2, al_com>,\n",
       " <SimulatedStockXCommodity: 430, stock_2, copper>,\n",
       " <SimulatedStockXCommodity: 431, stock_2, nickel_lme>,\n",
       " <SimulatedStockXCommodity: 432, stock_2, lead_lme>,\n",
       " <SimulatedStockXCommodity: 433, stock_3, crude_oil>,\n",
       " <SimulatedStockXCommodity: 434, stock_3, natural_gas>,\n",
       " <SimulatedStockXCommodity: 435, stock_3, al_com>,\n",
       " <SimulatedStockXCommodity: 436, stock_3, copper>,\n",
       " <SimulatedStockXCommodity: 437, stock_3, nickel_lme>,\n",
       " <SimulatedStockXCommodity: 438, stock_3, lead_lme>,\n",
       " <SimulatedStockXCommodity: 439, stock_4, crude_oil>,\n",
       " <SimulatedStockXCommodity: 440, stock_4, natural_gas>,\n",
       " <SimulatedStockXCommodity: 441, stock_4, al_com>,\n",
       " <SimulatedStockXCommodity: 442, stock_4, copper>,\n",
       " <SimulatedStockXCommodity: 443, stock_4, nickel_lme>,\n",
       " <SimulatedStockXCommodity: 444, stock_4, lead_lme>,\n",
       " <SimulatedStockXCommodity: 445, stock_5, crude_oil>,\n",
       " <SimulatedStockXCommodity: 446, stock_5, natural_gas>,\n",
       " <SimulatedStockXCommodity: 447, stock_5, al_com>,\n",
       " <SimulatedStockXCommodity: 448, stock_5, copper>,\n",
       " <SimulatedStockXCommodity: 449, stock_5, nickel_lme>,\n",
       " <SimulatedStockXCommodity: 450, stock_5, lead_lme>]"
      ]
     },
     "execution_count": 3,
     "metadata": {},
     "output_type": "execute_result"
    }
   ],
   "source": [
    "np.random.seed(10)\n",
    "\n",
    "SimulatedStockXCommodity.objects.all().delete()\n",
    "stxcomvars = []\n",
    "accounted_for_xs = {}\n",
    "x_stcks = SimulatedStock.objects.all()\n",
    "x_cmmdts = SimulatedCommodity.objects.all()\n",
    "for x_stck in x_stcks:\n",
    "    # print(\"x_stck.id\", x_stck.id)\n",
    "    # print(\"recheck\", json.dumps(accounted_for_xs, indent=3))\n",
    "    if x_stck.id not in accounted_for_xs:\n",
    "        accounted_for_xs[x_stck.id] = {}\n",
    "    stck_cmmdts = accounted_for_xs[x_stck.id]\n",
    "    for a_cmmdty in x_cmmdts:\n",
    "        if (\n",
    "            a_cmmdty.id not in stck_cmmdts\n",
    "        ):\n",
    "            stck_cmmdts[a_cmmdty.id] = a_cmmdty.id\n",
    "            new_covar = SimulatedStockXCommodity(\n",
    "                stock = x_stck,\n",
    "                commodity = a_cmmdty,\n",
    "                factor = np.random.rand()*np.random.choice([0.5,-0.5])\n",
    "            )\n",
    "            stxcomvars.append(new_covar)\n",
    "\n",
    "SimulatedStockXCommodity.objects.bulk_create(stxcomvars)"
   ]
  }
 ],
 "metadata": {
  "kernelspec": {
   "display_name": "v2env",
   "language": "python",
   "name": "v2env"
  },
  "language_info": {
   "codemirror_mode": {
    "name": "ipython",
    "version": 3
   },
   "file_extension": ".py",
   "mimetype": "text/x-python",
   "name": "python",
   "nbconvert_exporter": "python",
   "pygments_lexer": "ipython3",
   "version": "3.10.13"
  },
  "orig_nbformat": 4
 },
 "nbformat": 4,
 "nbformat_minor": 2
}
