{
 "cells": [
  {
   "cell_type": "code",
   "execution_count": 1,
   "metadata": {},
   "outputs": [],
   "source": [
    "import sys\n",
    "import django\n",
    "import os\n",
    "file_dir = \"/Users/mirbilal/Desktop/MobCommission/commissionV2/\"\n",
    "if file_dir not in sys.path:\n",
    "    sys.path.insert(0, file_dir)\n",
    "\n",
    "os.environ[\"DJANGO_SETTINGS_MODULE\"] = \"commissionerv2.settings\"\n",
    "os.environ[\"DJANGO_ALLOW_ASYNC_UNSAFE\"] = \"true\" \n",
    "django.setup()\n",
    "from apps.environment_simulator.models import (\n",
    "    SimulatedStock, \n",
    "    SimulatedCommodity, \n",
    "    SimulatedStockXCommodity,\n",
    ")\n",
    "\n",
    "import numpy as np\n",
    "import json\n",
    "from datetime import datetime"
   ]
  },
  {
   "cell_type": "code",
   "execution_count": 2,
   "metadata": {},
   "outputs": [
    {
     "data": {
      "text/plain": [
       "[<SimulatedStockXCommodity: 61, stock_1, crude_oil>,\n",
       " <SimulatedStockXCommodity: 62, stock_1, natural_gas>,\n",
       " <SimulatedStockXCommodity: 63, stock_1, al_com>,\n",
       " <SimulatedStockXCommodity: 64, stock_1, copper>,\n",
       " <SimulatedStockXCommodity: 65, stock_1, nickel_lme>,\n",
       " <SimulatedStockXCommodity: 66, stock_1, lead_lme>,\n",
       " <SimulatedStockXCommodity: 67, stock_2, crude_oil>,\n",
       " <SimulatedStockXCommodity: 68, stock_2, natural_gas>,\n",
       " <SimulatedStockXCommodity: 69, stock_2, al_com>,\n",
       " <SimulatedStockXCommodity: 70, stock_2, copper>,\n",
       " <SimulatedStockXCommodity: 71, stock_2, nickel_lme>,\n",
       " <SimulatedStockXCommodity: 72, stock_2, lead_lme>,\n",
       " <SimulatedStockXCommodity: 73, stock_3, crude_oil>,\n",
       " <SimulatedStockXCommodity: 74, stock_3, natural_gas>,\n",
       " <SimulatedStockXCommodity: 75, stock_3, al_com>,\n",
       " <SimulatedStockXCommodity: 76, stock_3, copper>,\n",
       " <SimulatedStockXCommodity: 77, stock_3, nickel_lme>,\n",
       " <SimulatedStockXCommodity: 78, stock_3, lead_lme>,\n",
       " <SimulatedStockXCommodity: 79, stock_4, crude_oil>,\n",
       " <SimulatedStockXCommodity: 80, stock_4, natural_gas>,\n",
       " <SimulatedStockXCommodity: 81, stock_4, al_com>,\n",
       " <SimulatedStockXCommodity: 82, stock_4, copper>,\n",
       " <SimulatedStockXCommodity: 83, stock_4, nickel_lme>,\n",
       " <SimulatedStockXCommodity: 84, stock_4, lead_lme>,\n",
       " <SimulatedStockXCommodity: 85, stock_5, crude_oil>,\n",
       " <SimulatedStockXCommodity: 86, stock_5, natural_gas>,\n",
       " <SimulatedStockXCommodity: 87, stock_5, al_com>,\n",
       " <SimulatedStockXCommodity: 88, stock_5, copper>,\n",
       " <SimulatedStockXCommodity: 89, stock_5, nickel_lme>,\n",
       " <SimulatedStockXCommodity: 90, stock_5, lead_lme>]"
      ]
     },
     "execution_count": 2,
     "metadata": {},
     "output_type": "execute_result"
    }
   ],
   "source": [
    "np.random.seed(0)\n",
    "\n",
    "SimulatedStockXCommodity.objects.all().delete()\n",
    "stxcomvars = []\n",
    "accounted_for_xs = {}\n",
    "x_stcks = SimulatedStock.objects.all()\n",
    "x_cmmdts = SimulatedCommodity.objects.all()\n",
    "for x_stck in x_stcks:\n",
    "    # print(\"x_stck.id\", x_stck.id)\n",
    "    # print(\"recheck\", json.dumps(accounted_for_xs, indent=3))\n",
    "    if x_stck.id not in accounted_for_xs:\n",
    "        accounted_for_xs[x_stck.id] = {}\n",
    "    stck_cmmdts = accounted_for_xs[x_stck.id]\n",
    "    for a_cmmdty in x_cmmdts:\n",
    "        if (\n",
    "            a_cmmdty.id not in stck_cmmdts\n",
    "        ):\n",
    "            stck_cmmdts[a_cmmdty.id] = a_cmmdty.id\n",
    "            new_covar = SimulatedStockXCommodity(\n",
    "                stock = x_stck,\n",
    "                commodity = a_cmmdty,\n",
    "                factor = np.random.rand()*np.random.choice([0.5,-0.5])\n",
    "            )\n",
    "            stxcomvars.append(new_covar)\n",
    "\n",
    "SimulatedStockXCommodity.objects.bulk_create(stxcomvars)"
   ]
  }
 ],
 "metadata": {
  "kernelspec": {
   "display_name": "v2env",
   "language": "python",
   "name": "v2env"
  },
  "language_info": {
   "codemirror_mode": {
    "name": "ipython",
    "version": 3
   },
   "file_extension": ".py",
   "mimetype": "text/x-python",
   "name": "python",
   "nbconvert_exporter": "python",
   "pygments_lexer": "ipython3",
   "version": "3.10.13"
  },
  "orig_nbformat": 4
 },
 "nbformat": 4,
 "nbformat_minor": 2
}
