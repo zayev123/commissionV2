{
 "cells": [
  {
   "cell_type": "code",
   "execution_count": 1,
   "metadata": {},
   "outputs": [],
   "source": [
    "import sys\n",
    "import django\n",
    "import os\n",
    "file_dir = \"/Users/mirbilal/Desktop/MobCommission/commissionV2/\"\n",
    "if file_dir not in sys.path:\n",
    "    sys.path.insert(0, file_dir)\n",
    "\n",
    "os.environ[\"DJANGO_SETTINGS_MODULE\"] = \"commissionerv2.settings\"\n",
    "os.environ[\"DJANGO_ALLOW_ASYNC_UNSAFE\"] = \"true\" \n",
    "django.setup()\n",
    "from apps.environment_simulator.models import (\n",
    "    SimulatedStock, \n",
    "    SimulatedCommodity, \n",
    "    SimulatedStockXCommodity,\n",
    ")\n",
    "\n",
    "import numpy as np\n",
    "import json\n",
    "from datetime import datetime"
   ]
  },
  {
   "cell_type": "code",
   "execution_count": 2,
   "metadata": {},
   "outputs": [
    {
     "data": {
      "text/plain": [
       "[<SimulatedStockXCommodity: 1, stock_1, crude_oil>,\n",
       " <SimulatedStockXCommodity: 2, stock_1, natural_gas>,\n",
       " <SimulatedStockXCommodity: 3, stock_1, al_com>,\n",
       " <SimulatedStockXCommodity: 4, stock_1, copper>,\n",
       " <SimulatedStockXCommodity: 5, stock_1, nickel_lme>,\n",
       " <SimulatedStockXCommodity: 6, stock_1, lead_lme>,\n",
       " <SimulatedStockXCommodity: 7, stock_2, crude_oil>,\n",
       " <SimulatedStockXCommodity: 8, stock_2, natural_gas>,\n",
       " <SimulatedStockXCommodity: 9, stock_2, al_com>,\n",
       " <SimulatedStockXCommodity: 10, stock_2, copper>,\n",
       " <SimulatedStockXCommodity: 11, stock_2, nickel_lme>,\n",
       " <SimulatedStockXCommodity: 12, stock_2, lead_lme>,\n",
       " <SimulatedStockXCommodity: 13, stock_3, crude_oil>,\n",
       " <SimulatedStockXCommodity: 14, stock_3, natural_gas>,\n",
       " <SimulatedStockXCommodity: 15, stock_3, al_com>,\n",
       " <SimulatedStockXCommodity: 16, stock_3, copper>,\n",
       " <SimulatedStockXCommodity: 17, stock_3, nickel_lme>,\n",
       " <SimulatedStockXCommodity: 18, stock_3, lead_lme>,\n",
       " <SimulatedStockXCommodity: 19, stock_4, crude_oil>,\n",
       " <SimulatedStockXCommodity: 20, stock_4, natural_gas>,\n",
       " <SimulatedStockXCommodity: 21, stock_4, al_com>,\n",
       " <SimulatedStockXCommodity: 22, stock_4, copper>,\n",
       " <SimulatedStockXCommodity: 23, stock_4, nickel_lme>,\n",
       " <SimulatedStockXCommodity: 24, stock_4, lead_lme>,\n",
       " <SimulatedStockXCommodity: 25, stock_5, crude_oil>,\n",
       " <SimulatedStockXCommodity: 26, stock_5, natural_gas>,\n",
       " <SimulatedStockXCommodity: 27, stock_5, al_com>,\n",
       " <SimulatedStockXCommodity: 28, stock_5, copper>,\n",
       " <SimulatedStockXCommodity: 29, stock_5, nickel_lme>,\n",
       " <SimulatedStockXCommodity: 30, stock_5, lead_lme>]"
      ]
     },
     "execution_count": 2,
     "metadata": {},
     "output_type": "execute_result"
    }
   ],
   "source": [
    "np.random.seed(0)\n",
    "\n",
    "SimulatedStockXCommodity.objects.all().delete()\n",
    "stxcomvars = []\n",
    "accounted_for_xs = {}\n",
    "x_stcks = SimulatedStock.objects.all()\n",
    "x_cmmdts = SimulatedCommodity.objects.all()\n",
    "for x_stck in x_stcks:\n",
    "    # print(\"x_stck.id\", x_stck.id)\n",
    "    # print(\"recheck\", json.dumps(accounted_for_xs, indent=3))\n",
    "    if x_stck.id not in accounted_for_xs:\n",
    "        accounted_for_xs[x_stck.id] = {}\n",
    "    stck_cmmdts = accounted_for_xs[x_stck.id]\n",
    "    for a_cmmdty in x_cmmdts:\n",
    "        if (\n",
    "            a_cmmdty.id not in stck_cmmdts\n",
    "        ):\n",
    "            stck_cmmdts[a_cmmdty.id] = a_cmmdty.id\n",
    "            new_covar = SimulatedStockXCommodity(\n",
    "                stock = x_stck,\n",
    "                commodity = a_cmmdty,\n",
    "                factor = np.random.rand()*np.random.choice([0.5,-0.5])\n",
    "            )\n",
    "            stxcomvars.append(new_covar)\n",
    "\n",
    "SimulatedStockXCommodity.objects.bulk_create(stxcomvars)"
   ]
  }
 ],
 "metadata": {
  "kernelspec": {
   "display_name": "v2env",
   "language": "python",
   "name": "v2env"
  },
  "language_info": {
   "codemirror_mode": {
    "name": "ipython",
    "version": 3
   },
   "file_extension": ".py",
   "mimetype": "text/x-python",
   "name": "python",
   "nbconvert_exporter": "python",
   "pygments_lexer": "ipython3",
   "version": "3.10.13"
  },
  "orig_nbformat": 4
 },
 "nbformat": 4,
 "nbformat_minor": 2
}
