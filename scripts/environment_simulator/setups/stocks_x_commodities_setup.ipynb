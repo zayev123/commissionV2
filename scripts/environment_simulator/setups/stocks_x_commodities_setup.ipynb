{
 "cells": [
  {
   "cell_type": "code",
   "execution_count": 1,
   "metadata": {},
   "outputs": [],
   "source": [
    "import sys\n",
    "import django\n",
    "import os\n",
    "file_dir = \"/Users/mirbilal/Desktop/MobCommission/commissionV2/\"\n",
    "if file_dir not in sys.path:\n",
    "    sys.path.insert(0, file_dir)\n",
    "\n",
    "os.environ[\"DJANGO_SETTINGS_MODULE\"] = \"commissionerv2.settings\"\n",
    "os.environ[\"DJANGO_ALLOW_ASYNC_UNSAFE\"] = \"true\" \n",
    "django.setup()\n",
    "from apps.environment_simulator.models import (\n",
    "    SimulatedStock, \n",
    "    SimulatedCommodity, \n",
    "    SimulatedStockXCommodity,\n",
    ")\n",
    "\n",
    "import numpy as np\n",
    "import json\n",
    "from datetime import datetime"
   ]
  },
  {
   "cell_type": "code",
   "execution_count": 2,
   "metadata": {},
   "outputs": [
    {
     "data": {
      "text/plain": [
       "[<SimulatedStockXCommodity: 481, stock_1, crude_oil>,\n",
       " <SimulatedStockXCommodity: 482, stock_1, natural_gas>,\n",
       " <SimulatedStockXCommodity: 483, stock_1, al_com>,\n",
       " <SimulatedStockXCommodity: 484, stock_1, copper>,\n",
       " <SimulatedStockXCommodity: 485, stock_1, nickel_lme>,\n",
       " <SimulatedStockXCommodity: 486, stock_1, lead_lme>,\n",
       " <SimulatedStockXCommodity: 487, stock_2, crude_oil>,\n",
       " <SimulatedStockXCommodity: 488, stock_2, natural_gas>,\n",
       " <SimulatedStockXCommodity: 489, stock_2, al_com>,\n",
       " <SimulatedStockXCommodity: 490, stock_2, copper>,\n",
       " <SimulatedStockXCommodity: 491, stock_2, nickel_lme>,\n",
       " <SimulatedStockXCommodity: 492, stock_2, lead_lme>,\n",
       " <SimulatedStockXCommodity: 493, stock_3, crude_oil>,\n",
       " <SimulatedStockXCommodity: 494, stock_3, natural_gas>,\n",
       " <SimulatedStockXCommodity: 495, stock_3, al_com>,\n",
       " <SimulatedStockXCommodity: 496, stock_3, copper>,\n",
       " <SimulatedStockXCommodity: 497, stock_3, nickel_lme>,\n",
       " <SimulatedStockXCommodity: 498, stock_3, lead_lme>,\n",
       " <SimulatedStockXCommodity: 499, stock_4, crude_oil>,\n",
       " <SimulatedStockXCommodity: 500, stock_4, natural_gas>,\n",
       " <SimulatedStockXCommodity: 501, stock_4, al_com>,\n",
       " <SimulatedStockXCommodity: 502, stock_4, copper>,\n",
       " <SimulatedStockXCommodity: 503, stock_4, nickel_lme>,\n",
       " <SimulatedStockXCommodity: 504, stock_4, lead_lme>,\n",
       " <SimulatedStockXCommodity: 505, stock_5, crude_oil>,\n",
       " <SimulatedStockXCommodity: 506, stock_5, natural_gas>,\n",
       " <SimulatedStockXCommodity: 507, stock_5, al_com>,\n",
       " <SimulatedStockXCommodity: 508, stock_5, copper>,\n",
       " <SimulatedStockXCommodity: 509, stock_5, nickel_lme>,\n",
       " <SimulatedStockXCommodity: 510, stock_5, lead_lme>]"
      ]
     },
     "execution_count": 2,
     "metadata": {},
     "output_type": "execute_result"
    }
   ],
   "source": [
    "np.random.seed(10)\n",
    "\n",
    "SimulatedStockXCommodity.objects.all().delete()\n",
    "stxcomvars = []\n",
    "accounted_for_xs = {}\n",
    "x_stcks = SimulatedStock.objects.all()\n",
    "x_cmmdts = SimulatedCommodity.objects.all()\n",
    "for x_stck in x_stcks:\n",
    "    # print(\"x_stck.id\", x_stck.id)\n",
    "    # print(\"recheck\", json.dumps(accounted_for_xs, indent=3))\n",
    "    if x_stck.id not in accounted_for_xs:\n",
    "        accounted_for_xs[x_stck.id] = {}\n",
    "    stck_cmmdts = accounted_for_xs[x_stck.id]\n",
    "    for a_cmmdty in x_cmmdts:\n",
    "        if (\n",
    "            a_cmmdty.id not in stck_cmmdts\n",
    "        ):\n",
    "            stck_cmmdts[a_cmmdty.id] = a_cmmdty.id\n",
    "            new_covar = SimulatedStockXCommodity(\n",
    "                stock = x_stck,\n",
    "                commodity = a_cmmdty,\n",
    "                factor = np.random.rand()*np.random.choice([0.5,-0.5])\n",
    "            )\n",
    "            stxcomvars.append(new_covar)\n",
    "\n",
    "SimulatedStockXCommodity.objects.bulk_create(stxcomvars)"
   ]
  },
  {
   "cell_type": "code",
   "execution_count": 3,
   "metadata": {},
   "outputs": [],
   "source": [
    "def reset_covariances():\n",
    "    updtd_covs = []\n",
    "    covs = SimulatedStockXCommodity.objects.all()\n",
    "    for acov in covs:\n",
    "        acov.factor = 0\n",
    "        updtd_covs.append(acov)\n",
    "\n",
    "    SimulatedStockXCommodity.objects.bulk_update(updtd_covs, [\"factor\",])\n",
    "\n",
    "# reset_covariances()"
   ]
  }
 ],
 "metadata": {
  "kernelspec": {
   "display_name": "v2env",
   "language": "python",
   "name": "v2env"
  },
  "language_info": {
   "codemirror_mode": {
    "name": "ipython",
    "version": 3
   },
   "file_extension": ".py",
   "mimetype": "text/x-python",
   "name": "python",
   "nbconvert_exporter": "python",
   "pygments_lexer": "ipython3",
   "version": "3.10.13"
  },
  "orig_nbformat": 4
 },
 "nbformat": 4,
 "nbformat_minor": 2
}
