{
 "cells": [
  {
   "cell_type": "code",
   "execution_count": 1,
   "metadata": {},
   "outputs": [],
   "source": [
    "import sys\n",
    "import django\n",
    "import os\n",
    "file_dir = \"/Users/mirbilal/Desktop/MobCommission/commissionV2/\"\n",
    "if file_dir not in sys.path:\n",
    "    sys.path.insert(0, file_dir)\n",
    "\n",
    "os.environ[\"DJANGO_SETTINGS_MODULE\"] = \"commissionerv2.settings\"\n",
    "os.environ[\"DJANGO_ALLOW_ASYNC_UNSAFE\"] = \"true\" \n",
    "django.setup()\n",
    "from apps.environment_simulator.models import (\n",
    "    SimulatedStock, \n",
    "    SimulatedCommodity, \n",
    "    SimulatedStockXCommodity,\n",
    ")\n",
    "\n",
    "import numpy as np\n",
    "import json\n",
    "from datetime import datetime"
   ]
  },
  {
   "cell_type": "code",
   "execution_count": 2,
   "metadata": {},
   "outputs": [
    {
     "data": {
      "text/plain": [
       "[<SimulatedStockXCommodity: 31, stock_1, crude_oil>,\n",
       " <SimulatedStockXCommodity: 32, stock_1, natural_gas>,\n",
       " <SimulatedStockXCommodity: 33, stock_1, al_com>,\n",
       " <SimulatedStockXCommodity: 34, stock_1, copper>,\n",
       " <SimulatedStockXCommodity: 35, stock_1, nickel_lme>,\n",
       " <SimulatedStockXCommodity: 36, stock_1, lead_lme>,\n",
       " <SimulatedStockXCommodity: 37, stock_2, crude_oil>,\n",
       " <SimulatedStockXCommodity: 38, stock_2, natural_gas>,\n",
       " <SimulatedStockXCommodity: 39, stock_2, al_com>,\n",
       " <SimulatedStockXCommodity: 40, stock_2, copper>,\n",
       " <SimulatedStockXCommodity: 41, stock_2, nickel_lme>,\n",
       " <SimulatedStockXCommodity: 42, stock_2, lead_lme>,\n",
       " <SimulatedStockXCommodity: 43, stock_3, crude_oil>,\n",
       " <SimulatedStockXCommodity: 44, stock_3, natural_gas>,\n",
       " <SimulatedStockXCommodity: 45, stock_3, al_com>,\n",
       " <SimulatedStockXCommodity: 46, stock_3, copper>,\n",
       " <SimulatedStockXCommodity: 47, stock_3, nickel_lme>,\n",
       " <SimulatedStockXCommodity: 48, stock_3, lead_lme>,\n",
       " <SimulatedStockXCommodity: 49, stock_4, crude_oil>,\n",
       " <SimulatedStockXCommodity: 50, stock_4, natural_gas>,\n",
       " <SimulatedStockXCommodity: 51, stock_4, al_com>,\n",
       " <SimulatedStockXCommodity: 52, stock_4, copper>,\n",
       " <SimulatedStockXCommodity: 53, stock_4, nickel_lme>,\n",
       " <SimulatedStockXCommodity: 54, stock_4, lead_lme>,\n",
       " <SimulatedStockXCommodity: 55, stock_5, crude_oil>,\n",
       " <SimulatedStockXCommodity: 56, stock_5, natural_gas>,\n",
       " <SimulatedStockXCommodity: 57, stock_5, al_com>,\n",
       " <SimulatedStockXCommodity: 58, stock_5, copper>,\n",
       " <SimulatedStockXCommodity: 59, stock_5, nickel_lme>,\n",
       " <SimulatedStockXCommodity: 60, stock_5, lead_lme>]"
      ]
     },
     "execution_count": 2,
     "metadata": {},
     "output_type": "execute_result"
    }
   ],
   "source": [
    "np.random.seed(0)\n",
    "\n",
    "SimulatedStockXCommodity.objects.all().delete()\n",
    "stxcomvars = []\n",
    "accounted_for_xs = {}\n",
    "x_stcks = SimulatedStock.objects.all()\n",
    "x_cmmdts = SimulatedCommodity.objects.all()\n",
    "for x_stck in x_stcks:\n",
    "    # print(\"x_stck.id\", x_stck.id)\n",
    "    # print(\"recheck\", json.dumps(accounted_for_xs, indent=3))\n",
    "    if x_stck.id not in accounted_for_xs:\n",
    "        accounted_for_xs[x_stck.id] = {}\n",
    "    stck_cmmdts = accounted_for_xs[x_stck.id]\n",
    "    for a_cmmdty in x_cmmdts:\n",
    "        if (\n",
    "            a_cmmdty.id not in stck_cmmdts\n",
    "        ):\n",
    "            stck_cmmdts[a_cmmdty.id] = a_cmmdty.id\n",
    "            new_covar = SimulatedStockXCommodity(\n",
    "                stock = x_stck,\n",
    "                commodity = a_cmmdty,\n",
    "                factor = np.random.rand()*np.random.choice([0.5,-0.5])\n",
    "            )\n",
    "            stxcomvars.append(new_covar)\n",
    "\n",
    "SimulatedStockXCommodity.objects.bulk_create(stxcomvars)"
   ]
  }
 ],
 "metadata": {
  "kernelspec": {
   "display_name": "v2env",
   "language": "python",
   "name": "v2env"
  },
  "language_info": {
   "codemirror_mode": {
    "name": "ipython",
    "version": 3
   },
   "file_extension": ".py",
   "mimetype": "text/x-python",
   "name": "python",
   "nbconvert_exporter": "python",
   "pygments_lexer": "ipython3",
   "version": "3.10.13"
  },
  "orig_nbformat": 4
 },
 "nbformat": 4,
 "nbformat_minor": 2
}
