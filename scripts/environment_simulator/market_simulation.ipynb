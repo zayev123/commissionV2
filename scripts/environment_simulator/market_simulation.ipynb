{
 "cells": [
  {
   "cell_type": "code",
   "execution_count": 1,
   "metadata": {},
   "outputs": [
    {
     "name": "stderr",
     "output_type": "stream",
     "text": [
      "2023-10-09 06:38:01,798\tWARNING deprecation.py:50 -- DeprecationWarning: `DirectStepOptimizer` has been deprecated. This will raise an error in the future!\n"
     ]
    }
   ],
   "source": [
    "import sys\n",
    "import django\n",
    "import os\n",
    "file_dir = \"/Users/mirbilal/Desktop/MobCommission/commissionV2/\"\n",
    "if file_dir not in sys.path:\n",
    "    sys.path.insert(0, file_dir)\n",
    "\n",
    "os.environ[\"DJANGO_SETTINGS_MODULE\"] = \"commissionerv2.settings\"\n",
    "os.environ[\"DJANGO_ALLOW_ASYNC_UNSAFE\"] = \"true\" \n",
    "django.setup()\n",
    "import numpy as np\n",
    "import json\n",
    "from datetime import datetime\n",
    "from dateutil.relativedelta import relativedelta\n",
    "import pytz\n",
    "import pandas as pd\n",
    "import cufflinks as cf\n",
    "from django.db.models import Q\n",
    "from apps.environment_simulator.sevice_layer.market_simulator import MarketSimulator\n",
    "from apps.environment_simulator.models import SimulatedStockBuffer\n",
    "import gymnasium as gym\n",
    "import ray\n",
    "from gymnasium import spaces\n",
    "from ray.rllib.algorithms import ppo\n",
    "from os import path, environ\n",
    "from gymnasium.envs.registration import register\n",
    "from ray import tune"
   ]
  },
  {
   "cell_type": "code",
   "execution_count": 2,
   "metadata": {},
   "outputs": [],
   "source": [
    "db_params = {\n",
    "    'database': environ.get(\"POSTGRES_DB\"),\n",
    "    'user': environ.get(\"POSTGRES_USER\"),\n",
    "    'password': environ.get(\"POSTGRES_PASSWORD\"),\n",
    "    'host': environ.get(\"DB_HOST\"),\n",
    "    'port': environ.get(\"DB_PORT\"),\n",
    "}"
   ]
  },
  {
   "cell_type": "code",
   "execution_count": 3,
   "metadata": {},
   "outputs": [
    {
     "name": "stderr",
     "output_type": "stream",
     "text": [
      "2023-10-09 06:34:31,940\tINFO worker.py:1642 -- Started a local Ray instance.\n",
      "2023-10-09 06:34:32,428\tINFO packaging.py:518 -- Creating a file package for local directory '/Users/mirbilal/Desktop/MobCommission/commissionV2/'.\n",
      "2023-10-09 06:34:32,690\tINFO packaging.py:346 -- Pushing file package 'gcs://_ray_pkg_97ddacf686826631.zip' (8.28MiB) to Ray cluster...\n",
      "2023-10-09 06:34:32,727\tINFO packaging.py:359 -- Successfully pushed file package 'gcs://_ray_pkg_97ddacf686826631.zip'.\n",
      "2023-10-09 06:34:34,211\tWARNING algorithm_config.py:2578 -- Setting `exploration_config={}` because you set `_enable_rl_module_api=True`. When RLModule API are enabled, exploration_config can not be set. If you want to implement custom exploration behaviour, please modify the `forward_exploration` method of the RLModule at hand. On configs that have a default exploration config, this must be done with `config.exploration_config={}`.\n",
      "/Users/mirbilal/Desktop/MobCommission/commissionV2/v2env/lib/python3.10/site-packages/ray/rllib/algorithms/algorithm.py:484: RayDeprecationWarning:\n",
      "\n",
      "This API is deprecated and may be removed in future Ray releases. You could suppress this warning by setting env variable PYTHONWARNINGS=\"ignore::DeprecationWarning\"\n",
      "`UnifiedLogger` will be removed in Ray 2.7.\n",
      "\n",
      "/Users/mirbilal/Desktop/MobCommission/commissionV2/v2env/lib/python3.10/site-packages/ray/tune/logger/unified.py:53: RayDeprecationWarning:\n",
      "\n",
      "This API is deprecated and may be removed in future Ray releases. You could suppress this warning by setting env variable PYTHONWARNINGS=\"ignore::DeprecationWarning\"\n",
      "The `JsonLogger interface is deprecated in favor of the `ray.tune.json.JsonLoggerCallback` interface and will be removed in Ray 2.7.\n",
      "\n",
      "/Users/mirbilal/Desktop/MobCommission/commissionV2/v2env/lib/python3.10/site-packages/ray/tune/logger/unified.py:53: RayDeprecationWarning:\n",
      "\n",
      "This API is deprecated and may be removed in future Ray releases. You could suppress this warning by setting env variable PYTHONWARNINGS=\"ignore::DeprecationWarning\"\n",
      "The `CSVLogger interface is deprecated in favor of the `ray.tune.csv.CSVLoggerCallback` interface and will be removed in Ray 2.7.\n",
      "\n",
      "/Users/mirbilal/Desktop/MobCommission/commissionV2/v2env/lib/python3.10/site-packages/ray/tune/logger/unified.py:53: RayDeprecationWarning:\n",
      "\n",
      "This API is deprecated and may be removed in future Ray releases. You could suppress this warning by setting env variable PYTHONWARNINGS=\"ignore::DeprecationWarning\"\n",
      "The `TBXLogger interface is deprecated in favor of the `ray.tune.tensorboardx.TBXLoggerCallback` interface and will be removed in Ray 2.7.\n",
      "\n",
      "\u001b[2m\u001b[36m(pid=3597)\u001b[0m DeprecationWarning: `DirectStepOptimizer` has been deprecated. This will raise an error in the future!\n",
      "\u001b[2m\u001b[36m(RolloutWorker pid=3597)\u001b[0m /Users/mirbilal/Desktop/MobCommission/commissionV2/v2env/lib/python3.10/site-packages/gymnasium/wrappers/compatibility.py:60: DeprecationWarning: \u001b[33mWARN: The `gymnasium.make(..., apply_api_compatibility=...)` parameter is deprecated and will be removed in v1.0. Instead use `gymnasium.make('GymV21Environment-v0', env_name=...)` or `from shimmy import GymV21CompatibilityV0`\u001b[0m\n",
      "\u001b[2m\u001b[36m(RolloutWorker pid=3597)\u001b[0m   logger.deprecation(\n",
      "\u001b[2m\u001b[36m(RolloutWorker pid=3594)\u001b[0m 2023-10-09 06:34:45,679\tWARNING utils.py:152 -- `config.auto_wrap_old_gym_envs` is activated AND you seem to have provided an old gym-API environment. RLlib will therefore try to auto-fix the following error. However, please consider switching over to the new `gymnasium` APIs:\n",
      "\u001b[2m\u001b[36m(RolloutWorker pid=3594)\u001b[0m Your environment ({}) does not abide to the new gymnasium-style API!\n",
      "\u001b[2m\u001b[36m(RolloutWorker pid=3594)\u001b[0m From Ray 2.3 on, RLlib only supports the new (gym>=0.26 or gymnasium) Env APIs.\n",
      "\u001b[2m\u001b[36m(RolloutWorker pid=3594)\u001b[0m {}\n",
      "\u001b[2m\u001b[36m(RolloutWorker pid=3594)\u001b[0m Learn more about the most important changes here:\n",
      "\u001b[2m\u001b[36m(RolloutWorker pid=3594)\u001b[0m https://github.com/openai/gym and here: https://github.com/Farama-Foundation/Gymnasium\n",
      "\u001b[2m\u001b[36m(RolloutWorker pid=3594)\u001b[0m \n",
      "\u001b[2m\u001b[36m(RolloutWorker pid=3594)\u001b[0m In order to fix this problem, do the following:\n",
      "\u001b[2m\u001b[36m(RolloutWorker pid=3594)\u001b[0m \n",
      "\u001b[2m\u001b[36m(RolloutWorker pid=3594)\u001b[0m 1) Run `pip install gymnasium` on your command line.\n",
      "\u001b[2m\u001b[36m(RolloutWorker pid=3594)\u001b[0m 2) Change all your import statements in your code from\n",
      "\u001b[2m\u001b[36m(RolloutWorker pid=3594)\u001b[0m    `import gym` -> `import gymnasium as gym` OR\n",
      "\u001b[2m\u001b[36m(RolloutWorker pid=3594)\u001b[0m    `from gym.space import Discrete` -> `from gymnasium.spaces import Discrete`\n",
      "\u001b[2m\u001b[36m(RolloutWorker pid=3594)\u001b[0m \n",
      "\u001b[2m\u001b[36m(RolloutWorker pid=3594)\u001b[0m For your custom (single agent) gym.Env classes:\n",
      "\u001b[2m\u001b[36m(RolloutWorker pid=3594)\u001b[0m 3.1) Either wrap your old Env class via the provided `from gymnasium.wrappers import\n",
      "\u001b[2m\u001b[36m(RolloutWorker pid=3594)\u001b[0m      EnvCompatibility` wrapper class.\n",
      "\u001b[2m\u001b[36m(RolloutWorker pid=3594)\u001b[0m 3.2) Alternatively to 3.1:\n",
      "\u001b[2m\u001b[36m(RolloutWorker pid=3594)\u001b[0m  - Change your `reset()` method to have the call signature 'def reset(self, *,\n",
      "\u001b[2m\u001b[36m(RolloutWorker pid=3594)\u001b[0m    seed=None, options=None)'\n",
      "\u001b[2m\u001b[36m(RolloutWorker pid=3594)\u001b[0m  - Return an additional info dict (empty dict should be fine) from your `reset()`\n",
      "\u001b[2m\u001b[36m(RolloutWorker pid=3594)\u001b[0m    method.\n",
      "\u001b[2m\u001b[36m(RolloutWorker pid=3594)\u001b[0m  - Return an additional `truncated` flag from your `step()` method (between `done` and\n",
      "\u001b[2m\u001b[36m(RolloutWorker pid=3594)\u001b[0m    `info`). This flag should indicate, whether the episode was terminated prematurely\n",
      "\u001b[2m\u001b[36m(RolloutWorker pid=3594)\u001b[0m    due to some time constraint or other kind of horizon setting.\n",
      "\u001b[2m\u001b[36m(RolloutWorker pid=3594)\u001b[0m \n",
      "\u001b[2m\u001b[36m(RolloutWorker pid=3594)\u001b[0m For your custom RLlib `MultiAgentEnv` classes:\n",
      "\u001b[2m\u001b[36m(RolloutWorker pid=3594)\u001b[0m 4.1) Either wrap your old MultiAgentEnv via the provided\n",
      "\u001b[2m\u001b[36m(RolloutWorker pid=3594)\u001b[0m      `from ray.rllib.env.wrappers.multi_agent_env_compatibility import\n",
      "\u001b[2m\u001b[36m(RolloutWorker pid=3594)\u001b[0m      MultiAgentEnvCompatibility` wrapper class.\n",
      "\u001b[2m\u001b[36m(RolloutWorker pid=3594)\u001b[0m 4.2) Alternatively to 4.1:\n",
      "\u001b[2m\u001b[36m(RolloutWorker pid=3594)\u001b[0m  - Change your `reset()` method to have the call signature\n",
      "\u001b[2m\u001b[36m(RolloutWorker pid=3594)\u001b[0m    'def reset(self, *, seed=None, options=None)'\n",
      "\u001b[2m\u001b[36m(RolloutWorker pid=3594)\u001b[0m  - Return an additional per-agent info dict (empty dict should be fine) from your\n",
      "\u001b[2m\u001b[36m(RolloutWorker pid=3594)\u001b[0m    `reset()` method.\n",
      "\u001b[2m\u001b[36m(RolloutWorker pid=3594)\u001b[0m  - Rename `dones` into `terminateds` and only set this to True, if the episode is really\n",
      "\u001b[2m\u001b[36m(RolloutWorker pid=3594)\u001b[0m    done (as opposed to has been terminated prematurely due to some horizon/time-limit\n",
      "\u001b[2m\u001b[36m(RolloutWorker pid=3594)\u001b[0m    setting).\n",
      "\u001b[2m\u001b[36m(RolloutWorker pid=3594)\u001b[0m  - Return an additional `truncateds` per-agent dictionary flag from your `step()`\n",
      "\u001b[2m\u001b[36m(RolloutWorker pid=3594)\u001b[0m    method, including the `__all__` key (100% analogous to your `dones/terminateds`\n",
      "\u001b[2m\u001b[36m(RolloutWorker pid=3594)\u001b[0m    per-agent dict).\n",
      "\u001b[2m\u001b[36m(RolloutWorker pid=3594)\u001b[0m    Return this new `truncateds` dict between `dones/terminateds` and `infos`. This\n",
      "\u001b[2m\u001b[36m(RolloutWorker pid=3594)\u001b[0m    flag should indicate, whether the episode (for some agent or all agents) was\n",
      "\u001b[2m\u001b[36m(RolloutWorker pid=3594)\u001b[0m    terminated prematurely due to some time constraint or other kind of horizon setting.\n",
      "\u001b[2m\u001b[36m(RolloutWorker pid=3594)\u001b[0m \n",
      "\u001b[2m\u001b[36m(RolloutWorker pid=3594)\u001b[0m 2023-10-09 06:34:45,706\tWARNING env.py:162 -- Your env doesn't have a .spec.max_episode_steps attribute. Your horizon will default to infinity, and your environment will not be reset.\n",
      "2023-10-09 06:34:45,809\tWARNING algorithm_config.py:2578 -- Setting `exploration_config={}` because you set `_enable_rl_module_api=True`. When RLModule API are enabled, exploration_config can not be set. If you want to implement custom exploration behaviour, please modify the `forward_exploration` method of the RLModule at hand. On configs that have a default exploration config, this must be done with `config.exploration_config={}`.\n",
      "\u001b[2m\u001b[36m(RolloutWorker pid=3597)\u001b[0m 2023-10-09 06:34:45,764\tWARNING algorithm_config.py:2578 -- Setting `exploration_config={}` because you set `_enable_rl_module_api=True`. When RLModule API are enabled, exploration_config can not be set. If you want to implement custom exploration behaviour, please modify the `forward_exploration` method of the RLModule at hand. On configs that have a default exploration config, this must be done with `config.exploration_config={}`.\n",
      "\u001b[2m\u001b[36m(RolloutWorker pid=3594)\u001b[0m 2023-10-09 06:34:45,786\tWARNING deprecation.py:50 -- DeprecationWarning: `ValueNetworkMixin` has been deprecated. This will raise an error in the future!\n",
      "\u001b[2m\u001b[36m(RolloutWorker pid=3594)\u001b[0m 2023-10-09 06:34:45,786\tWARNING deprecation.py:50 -- DeprecationWarning: `LearningRateSchedule` has been deprecated. This will raise an error in the future!\n",
      "\u001b[2m\u001b[36m(RolloutWorker pid=3594)\u001b[0m 2023-10-09 06:34:45,786\tWARNING deprecation.py:50 -- DeprecationWarning: `EntropyCoeffSchedule` has been deprecated. This will raise an error in the future!\n",
      "\u001b[2m\u001b[36m(RolloutWorker pid=3594)\u001b[0m 2023-10-09 06:34:45,786\tWARNING deprecation.py:50 -- DeprecationWarning: `KLCoeffMixin` has been deprecated. This will raise an error in the future!\n",
      "2023-10-09 06:34:45,822\tWARNING deprecation.py:50 -- DeprecationWarning: `ValueNetworkMixin` has been deprecated. This will raise an error in the future!\n",
      "2023-10-09 06:34:45,823\tWARNING deprecation.py:50 -- DeprecationWarning: `LearningRateSchedule` has been deprecated. This will raise an error in the future!\n",
      "2023-10-09 06:34:45,823\tWARNING deprecation.py:50 -- DeprecationWarning: `EntropyCoeffSchedule` has been deprecated. This will raise an error in the future!\n",
      "2023-10-09 06:34:45,824\tWARNING deprecation.py:50 -- DeprecationWarning: `KLCoeffMixin` has been deprecated. This will raise an error in the future!\n",
      "2023-10-09 06:34:46,322\tINFO trainable.py:188 -- Trainable.setup took 12.069 seconds. If your trainable is slow to initialize, consider setting reuse_actors=True to reduce actor creation overheads.\n"
     ]
    }
   ],
   "source": [
    "\n",
    "\n",
    "ray.shutdown()\n",
    "ray.init(runtime_env={\"working_dir\": \"/Users/mirbilal/Desktop/MobCommission/commissionV2/\"})\n",
    "\n",
    "the_current_time_step  = datetime(year=1995, month=1, day=1, hour=10)\n",
    "\n",
    "config = {\n",
    "        \"env\": MarketSimulator,\n",
    "        \"env_config\": {\n",
    "            \"db_params\": db_params, \n",
    "            \"max_episode_steps\": 150, \n",
    "            \"the_current_time_step\": the_current_time_step,\n",
    "            \"print_output\": False\n",
    "        },\n",
    "        \"num_workers\": 4,\n",
    "        \"entropy_coeff\": 0.5,\n",
    "}\n",
    "\n",
    "algo = ppo.PPO(config=config)"
   ]
  },
  {
   "cell_type": "code",
   "execution_count": 19,
   "metadata": {},
   "outputs": [
    {
     "name": "stdout",
     "output_type": "stream",
     "text": [
      "episode reward mean: 0 5312.30677137737\n",
      "episode reward mean: 1 21330.425586887544\n",
      "episode reward mean: 2 26428.613662210108\n",
      "episode reward mean: 3 29226.311730837504\n",
      "episode reward mean: 4 28478.448149097712\n"
     ]
    }
   ],
   "source": [
    "# mean_ppo = []\n",
    "# # for _ in range(20):\n",
    "\n",
    "# #     result = algo.train()\n",
    "# #     print(\"episode reward mean:\", _, result['episode_reward_mean'])\n",
    "# #     mean_ppo.append(result['episode_reward_mean'])\n",
    "\n",
    "# # for _ in range(20):\n",
    "# tune.run(\n",
    "#     \"PPO\",\n",
    "#     config=config,\n",
    "#     stop={\"training_iteration\": 1},\n",
    "#     verbose=1,\n",
    "#     local_dir=\"/Users/mirbilal/Desktop/MobCommission/commissionV2/apps/environment_simulator/logs/\" \n",
    "# )\n",
    "# # result = analysis.trials[0].last_result\n",
    "# # # print(\"episode reward mean:\", _, result['episode_reward_mean'])\n",
    "# # mean_ppo.append(result['episode_reward_mean'])\n",
    "\n",
    "mean_ppo = []\n",
    "for _ in range(5):\n",
    "\n",
    "    result = algo.train()\n",
    "    print(\"episode reward mean:\", _, result['episode_reward_mean'])\n",
    "    mean_ppo.append(result['episode_reward_mean'])\n"
   ]
  },
  {
   "cell_type": "code",
   "execution_count": 46,
   "metadata": {},
   "outputs": [
    {
     "data": {
      "text/plain": [
       "TrainingResult(checkpoint=Checkpoint(filesystem=local, path=/Users/mirbilal/Desktop/MobCommission/commissionV2/apps/environment_simulator/simulated_checkpoints/), metrics={'custom_metrics': {}, 'episode_media': {}, 'info': {'learner': {'__all__': {'num_agent_steps_trained': 128.0, 'num_env_steps_trained': 4000.0, 'total_loss': -60.49091342364801}, 'default_policy': {'total_loss': -60.49091342364801, 'policy_loss': 0.2769730068000144, 'vf_loss': 10.0, 'vf_loss_unclipped': 826470169.4413646, 'vf_explained_var': -2.6201896830154125e-06, 'entropy': 150.5198163681193, 'mean_kl_loss': 9.98227001926693, 'default_optimizer_lr': 5.000000000000001e-05, 'curr_lr': 5e-05, 'curr_entropy_coeff': 0.5, 'curr_kl_coeff': 0.675000011920929}}, 'num_env_steps_sampled': 12000, 'num_env_steps_trained': 0, 'num_agent_steps_sampled': 12000, 'num_agent_steps_trained': 0}, 'sampler_results': {'episode_reward_max': 159833.51347694837, 'episode_reward_min': -55646.18609890414, 'episode_reward_mean': 16731.20211994077, 'episode_len_mean': 151.0, 'episode_media': {}, 'episodes_this_iter': 24, 'policy_reward_min': {}, 'policy_reward_max': {}, 'policy_reward_mean': {}, 'custom_metrics': {}, 'hist_stats': {'episode_reward': [-24951.416663049662, 8040.040843062001, 65450.40790694204, 60620.5286743632, 13591.979561874949, -22309.4511877747, -6070.5521042984765, 72657.36433648242, 7360.398761280507, 17363.205050516728, -9105.627816873064, -19294.482347456345, 20744.518739996784, 28256.750903045293, -5267.527825085694, -7468.508894625062, 23556.614489269326, 7438.6858804145595, 15751.752422849371, 31974.751371243765, -35517.042588917255, 603.0609891699714, -19014.70435828343, -3625.2245232586865, -33310.15227852755, 24112.299139537165, 45365.95242631942, 2576.5545636049937, -17902.55434291286, 23716.624830155255, 26042.28468295021, 29375.662875004506, 41891.97124797746, 24183.5185331003, -8448.028653405097, 65718.94798175362, 31972.393524140047, 28602.3054413683, 56020.95253399592, 22069.38662656516, -46009.0929170168, 32929.1433951568, -28624.952010518842, 159833.51347694837, 29585.713214246978, -12895.062967905847, 26271.342189902105, 49883.136275466604, 41401.70894361222, -17603.402114874494, 8998.109722537702, 14614.080663678753, 500.2278343481885, 8400.18701258894, -19479.817726108246, 3040.129791874424, 8522.393159956802, 54171.984931027226, 55948.869105592865, -25929.99516657411, 7510.905971445289, 33404.70344309365, 102682.45335054246, 127013.84944650007, 28018.577695762317, -32411.430108403, -26830.49130166236, -12825.744292074101, 58607.432862587346, 34911.04808047126, 11381.940084296191, -20342.81355358599, 68943.1448655809, 64980.492662875506, -44158.379559481844, -55646.18609890414], 'episode_lengths': [151, 151, 151, 151, 151, 151, 151, 151, 151, 151, 151, 151, 151, 151, 151, 151, 151, 151, 151, 151, 151, 151, 151, 151, 151, 151, 151, 151, 151, 151, 151, 151, 151, 151, 151, 151, 151, 151, 151, 151, 151, 151, 151, 151, 151, 151, 151, 151, 151, 151, 151, 151, 151, 151, 151, 151, 151, 151, 151, 151, 151, 151, 151, 151, 151, 151, 151, 151, 151, 151, 151, 151, 151, 151, 151, 151]}, 'sampler_perf': {'mean_raw_obs_processing_ms': 0.7707955953033961, 'mean_inference_ms': 1.3781168383626452, 'mean_action_processing_ms': 0.19088439677240973, 'mean_env_wait_ms': 2.452711322429922, 'mean_env_render_ms': 0.0}, 'num_faulty_episodes': 0, 'connector_metrics': {'ObsPreprocessorConnector_ms': 0.022077560424804688, 'StateBufferConnector_ms': 0.005300421463815789, 'ViewRequirementAgentConnector_ms': 0.3087379430469714}}, 'episode_reward_max': 159833.51347694837, 'episode_reward_min': -55646.18609890414, 'episode_reward_mean': 16731.20211994077, 'episode_len_mean': 151.0, 'episodes_this_iter': 24, 'policy_reward_min': {}, 'policy_reward_max': {}, 'policy_reward_mean': {}, 'hist_stats': {'episode_reward': [-24951.416663049662, 8040.040843062001, 65450.40790694204, 60620.5286743632, 13591.979561874949, -22309.4511877747, -6070.5521042984765, 72657.36433648242, 7360.398761280507, 17363.205050516728, -9105.627816873064, -19294.482347456345, 20744.518739996784, 28256.750903045293, -5267.527825085694, -7468.508894625062, 23556.614489269326, 7438.6858804145595, 15751.752422849371, 31974.751371243765, -35517.042588917255, 603.0609891699714, -19014.70435828343, -3625.2245232586865, -33310.15227852755, 24112.299139537165, 45365.95242631942, 2576.5545636049937, -17902.55434291286, 23716.624830155255, 26042.28468295021, 29375.662875004506, 41891.97124797746, 24183.5185331003, -8448.028653405097, 65718.94798175362, 31972.393524140047, 28602.3054413683, 56020.95253399592, 22069.38662656516, -46009.0929170168, 32929.1433951568, -28624.952010518842, 159833.51347694837, 29585.713214246978, -12895.062967905847, 26271.342189902105, 49883.136275466604, 41401.70894361222, -17603.402114874494, 8998.109722537702, 14614.080663678753, 500.2278343481885, 8400.18701258894, -19479.817726108246, 3040.129791874424, 8522.393159956802, 54171.984931027226, 55948.869105592865, -25929.99516657411, 7510.905971445289, 33404.70344309365, 102682.45335054246, 127013.84944650007, 28018.577695762317, -32411.430108403, -26830.49130166236, -12825.744292074101, 58607.432862587346, 34911.04808047126, 11381.940084296191, -20342.81355358599, 68943.1448655809, 64980.492662875506, -44158.379559481844, -55646.18609890414], 'episode_lengths': [151, 151, 151, 151, 151, 151, 151, 151, 151, 151, 151, 151, 151, 151, 151, 151, 151, 151, 151, 151, 151, 151, 151, 151, 151, 151, 151, 151, 151, 151, 151, 151, 151, 151, 151, 151, 151, 151, 151, 151, 151, 151, 151, 151, 151, 151, 151, 151, 151, 151, 151, 151, 151, 151, 151, 151, 151, 151, 151, 151, 151, 151, 151, 151, 151, 151, 151, 151, 151, 151, 151, 151, 151, 151, 151, 151]}, 'sampler_perf': {'mean_raw_obs_processing_ms': 0.7707955953033961, 'mean_inference_ms': 1.3781168383626452, 'mean_action_processing_ms': 0.19088439677240973, 'mean_env_wait_ms': 2.452711322429922, 'mean_env_render_ms': 0.0}, 'num_faulty_episodes': 0, 'connector_metrics': {'ObsPreprocessorConnector_ms': 0.022077560424804688, 'StateBufferConnector_ms': 0.005300421463815789, 'ViewRequirementAgentConnector_ms': 0.3087379430469714}, 'num_healthy_workers': 4, 'num_in_flight_async_reqs': 0, 'num_remote_worker_restarts': 0, 'num_agent_steps_sampled': 12000, 'num_agent_steps_trained': 0, 'num_env_steps_sampled': 12000, 'num_env_steps_trained': 0, 'num_env_steps_sampled_this_iter': 4000, 'num_env_steps_trained_this_iter': 0, 'num_env_steps_sampled_throughput_per_sec': 394.44348037662485, 'num_env_steps_trained_throughput_per_sec': 0.0, 'timesteps_total': 12000, 'num_steps_trained_this_iter': 0, 'agent_timesteps_total': 12000, 'timers': {'training_iteration_time_ms': 10243.105, 'sample_time_ms': 4847.202, 'synch_weights_time_ms': 8.311}, 'counters': {'num_env_steps_sampled': 12000, 'num_env_steps_trained': 0, 'num_agent_steps_sampled': 12000, 'num_agent_steps_trained': 0}, 'done': False, 'episodes_total': 76, 'training_iteration': 3, 'trial_id': 'default', 'date': '2023-10-08_21-10-06', 'timestamp': 1696799406, 'time_this_iter_s': 10.144360065460205, 'time_total_s': 30.74018907546997, 'pid': 38184, 'hostname': 'Muneebs-MacBook-Pro.local', 'node_ip': '127.0.0.1', 'config': {'extra_python_environs_for_driver': {}, 'extra_python_environs_for_worker': {}, 'num_gpus': 0, 'num_cpus_per_worker': 1, 'num_gpus_per_worker': 0, '_fake_gpus': False, 'num_learner_workers': 0, 'num_gpus_per_learner_worker': 0, 'num_cpus_per_learner_worker': 1, 'local_gpu_idx': 0, 'custom_resources_per_worker': {}, 'placement_strategy': 'PACK', 'eager_tracing': True, 'eager_max_retraces': 20, 'tf_session_args': {'intra_op_parallelism_threads': 2, 'inter_op_parallelism_threads': 2, 'gpu_options': {'allow_growth': True}, 'log_device_placement': False, 'device_count': {'CPU': 1}, 'allow_soft_placement': True}, 'local_tf_session_args': {'intra_op_parallelism_threads': 8, 'inter_op_parallelism_threads': 8}, 'torch_compile_learner': False, 'torch_compile_learner_what_to_compile': <TorchCompileWhatToCompile.FORWARD_TRAIN: 'forward_train'>, 'torch_compile_learner_dynamo_backend': 'aot_eager', 'torch_compile_learner_dynamo_mode': None, 'torch_compile_worker': False, 'torch_compile_worker_dynamo_backend': 'aot_eager', 'torch_compile_worker_dynamo_mode': None, 'env': <class 'apps.environment_simulator.sevice_layer.market_simulator.MarketSimulator'>, 'env_config': {'db_params': {'database': 'traderdb', 'user': 'traderadmin', 'password': 'i4n6s9l1y', 'host': 'localhost', 'port': '5432'}, 'max_episode_steps': 150, 'the_current_time_step': datetime.datetime(1995, 1, 1, 10, 0), 'print_output': False}, 'observation_space': None, 'action_space': None, 'env_task_fn': None, 'render_env': False, 'clip_rewards': None, 'normalize_actions': True, 'clip_actions': False, 'disable_env_checking': False, 'auto_wrap_old_gym_envs': True, 'action_mask_key': 'action_mask', '_is_atari': None, 'env_runner_cls': None, 'num_envs_per_worker': 1, 'sample_collector': <class 'ray.rllib.evaluation.collectors.simple_list_collector.SimpleListCollector'>, 'sample_async': False, 'enable_connectors': True, 'update_worker_filter_stats': True, 'use_worker_filter_stats': True, 'rollout_fragment_length': 'auto', 'batch_mode': 'truncate_episodes', 'remote_worker_envs': False, 'remote_env_batch_wait_ms': 0, 'validate_workers_after_construction': True, 'preprocessor_pref': 'deepmind', 'observation_filter': 'NoFilter', 'compress_observations': False, 'enable_tf1_exec_eagerly': False, 'sampler_perf_stats_ema_coef': None, 'gamma': 0.99, 'lr': 5e-05, 'grad_clip': None, 'grad_clip_by': 'global_norm', 'train_batch_size': 4000, 'model': {'_disable_preprocessor_api': False, '_disable_action_flattening': False, 'fcnet_hiddens': [256, 256], 'fcnet_activation': 'tanh', 'conv_filters': None, 'conv_activation': 'relu', 'post_fcnet_hiddens': [], 'post_fcnet_activation': 'relu', 'free_log_std': False, 'no_final_linear': False, 'vf_share_layers': False, 'use_lstm': False, 'max_seq_len': 20, 'lstm_cell_size': 256, 'lstm_use_prev_action': False, 'lstm_use_prev_reward': False, '_time_major': False, 'use_attention': False, 'attention_num_transformer_units': 1, 'attention_dim': 64, 'attention_num_heads': 1, 'attention_head_dim': 32, 'attention_memory_inference': 50, 'attention_memory_training': 50, 'attention_position_wise_mlp_dim': 32, 'attention_init_gru_gate_bias': 2.0, 'attention_use_n_prev_actions': 0, 'attention_use_n_prev_rewards': 0, 'framestack': True, 'dim': 84, 'grayscale': False, 'zero_mean': True, 'custom_model': None, 'custom_model_config': {}, 'custom_action_dist': None, 'custom_preprocessor': None, 'encoder_latent_dim': None, 'always_check_shapes': False, 'lstm_use_prev_action_reward': -1, '_use_default_native_models': -1}, 'optimizer': {}, 'max_requests_in_flight_per_sampler_worker': 2, '_learner_class': None, '_enable_learner_api': True, 'explore': True, 'exploration_config': {}, 'algorithm_config_overrides_per_module': {}, 'policy_map_capacity': 100, 'policy_mapping_fn': <function AlgorithmConfig.DEFAULT_POLICY_MAPPING_FN at 0x1648683a0>, 'policies_to_train': None, 'policy_states_are_swappable': False, 'observation_fn': None, 'count_steps_by': 'env_steps', 'input_config': {}, 'actions_in_input_normalized': False, 'postprocess_inputs': False, 'shuffle_buffer_size': 0, 'output': None, 'output_config': {}, 'output_compress_columns': ['obs', 'new_obs'], 'output_max_file_size': 67108864, 'offline_sampling': False, 'evaluation_interval': None, 'evaluation_duration': 10, 'evaluation_duration_unit': 'episodes', 'evaluation_sample_timeout_s': 180.0, 'evaluation_parallel_to_training': False, 'evaluation_config': None, 'off_policy_estimation_methods': {}, 'ope_split_batch_by_episode': True, 'evaluation_num_workers': 0, 'always_attach_evaluation_results': False, 'enable_async_evaluation': False, 'in_evaluation': False, 'sync_filters_on_rollout_workers_timeout_s': 60.0, 'keep_per_episode_custom_metrics': False, 'metrics_episode_collection_timeout_s': 60.0, 'metrics_num_episodes_for_smoothing': 100, 'min_time_s_per_iteration': None, 'min_train_timesteps_per_iteration': 0, 'min_sample_timesteps_per_iteration': 0, 'export_native_model_files': False, 'checkpoint_trainable_policies_only': False, 'logger_creator': None, 'logger_config': None, 'log_level': 'WARN', 'log_sys_usage': True, 'fake_sampler': False, 'seed': None, 'ignore_worker_failures': False, 'recreate_failed_workers': False, 'max_num_worker_restarts': 1000, 'delay_between_worker_restarts_s': 60.0, 'restart_failed_sub_environments': False, 'num_consecutive_worker_failures_tolerance': 100, 'worker_health_probe_timeout_s': 60, 'worker_restore_timeout_s': 1800, 'rl_module_spec': SingleAgentRLModuleSpec(module_class=<class 'ray.rllib.algorithms.ppo.torch.ppo_torch_rl_module.PPOTorchRLModule'>, observation_space=None, action_space=None, model_config_dict=None, catalog_class=<class 'ray.rllib.algorithms.ppo.ppo_catalog.PPOCatalog'>, load_state_path=None), '_enable_rl_module_api': True, '_AlgorithmConfig__prior_exploration_config': {'type': 'StochasticSampling'}, '_tf_policy_handles_more_than_one_loss': False, '_disable_preprocessor_api': False, '_disable_action_flattening': False, '_disable_execution_plan_api': True, '_disable_initialize_loss_from_dummy_batch': False, 'simple_optimizer': False, 'policy_map_cache': -1, 'worker_cls': -1, 'synchronize_filters': -1, 'replay_sequence_length': None, 'lr_schedule': None, 'use_critic': True, 'use_gae': True, 'use_kl_loss': True, 'kl_coeff': 0.2, 'kl_target': 0.01, 'sgd_minibatch_size': 128, 'num_sgd_iter': 30, 'shuffle_sequences': True, 'vf_loss_coeff': 1.0, 'entropy_coeff': 0.5, 'entropy_coeff_schedule': None, 'clip_param': 0.3, 'vf_clip_param': 10.0, 'vf_share_layers': -1, 'lambda': 1.0, 'input': 'sampler', 'policies': {'default_policy': (None, None, None, None)}, 'callbacks': <class 'ray.rllib.algorithms.callbacks.DefaultCallbacks'>, 'create_env_on_driver': False, 'custom_eval_function': None, 'framework': 'torch', 'num_cpus_for_driver': 1, 'num_workers': 4}, 'time_since_restore': 30.74018907546997, 'iterations_since_restore': 3, 'perf': {'cpu_util_percent': 39.364285714285714, 'ram_util_percent': 67.45714285714286}})"
      ]
     },
     "execution_count": 46,
     "metadata": {},
     "output_type": "execute_result"
    }
   ],
   "source": [
    "checkpoint_path = \"/Users/mirbilal/Desktop/MobCommission/commissionV2/apps/environment_simulator/simulated_checkpoints/\"\n",
    "\n",
    "algo.save(checkpoint_dir=checkpoint_path)"
   ]
  },
  {
   "cell_type": "code",
   "execution_count": 47,
   "metadata": {},
   "outputs": [
    {
     "name": "stderr",
     "output_type": "stream",
     "text": [
      "2023-10-08 21:10:19,065\tWARNING algorithm_config.py:2578 -- Setting `exploration_config={}` because you set `_enable_rl_module_api=True`. When RLModule API are enabled, exploration_config can not be set. If you want to implement custom exploration behaviour, please modify the `forward_exploration` method of the RLModule at hand. On configs that have a default exploration config, this must be done with `config.exploration_config={}`.\n",
      "2023-10-08 21:10:19,129\tINFO trainable.py:984 -- Restored on 127.0.0.1 from checkpoint: Checkpoint(filesystem=local, path=/Users/mirbilal/Desktop/MobCommission/commissionV2/apps/environment_simulator/simulated_checkpoints/)\n"
     ]
    },
    {
     "data": {
      "text/plain": [
       "True"
      ]
     },
     "execution_count": 47,
     "metadata": {},
     "output_type": "execute_result"
    }
   ],
   "source": [
    "algo.restore(checkpoint_path=checkpoint_path)"
   ]
  },
  {
   "cell_type": "code",
   "execution_count": 4,
   "metadata": {},
   "outputs": [],
   "source": [
    "rewards_a = []\n",
    "rewards_b = []"
   ]
  },
  {
   "cell_type": "code",
   "execution_count": 32,
   "metadata": {},
   "outputs": [],
   "source": [
    "my_current_time_step  = datetime(year=1995, month=1, day=1, hour=10) + relativedelta(hours=0)\n",
    "\n",
    "env_config = {\n",
    "    \"db_params\": db_params, \n",
    "    \"max_episode_steps\": 150, \n",
    "    \"print_output\": False,\n",
    "    \"the_current_time_step\": my_current_time_step,\n",
    "}\n",
    "\n",
    "myEnv = MarketSimulator(env_config)"
   ]
  },
  {
   "cell_type": "code",
   "execution_count": null,
   "metadata": {},
   "outputs": [],
   "source": [
    "ray.shutdown()\n",
    "ray.init(runtime_env={\"working_dir\": \"/Users/mirbilal/Desktop/MobCommission/commissionV2/\"})\n",
    "\n",
    "config = {\n",
    "    \"env\": MarketSimulator,\n",
    "    \"env_config\": {\n",
    "        \"db_params\": db_params, \n",
    "        \"max_episode_steps\": 150, \n",
    "        \"the_current_time_step\": my_current_time_step,\n",
    "        \"print_output\": False\n",
    "    },\n",
    "    \"num_workers\": 4,\n",
    "}\n",
    "\n",
    "new_algo = ppo.PPO(config=config)\n",
    "new_algo.restore(checkpoint_path=checkpoint_path)"
   ]
  },
  {
   "cell_type": "code",
   "execution_count": 33,
   "metadata": {},
   "outputs": [],
   "source": [
    "\n",
    "import copy\n",
    "\n",
    "def get_latest_states():\n",
    "    latest_states = []\n",
    "    env = myEnv\n",
    "    env.reset()\n",
    "    obs = env.state\n",
    "    latest_states = []  # To store the latest states from each worker\n",
    "    for _ in range(150):  # Interact with the environment for 10 steps as an example\n",
    "        action = algo.compute_single_action(obs)  # Replace with your agent's action\n",
    "        # action = np.array([[664, 831,  51, 988, 280,],\n",
    "        #             [  1,   0,   1,   1,   0]])\n",
    "        obs, _, done, _ = env.step(action)\n",
    "        if done:\n",
    "            obs = env.reset()\n",
    "        state = env.state  # Obtain the state from the environment\n",
    "        latest_states.append(copy.deepcopy(obs))\n",
    "    return latest_states\n",
    "\n",
    "latest_states = get_latest_states()"
   ]
  },
  {
   "cell_type": "code",
   "execution_count": 34,
   "metadata": {},
   "outputs": [
    {
     "ename": "NameError",
     "evalue": "name 'rewards_b' is not defined",
     "output_type": "error",
     "traceback": [
      "\u001b[0;31m---------------------------------------------------------------------------\u001b[0m",
      "\u001b[0;31mNameError\u001b[0m                                 Traceback (most recent call last)",
      "\u001b[1;32m/Users/mirbilal/Desktop/MobCommission/commissionV2/scripts/environment_simulator/market_simulation.ipynb Cell 11\u001b[0m line \u001b[0;36m1\n\u001b[1;32m     <a href='vscode-notebook-cell:/Users/mirbilal/Desktop/MobCommission/commissionV2/scripts/environment_simulator/market_simulation.ipynb#X12sZmlsZQ%3D%3D?line=15'>16</a>\u001b[0m \u001b[39m# print(gain)\u001b[39;00m\n\u001b[1;32m     <a href='vscode-notebook-cell:/Users/mirbilal/Desktop/MobCommission/commissionV2/scripts/environment_simulator/market_simulation.ipynb#X12sZmlsZQ%3D%3D?line=16'>17</a>\u001b[0m \u001b[39m# print(\"\")\u001b[39;00m\n\u001b[1;32m     <a href='vscode-notebook-cell:/Users/mirbilal/Desktop/MobCommission/commissionV2/scripts/environment_simulator/market_simulation.ipynb#X12sZmlsZQ%3D%3D?line=17'>18</a>\u001b[0m total_rewards \u001b[39m=\u001b[39m total_rewards \u001b[39m+\u001b[39m gain\n\u001b[0;32m---> <a href='vscode-notebook-cell:/Users/mirbilal/Desktop/MobCommission/commissionV2/scripts/environment_simulator/market_simulation.ipynb#X12sZmlsZQ%3D%3D?line=18'>19</a>\u001b[0m rewards_b\u001b[39m.\u001b[39mappend(total_rewards)\n\u001b[1;32m     <a href='vscode-notebook-cell:/Users/mirbilal/Desktop/MobCommission/commissionV2/scripts/environment_simulator/market_simulation.ipynb#X12sZmlsZQ%3D%3D?line=20'>21</a>\u001b[0m \u001b[39m# print((total_portfolio_a, total_portfolio_b))\u001b[39;00m\n\u001b[1;32m     <a href='vscode-notebook-cell:/Users/mirbilal/Desktop/MobCommission/commissionV2/scripts/environment_simulator/market_simulation.ipynb#X12sZmlsZQ%3D%3D?line=21'>22</a>\u001b[0m total_portfolios\u001b[39m.\u001b[39mappend((total_portfolio_a, total_portfolio_b))\n",
      "\u001b[0;31mNameError\u001b[0m: name 'rewards_b' is not defined"
     ]
    }
   ],
   "source": [
    "total_portfolios = []\n",
    "total_rewards = 0\n",
    "for astate in latest_states:\n",
    "    # print(astate)\n",
    "    total_portfolio_a = 0\n",
    "    total_portfolio_b = 0\n",
    "    (stock_state, commodity_state, wallet_state) = astate\n",
    "    total_portfolio_b = total_portfolio_b + wallet_state[0]\n",
    "    total_portfolio_a = total_portfolio_a + wallet_state[0]\n",
    "    # print(stock_state)\n",
    "    gain = 0\n",
    "    for a_stck in stock_state:\n",
    "        total_portfolio_a = total_portfolio_a + a_stck[6]*a_stck[7]\n",
    "        total_portfolio_b = total_portfolio_b + a_stck[0]*a_stck[7]\n",
    "        gain = gain + (a_stck[0]*a_stck[7] - a_stck[6]*a_stck[7])\n",
    "    # print(gain)\n",
    "    # print(\"\")\n",
    "    total_rewards = total_rewards + gain\n",
    "    rewards_a.append(total_rewards)\n",
    "        \n",
    "    # print((total_portfolio_a, total_portfolio_b))\n",
    "    total_portfolios.append((total_portfolio_a, total_portfolio_b))\n",
    "\n",
    "print(\"total_rewards\", total_rewards)"
   ]
  },
  {
   "cell_type": "code",
   "execution_count": 14,
   "metadata": {},
   "outputs": [
    {
     "name": "stdout",
     "output_type": "stream",
     "text": [
      "Factor (Quotient): 10\n",
      "Remainder: 1\n"
     ]
    }
   ],
   "source": [
    "dividend = 21\n",
    "divisor = 2\n",
    "\n",
    "factor = dividend // divisor  # Integer division\n",
    "remainder = dividend % divisor  # Modulo operation\n",
    "\n",
    "print(f\"Factor (Quotient): {factor}\")\n",
    "print(f\"Remainder: {remainder}\")"
   ]
  },
  {
   "cell_type": "code",
   "execution_count": 55,
   "metadata": {},
   "outputs": [],
   "source": [
    "ray.shutdown()"
   ]
  },
  {
   "cell_type": "code",
   "execution_count": 35,
   "metadata": {},
   "outputs": [
    {
     "data": {
      "text/html": [
       "        <script type=\"text/javascript\">\n",
       "        window.PlotlyConfig = {MathJaxConfig: 'local'};\n",
       "        if (window.MathJax && window.MathJax.Hub && window.MathJax.Hub.Config) {window.MathJax.Hub.Config({SVG: {font: \"STIX-Web\"}});}\n",
       "        if (typeof require !== 'undefined') {\n",
       "        require.undef(\"plotly\");\n",
       "        requirejs.config({\n",
       "            paths: {\n",
       "                'plotly': ['https://cdn.plot.ly/plotly-2.26.0.min']\n",
       "            }\n",
       "        });\n",
       "        require(['plotly'], function(Plotly) {\n",
       "            window._Plotly = Plotly;\n",
       "        });\n",
       "        }\n",
       "        </script>\n",
       "        "
      ]
     },
     "metadata": {},
     "output_type": "display_data"
    },
    {
     "ename": "NameError",
     "evalue": "name 'rewards_a' is not defined",
     "output_type": "error",
     "traceback": [
      "\u001b[0;31m---------------------------------------------------------------------------\u001b[0m",
      "\u001b[0;31mNameError\u001b[0m                                 Traceback (most recent call last)",
      "\u001b[1;32m/Users/mirbilal/Desktop/MobCommission/commissionV2/scripts/environment_simulator/market_simulation.ipynb Cell 14\u001b[0m line \u001b[0;36m6\n\u001b[1;32m      <a href='vscode-notebook-cell:/Users/mirbilal/Desktop/MobCommission/commissionV2/scripts/environment_simulator/market_simulation.ipynb#X16sZmlsZQ%3D%3D?line=1'>2</a>\u001b[0m cf\u001b[39m.\u001b[39mset_config_file(world_readable\u001b[39m=\u001b[39m\u001b[39mTrue\u001b[39;00m, theme\u001b[39m=\u001b[39m\u001b[39m\"\u001b[39m\u001b[39mwhite\u001b[39m\u001b[39m\"\u001b[39m)\n\u001b[1;32m      <a href='vscode-notebook-cell:/Users/mirbilal/Desktop/MobCommission/commissionV2/scripts/environment_simulator/market_simulation.ipynb#X16sZmlsZQ%3D%3D?line=3'>4</a>\u001b[0m buffer \u001b[39m=\u001b[39m SimulatedStockBuffer\u001b[39m.\u001b[39mobjects\u001b[39m.\u001b[39mselect_related(\u001b[39m\"\u001b[39m\u001b[39mstock\u001b[39m\u001b[39m\"\u001b[39m)\u001b[39m.\u001b[39morder_by(\u001b[39m\"\u001b[39m\u001b[39mcaptured_at\u001b[39m\u001b[39m\"\u001b[39m)\u001b[39m.\u001b[39mall()\n\u001b[0;32m----> <a href='vscode-notebook-cell:/Users/mirbilal/Desktop/MobCommission/commissionV2/scripts/environment_simulator/market_simulation.ipynb#X16sZmlsZQ%3D%3D?line=5'>6</a>\u001b[0m price_variations \u001b[39m=\u001b[39m {\u001b[39m\"\u001b[39m\u001b[39mreward_a\u001b[39m\u001b[39m\"\u001b[39m: rewards_a, \u001b[39m\"\u001b[39m\u001b[39mrewards_b\u001b[39m\u001b[39m\"\u001b[39m: rewards_b}\n\u001b[1;32m      <a href='vscode-notebook-cell:/Users/mirbilal/Desktop/MobCommission/commissionV2/scripts/environment_simulator/market_simulation.ipynb#X16sZmlsZQ%3D%3D?line=7'>8</a>\u001b[0m \u001b[39m# # print(price_variations)\u001b[39;00m\n\u001b[1;32m      <a href='vscode-notebook-cell:/Users/mirbilal/Desktop/MobCommission/commissionV2/scripts/environment_simulator/market_simulation.ipynb#X16sZmlsZQ%3D%3D?line=8'>9</a>\u001b[0m \u001b[39m# for stck_name in price_variations:\u001b[39;00m\n\u001b[1;32m     <a href='vscode-notebook-cell:/Users/mirbilal/Desktop/MobCommission/commissionV2/scripts/environment_simulator/market_simulation.ipynb#X16sZmlsZQ%3D%3D?line=9'>10</a>\u001b[0m \u001b[39m#     price_snaps = price_variations[stck_name]\u001b[39;00m\n\u001b[0;32m   (...)\u001b[0m\n\u001b[1;32m     <a href='vscode-notebook-cell:/Users/mirbilal/Desktop/MobCommission/commissionV2/scripts/environment_simulator/market_simulation.ipynb#X16sZmlsZQ%3D%3D?line=12'>13</a>\u001b[0m \u001b[39m#     normalized_snaps = price_array/max_price\u001b[39;00m\n\u001b[1;32m     <a href='vscode-notebook-cell:/Users/mirbilal/Desktop/MobCommission/commissionV2/scripts/environment_simulator/market_simulation.ipynb#X16sZmlsZQ%3D%3D?line=13'>14</a>\u001b[0m \u001b[39m#     price_variations[stck_name] = normalized_snaps\u001b[39;00m\n\u001b[1;32m     <a href='vscode-notebook-cell:/Users/mirbilal/Desktop/MobCommission/commissionV2/scripts/environment_simulator/market_simulation.ipynb#X16sZmlsZQ%3D%3D?line=17'>18</a>\u001b[0m stock_names \u001b[39m=\u001b[39m [\u001b[39m\"\u001b[39m\u001b[39mreward_b\u001b[39m\u001b[39m\"\u001b[39m, \u001b[39m\"\u001b[39m\u001b[39mreward_a\u001b[39m\u001b[39m\"\u001b[39m]\n",
      "\u001b[0;31mNameError\u001b[0m: name 'rewards_a' is not defined"
     ]
    }
   ],
   "source": [
    "cf.go_offline()\n",
    "cf.set_config_file(world_readable=True, theme=\"white\")\n",
    "\n",
    "buffer = SimulatedStockBuffer.objects.select_related(\"stock\").order_by(\"captured_at\").all()\n",
    "\n",
    "price_variations = {\"reward_a\": rewards_a, \"rewards_b\": rewards_b}\n",
    "\n",
    "# # print(price_variations)\n",
    "# for stck_name in price_variations:\n",
    "#     price_snaps = price_variations[stck_name]\n",
    "#     price_array = np.array(price_snaps)\n",
    "#     max_price = max(price_array)\n",
    "#     normalized_snaps = price_array/max_price\n",
    "#     price_variations[stck_name] = normalized_snaps\n",
    "\n",
    "    \n",
    "\n",
    "stock_names = [\"reward_b\", \"reward_a\"]\n",
    "\n",
    "\n",
    "# print(price_variations)\n",
    "df_regret_comparisons = pd.DataFrame(price_variations)\n",
    "df_regret_comparisons.iplot(\n",
    "    xTitle='time_steps',\n",
    "    yTitle='Normalized Prices'\n",
    ")"
   ]
  }
 ],
 "metadata": {
  "kernelspec": {
   "display_name": "v2env",
   "language": "python",
   "name": "v2env"
  },
  "language_info": {
   "codemirror_mode": {
    "name": "ipython",
    "version": 3
   },
   "file_extension": ".py",
   "mimetype": "text/x-python",
   "name": "python",
   "nbconvert_exporter": "python",
   "pygments_lexer": "ipython3",
   "version": "3.10.13"
  },
  "orig_nbformat": 4
 },
 "nbformat": 4,
 "nbformat_minor": 2
}
