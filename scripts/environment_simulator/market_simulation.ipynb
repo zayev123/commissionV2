{
 "cells": [
  {
   "cell_type": "code",
   "execution_count": 1,
   "metadata": {},
   "outputs": [
    {
     "name": "stderr",
     "output_type": "stream",
     "text": [
      "2023-10-16 09:46:09.031911: I tensorflow/core/platform/cpu_feature_guard.cc:182] This TensorFlow binary is optimized to use available CPU instructions in performance-critical operations.\n",
      "To enable the following instructions: AVX2 FMA, in other operations, rebuild TensorFlow with the appropriate compiler flags.\n",
      "2023-10-16 09:46:14,797\tWARNING deprecation.py:50 -- DeprecationWarning: `DirectStepOptimizer` has been deprecated. This will raise an error in the future!\n"
     ]
    }
   ],
   "source": [
    "import sys\n",
    "import django\n",
    "import os\n",
    "file_dir = \"/Users/mirbilal/Desktop/MobCommission/commissionV2/\"\n",
    "if file_dir not in sys.path:\n",
    "    sys.path.insert(0, file_dir)\n",
    "\n",
    "os.environ[\"DJANGO_SETTINGS_MODULE\"] = \"commissionerv2.settings\"\n",
    "os.environ[\"DJANGO_ALLOW_ASYNC_UNSAFE\"] = \"true\" \n",
    "django.setup()\n",
    "import numpy as np\n",
    "import json\n",
    "from datetime import datetime\n",
    "from dateutil.relativedelta import relativedelta\n",
    "import pytz\n",
    "import pandas as pd\n",
    "import cufflinks as cf\n",
    "from django.db.models import Q\n",
    "from services.zayev.environment.market_simulator import MarketSimulator\n",
    "from apps.environment_simulator.models import SimulatedStockBuffer\n",
    "import gymnasium as gym\n",
    "import ray\n",
    "from gymnasium import spaces\n",
    "from ray.rllib.algorithms import ppo\n",
    "from os import path, environ\n",
    "from gymnasium.envs.registration import register\n",
    "from ray import tune"
   ]
  },
  {
   "cell_type": "code",
   "execution_count": 2,
   "metadata": {},
   "outputs": [],
   "source": [
    "db_params = {\n",
    "    'database': environ.get(\"POSTGRES_DB\"),\n",
    "    'user': environ.get(\"POSTGRES_USER\"),\n",
    "    'password': environ.get(\"POSTGRES_PASSWORD\"),\n",
    "    'host': environ.get(\"DB_HOST\"),\n",
    "    'port': environ.get(\"DB_PORT\"),\n",
    "}"
   ]
  },
  {
   "cell_type": "code",
   "execution_count": 3,
   "metadata": {},
   "outputs": [
    {
     "name": "stderr",
     "output_type": "stream",
     "text": [
      "2023-10-16 09:46:19,727\tINFO worker.py:1642 -- Started a local Ray instance.\n",
      "2023-10-16 09:46:20,442\tINFO packaging.py:518 -- Creating a file package for local directory '/Users/mirbilal/Desktop/MobCommission/commissionV2/'.\n",
      "2023-10-16 09:46:20,944\tINFO packaging.py:346 -- Pushing file package 'gcs://_ray_pkg_16a0052c6451ea8a.zip' (45.42MiB) to Ray cluster...\n",
      "2023-10-16 09:46:21,148\tINFO packaging.py:359 -- Successfully pushed file package 'gcs://_ray_pkg_16a0052c6451ea8a.zip'.\n",
      "2023-10-16 09:46:23,762\tWARNING algorithm_config.py:2578 -- Setting `exploration_config={}` because you set `_enable_rl_module_api=True`. When RLModule API are enabled, exploration_config can not be set. If you want to implement custom exploration behaviour, please modify the `forward_exploration` method of the RLModule at hand. On configs that have a default exploration config, this must be done with `config.exploration_config={}`.\n",
      "/Users/mirbilal/Desktop/MobCommission/commissionV2/v2env/lib/python3.10/site-packages/ray/rllib/algorithms/algorithm.py:484: RayDeprecationWarning:\n",
      "\n",
      "This API is deprecated and may be removed in future Ray releases. You could suppress this warning by setting env variable PYTHONWARNINGS=\"ignore::DeprecationWarning\"\n",
      "`UnifiedLogger` will be removed in Ray 2.7.\n",
      "\n",
      "/Users/mirbilal/Desktop/MobCommission/commissionV2/v2env/lib/python3.10/site-packages/ray/tune/logger/unified.py:53: RayDeprecationWarning:\n",
      "\n",
      "This API is deprecated and may be removed in future Ray releases. You could suppress this warning by setting env variable PYTHONWARNINGS=\"ignore::DeprecationWarning\"\n",
      "The `JsonLogger interface is deprecated in favor of the `ray.tune.json.JsonLoggerCallback` interface and will be removed in Ray 2.7.\n",
      "\n",
      "/Users/mirbilal/Desktop/MobCommission/commissionV2/v2env/lib/python3.10/site-packages/ray/tune/logger/unified.py:53: RayDeprecationWarning:\n",
      "\n",
      "This API is deprecated and may be removed in future Ray releases. You could suppress this warning by setting env variable PYTHONWARNINGS=\"ignore::DeprecationWarning\"\n",
      "The `CSVLogger interface is deprecated in favor of the `ray.tune.csv.CSVLoggerCallback` interface and will be removed in Ray 2.7.\n",
      "\n",
      "/Users/mirbilal/Desktop/MobCommission/commissionV2/v2env/lib/python3.10/site-packages/ray/tune/logger/unified.py:53: RayDeprecationWarning:\n",
      "\n",
      "This API is deprecated and may be removed in future Ray releases. You could suppress this warning by setting env variable PYTHONWARNINGS=\"ignore::DeprecationWarning\"\n",
      "The `TBXLogger interface is deprecated in favor of the `ray.tune.tensorboardx.TBXLoggerCallback` interface and will be removed in Ray 2.7.\n",
      "\n",
      "\u001b[2m\u001b[36m(pid=38653)\u001b[0m DeprecationWarning: `DirectStepOptimizer` has been deprecated. This will raise an error in the future!\n",
      "\u001b[2m\u001b[36m(RolloutWorker pid=38653)\u001b[0m /Users/mirbilal/Desktop/MobCommission/commissionV2/v2env/lib/python3.10/site-packages/gymnasium/wrappers/compatibility.py:60: DeprecationWarning: \u001b[33mWARN: The `gymnasium.make(..., apply_api_compatibility=...)` parameter is deprecated and will be removed in v1.0. Instead use `gymnasium.make('GymV21Environment-v0', env_name=...)` or `from shimmy import GymV21CompatibilityV0`\u001b[0m\n",
      "\u001b[2m\u001b[36m(RolloutWorker pid=38653)\u001b[0m   logger.deprecation(\n",
      "\u001b[2m\u001b[36m(RolloutWorker pid=38651)\u001b[0m 2023-10-16 09:46:35,725\tWARNING utils.py:152 -- `config.auto_wrap_old_gym_envs` is activated AND you seem to have provided an old gym-API environment. RLlib will therefore try to auto-fix the following error. However, please consider switching over to the new `gymnasium` APIs:\n",
      "\u001b[2m\u001b[36m(RolloutWorker pid=38651)\u001b[0m Your environment ({}) does not abide to the new gymnasium-style API!\n",
      "\u001b[2m\u001b[36m(RolloutWorker pid=38651)\u001b[0m From Ray 2.3 on, RLlib only supports the new (gym>=0.26 or gymnasium) Env APIs.\n",
      "\u001b[2m\u001b[36m(RolloutWorker pid=38651)\u001b[0m {}\n",
      "\u001b[2m\u001b[36m(RolloutWorker pid=38651)\u001b[0m Learn more about the most important changes here:\n",
      "\u001b[2m\u001b[36m(RolloutWorker pid=38651)\u001b[0m https://github.com/openai/gym and here: https://github.com/Farama-Foundation/Gymnasium\n",
      "\u001b[2m\u001b[36m(RolloutWorker pid=38651)\u001b[0m \n",
      "\u001b[2m\u001b[36m(RolloutWorker pid=38651)\u001b[0m In order to fix this problem, do the following:\n",
      "\u001b[2m\u001b[36m(RolloutWorker pid=38651)\u001b[0m \n",
      "\u001b[2m\u001b[36m(RolloutWorker pid=38651)\u001b[0m 1) Run `pip install gymnasium` on your command line.\n",
      "\u001b[2m\u001b[36m(RolloutWorker pid=38651)\u001b[0m 2) Change all your import statements in your code from\n",
      "\u001b[2m\u001b[36m(RolloutWorker pid=38651)\u001b[0m    `import gym` -> `import gymnasium as gym` OR\n",
      "\u001b[2m\u001b[36m(RolloutWorker pid=38651)\u001b[0m    `from gym.space import Discrete` -> `from gymnasium.spaces import Discrete`\n",
      "\u001b[2m\u001b[36m(RolloutWorker pid=38651)\u001b[0m \n",
      "\u001b[2m\u001b[36m(RolloutWorker pid=38651)\u001b[0m For your custom (single agent) gym.Env classes:\n",
      "\u001b[2m\u001b[36m(RolloutWorker pid=38651)\u001b[0m 3.1) Either wrap your old Env class via the provided `from gymnasium.wrappers import\n",
      "\u001b[2m\u001b[36m(RolloutWorker pid=38651)\u001b[0m      EnvCompatibility` wrapper class.\n",
      "\u001b[2m\u001b[36m(RolloutWorker pid=38651)\u001b[0m 3.2) Alternatively to 3.1:\n",
      "\u001b[2m\u001b[36m(RolloutWorker pid=38651)\u001b[0m  - Change your `reset()` method to have the call signature 'def reset(self, *,\n",
      "\u001b[2m\u001b[36m(RolloutWorker pid=38651)\u001b[0m    seed=None, options=None)'\n",
      "\u001b[2m\u001b[36m(RolloutWorker pid=38651)\u001b[0m  - Return an additional info dict (empty dict should be fine) from your `reset()`\n",
      "\u001b[2m\u001b[36m(RolloutWorker pid=38651)\u001b[0m    method.\n",
      "\u001b[2m\u001b[36m(RolloutWorker pid=38651)\u001b[0m  - Return an additional `truncated` flag from your `step()` method (between `done` and\n",
      "\u001b[2m\u001b[36m(RolloutWorker pid=38651)\u001b[0m    `info`). This flag should indicate, whether the episode was terminated prematurely\n",
      "\u001b[2m\u001b[36m(RolloutWorker pid=38651)\u001b[0m    due to some time constraint or other kind of horizon setting.\n",
      "\u001b[2m\u001b[36m(RolloutWorker pid=38651)\u001b[0m \n",
      "\u001b[2m\u001b[36m(RolloutWorker pid=38651)\u001b[0m For your custom RLlib `MultiAgentEnv` classes:\n",
      "\u001b[2m\u001b[36m(RolloutWorker pid=38651)\u001b[0m 4.1) Either wrap your old MultiAgentEnv via the provided\n",
      "\u001b[2m\u001b[36m(RolloutWorker pid=38651)\u001b[0m      `from ray.rllib.env.wrappers.multi_agent_env_compatibility import\n",
      "\u001b[2m\u001b[36m(RolloutWorker pid=38651)\u001b[0m      MultiAgentEnvCompatibility` wrapper class.\n",
      "\u001b[2m\u001b[36m(RolloutWorker pid=38651)\u001b[0m 4.2) Alternatively to 4.1:\n",
      "\u001b[2m\u001b[36m(RolloutWorker pid=38651)\u001b[0m  - Change your `reset()` method to have the call signature\n",
      "\u001b[2m\u001b[36m(RolloutWorker pid=38651)\u001b[0m    'def reset(self, *, seed=None, options=None)'\n",
      "\u001b[2m\u001b[36m(RolloutWorker pid=38651)\u001b[0m  - Return an additional per-agent info dict (empty dict should be fine) from your\n",
      "\u001b[2m\u001b[36m(RolloutWorker pid=38651)\u001b[0m    `reset()` method.\n",
      "\u001b[2m\u001b[36m(RolloutWorker pid=38651)\u001b[0m  - Rename `dones` into `terminateds` and only set this to True, if the episode is really\n",
      "\u001b[2m\u001b[36m(RolloutWorker pid=38651)\u001b[0m    done (as opposed to has been terminated prematurely due to some horizon/time-limit\n",
      "\u001b[2m\u001b[36m(RolloutWorker pid=38651)\u001b[0m    setting).\n",
      "\u001b[2m\u001b[36m(RolloutWorker pid=38651)\u001b[0m  - Return an additional `truncateds` per-agent dictionary flag from your `step()`\n",
      "\u001b[2m\u001b[36m(RolloutWorker pid=38651)\u001b[0m    method, including the `__all__` key (100% analogous to your `dones/terminateds`\n",
      "\u001b[2m\u001b[36m(RolloutWorker pid=38651)\u001b[0m    per-agent dict).\n",
      "\u001b[2m\u001b[36m(RolloutWorker pid=38651)\u001b[0m    Return this new `truncateds` dict between `dones/terminateds` and `infos`. This\n",
      "\u001b[2m\u001b[36m(RolloutWorker pid=38651)\u001b[0m    flag should indicate, whether the episode (for some agent or all agents) was\n",
      "\u001b[2m\u001b[36m(RolloutWorker pid=38651)\u001b[0m    terminated prematurely due to some time constraint or other kind of horizon setting.\n",
      "\u001b[2m\u001b[36m(RolloutWorker pid=38651)\u001b[0m \n",
      "\u001b[2m\u001b[36m(RolloutWorker pid=38651)\u001b[0m 2023-10-16 09:46:35,764\tWARNING env.py:162 -- Your env doesn't have a .spec.max_episode_steps attribute. Your horizon will default to infinity, and your environment will not be reset.\n",
      "2023-10-16 09:46:35,894\tWARNING algorithm_config.py:2578 -- Setting `exploration_config={}` because you set `_enable_rl_module_api=True`. When RLModule API are enabled, exploration_config can not be set. If you want to implement custom exploration behaviour, please modify the `forward_exploration` method of the RLModule at hand. On configs that have a default exploration config, this must be done with `config.exploration_config={}`.\n",
      "2023-10-16 09:46:35,907\tWARNING deprecation.py:50 -- DeprecationWarning: `ValueNetworkMixin` has been deprecated. This will raise an error in the future!\n",
      "2023-10-16 09:46:35,908\tWARNING deprecation.py:50 -- DeprecationWarning: `LearningRateSchedule` has been deprecated. This will raise an error in the future!\n",
      "2023-10-16 09:46:35,908\tWARNING deprecation.py:50 -- DeprecationWarning: `EntropyCoeffSchedule` has been deprecated. This will raise an error in the future!\n",
      "2023-10-16 09:46:35,909\tWARNING deprecation.py:50 -- DeprecationWarning: `KLCoeffMixin` has been deprecated. This will raise an error in the future!\n",
      "\u001b[2m\u001b[36m(RolloutWorker pid=38653)\u001b[0m 2023-10-16 09:46:35,857\tWARNING algorithm_config.py:2578 -- Setting `exploration_config={}` because you set `_enable_rl_module_api=True`. When RLModule API are enabled, exploration_config can not be set. If you want to implement custom exploration behaviour, please modify the `forward_exploration` method of the RLModule at hand. On configs that have a default exploration config, this must be done with `config.exploration_config={}`.\n",
      "\u001b[2m\u001b[36m(RolloutWorker pid=38651)\u001b[0m 2023-10-16 09:46:35,869\tWARNING deprecation.py:50 -- DeprecationWarning: `ValueNetworkMixin` has been deprecated. This will raise an error in the future!\n",
      "\u001b[2m\u001b[36m(RolloutWorker pid=38651)\u001b[0m 2023-10-16 09:46:35,869\tWARNING deprecation.py:50 -- DeprecationWarning: `LearningRateSchedule` has been deprecated. This will raise an error in the future!\n",
      "\u001b[2m\u001b[36m(RolloutWorker pid=38651)\u001b[0m 2023-10-16 09:46:35,869\tWARNING deprecation.py:50 -- DeprecationWarning: `EntropyCoeffSchedule` has been deprecated. This will raise an error in the future!\n",
      "\u001b[2m\u001b[36m(RolloutWorker pid=38651)\u001b[0m 2023-10-16 09:46:35,870\tWARNING deprecation.py:50 -- DeprecationWarning: `KLCoeffMixin` has been deprecated. This will raise an error in the future!\n",
      "2023-10-16 09:46:36,379\tINFO trainable.py:188 -- Trainable.setup took 12.578 seconds. If your trainable is slow to initialize, consider setting reuse_actors=True to reduce actor creation overheads.\n"
     ]
    }
   ],
   "source": [
    "\n",
    "\n",
    "ray.shutdown()\n",
    "ray.init(runtime_env={\"working_dir\": \"/Users/mirbilal/Desktop/MobCommission/commissionV2/\"})\n",
    "\n",
    "the_current_time_step  = datetime(year=1995, month=1, day=1, hour=10)\n",
    "\n",
    "config = {\n",
    "        \"env\": MarketSimulator,\n",
    "        \"env_config\": {\n",
    "            \"db_params\": db_params, \n",
    "            \"max_episode_steps\": 150, \n",
    "            \"the_current_time_step\": the_current_time_step,\n",
    "            \"print_output\": False,\n",
    "            \"test_steps\": 10,\n",
    "            \"n_step_stocks\": 5,\n",
    "            \"n_step_cmmdties\": 5,\n",
    "            \"epsilon\": 0.4\n",
    "        },\n",
    "        \"num_workers\": 4,\n",
    "        \"entropy_coeff\": 0.5,\n",
    "        # \"disable_env_checking\": True\n",
    "}\n",
    "\n",
    "algo = ppo.PPO(config=config)"
   ]
  },
  {
   "cell_type": "code",
   "execution_count": 5,
   "metadata": {},
   "outputs": [
    {
     "name": "stdout",
     "output_type": "stream",
     "text": [
      "[ 1000.  1000.  1000. -1000.  1000. -1000.]\n"
     ]
    }
   ],
   "source": [
    "zayev = MarketSimulator(env_config={\n",
    "    \"db_params\": db_params, \n",
    "    \"max_episode_steps\": 150, \n",
    "    \"the_current_time_step\": the_current_time_step,\n",
    "    \"print_output\": False,\n",
    "    \"test_steps\": 10,\n",
    "    \"n_step_stocks\": 5,\n",
    "    \"n_step_cmmdties\": 5,\n",
    "    \"epsilon\": 0.4\n",
    "    }\n",
    ")\n",
    "zayev.reset()\n",
    "actn = algo.compute_single_action(zayev.state)\n",
    "print(actn)"
   ]
  },
  {
   "cell_type": "code",
   "execution_count": 7,
   "metadata": {},
   "outputs": [
    {
     "name": "stdout",
     "output_type": "stream",
     "text": [
      "episode reward mean: 0 -38.4\n",
      "episode reward mean: 1 -25.8\n",
      "episode reward mean: 2 -45.4\n",
      "episode reward mean: 3 -86.6\n",
      "episode reward mean: 4 -76.8\n",
      "episode reward mean: 5 -69.6\n",
      "episode reward mean: 6 -52.8\n",
      "episode reward mean: 7 -34.4\n",
      "episode reward mean: 8 -51.2\n",
      "episode reward mean: 9 -33.2\n",
      "episode reward mean: 10 -24.2\n",
      "episode reward mean: 11 -40.8\n",
      "episode reward mean: 12 -42.8\n",
      "episode reward mean: 13 -79.2\n",
      "episode reward mean: 14 -64.4\n"
     ]
    },
    {
     "name": "stderr",
     "output_type": "stream",
     "text": [
      "OMP: Warning #191: Forking a process while a parallel region is active is potentially unsafe.\n",
      "OMP: Warning #191: Forking a process while a parallel region is active is potentially unsafe.\n"
     ]
    },
    {
     "name": "stdout",
     "output_type": "stream",
     "text": [
      "episode reward mean: 15 -63.6\n",
      "episode reward mean: 16 -52.4\n"
     ]
    },
    {
     "name": "stderr",
     "output_type": "stream",
     "text": [
      "OMP: Warning #191: Forking a process while a parallel region is active is potentially unsafe.\n"
     ]
    },
    {
     "name": "stdout",
     "output_type": "stream",
     "text": [
      "episode reward mean: 17 -62.4\n",
      "episode reward mean: 18 -48.0\n"
     ]
    },
    {
     "name": "stderr",
     "output_type": "stream",
     "text": [
      "OMP: Warning #191: Forking a process while a parallel region is active is potentially unsafe.\n"
     ]
    },
    {
     "name": "stdout",
     "output_type": "stream",
     "text": [
      "episode reward mean: 19 -56.6\n"
     ]
    }
   ],
   "source": [
    "\n",
    "\n",
    "mean_ppo = []\n",
    "for _ in range(10):\n",
    "\n",
    "    result = algo.train()\n",
    "    print(\"episode reward mean:\", _, result['episode_reward_mean'])\n",
    "    mean_ppo.append(result['episode_reward_mean'])\n"
   ]
  },
  {
   "cell_type": "code",
   "execution_count": 5,
   "metadata": {},
   "outputs": [
    {
     "data": {
      "text/plain": [
       "TrainingResult(checkpoint=Checkpoint(filesystem=local, path=/Users/mirbilal/Desktop/MobCommission/commissionV2/services/zayev/simulated_checkpoints/), metrics={'custom_metrics': {}, 'episode_media': {}, 'info': {'learner': {'__all__': {'num_agent_steps_trained': 128.0, 'num_env_steps_trained': 4000.0, 'total_loss': -61.043173637471476}, 'default_policy': {'total_loss': -61.043173637471476, 'policy_loss': 0.09904743755645336, 'vf_loss': 10.0, 'vf_loss_unclipped': 1770186621.3219616, 'vf_explained_var': -5.347578764470147e-06, 'entropy': 142.70959991585218, 'mean_kl_loss': 0.20995423378691896, 'default_optimizer_lr': 5.000000000000001e-05, 'curr_lr': 5e-05, 'curr_entropy_coeff': 0.5, 'curr_kl_coeff': 1.5187500715255737}}, 'num_env_steps_sampled': 20000, 'num_env_steps_trained': 0, 'num_agent_steps_sampled': 20000, 'num_agent_steps_trained': 0}, 'sampler_results': {'episode_reward_max': 308160.5007888747, 'episode_reward_min': -47357.23427858389, 'episode_reward_mean': 42985.256880082954, 'episode_len_mean': 151.0, 'episode_media': {}, 'episodes_this_iter': 28, 'policy_reward_min': {}, 'policy_reward_max': {}, 'policy_reward_mean': {}, 'custom_metrics': {}, 'hist_stats': {'episode_reward': [37003.00059047522, 22980.913976674812, 18466.072109834116, 46970.55045489535, 53161.823156094135, 4711.8919858883455, 39952.03886639887, 104055.5134845846, 19640.67649951394, 61684.0035724254, 37769.977247299175, -5616.319683622933, 51246.12419961268, -28073.669184605285, -16484.22583819329, -14548.907090847162, 79919.16857714631, 3494.9391481195344, 9759.127933213415, 93869.70298801888, 121741.642686348, 160447.54963082846, -25265.770571717745, -11947.27053751945, -4360.766144820722, 26575.198754615194, 16445.982572284658, -24427.51782669159, 16086.374595123503, -39518.356334828524, -10994.791018272794, -12925.781236314564, 12217.53561428342, 53415.37458341711, 143600.29371458388, 35534.47586981882, 95775.1326737366, 19918.290510836407, 62485.127652451076, -15643.117456959662, -47357.23427858389, 74954.91762898043, 75444.39233909102, 160997.03725577448, 5859.4495973565645, -34569.01309340355, 37999.17407429594, 30663.043607089872, 73918.29480816916, 43947.78858824179, 58057.78584387606, -23225.971934195637, -9108.14866655349, 22427.937409943435, 138433.56529234495, 32374.621731894294, 39877.42817099886, 37656.93833893002, 70131.71852343334, 34070.717265899846, -8550.07927170892, 93203.11193981087, 90798.1220935089, 308160.5007888747, -32714.409117531795, -33271.433978199966, 3662.142104643848, 59024.229216661624, -30702.908846904844, -22319.780192956314, 14290.678049682072, -24175.233175227142, -14290.697512648301, 32553.73020772681, 37102.125863436, 35540.99069732157, 82533.34786718505, 52449.927626131874, 2746.8406388294825, 94867.66313869644, 211828.75451621765, 121476.32774695856, 80128.50450985518, 19660.35089602525, 5307.637451197195, 124328.6650465343, 65449.789414012004, 87249.94548223754, 22159.456986837627, -40954.01688442028, 96854.02859922554, 40864.09173944889, -14726.155515043836, 302405.7298975041, 53900.36819038214, 16603.901813251417, 146719.7870895911, 163761.30219104793, -22883.677491983195, 15805.574964372587], 'episode_lengths': [151, 151, 151, 151, 151, 151, 151, 151, 151, 151, 151, 151, 151, 151, 151, 151, 151, 151, 151, 151, 151, 151, 151, 151, 151, 151, 151, 151, 151, 151, 151, 151, 151, 151, 151, 151, 151, 151, 151, 151, 151, 151, 151, 151, 151, 151, 151, 151, 151, 151, 151, 151, 151, 151, 151, 151, 151, 151, 151, 151, 151, 151, 151, 151, 151, 151, 151, 151, 151, 151, 151, 151, 151, 151, 151, 151, 151, 151, 151, 151, 151, 151, 151, 151, 151, 151, 151, 151, 151, 151, 151, 151, 151, 151, 151, 151, 151, 151, 151, 151]}, 'sampler_perf': {'mean_raw_obs_processing_ms': 0.7701963873769415, 'mean_inference_ms': 1.4146015185947027, 'mean_action_processing_ms': 0.19573443578539299, 'mean_env_wait_ms': 2.449270458332924, 'mean_env_render_ms': 0.0}, 'num_faulty_episodes': 0, 'connector_metrics': {'ObsPreprocessorConnector_ms': 0.02128124237060547, 'StateBufferConnector_ms': 0.005116462707519531, 'ViewRequirementAgentConnector_ms': 0.31247520446777344}}, 'episode_reward_max': 308160.5007888747, 'episode_reward_min': -47357.23427858389, 'episode_reward_mean': 42985.256880082954, 'episode_len_mean': 151.0, 'episodes_this_iter': 28, 'policy_reward_min': {}, 'policy_reward_max': {}, 'policy_reward_mean': {}, 'hist_stats': {'episode_reward': [37003.00059047522, 22980.913976674812, 18466.072109834116, 46970.55045489535, 53161.823156094135, 4711.8919858883455, 39952.03886639887, 104055.5134845846, 19640.67649951394, 61684.0035724254, 37769.977247299175, -5616.319683622933, 51246.12419961268, -28073.669184605285, -16484.22583819329, -14548.907090847162, 79919.16857714631, 3494.9391481195344, 9759.127933213415, 93869.70298801888, 121741.642686348, 160447.54963082846, -25265.770571717745, -11947.27053751945, -4360.766144820722, 26575.198754615194, 16445.982572284658, -24427.51782669159, 16086.374595123503, -39518.356334828524, -10994.791018272794, -12925.781236314564, 12217.53561428342, 53415.37458341711, 143600.29371458388, 35534.47586981882, 95775.1326737366, 19918.290510836407, 62485.127652451076, -15643.117456959662, -47357.23427858389, 74954.91762898043, 75444.39233909102, 160997.03725577448, 5859.4495973565645, -34569.01309340355, 37999.17407429594, 30663.043607089872, 73918.29480816916, 43947.78858824179, 58057.78584387606, -23225.971934195637, -9108.14866655349, 22427.937409943435, 138433.56529234495, 32374.621731894294, 39877.42817099886, 37656.93833893002, 70131.71852343334, 34070.717265899846, -8550.07927170892, 93203.11193981087, 90798.1220935089, 308160.5007888747, -32714.409117531795, -33271.433978199966, 3662.142104643848, 59024.229216661624, -30702.908846904844, -22319.780192956314, 14290.678049682072, -24175.233175227142, -14290.697512648301, 32553.73020772681, 37102.125863436, 35540.99069732157, 82533.34786718505, 52449.927626131874, 2746.8406388294825, 94867.66313869644, 211828.75451621765, 121476.32774695856, 80128.50450985518, 19660.35089602525, 5307.637451197195, 124328.6650465343, 65449.789414012004, 87249.94548223754, 22159.456986837627, -40954.01688442028, 96854.02859922554, 40864.09173944889, -14726.155515043836, 302405.7298975041, 53900.36819038214, 16603.901813251417, 146719.7870895911, 163761.30219104793, -22883.677491983195, 15805.574964372587], 'episode_lengths': [151, 151, 151, 151, 151, 151, 151, 151, 151, 151, 151, 151, 151, 151, 151, 151, 151, 151, 151, 151, 151, 151, 151, 151, 151, 151, 151, 151, 151, 151, 151, 151, 151, 151, 151, 151, 151, 151, 151, 151, 151, 151, 151, 151, 151, 151, 151, 151, 151, 151, 151, 151, 151, 151, 151, 151, 151, 151, 151, 151, 151, 151, 151, 151, 151, 151, 151, 151, 151, 151, 151, 151, 151, 151, 151, 151, 151, 151, 151, 151, 151, 151, 151, 151, 151, 151, 151, 151, 151, 151, 151, 151, 151, 151, 151, 151, 151, 151, 151, 151]}, 'sampler_perf': {'mean_raw_obs_processing_ms': 0.7701963873769415, 'mean_inference_ms': 1.4146015185947027, 'mean_action_processing_ms': 0.19573443578539299, 'mean_env_wait_ms': 2.449270458332924, 'mean_env_render_ms': 0.0}, 'num_faulty_episodes': 0, 'connector_metrics': {'ObsPreprocessorConnector_ms': 0.02128124237060547, 'StateBufferConnector_ms': 0.005116462707519531, 'ViewRequirementAgentConnector_ms': 0.31247520446777344}, 'num_healthy_workers': 4, 'num_in_flight_async_reqs': 0, 'num_remote_worker_restarts': 0, 'num_agent_steps_sampled': 20000, 'num_agent_steps_trained': 0, 'num_env_steps_sampled': 20000, 'num_env_steps_trained': 0, 'num_env_steps_sampled_this_iter': 4000, 'num_env_steps_trained_this_iter': 0, 'num_env_steps_sampled_throughput_per_sec': 415.46053952020907, 'num_env_steps_trained_throughput_per_sec': 0.0, 'timesteps_total': 20000, 'num_steps_trained_this_iter': 0, 'agent_timesteps_total': 20000, 'timers': {'training_iteration_time_ms': 9568.397, 'sample_time_ms': 4839.99, 'synch_weights_time_ms': 9.219}, 'counters': {'num_env_steps_sampled': 20000, 'num_env_steps_trained': 0, 'num_agent_steps_sampled': 20000, 'num_agent_steps_trained': 0}, 'done': False, 'episodes_total': 132, 'training_iteration': 5, 'trial_id': 'default', 'date': '2023-10-09_10-20-03', 'timestamp': 1696846803, 'time_this_iter_s': 9.631985902786255, 'time_total_s': 47.86131453514099, 'pid': 23089, 'hostname': 'Muneebs-MacBook-Pro.local', 'node_ip': '127.0.0.1', 'config': {'extra_python_environs_for_driver': {}, 'extra_python_environs_for_worker': {}, 'num_gpus': 0, 'num_cpus_per_worker': 1, 'num_gpus_per_worker': 0, '_fake_gpus': False, 'num_learner_workers': 0, 'num_gpus_per_learner_worker': 0, 'num_cpus_per_learner_worker': 1, 'local_gpu_idx': 0, 'custom_resources_per_worker': {}, 'placement_strategy': 'PACK', 'eager_tracing': True, 'eager_max_retraces': 20, 'tf_session_args': {'intra_op_parallelism_threads': 2, 'inter_op_parallelism_threads': 2, 'gpu_options': {'allow_growth': True}, 'log_device_placement': False, 'device_count': {'CPU': 1}, 'allow_soft_placement': True}, 'local_tf_session_args': {'intra_op_parallelism_threads': 8, 'inter_op_parallelism_threads': 8}, 'torch_compile_learner': False, 'torch_compile_learner_what_to_compile': <TorchCompileWhatToCompile.FORWARD_TRAIN: 'forward_train'>, 'torch_compile_learner_dynamo_backend': 'aot_eager', 'torch_compile_learner_dynamo_mode': None, 'torch_compile_worker': False, 'torch_compile_worker_dynamo_backend': 'aot_eager', 'torch_compile_worker_dynamo_mode': None, 'env': <class 'services.zayev.environment.market_simulator.MarketSimulator'>, 'env_config': {'db_params': {'database': 'traderdb', 'user': 'traderadmin', 'password': 'i4n6s9l1y', 'host': 'localhost', 'port': '5432'}, 'max_episode_steps': 150, 'the_current_time_step': datetime.datetime(1995, 1, 1, 10, 0), 'print_output': False}, 'observation_space': None, 'action_space': None, 'env_task_fn': None, 'render_env': False, 'clip_rewards': None, 'normalize_actions': True, 'clip_actions': False, 'disable_env_checking': False, 'auto_wrap_old_gym_envs': True, 'action_mask_key': 'action_mask', '_is_atari': None, 'env_runner_cls': None, 'num_envs_per_worker': 1, 'sample_collector': <class 'ray.rllib.evaluation.collectors.simple_list_collector.SimpleListCollector'>, 'sample_async': False, 'enable_connectors': True, 'update_worker_filter_stats': True, 'use_worker_filter_stats': True, 'rollout_fragment_length': 'auto', 'batch_mode': 'truncate_episodes', 'remote_worker_envs': False, 'remote_env_batch_wait_ms': 0, 'validate_workers_after_construction': True, 'preprocessor_pref': 'deepmind', 'observation_filter': 'NoFilter', 'compress_observations': False, 'enable_tf1_exec_eagerly': False, 'sampler_perf_stats_ema_coef': None, 'gamma': 0.99, 'lr': 5e-05, 'grad_clip': None, 'grad_clip_by': 'global_norm', 'train_batch_size': 4000, 'model': {'_disable_preprocessor_api': False, '_disable_action_flattening': False, 'fcnet_hiddens': [256, 256], 'fcnet_activation': 'tanh', 'conv_filters': None, 'conv_activation': 'relu', 'post_fcnet_hiddens': [], 'post_fcnet_activation': 'relu', 'free_log_std': False, 'no_final_linear': False, 'vf_share_layers': False, 'use_lstm': False, 'max_seq_len': 20, 'lstm_cell_size': 256, 'lstm_use_prev_action': False, 'lstm_use_prev_reward': False, '_time_major': False, 'use_attention': False, 'attention_num_transformer_units': 1, 'attention_dim': 64, 'attention_num_heads': 1, 'attention_head_dim': 32, 'attention_memory_inference': 50, 'attention_memory_training': 50, 'attention_position_wise_mlp_dim': 32, 'attention_init_gru_gate_bias': 2.0, 'attention_use_n_prev_actions': 0, 'attention_use_n_prev_rewards': 0, 'framestack': True, 'dim': 84, 'grayscale': False, 'zero_mean': True, 'custom_model': None, 'custom_model_config': {}, 'custom_action_dist': None, 'custom_preprocessor': None, 'encoder_latent_dim': None, 'always_check_shapes': False, 'lstm_use_prev_action_reward': -1, '_use_default_native_models': -1}, 'optimizer': {}, 'max_requests_in_flight_per_sampler_worker': 2, '_learner_class': None, '_enable_learner_api': True, 'explore': True, 'exploration_config': {}, 'algorithm_config_overrides_per_module': {}, 'policy_map_capacity': 100, 'policy_mapping_fn': <function AlgorithmConfig.DEFAULT_POLICY_MAPPING_FN at 0x172917f40>, 'policies_to_train': None, 'policy_states_are_swappable': False, 'observation_fn': None, 'count_steps_by': 'env_steps', 'input_config': {}, 'actions_in_input_normalized': False, 'postprocess_inputs': False, 'shuffle_buffer_size': 0, 'output': None, 'output_config': {}, 'output_compress_columns': ['obs', 'new_obs'], 'output_max_file_size': 67108864, 'offline_sampling': False, 'evaluation_interval': None, 'evaluation_duration': 10, 'evaluation_duration_unit': 'episodes', 'evaluation_sample_timeout_s': 180.0, 'evaluation_parallel_to_training': False, 'evaluation_config': None, 'off_policy_estimation_methods': {}, 'ope_split_batch_by_episode': True, 'evaluation_num_workers': 0, 'always_attach_evaluation_results': False, 'enable_async_evaluation': False, 'in_evaluation': False, 'sync_filters_on_rollout_workers_timeout_s': 60.0, 'keep_per_episode_custom_metrics': False, 'metrics_episode_collection_timeout_s': 60.0, 'metrics_num_episodes_for_smoothing': 100, 'min_time_s_per_iteration': None, 'min_train_timesteps_per_iteration': 0, 'min_sample_timesteps_per_iteration': 0, 'export_native_model_files': False, 'checkpoint_trainable_policies_only': False, 'logger_creator': None, 'logger_config': None, 'log_level': 'WARN', 'log_sys_usage': True, 'fake_sampler': False, 'seed': None, 'ignore_worker_failures': False, 'recreate_failed_workers': False, 'max_num_worker_restarts': 1000, 'delay_between_worker_restarts_s': 60.0, 'restart_failed_sub_environments': False, 'num_consecutive_worker_failures_tolerance': 100, 'worker_health_probe_timeout_s': 60, 'worker_restore_timeout_s': 1800, 'rl_module_spec': SingleAgentRLModuleSpec(module_class=<class 'ray.rllib.algorithms.ppo.torch.ppo_torch_rl_module.PPOTorchRLModule'>, observation_space=None, action_space=None, model_config_dict=None, catalog_class=<class 'ray.rllib.algorithms.ppo.ppo_catalog.PPOCatalog'>, load_state_path=None), '_enable_rl_module_api': True, '_AlgorithmConfig__prior_exploration_config': {'type': 'StochasticSampling'}, '_tf_policy_handles_more_than_one_loss': False, '_disable_preprocessor_api': False, '_disable_action_flattening': False, '_disable_execution_plan_api': True, '_disable_initialize_loss_from_dummy_batch': False, 'simple_optimizer': False, 'policy_map_cache': -1, 'worker_cls': -1, 'synchronize_filters': -1, 'replay_sequence_length': None, 'lr_schedule': None, 'use_critic': True, 'use_gae': True, 'use_kl_loss': True, 'kl_coeff': 0.2, 'kl_target': 0.01, 'sgd_minibatch_size': 128, 'num_sgd_iter': 30, 'shuffle_sequences': True, 'vf_loss_coeff': 1.0, 'entropy_coeff': 0.5, 'entropy_coeff_schedule': None, 'clip_param': 0.3, 'vf_clip_param': 10.0, 'vf_share_layers': -1, 'lambda': 1.0, 'input': 'sampler', 'policies': {'default_policy': (None, None, None, None)}, 'callbacks': <class 'ray.rllib.algorithms.callbacks.DefaultCallbacks'>, 'create_env_on_driver': False, 'custom_eval_function': None, 'framework': 'torch', 'num_cpus_for_driver': 1, 'num_workers': 4}, 'time_since_restore': 47.86131453514099, 'iterations_since_restore': 5, 'perf': {'cpu_util_percent': 43.284615384615385, 'ram_util_percent': 63.74615384615384}})"
      ]
     },
     "execution_count": 5,
     "metadata": {},
     "output_type": "execute_result"
    }
   ],
   "source": [
    "checkpoint_path = \"/Users/mirbilal/Desktop/MobCommission/commissionV2/services/zayev/simulated_checkpoints/\"\n",
    "\n",
    "algo.save(checkpoint_dir=checkpoint_path)"
   ]
  },
  {
   "cell_type": "code",
   "execution_count": 6,
   "metadata": {},
   "outputs": [
    {
     "name": "stderr",
     "output_type": "stream",
     "text": [
      "2023-10-09 10:46:52,822\tWARNING algorithm_config.py:2578 -- Setting `exploration_config={}` because you set `_enable_rl_module_api=True`. When RLModule API are enabled, exploration_config can not be set. If you want to implement custom exploration behaviour, please modify the `forward_exploration` method of the RLModule at hand. On configs that have a default exploration config, this must be done with `config.exploration_config={}`.\n"
     ]
    },
    {
     "name": "stderr",
     "output_type": "stream",
     "text": [
      "2023-10-09 10:46:52,958\tINFO trainable.py:984 -- Restored on 127.0.0.1 from checkpoint: Checkpoint(filesystem=local, path=/Users/mirbilal/Desktop/MobCommission/commissionV2/services/zayev/simulated_checkpoints/)\n"
     ]
    },
    {
     "data": {
      "text/plain": [
       "True"
      ]
     },
     "execution_count": 6,
     "metadata": {},
     "output_type": "execute_result"
    }
   ],
   "source": [
    "algo.restore(checkpoint_path=checkpoint_path)"
   ]
  },
  {
   "cell_type": "code",
   "execution_count": 4,
   "metadata": {},
   "outputs": [],
   "source": [
    "rewards_a = []\n",
    "rewards_b = []"
   ]
  },
  {
   "cell_type": "code",
   "execution_count": 27,
   "metadata": {},
   "outputs": [],
   "source": [
    "reward_c = []"
   ]
  },
  {
   "cell_type": "code",
   "execution_count": 3,
   "metadata": {},
   "outputs": [
    {
     "name": "stdout",
     "output_type": "stream",
     "text": [
      "(1,)\n",
      "(5, 8)\n"
     ]
    }
   ],
   "source": [
    "my_current_time_step  = datetime(year=1995, month=1, day=1, hour=10) + relativedelta(hours=0)\n",
    "\n",
    "env_config = {\n",
    "    \"db_params\": db_params, \n",
    "    \"max_episode_steps\": 150, \n",
    "    \"print_output\": False,\n",
    "    \"the_current_time_step\": my_current_time_step,\n",
    "}\n",
    "\n",
    "myEnv = MarketSimulator(env_config)"
   ]
  },
  {
   "cell_type": "code",
   "execution_count": null,
   "metadata": {},
   "outputs": [],
   "source": [
    "ray.shutdown()\n",
    "ray.init(runtime_env={\"working_dir\": \"/Users/mirbilal/Desktop/MobCommission/commissionV2/\"})\n",
    "\n",
    "config = {\n",
    "    \"env\": MarketSimulator,\n",
    "    \"env_config\": {\n",
    "        \"db_params\": db_params, \n",
    "        \"max_episode_steps\": 150, \n",
    "        \"the_current_time_step\": my_current_time_step,\n",
    "        \"print_output\": False\n",
    "    },\n",
    "    \"num_workers\": 4,\n",
    "}\n",
    "\n",
    "new_algo = ppo.PPO(config=config)\n",
    "new_algo.restore(checkpoint_path=checkpoint_path)"
   ]
  },
  {
   "cell_type": "code",
   "execution_count": 41,
   "metadata": {},
   "outputs": [
    {
     "name": "stderr",
     "output_type": "stream",
     "text": [
      "OMP: Warning #191: Forking a process while a parallel region is active is potentially unsafe.\n"
     ]
    }
   ],
   "source": [
    "\n",
    "import copy\n",
    "\n",
    "def get_latest_states():\n",
    "    latest_states = []\n",
    "    env = myEnv\n",
    "    env.reset()\n",
    "    obs = env.state\n",
    "    latest_states = []  # To store the latest states from each worker\n",
    "    for _ in range(150):  # Interact with the environment for 10 steps as an example\n",
    "        action = algo.compute_single_action(obs)  # Replace with your agent's action\n",
    "        # action = np.array([[664, 831,  51, 988, 280,],\n",
    "        #             [  1,   0,   1,   1,   0]])\n",
    "        obs, _, done, _ = env.step(action)\n",
    "        if done:\n",
    "            obs = env.reset()\n",
    "        state = env.state  # Obtain the state from the environment\n",
    "        latest_states.append(copy.deepcopy(obs))\n",
    "    return latest_states\n",
    "\n",
    "latest_states = get_latest_states()"
   ]
  },
  {
   "cell_type": "code",
   "execution_count": 42,
   "metadata": {},
   "outputs": [
    {
     "name": "stdout",
     "output_type": "stream",
     "text": [
      "total_rewards 4368.091816217878\n"
     ]
    }
   ],
   "source": [
    "total_portfolios = []\n",
    "total_rewards = 0\n",
    "for astate in latest_states:\n",
    "    # print(astate)\n",
    "    total_portfolio_a = 0\n",
    "    total_portfolio_b = 0\n",
    "    (stock_state, commodity_state, wallet_state) = astate\n",
    "    total_portfolio_b = total_portfolio_b + wallet_state[0]\n",
    "    total_portfolio_a = total_portfolio_a + wallet_state[0]\n",
    "    # print(stock_state)\n",
    "    gain = 0\n",
    "    for a_stck in stock_state:\n",
    "        total_portfolio_a = total_portfolio_a + a_stck[6]*a_stck[7]\n",
    "        total_portfolio_b = total_portfolio_b + a_stck[0]*a_stck[7]\n",
    "        gain = gain + (a_stck[0]*a_stck[7] - a_stck[6]*a_stck[7])\n",
    "    # print(gain)\n",
    "    # print(\"\")\n",
    "    total_rewards = total_rewards + gain\n",
    "    reward_c.append(total_rewards)\n",
    "        \n",
    "    # print((total_portfolio_a, total_portfolio_b))\n",
    "    total_portfolios.append((total_portfolio_a, total_portfolio_b))\n",
    "\n",
    "print(\"total_rewards\", total_rewards)"
   ]
  },
  {
   "cell_type": "code",
   "execution_count": 14,
   "metadata": {},
   "outputs": [
    {
     "name": "stdout",
     "output_type": "stream",
     "text": [
      "Factor (Quotient): 10\n",
      "Remainder: 1\n"
     ]
    }
   ],
   "source": [
    "dividend = 21\n",
    "divisor = 2\n",
    "\n",
    "factor = dividend // divisor  # Integer division\n",
    "remainder = dividend % divisor  # Modulo operation\n",
    "\n",
    "print(f\"Factor (Quotient): {factor}\")\n",
    "print(f\"Remainder: {remainder}\")"
   ]
  },
  {
   "cell_type": "code",
   "execution_count": 55,
   "metadata": {},
   "outputs": [],
   "source": [
    "ray.shutdown()"
   ]
  },
  {
   "cell_type": "code",
   "execution_count": 43,
   "metadata": {},
   "outputs": [
    {
     "data": {
      "text/html": [
       "        <script type=\"text/javascript\">\n",
       "        window.PlotlyConfig = {MathJaxConfig: 'local'};\n",
       "        if (window.MathJax && window.MathJax.Hub && window.MathJax.Hub.Config) {window.MathJax.Hub.Config({SVG: {font: \"STIX-Web\"}});}\n",
       "        if (typeof require !== 'undefined') {\n",
       "        require.undef(\"plotly\");\n",
       "        requirejs.config({\n",
       "            paths: {\n",
       "                'plotly': ['https://cdn.plot.ly/plotly-2.26.0.min']\n",
       "            }\n",
       "        });\n",
       "        require(['plotly'], function(Plotly) {\n",
       "            window._Plotly = Plotly;\n",
       "        });\n",
       "        }\n",
       "        </script>\n",
       "        "
      ]
     },
     "metadata": {},
     "output_type": "display_data"
    },
    {
     "data": {
      "application/vnd.plotly.v1+json": {
       "config": {
        "linkText": "Export to plot.ly",
        "plotlyServerURL": "https://plot.ly",
        "showLink": true
       },
       "data": [
        {
         "line": {
          "color": "rgba(255, 153, 51, 1.0)",
          "dash": "solid",
          "shape": "linear",
          "width": 1.3
         },
         "mode": "lines",
         "name": "reward_c",
         "text": "",
         "type": "scatter",
         "x": [
          0,
          1,
          2,
          3,
          4,
          5,
          6,
          7,
          8,
          9,
          10,
          11,
          12,
          13,
          14,
          15,
          16,
          17,
          18,
          19,
          20,
          21,
          22,
          23,
          24,
          25,
          26,
          27,
          28,
          29,
          30,
          31,
          32,
          33,
          34,
          35,
          36,
          37,
          38,
          39,
          40,
          41,
          42,
          43,
          44,
          45,
          46,
          47,
          48,
          49,
          50,
          51,
          52,
          53,
          54,
          55,
          56,
          57,
          58,
          59,
          60,
          61,
          62,
          63,
          64,
          65,
          66,
          67,
          68,
          69,
          70,
          71,
          72,
          73,
          74,
          75,
          76,
          77,
          78,
          79,
          80,
          81,
          82,
          83,
          84,
          85,
          86,
          87,
          88,
          89,
          90,
          91,
          92,
          93,
          94,
          95,
          96,
          97,
          98,
          99,
          100,
          101,
          102,
          103,
          104,
          105,
          106,
          107,
          108,
          109,
          110,
          111,
          112,
          113,
          114,
          115,
          116,
          117,
          118,
          119,
          120,
          121,
          122,
          123,
          124,
          125,
          126,
          127,
          128,
          129,
          130,
          131,
          132,
          133,
          134,
          135,
          136,
          137,
          138,
          139,
          140,
          141,
          142,
          143,
          144,
          145,
          146,
          147,
          148,
          149,
          150,
          151,
          152,
          153,
          154,
          155,
          156,
          157,
          158,
          159,
          160,
          161,
          162,
          163,
          164,
          165,
          166,
          167,
          168,
          169,
          170,
          171,
          172,
          173,
          174,
          175,
          176,
          177,
          178,
          179,
          180,
          181,
          182,
          183,
          184,
          185,
          186,
          187,
          188,
          189,
          190,
          191,
          192,
          193,
          194,
          195,
          196,
          197,
          198,
          199,
          200,
          201,
          202,
          203,
          204,
          205,
          206,
          207,
          208,
          209,
          210,
          211,
          212,
          213,
          214,
          215,
          216,
          217,
          218,
          219,
          220,
          221,
          222,
          223,
          224,
          225,
          226,
          227,
          228,
          229,
          230,
          231,
          232,
          233,
          234,
          235,
          236,
          237,
          238,
          239,
          240,
          241,
          242,
          243,
          244,
          245,
          246,
          247,
          248,
          249,
          250,
          251,
          252,
          253,
          254,
          255,
          256,
          257,
          258,
          259,
          260,
          261,
          262,
          263,
          264,
          265,
          266,
          267,
          268,
          269,
          270,
          271,
          272,
          273,
          274,
          275,
          276,
          277,
          278,
          279,
          280,
          281,
          282,
          283,
          284,
          285,
          286,
          287,
          288,
          289,
          290,
          291,
          292,
          293,
          294,
          295,
          296,
          297,
          298,
          299,
          300,
          301,
          302,
          303,
          304,
          305,
          306,
          307,
          308,
          309,
          310,
          311,
          312,
          313,
          314,
          315,
          316,
          317,
          318,
          319,
          320,
          321,
          322,
          323,
          324,
          325,
          326,
          327,
          328,
          329,
          330,
          331,
          332,
          333,
          334,
          335,
          336,
          337,
          338,
          339,
          340,
          341,
          342,
          343,
          344,
          345,
          346,
          347,
          348,
          349,
          350,
          351,
          352,
          353,
          354,
          355,
          356,
          357,
          358,
          359,
          360,
          361,
          362,
          363,
          364,
          365,
          366,
          367,
          368,
          369,
          370,
          371,
          372,
          373,
          374,
          375,
          376,
          377,
          378,
          379,
          380,
          381,
          382,
          383,
          384,
          385,
          386,
          387,
          388,
          389,
          390,
          391,
          392,
          393,
          394,
          395,
          396,
          397,
          398,
          399,
          400,
          401,
          402,
          403,
          404,
          405,
          406,
          407,
          408,
          409,
          410,
          411,
          412,
          413,
          414,
          415,
          416,
          417,
          418,
          419,
          420,
          421,
          422,
          423,
          424,
          425,
          426,
          427,
          428,
          429,
          430,
          431,
          432,
          433,
          434,
          435,
          436,
          437,
          438,
          439,
          440,
          441,
          442,
          443,
          444,
          445,
          446,
          447,
          448,
          449,
          450,
          451,
          452,
          453,
          454,
          455,
          456,
          457,
          458,
          459,
          460,
          461,
          462,
          463,
          464,
          465,
          466,
          467,
          468,
          469,
          470,
          471,
          472,
          473,
          474,
          475,
          476,
          477,
          478,
          479,
          480,
          481,
          482,
          483,
          484,
          485,
          486,
          487,
          488,
          489,
          490,
          491,
          492,
          493,
          494,
          495,
          496,
          497,
          498,
          499,
          500,
          501,
          502,
          503,
          504,
          505,
          506,
          507,
          508,
          509,
          510,
          511,
          512,
          513,
          514,
          515,
          516,
          517,
          518,
          519,
          520,
          521,
          522,
          523,
          524,
          525,
          526,
          527,
          528,
          529,
          530,
          531,
          532,
          533,
          534,
          535,
          536,
          537,
          538,
          539,
          540,
          541,
          542,
          543,
          544,
          545,
          546,
          547,
          548,
          549,
          550,
          551,
          552,
          553,
          554,
          555,
          556,
          557,
          558,
          559,
          560,
          561,
          562,
          563,
          564,
          565,
          566,
          567,
          568,
          569,
          570,
          571,
          572,
          573,
          574,
          575,
          576,
          577,
          578,
          579,
          580,
          581,
          582,
          583,
          584,
          585,
          586,
          587,
          588,
          589,
          590,
          591,
          592,
          593,
          594,
          595,
          596,
          597,
          598,
          599,
          600,
          601,
          602,
          603,
          604,
          605,
          606,
          607,
          608,
          609,
          610,
          611,
          612,
          613,
          614,
          615,
          616,
          617,
          618,
          619,
          620,
          621,
          622,
          623,
          624,
          625,
          626,
          627,
          628,
          629,
          630,
          631,
          632,
          633,
          634,
          635,
          636,
          637,
          638,
          639,
          640,
          641,
          642,
          643,
          644,
          645,
          646,
          647,
          648,
          649,
          650,
          651,
          652,
          653,
          654,
          655,
          656,
          657,
          658,
          659,
          660,
          661,
          662,
          663,
          664,
          665,
          666,
          667,
          668,
          669,
          670,
          671,
          672,
          673,
          674,
          675,
          676,
          677,
          678,
          679,
          680,
          681,
          682,
          683,
          684,
          685,
          686,
          687,
          688,
          689,
          690,
          691,
          692,
          693,
          694,
          695,
          696,
          697,
          698,
          699,
          700,
          701,
          702,
          703,
          704,
          705,
          706,
          707,
          708,
          709,
          710,
          711,
          712,
          713,
          714,
          715,
          716,
          717,
          718,
          719,
          720,
          721,
          722,
          723,
          724,
          725,
          726,
          727,
          728,
          729,
          730,
          731,
          732,
          733,
          734,
          735,
          736,
          737,
          738,
          739,
          740,
          741,
          742,
          743,
          744,
          745,
          746,
          747,
          748,
          749
         ],
         "y": [
          857.2854353204718,
          2450.9748810739247,
          3737.905621327236,
          3965.917697752199,
          4452.497409721214,
          4115.330736700702,
          3867.03548111907,
          4631.749693108409,
          5411.640717889783,
          6908.638078256792,
          8259.400790028083,
          8288.960620989783,
          8709.403184376719,
          6741.410744258133,
          7230.842147807917,
          10796.588813122735,
          12460.912126455765,
          24553.483711700523,
          32438.80487251309,
          54178.574088283814,
          76169.98167337847,
          79096.59474448403,
          57618.77883580033,
          56740.11875017726,
          59474.715329572275,
          59108.777552564745,
          61892.655909787754,
          64317.30904085945,
          63998.43284877901,
          62511.14392043914,
          63572.80216220311,
          64871.89224104013,
          66972.34917112756,
          68834.22385456155,
          69753.43379381379,
          73349.12050478825,
          73574.15228000797,
          74288.31038120978,
          75872.54386920884,
          76209.89578140689,
          76104.3597614432,
          78622.95406362713,
          77545.29322572307,
          77105.78361391877,
          74682.58363635612,
          72780.91864171826,
          71458.49230654213,
          70246.49206729193,
          69567.38280255295,
          69933.02331775645,
          69201.28966866812,
          71691.42673230074,
          72902.27889888608,
          72749.8463037422,
          68073.58255014119,
          67806.5010983755,
          67425.36491612815,
          62812.01869512513,
          59494.83565679831,
          55652.24393047225,
          58976.798367633,
          65623.29277523221,
          67351.5740947791,
          65324.728834064954,
          67268.56095783281,
          75263.13614403812,
          83785.57369718773,
          85221.82181476825,
          96223.83294130348,
          105074.85613149346,
          105833.93644255401,
          100230.50695923665,
          103967.40684883892,
          106793.32944237934,
          111084.65037186288,
          111313.74125750203,
          109399.05884720571,
          112404.15948628272,
          113839.03696257397,
          111309.93424977768,
          108192.47491207112,
          100933.20777155033,
          97842.05318373423,
          92453.59159128048,
          88803.7867962679,
          93039.95284452847,
          93458.7797057259,
          103012.13935876214,
          110260.36717490491,
          119133.91641690684,
          114109.31840420568,
          110941.2104268163,
          105652.14818994974,
          96460.58264940664,
          91192.02240784459,
          97407.02559213842,
          100978.20027828803,
          111786.2948414069,
          137155.96428855453,
          157847.38096350402,
          161216.26874318213,
          124740.06585868755,
          130759.87400182354,
          124781.57814520458,
          128021.29015279323,
          119861.88024548317,
          108936.84120182235,
          103190.09016609241,
          105863.4099179937,
          99273.0373971033,
          96694.24432716097,
          89735.90138491274,
          86394.28074053038,
          80524.76448114197,
          77632.96771337208,
          74662.26869550915,
          69364.7440955501,
          62262.857211257324,
          61268.90870998625,
          57902.707062892994,
          57753.1529299924,
          56107.537754695164,
          53210.89308893026,
          49796.83209850961,
          49711.570352007984,
          56923.93664192812,
          68645.8414576658,
          71380.92299955331,
          65348.79958238121,
          64309.35900387335,
          64118.85943003325,
          63817.16279421291,
          63985.626114719555,
          62795.319921310445,
          64647.53564618837,
          61940.550645171505,
          59541.62143783879,
          59119.395962077564,
          59632.88660379853,
          60135.18708083823,
          58475.7363438798,
          59877.265764426425,
          59266.65246605488,
          58350.72212722296,
          59201.101981493644,
          56307.725154980464,
          52653.881961634674,
          51533.70570726105,
          40411.59390890881,
          29060.687612198082,
          472.5562501632198,
          904.4923424391069,
          1827.057116484871,
          2430.1255260433136,
          2807.3410015443756,
          2427.465645644805,
          2322.503870423275,
          2770.7612020862152,
          2803.317558116532,
          3466.1352165974663,
          6335.372898035717,
          9051.47260382528,
          5882.669659236656,
          3190.118213898327,
          3733.951060922867,
          8019.410778400663,
          10902.69725299095,
          11739.968646541347,
          13987.48267638437,
          23952.207774181,
          34428.07834039866,
          38242.804934856526,
          22390.124596264723,
          21849.94883976592,
          23686.631846695807,
          23154.065575617104,
          22177.38812334453,
          23489.15967056705,
          23173.799353812286,
          23135.566159209888,
          23346.834008185044,
          24234.166729463897,
          25066.339579696523,
          25895.52667767065,
          26775.338180098763,
          30031.535672792845,
          28950.621997640133,
          28935.334843037217,
          25867.55026818021,
          24713.181189842548,
          23860.900965288965,
          21224.257209256633,
          20699.624274919483,
          19145.193811384957,
          15704.633320291428,
          13738.092102254031,
          13638.807138374794,
          13549.715980903316,
          13211.767494571712,
          11572.625830931354,
          13143.321158639912,
          8637.09345237763,
          7479.434619312926,
          6447.139406799793,
          7105.497407228562,
          7407.8919727478315,
          7409.5096450199,
          7450.277658162466,
          5723.405557673242,
          2892.5582787410713,
          5117.193565892392,
          5270.771553669847,
          8571.05414511107,
          7334.895101274151,
          6434.738338770647,
          6126.1252253469465,
          7187.076411042612,
          10884.00181805053,
          18685.057416559823,
          24394.171981698404,
          31560.865336186536,
          40936.106354226606,
          42211.597735919866,
          43668.94162278787,
          43855.6537209412,
          44940.935570066606,
          43432.22510091656,
          41887.90640826923,
          41639.30997936893,
          41869.19558414011,
          20511.494650651162,
          17030.23792738752,
          16518.600614416104,
          15107.632346542447,
          9338.861772919161,
          12664.678427141185,
          19248.721268794747,
          31836.69229882677,
          51849.26740915098,
          61078.60103752611,
          75262.42448556705,
          76709.96386028832,
          76701.73107038996,
          78947.9496033145,
          72716.62113017417,
          77515.66074517732,
          82628.00528660929,
          93617.83776017898,
          110234.38825345755,
          132700.89198638016,
          137022.88537401517,
          104304.89529596773,
          110088.3693730828,
          104565.35171964555,
          104101.69015849703,
          104149.27170597938,
          101728.42178401852,
          100277.23748680537,
          100426.74209399865,
          101183.65492400202,
          102696.48289359464,
          98215.22239994085,
          96118.26612923601,
          90575.49988172567,
          86467.7714064471,
          85752.93470401414,
          82733.22734549972,
          77883.06382405333,
          76726.850380442,
          69071.84331219301,
          70608.32505033712,
          74756.74785877918,
          78254.44732201159,
          91983.88744999027,
          109669.03664014357,
          127088.45161517232,
          144249.19500932482,
          151141.0190173373,
          152808.87812195817,
          163160.2877160154,
          158444.9136394831,
          148154.8460997282,
          146062.65237259722,
          143670.27718255852,
          142973.43128701416,
          142096.32105024828,
          136973.6376338373,
          134411.05286359115,
          126815.9876315462,
          122390.82537767268,
          115866.62621138946,
          114716.5340198047,
          104536.1756463549,
          97255.93198618521,
          93836.58458551447,
          89018.68086581743,
          84391.9566055228,
          82873.74468217525,
          82947.91364498185,
          82626.39541909081,
          1714.8028091493832,
          2596.0801079423322,
          4371.249750631743,
          3651.5843482563423,
          4219.826520510304,
          4453.892201315543,
          4418.835049907486,
          6509.09040238072,
          8309.396168975993,
          9272.539800067816,
          12343.809741236515,
          15251.27845842959,
          11859.171630514116,
          8976.90776019579,
          9204.370319833706,
          6043.477646772761,
          9381.717940545088,
          9311.878063287655,
          7664.1773144298295,
          4791.0197196096815,
          6541.938717034577,
          8042.193827767405,
          -627.7415182608438,
          -6298.4486176519395,
          -3111.6755946031244,
          -3596.954928204279,
          -966.5590182977521,
          878.470593104621,
          379.10711792251914,
          -1091.3264143475653,
          774.8260184569681,
          777.5041625541313,
          1433.1065339472275,
          2914.1122428323224,
          4534.400818221289,
          7602.179130631312,
          9796.983772766152,
          9946.253799259479,
          9376.279159511174,
          10158.66842092781,
          10184.73313195403,
          11355.252771196978,
          10207.638251590284,
          11561.11388572731,
          12321.16558061209,
          11148.215818945162,
          11409.006779932432,
          11039.221290800153,
          10557.02601976325,
          10448.59272431324,
          12037.169438673336,
          11564.76658154076,
          12459.225506183795,
          11527.813758518021,
          12696.126786868737,
          12585.092112847697,
          10711.267399098573,
          9211.368346203893,
          6730.064153516834,
          6289.36492573809,
          8408.820268396155,
          9954.864437827806,
          11215.453310730118,
          14660.195210054157,
          17421.397836538985,
          18448.321218652352,
          21851.12024792819,
          23287.368365508708,
          25908.293393383752,
          26052.4869954118,
          25215.801699027194,
          24619.06029331123,
          25443.596122323248,
          27330.075614944006,
          28478.498806517568,
          26978.35433708787,
          27671.224227066297,
          26375.691707343547,
          24000.722074457204,
          23637.207732481074,
          14048.759513795694,
          12356.912178432356,
          10327.234939689382,
          8025.500141248998,
          6673.027525662509,
          11535.353202041428,
          13598.93192196867,
          16548.68203680779,
          23068.60371480008,
          26955.121815933613,
          32383.82755453203,
          30582.12052167679,
          31472.016265910122,
          33518.026521448985,
          32981.43413520274,
          36700.37593425058,
          36907.06824309278,
          36045.92350639871,
          37134.92012594147,
          43986.74471536339,
          44999.39497544686,
          25861.261391371958,
          29010.422519901033,
          26117.548793223745,
          27651.011570604234,
          20039.31942677399,
          11843.779421499832,
          8973.072735114303,
          11064.249615363145,
          8032.61950776298,
          9295.641369271903,
          11447.929234812955,
          12851.189112095071,
          14657.919677390282,
          16651.160429751202,
          18347.10829183267,
          18937.99479127733,
          16974.200121292863,
          16359.516558333844,
          13102.74865056531,
          14415.063959423715,
          18066.277291453564,
          22100.1476654212,
          23094.731012798595,
          24668.623592035558,
          22458.290878057906,
          36056.520835906,
          55684.53030648228,
          62877.8832856718,
          62602.77531318723,
          55380.667003167735,
          54758.1705892567,
          54021.49415240544,
          52244.7560997052,
          51998.54472436556,
          50809.38664953303,
          47655.86867390872,
          45046.80754280022,
          43601.9824639227,
          40816.07634488177,
          40494.94103723455,
          38767.756577689084,
          38542.66740602028,
          38089.53459631174,
          38664.83057089408,
          36692.83364604357,
          36657.70987205151,
          37712.31442398391,
          37743.14931306248,
          31921.156699456027,
          324.0550229016822,
          1270.0700881170455,
          2813.070815591349,
          2136.7747768782556,
          3987.9939163571917,
          4597.168908628477,
          5874.18221625182,
          6581.971140882312,
          7135.896299829212,
          9750.553717792209,
          9817.217936744104,
          8997.862779779294,
          7307.60277602196,
          7014.340411687384,
          7485.109614733494,
          7705.0042730978375,
          4151.991305569088,
          3157.145256269939,
          4203.779529833722,
          8442.701970076192,
          20446.301180735853,
          17944.6517264264,
          6788.636034904581,
          3724.605089826361,
          5807.36215258796,
          6205.488846869947,
          6192.238365465765,
          5551.628490389714,
          5373.1659216040325,
          4386.812594865164,
          5335.112096654217,
          5855.443156606739,
          6490.196536940861,
          8830.797825658437,
          11370.856330160557,
          11658.063888786233,
          11926.84785587246,
          10725.66510038683,
          8717.654915197283,
          9630.421799090633,
          8048.819627689825,
          2320.3615065350486,
          -183.21181228255955,
          -2846.533729636344,
          -2032.9502350052185,
          -7146.401006295271,
          -7149.062723211787,
          -7822.929732533577,
          -9270.684967999081,
          -10985.605896637073,
          -12299.73566822517,
          -12770.60544060865,
          -12944.118503560741,
          -13698.346359294826,
          -17097.990829820603,
          -17656.10447098998,
          -21278.825454437923,
          -21081.22689686116,
          -22785.72668715021,
          -22686.205049630295,
          -19035.95401961457,
          -18975.533337429166,
          -15884.12227487128,
          -17002.662497748744,
          -18268.21662020461,
          -16430.194237498166,
          -16419.866808828298,
          -14527.289598158151,
          -13386.31829796925,
          -13061.999700775676,
          -12113.798159822225,
          -9565.230160885025,
          -9585.90915247853,
          -7679.7773391031715,
          -6263.451821936669,
          -5959.424907511665,
          -4206.277992500554,
          -4852.982007445136,
          -3046.02265926955,
          -2716.5519424253125,
          -16060.488740239174,
          -20445.63587382488,
          -22533.518125421033,
          -22545.021717346153,
          -22155.153528920506,
          -23829.273517430716,
          -23124.66581168653,
          -16089.635740667927,
          -12840.316392360364,
          -9987.956267398731,
          -6620.224456681963,
          -4152.691722485845,
          -4574.05909511467,
          -1379.7195050553805,
          -4130.104986018557,
          878.016559036827,
          2649.2624409860564,
          4663.389077516852,
          13687.742428827034,
          24477.33678595174,
          29827.752892315486,
          26580.385340227822,
          28261.713019358347,
          27034.559466903505,
          25489.821297284627,
          22554.84016781214,
          20719.84614870503,
          24203.55285995453,
          21039.813132093484,
          16331.84989515071,
          10121.632587352387,
          4814.6830257365555,
          3494.133085537823,
          -1090.7370156740126,
          -5381.493402663563,
          -7490.965425762219,
          -8284.318132180559,
          -8523.1666836974,
          -8019.6880333800445,
          -10115.96599002276,
          -9579.033985558735,
          -9849.98603063224,
          -5646.728741218882,
          -4370.975990532344,
          -2634.540122172848,
          -1560.765701564974,
          -2720.306798879982,
          -4297.344522448615,
          934.9737927127553,
          1339.654345639246,
          1214.3184649889124,
          -59.33139018701377,
          -1395.418214851553,
          -3742.4275893155864,
          -6061.995402597846,
          -5799.826301912193,
          -8528.209104927977,
          -7825.1207576151555,
          -6426.628927763342,
          -6153.659823255947,
          -8649.497145864738,
          -9363.47505273026,
          -10329.437349732207,
          -10682.818890568145,
          -14245.281847910068,
          -17085.83072220054,
          -21057.488868169614,
          -22560.29773809801,
          -24653.08566267245,
          -28092.80146260575,
          476.3256466577847,
          1879.9795886424529,
          2597.818567714023,
          982.0748533059264,
          1451.737791521289,
          193.41354215965202,
          -627.0883274972003,
          258.4527551908968,
          1117.3990346454034,
          3341.7311134357383,
          4038.3230801318996,
          3181.372592192162,
          3543.506102132206,
          3529.174734919079,
          4019.3115948838913,
          6792.750723730077,
          14582.147185379854,
          17671.408463156604,
          18905.886434454234,
          15631.741619584596,
          12455.927870199723,
          9693.024554539563,
          13055.688100953355,
          12948.288458975612,
          12969.902623176058,
          12194.069317847161,
          10745.25253160229,
          9194.23072415118,
          9080.522243892527,
          7937.990447936319,
          8991.507812415191,
          9794.491296815173,
          10788.749646997647,
          12523.44256574426,
          13715.08981902957,
          15718.87126364851,
          17633.66110086597,
          16300.876947714878,
          15212.048337665574,
          15491.09426755693,
          15145.612978095965,
          15132.19126624733,
          13157.601297541209,
          10741.790907523475,
          8114.944244558392,
          7995.516170281306,
          7961.999815564452,
          8488.168759972838,
          8849.13708084726,
          8662.344854874178,
          7852.65744251845,
          7492.947621968375,
          8175.641909181389,
          7059.7788269707125,
          7764.933796567264,
          7995.659189954396,
          7620.3208910354415,
          7518.142898545863,
          7905.086137145802,
          7815.056467603789,
          8843.100461958982,
          13239.43108320396,
          15182.345395721659,
          20498.260151132672,
          19149.731017060007,
          18684.17709342135,
          20514.161543602444,
          23194.94946816589,
          28404.6115474386,
          28540.82135637037,
          28103.127780301922,
          24538.62678736156,
          24830.616595264888,
          27261.949735879047,
          29975.774569377238,
          28191.380886867835,
          28768.322395897732,
          27742.020865593473,
          27903.798166364897,
          32361.61848924302,
          19104.58897677924,
          15661.758361212873,
          15441.28598377602,
          12450.056066523546,
          6814.44949221273,
          13369.380472749126,
          19963.107561027173,
          27094.897242149807,
          46037.37128762968,
          51157.20505513321,
          51145.50623276871,
          44712.54440679344,
          40136.193405863116,
          33219.4513797017,
          30347.721673765664,
          34140.32824410233,
          39290.217000939585,
          44195.383673042445,
          44825.23481887579,
          47704.6040407196,
          59267.47310346449,
          33009.37724782774,
          26529.743386736143,
          29687.117368364463,
          32201.516966960626,
          19556.237790596064,
          4818.866229182728,
          -6493.245074369699,
          -10702.572818406472,
          -14522.23539116991,
          -19033.6631127427,
          -17538.5432118096,
          -16561.959161556177,
          -18536.425750694132,
          -22354.192334612355,
          -24150.4033970684,
          -26676.530184150633,
          -32638.275747047923,
          -33296.22857092649,
          -37865.49264691118,
          -36103.8852817671,
          -31202.152686556157,
          -22012.831049898254,
          -7710.066538802119,
          1028.9889248105846,
          9150.433565575873,
          27433.535701949164,
          38073.114614722894,
          43313.42832863044,
          42314.15120789444,
          41061.366782536024,
          39286.4767673041,
          39414.25398986784,
          37030.73277947359,
          39111.803169519284,
          39385.60199562686,
          38097.136354661176,
          33405.37281711248,
          26362.40401849345,
          23075.77988015363,
          23352.19709693504,
          21152.75935540762,
          16630.662242754537,
          16236.707582007399,
          15813.353784699912,
          14309.57201089644,
          13945.447080685319,
          12161.651233887662,
          7888.2898691530545,
          4368.091816217878
         ]
        }
       ],
       "layout": {
        "legend": {
         "bgcolor": "#FFFFFF",
         "font": {
          "color": "#4D5663"
         }
        },
        "paper_bgcolor": "#FFFFFF",
        "plot_bgcolor": "#FFFFFF",
        "template": {
         "data": {
          "bar": [
           {
            "error_x": {
             "color": "#2a3f5f"
            },
            "error_y": {
             "color": "#2a3f5f"
            },
            "marker": {
             "line": {
              "color": "#E5ECF6",
              "width": 0.5
             },
             "pattern": {
              "fillmode": "overlay",
              "size": 10,
              "solidity": 0.2
             }
            },
            "type": "bar"
           }
          ],
          "barpolar": [
           {
            "marker": {
             "line": {
              "color": "#E5ECF6",
              "width": 0.5
             },
             "pattern": {
              "fillmode": "overlay",
              "size": 10,
              "solidity": 0.2
             }
            },
            "type": "barpolar"
           }
          ],
          "carpet": [
           {
            "aaxis": {
             "endlinecolor": "#2a3f5f",
             "gridcolor": "white",
             "linecolor": "white",
             "minorgridcolor": "white",
             "startlinecolor": "#2a3f5f"
            },
            "baxis": {
             "endlinecolor": "#2a3f5f",
             "gridcolor": "white",
             "linecolor": "white",
             "minorgridcolor": "white",
             "startlinecolor": "#2a3f5f"
            },
            "type": "carpet"
           }
          ],
          "choropleth": [
           {
            "colorbar": {
             "outlinewidth": 0,
             "ticks": ""
            },
            "type": "choropleth"
           }
          ],
          "contour": [
           {
            "colorbar": {
             "outlinewidth": 0,
             "ticks": ""
            },
            "colorscale": [
             [
              0,
              "#0d0887"
             ],
             [
              0.1111111111111111,
              "#46039f"
             ],
             [
              0.2222222222222222,
              "#7201a8"
             ],
             [
              0.3333333333333333,
              "#9c179e"
             ],
             [
              0.4444444444444444,
              "#bd3786"
             ],
             [
              0.5555555555555556,
              "#d8576b"
             ],
             [
              0.6666666666666666,
              "#ed7953"
             ],
             [
              0.7777777777777778,
              "#fb9f3a"
             ],
             [
              0.8888888888888888,
              "#fdca26"
             ],
             [
              1,
              "#f0f921"
             ]
            ],
            "type": "contour"
           }
          ],
          "contourcarpet": [
           {
            "colorbar": {
             "outlinewidth": 0,
             "ticks": ""
            },
            "type": "contourcarpet"
           }
          ],
          "heatmap": [
           {
            "colorbar": {
             "outlinewidth": 0,
             "ticks": ""
            },
            "colorscale": [
             [
              0,
              "#0d0887"
             ],
             [
              0.1111111111111111,
              "#46039f"
             ],
             [
              0.2222222222222222,
              "#7201a8"
             ],
             [
              0.3333333333333333,
              "#9c179e"
             ],
             [
              0.4444444444444444,
              "#bd3786"
             ],
             [
              0.5555555555555556,
              "#d8576b"
             ],
             [
              0.6666666666666666,
              "#ed7953"
             ],
             [
              0.7777777777777778,
              "#fb9f3a"
             ],
             [
              0.8888888888888888,
              "#fdca26"
             ],
             [
              1,
              "#f0f921"
             ]
            ],
            "type": "heatmap"
           }
          ],
          "heatmapgl": [
           {
            "colorbar": {
             "outlinewidth": 0,
             "ticks": ""
            },
            "colorscale": [
             [
              0,
              "#0d0887"
             ],
             [
              0.1111111111111111,
              "#46039f"
             ],
             [
              0.2222222222222222,
              "#7201a8"
             ],
             [
              0.3333333333333333,
              "#9c179e"
             ],
             [
              0.4444444444444444,
              "#bd3786"
             ],
             [
              0.5555555555555556,
              "#d8576b"
             ],
             [
              0.6666666666666666,
              "#ed7953"
             ],
             [
              0.7777777777777778,
              "#fb9f3a"
             ],
             [
              0.8888888888888888,
              "#fdca26"
             ],
             [
              1,
              "#f0f921"
             ]
            ],
            "type": "heatmapgl"
           }
          ],
          "histogram": [
           {
            "marker": {
             "pattern": {
              "fillmode": "overlay",
              "size": 10,
              "solidity": 0.2
             }
            },
            "type": "histogram"
           }
          ],
          "histogram2d": [
           {
            "colorbar": {
             "outlinewidth": 0,
             "ticks": ""
            },
            "colorscale": [
             [
              0,
              "#0d0887"
             ],
             [
              0.1111111111111111,
              "#46039f"
             ],
             [
              0.2222222222222222,
              "#7201a8"
             ],
             [
              0.3333333333333333,
              "#9c179e"
             ],
             [
              0.4444444444444444,
              "#bd3786"
             ],
             [
              0.5555555555555556,
              "#d8576b"
             ],
             [
              0.6666666666666666,
              "#ed7953"
             ],
             [
              0.7777777777777778,
              "#fb9f3a"
             ],
             [
              0.8888888888888888,
              "#fdca26"
             ],
             [
              1,
              "#f0f921"
             ]
            ],
            "type": "histogram2d"
           }
          ],
          "histogram2dcontour": [
           {
            "colorbar": {
             "outlinewidth": 0,
             "ticks": ""
            },
            "colorscale": [
             [
              0,
              "#0d0887"
             ],
             [
              0.1111111111111111,
              "#46039f"
             ],
             [
              0.2222222222222222,
              "#7201a8"
             ],
             [
              0.3333333333333333,
              "#9c179e"
             ],
             [
              0.4444444444444444,
              "#bd3786"
             ],
             [
              0.5555555555555556,
              "#d8576b"
             ],
             [
              0.6666666666666666,
              "#ed7953"
             ],
             [
              0.7777777777777778,
              "#fb9f3a"
             ],
             [
              0.8888888888888888,
              "#fdca26"
             ],
             [
              1,
              "#f0f921"
             ]
            ],
            "type": "histogram2dcontour"
           }
          ],
          "mesh3d": [
           {
            "colorbar": {
             "outlinewidth": 0,
             "ticks": ""
            },
            "type": "mesh3d"
           }
          ],
          "parcoords": [
           {
            "line": {
             "colorbar": {
              "outlinewidth": 0,
              "ticks": ""
             }
            },
            "type": "parcoords"
           }
          ],
          "pie": [
           {
            "automargin": true,
            "type": "pie"
           }
          ],
          "scatter": [
           {
            "fillpattern": {
             "fillmode": "overlay",
             "size": 10,
             "solidity": 0.2
            },
            "type": "scatter"
           }
          ],
          "scatter3d": [
           {
            "line": {
             "colorbar": {
              "outlinewidth": 0,
              "ticks": ""
             }
            },
            "marker": {
             "colorbar": {
              "outlinewidth": 0,
              "ticks": ""
             }
            },
            "type": "scatter3d"
           }
          ],
          "scattercarpet": [
           {
            "marker": {
             "colorbar": {
              "outlinewidth": 0,
              "ticks": ""
             }
            },
            "type": "scattercarpet"
           }
          ],
          "scattergeo": [
           {
            "marker": {
             "colorbar": {
              "outlinewidth": 0,
              "ticks": ""
             }
            },
            "type": "scattergeo"
           }
          ],
          "scattergl": [
           {
            "marker": {
             "colorbar": {
              "outlinewidth": 0,
              "ticks": ""
             }
            },
            "type": "scattergl"
           }
          ],
          "scattermapbox": [
           {
            "marker": {
             "colorbar": {
              "outlinewidth": 0,
              "ticks": ""
             }
            },
            "type": "scattermapbox"
           }
          ],
          "scatterpolar": [
           {
            "marker": {
             "colorbar": {
              "outlinewidth": 0,
              "ticks": ""
             }
            },
            "type": "scatterpolar"
           }
          ],
          "scatterpolargl": [
           {
            "marker": {
             "colorbar": {
              "outlinewidth": 0,
              "ticks": ""
             }
            },
            "type": "scatterpolargl"
           }
          ],
          "scatterternary": [
           {
            "marker": {
             "colorbar": {
              "outlinewidth": 0,
              "ticks": ""
             }
            },
            "type": "scatterternary"
           }
          ],
          "surface": [
           {
            "colorbar": {
             "outlinewidth": 0,
             "ticks": ""
            },
            "colorscale": [
             [
              0,
              "#0d0887"
             ],
             [
              0.1111111111111111,
              "#46039f"
             ],
             [
              0.2222222222222222,
              "#7201a8"
             ],
             [
              0.3333333333333333,
              "#9c179e"
             ],
             [
              0.4444444444444444,
              "#bd3786"
             ],
             [
              0.5555555555555556,
              "#d8576b"
             ],
             [
              0.6666666666666666,
              "#ed7953"
             ],
             [
              0.7777777777777778,
              "#fb9f3a"
             ],
             [
              0.8888888888888888,
              "#fdca26"
             ],
             [
              1,
              "#f0f921"
             ]
            ],
            "type": "surface"
           }
          ],
          "table": [
           {
            "cells": {
             "fill": {
              "color": "#EBF0F8"
             },
             "line": {
              "color": "white"
             }
            },
            "header": {
             "fill": {
              "color": "#C8D4E3"
             },
             "line": {
              "color": "white"
             }
            },
            "type": "table"
           }
          ]
         },
         "layout": {
          "annotationdefaults": {
           "arrowcolor": "#2a3f5f",
           "arrowhead": 0,
           "arrowwidth": 1
          },
          "autotypenumbers": "strict",
          "coloraxis": {
           "colorbar": {
            "outlinewidth": 0,
            "ticks": ""
           }
          },
          "colorscale": {
           "diverging": [
            [
             0,
             "#8e0152"
            ],
            [
             0.1,
             "#c51b7d"
            ],
            [
             0.2,
             "#de77ae"
            ],
            [
             0.3,
             "#f1b6da"
            ],
            [
             0.4,
             "#fde0ef"
            ],
            [
             0.5,
             "#f7f7f7"
            ],
            [
             0.6,
             "#e6f5d0"
            ],
            [
             0.7,
             "#b8e186"
            ],
            [
             0.8,
             "#7fbc41"
            ],
            [
             0.9,
             "#4d9221"
            ],
            [
             1,
             "#276419"
            ]
           ],
           "sequential": [
            [
             0,
             "#0d0887"
            ],
            [
             0.1111111111111111,
             "#46039f"
            ],
            [
             0.2222222222222222,
             "#7201a8"
            ],
            [
             0.3333333333333333,
             "#9c179e"
            ],
            [
             0.4444444444444444,
             "#bd3786"
            ],
            [
             0.5555555555555556,
             "#d8576b"
            ],
            [
             0.6666666666666666,
             "#ed7953"
            ],
            [
             0.7777777777777778,
             "#fb9f3a"
            ],
            [
             0.8888888888888888,
             "#fdca26"
            ],
            [
             1,
             "#f0f921"
            ]
           ],
           "sequentialminus": [
            [
             0,
             "#0d0887"
            ],
            [
             0.1111111111111111,
             "#46039f"
            ],
            [
             0.2222222222222222,
             "#7201a8"
            ],
            [
             0.3333333333333333,
             "#9c179e"
            ],
            [
             0.4444444444444444,
             "#bd3786"
            ],
            [
             0.5555555555555556,
             "#d8576b"
            ],
            [
             0.6666666666666666,
             "#ed7953"
            ],
            [
             0.7777777777777778,
             "#fb9f3a"
            ],
            [
             0.8888888888888888,
             "#fdca26"
            ],
            [
             1,
             "#f0f921"
            ]
           ]
          },
          "colorway": [
           "#636efa",
           "#EF553B",
           "#00cc96",
           "#ab63fa",
           "#FFA15A",
           "#19d3f3",
           "#FF6692",
           "#B6E880",
           "#FF97FF",
           "#FECB52"
          ],
          "font": {
           "color": "#2a3f5f"
          },
          "geo": {
           "bgcolor": "white",
           "lakecolor": "white",
           "landcolor": "#E5ECF6",
           "showlakes": true,
           "showland": true,
           "subunitcolor": "white"
          },
          "hoverlabel": {
           "align": "left"
          },
          "hovermode": "closest",
          "mapbox": {
           "style": "light"
          },
          "paper_bgcolor": "white",
          "plot_bgcolor": "#E5ECF6",
          "polar": {
           "angularaxis": {
            "gridcolor": "white",
            "linecolor": "white",
            "ticks": ""
           },
           "bgcolor": "#E5ECF6",
           "radialaxis": {
            "gridcolor": "white",
            "linecolor": "white",
            "ticks": ""
           }
          },
          "scene": {
           "xaxis": {
            "backgroundcolor": "#E5ECF6",
            "gridcolor": "white",
            "gridwidth": 2,
            "linecolor": "white",
            "showbackground": true,
            "ticks": "",
            "zerolinecolor": "white"
           },
           "yaxis": {
            "backgroundcolor": "#E5ECF6",
            "gridcolor": "white",
            "gridwidth": 2,
            "linecolor": "white",
            "showbackground": true,
            "ticks": "",
            "zerolinecolor": "white"
           },
           "zaxis": {
            "backgroundcolor": "#E5ECF6",
            "gridcolor": "white",
            "gridwidth": 2,
            "linecolor": "white",
            "showbackground": true,
            "ticks": "",
            "zerolinecolor": "white"
           }
          },
          "shapedefaults": {
           "line": {
            "color": "#2a3f5f"
           }
          },
          "ternary": {
           "aaxis": {
            "gridcolor": "white",
            "linecolor": "white",
            "ticks": ""
           },
           "baxis": {
            "gridcolor": "white",
            "linecolor": "white",
            "ticks": ""
           },
           "bgcolor": "#E5ECF6",
           "caxis": {
            "gridcolor": "white",
            "linecolor": "white",
            "ticks": ""
           }
          },
          "title": {
           "x": 0.05
          },
          "xaxis": {
           "automargin": true,
           "gridcolor": "white",
           "linecolor": "white",
           "ticks": "",
           "title": {
            "standoff": 15
           },
           "zerolinecolor": "white",
           "zerolinewidth": 2
          },
          "yaxis": {
           "automargin": true,
           "gridcolor": "white",
           "linecolor": "white",
           "ticks": "",
           "title": {
            "standoff": 15
           },
           "zerolinecolor": "white",
           "zerolinewidth": 2
          }
         }
        },
        "title": {
         "font": {
          "color": "#4D5663"
         }
        },
        "xaxis": {
         "gridcolor": "#E1E5ED",
         "showgrid": true,
         "tickfont": {
          "color": "#4D5663"
         },
         "title": {
          "font": {
           "color": "#4D5663"
          },
          "text": "time_steps"
         },
         "zerolinecolor": "#E1E5ED"
        },
        "yaxis": {
         "gridcolor": "#E1E5ED",
         "showgrid": true,
         "tickfont": {
          "color": "#4D5663"
         },
         "title": {
          "font": {
           "color": "#4D5663"
          },
          "text": "Normalized Prices"
         },
         "zerolinecolor": "#E1E5ED"
        }
       }
      },
      "text/html": [
       "<div>                            <div id=\"0fc6093f-6637-46f8-b387-dd724bcffd40\" class=\"plotly-graph-div\" style=\"height:525px; width:100%;\"></div>            <script type=\"text/javascript\">                require([\"plotly\"], function(Plotly) {                    window.PLOTLYENV=window.PLOTLYENV || {};\n",
       "                    window.PLOTLYENV.BASE_URL='https://plot.ly';                                    if (document.getElementById(\"0fc6093f-6637-46f8-b387-dd724bcffd40\")) {                    Plotly.newPlot(                        \"0fc6093f-6637-46f8-b387-dd724bcffd40\",                        [{\"line\":{\"color\":\"rgba(255, 153, 51, 1.0)\",\"dash\":\"solid\",\"shape\":\"linear\",\"width\":1.3},\"mode\":\"lines\",\"name\":\"reward_c\",\"text\":\"\",\"x\":[0,1,2,3,4,5,6,7,8,9,10,11,12,13,14,15,16,17,18,19,20,21,22,23,24,25,26,27,28,29,30,31,32,33,34,35,36,37,38,39,40,41,42,43,44,45,46,47,48,49,50,51,52,53,54,55,56,57,58,59,60,61,62,63,64,65,66,67,68,69,70,71,72,73,74,75,76,77,78,79,80,81,82,83,84,85,86,87,88,89,90,91,92,93,94,95,96,97,98,99,100,101,102,103,104,105,106,107,108,109,110,111,112,113,114,115,116,117,118,119,120,121,122,123,124,125,126,127,128,129,130,131,132,133,134,135,136,137,138,139,140,141,142,143,144,145,146,147,148,149,150,151,152,153,154,155,156,157,158,159,160,161,162,163,164,165,166,167,168,169,170,171,172,173,174,175,176,177,178,179,180,181,182,183,184,185,186,187,188,189,190,191,192,193,194,195,196,197,198,199,200,201,202,203,204,205,206,207,208,209,210,211,212,213,214,215,216,217,218,219,220,221,222,223,224,225,226,227,228,229,230,231,232,233,234,235,236,237,238,239,240,241,242,243,244,245,246,247,248,249,250,251,252,253,254,255,256,257,258,259,260,261,262,263,264,265,266,267,268,269,270,271,272,273,274,275,276,277,278,279,280,281,282,283,284,285,286,287,288,289,290,291,292,293,294,295,296,297,298,299,300,301,302,303,304,305,306,307,308,309,310,311,312,313,314,315,316,317,318,319,320,321,322,323,324,325,326,327,328,329,330,331,332,333,334,335,336,337,338,339,340,341,342,343,344,345,346,347,348,349,350,351,352,353,354,355,356,357,358,359,360,361,362,363,364,365,366,367,368,369,370,371,372,373,374,375,376,377,378,379,380,381,382,383,384,385,386,387,388,389,390,391,392,393,394,395,396,397,398,399,400,401,402,403,404,405,406,407,408,409,410,411,412,413,414,415,416,417,418,419,420,421,422,423,424,425,426,427,428,429,430,431,432,433,434,435,436,437,438,439,440,441,442,443,444,445,446,447,448,449,450,451,452,453,454,455,456,457,458,459,460,461,462,463,464,465,466,467,468,469,470,471,472,473,474,475,476,477,478,479,480,481,482,483,484,485,486,487,488,489,490,491,492,493,494,495,496,497,498,499,500,501,502,503,504,505,506,507,508,509,510,511,512,513,514,515,516,517,518,519,520,521,522,523,524,525,526,527,528,529,530,531,532,533,534,535,536,537,538,539,540,541,542,543,544,545,546,547,548,549,550,551,552,553,554,555,556,557,558,559,560,561,562,563,564,565,566,567,568,569,570,571,572,573,574,575,576,577,578,579,580,581,582,583,584,585,586,587,588,589,590,591,592,593,594,595,596,597,598,599,600,601,602,603,604,605,606,607,608,609,610,611,612,613,614,615,616,617,618,619,620,621,622,623,624,625,626,627,628,629,630,631,632,633,634,635,636,637,638,639,640,641,642,643,644,645,646,647,648,649,650,651,652,653,654,655,656,657,658,659,660,661,662,663,664,665,666,667,668,669,670,671,672,673,674,675,676,677,678,679,680,681,682,683,684,685,686,687,688,689,690,691,692,693,694,695,696,697,698,699,700,701,702,703,704,705,706,707,708,709,710,711,712,713,714,715,716,717,718,719,720,721,722,723,724,725,726,727,728,729,730,731,732,733,734,735,736,737,738,739,740,741,742,743,744,745,746,747,748,749],\"y\":[857.2854353204718,2450.9748810739247,3737.905621327236,3965.917697752199,4452.497409721214,4115.330736700702,3867.03548111907,4631.749693108409,5411.640717889783,6908.638078256792,8259.400790028083,8288.960620989783,8709.403184376719,6741.410744258133,7230.842147807917,10796.588813122735,12460.912126455765,24553.483711700523,32438.80487251309,54178.574088283814,76169.98167337847,79096.59474448403,57618.77883580033,56740.11875017726,59474.715329572275,59108.777552564745,61892.655909787754,64317.30904085945,63998.43284877901,62511.14392043914,63572.80216220311,64871.89224104013,66972.34917112756,68834.22385456155,69753.43379381379,73349.12050478825,73574.15228000797,74288.31038120978,75872.54386920884,76209.89578140689,76104.3597614432,78622.95406362713,77545.29322572307,77105.78361391877,74682.58363635612,72780.91864171826,71458.49230654213,70246.49206729193,69567.38280255295,69933.02331775645,69201.28966866812,71691.42673230074,72902.27889888608,72749.8463037422,68073.58255014119,67806.5010983755,67425.36491612815,62812.01869512513,59494.83565679831,55652.24393047225,58976.798367633,65623.29277523221,67351.5740947791,65324.728834064954,67268.56095783281,75263.13614403812,83785.57369718773,85221.82181476825,96223.83294130348,105074.85613149346,105833.93644255401,100230.50695923665,103967.40684883892,106793.32944237934,111084.65037186288,111313.74125750203,109399.05884720571,112404.15948628272,113839.03696257397,111309.93424977768,108192.47491207112,100933.20777155033,97842.05318373423,92453.59159128048,88803.7867962679,93039.95284452847,93458.7797057259,103012.13935876214,110260.36717490491,119133.91641690684,114109.31840420568,110941.2104268163,105652.14818994974,96460.58264940664,91192.02240784459,97407.02559213842,100978.20027828803,111786.2948414069,137155.96428855453,157847.38096350402,161216.26874318213,124740.06585868755,130759.87400182354,124781.57814520458,128021.29015279323,119861.88024548317,108936.84120182235,103190.09016609241,105863.4099179937,99273.0373971033,96694.24432716097,89735.90138491274,86394.28074053038,80524.76448114197,77632.96771337208,74662.26869550915,69364.7440955501,62262.857211257324,61268.90870998625,57902.707062892994,57753.1529299924,56107.537754695164,53210.89308893026,49796.83209850961,49711.570352007984,56923.93664192812,68645.8414576658,71380.92299955331,65348.79958238121,64309.35900387335,64118.85943003325,63817.16279421291,63985.626114719555,62795.319921310445,64647.53564618837,61940.550645171505,59541.62143783879,59119.395962077564,59632.88660379853,60135.18708083823,58475.7363438798,59877.265764426425,59266.65246605488,58350.72212722296,59201.101981493644,56307.725154980464,52653.881961634674,51533.70570726105,40411.59390890881,29060.687612198082,472.5562501632198,904.4923424391069,1827.057116484871,2430.1255260433136,2807.3410015443756,2427.465645644805,2322.503870423275,2770.7612020862152,2803.317558116532,3466.1352165974663,6335.372898035717,9051.47260382528,5882.669659236656,3190.118213898327,3733.951060922867,8019.410778400663,10902.69725299095,11739.968646541347,13987.48267638437,23952.207774181,34428.07834039866,38242.804934856526,22390.124596264723,21849.94883976592,23686.631846695807,23154.065575617104,22177.38812334453,23489.15967056705,23173.799353812286,23135.566159209888,23346.834008185044,24234.166729463897,25066.339579696523,25895.52667767065,26775.338180098763,30031.535672792845,28950.621997640133,28935.334843037217,25867.55026818021,24713.181189842548,23860.900965288965,21224.257209256633,20699.624274919483,19145.193811384957,15704.633320291428,13738.092102254031,13638.807138374794,13549.715980903316,13211.767494571712,11572.625830931354,13143.321158639912,8637.09345237763,7479.434619312926,6447.139406799793,7105.497407228562,7407.8919727478315,7409.5096450199,7450.277658162466,5723.405557673242,2892.5582787410713,5117.193565892392,5270.771553669847,8571.05414511107,7334.895101274151,6434.738338770647,6126.1252253469465,7187.076411042612,10884.00181805053,18685.057416559823,24394.171981698404,31560.865336186536,40936.106354226606,42211.597735919866,43668.94162278787,43855.6537209412,44940.935570066606,43432.22510091656,41887.90640826923,41639.30997936893,41869.19558414011,20511.494650651162,17030.23792738752,16518.600614416104,15107.632346542447,9338.861772919161,12664.678427141185,19248.721268794747,31836.69229882677,51849.26740915098,61078.60103752611,75262.42448556705,76709.96386028832,76701.73107038996,78947.9496033145,72716.62113017417,77515.66074517732,82628.00528660929,93617.83776017898,110234.38825345755,132700.89198638016,137022.88537401517,104304.89529596773,110088.3693730828,104565.35171964555,104101.69015849703,104149.27170597938,101728.42178401852,100277.23748680537,100426.74209399865,101183.65492400202,102696.48289359464,98215.22239994085,96118.26612923601,90575.49988172567,86467.7714064471,85752.93470401414,82733.22734549972,77883.06382405333,76726.850380442,69071.84331219301,70608.32505033712,74756.74785877918,78254.44732201159,91983.88744999027,109669.03664014357,127088.45161517232,144249.19500932482,151141.0190173373,152808.87812195817,163160.2877160154,158444.9136394831,148154.8460997282,146062.65237259722,143670.27718255852,142973.43128701416,142096.32105024828,136973.6376338373,134411.05286359115,126815.9876315462,122390.82537767268,115866.62621138946,114716.5340198047,104536.1756463549,97255.93198618521,93836.58458551447,89018.68086581743,84391.9566055228,82873.74468217525,82947.91364498185,82626.39541909081,1714.8028091493832,2596.0801079423322,4371.249750631743,3651.5843482563423,4219.826520510304,4453.892201315543,4418.835049907486,6509.09040238072,8309.396168975993,9272.539800067816,12343.809741236515,15251.27845842959,11859.171630514116,8976.90776019579,9204.370319833706,6043.477646772761,9381.717940545088,9311.878063287655,7664.1773144298295,4791.0197196096815,6541.938717034577,8042.193827767405,-627.7415182608438,-6298.4486176519395,-3111.6755946031244,-3596.954928204279,-966.5590182977521,878.470593104621,379.10711792251914,-1091.3264143475653,774.8260184569681,777.5041625541313,1433.1065339472275,2914.1122428323224,4534.400818221289,7602.179130631312,9796.983772766152,9946.253799259479,9376.279159511174,10158.66842092781,10184.73313195403,11355.252771196978,10207.638251590284,11561.11388572731,12321.16558061209,11148.215818945162,11409.006779932432,11039.221290800153,10557.02601976325,10448.59272431324,12037.169438673336,11564.76658154076,12459.225506183795,11527.813758518021,12696.126786868737,12585.092112847697,10711.267399098573,9211.368346203893,6730.064153516834,6289.36492573809,8408.820268396155,9954.864437827806,11215.453310730118,14660.195210054157,17421.397836538985,18448.321218652352,21851.12024792819,23287.368365508708,25908.293393383752,26052.4869954118,25215.801699027194,24619.06029331123,25443.596122323248,27330.075614944006,28478.498806517568,26978.35433708787,27671.224227066297,26375.691707343547,24000.722074457204,23637.207732481074,14048.759513795694,12356.912178432356,10327.234939689382,8025.500141248998,6673.027525662509,11535.353202041428,13598.93192196867,16548.68203680779,23068.60371480008,26955.121815933613,32383.82755453203,30582.12052167679,31472.016265910122,33518.026521448985,32981.43413520274,36700.37593425058,36907.06824309278,36045.92350639871,37134.92012594147,43986.74471536339,44999.39497544686,25861.261391371958,29010.422519901033,26117.548793223745,27651.011570604234,20039.31942677399,11843.779421499832,8973.072735114303,11064.249615363145,8032.61950776298,9295.641369271903,11447.929234812955,12851.189112095071,14657.919677390282,16651.160429751202,18347.10829183267,18937.99479127733,16974.200121292863,16359.516558333844,13102.74865056531,14415.063959423715,18066.277291453564,22100.1476654212,23094.731012798595,24668.623592035558,22458.290878057906,36056.520835906,55684.53030648228,62877.8832856718,62602.77531318723,55380.667003167735,54758.1705892567,54021.49415240544,52244.7560997052,51998.54472436556,50809.38664953303,47655.86867390872,45046.80754280022,43601.9824639227,40816.07634488177,40494.94103723455,38767.756577689084,38542.66740602028,38089.53459631174,38664.83057089408,36692.83364604357,36657.70987205151,37712.31442398391,37743.14931306248,31921.156699456027,324.0550229016822,1270.0700881170455,2813.070815591349,2136.7747768782556,3987.9939163571917,4597.168908628477,5874.18221625182,6581.971140882312,7135.896299829212,9750.553717792209,9817.217936744104,8997.862779779294,7307.60277602196,7014.340411687384,7485.109614733494,7705.0042730978375,4151.991305569088,3157.145256269939,4203.779529833722,8442.701970076192,20446.301180735853,17944.6517264264,6788.636034904581,3724.605089826361,5807.36215258796,6205.488846869947,6192.238365465765,5551.628490389714,5373.1659216040325,4386.812594865164,5335.112096654217,5855.443156606739,6490.196536940861,8830.797825658437,11370.856330160557,11658.063888786233,11926.84785587246,10725.66510038683,8717.654915197283,9630.421799090633,8048.819627689825,2320.3615065350486,-183.21181228255955,-2846.533729636344,-2032.9502350052185,-7146.401006295271,-7149.062723211787,-7822.929732533577,-9270.684967999081,-10985.605896637073,-12299.73566822517,-12770.60544060865,-12944.118503560741,-13698.346359294826,-17097.990829820603,-17656.10447098998,-21278.825454437923,-21081.22689686116,-22785.72668715021,-22686.205049630295,-19035.95401961457,-18975.533337429166,-15884.12227487128,-17002.662497748744,-18268.21662020461,-16430.194237498166,-16419.866808828298,-14527.289598158151,-13386.31829796925,-13061.999700775676,-12113.798159822225,-9565.230160885025,-9585.90915247853,-7679.7773391031715,-6263.451821936669,-5959.424907511665,-4206.277992500554,-4852.982007445136,-3046.02265926955,-2716.5519424253125,-16060.488740239174,-20445.63587382488,-22533.518125421033,-22545.021717346153,-22155.153528920506,-23829.273517430716,-23124.66581168653,-16089.635740667927,-12840.316392360364,-9987.956267398731,-6620.224456681963,-4152.691722485845,-4574.05909511467,-1379.7195050553805,-4130.104986018557,878.016559036827,2649.2624409860564,4663.389077516852,13687.742428827034,24477.33678595174,29827.752892315486,26580.385340227822,28261.713019358347,27034.559466903505,25489.821297284627,22554.84016781214,20719.84614870503,24203.55285995453,21039.813132093484,16331.84989515071,10121.632587352387,4814.6830257365555,3494.133085537823,-1090.7370156740126,-5381.493402663563,-7490.965425762219,-8284.318132180559,-8523.1666836974,-8019.6880333800445,-10115.96599002276,-9579.033985558735,-9849.98603063224,-5646.728741218882,-4370.975990532344,-2634.540122172848,-1560.765701564974,-2720.306798879982,-4297.344522448615,934.9737927127553,1339.654345639246,1214.3184649889124,-59.33139018701377,-1395.418214851553,-3742.4275893155864,-6061.995402597846,-5799.826301912193,-8528.209104927977,-7825.1207576151555,-6426.628927763342,-6153.659823255947,-8649.497145864738,-9363.47505273026,-10329.437349732207,-10682.818890568145,-14245.281847910068,-17085.83072220054,-21057.488868169614,-22560.29773809801,-24653.08566267245,-28092.80146260575,476.3256466577847,1879.9795886424529,2597.818567714023,982.0748533059264,1451.737791521289,193.41354215965202,-627.0883274972003,258.4527551908968,1117.3990346454034,3341.7311134357383,4038.3230801318996,3181.372592192162,3543.506102132206,3529.174734919079,4019.3115948838913,6792.750723730077,14582.147185379854,17671.408463156604,18905.886434454234,15631.741619584596,12455.927870199723,9693.024554539563,13055.688100953355,12948.288458975612,12969.902623176058,12194.069317847161,10745.25253160229,9194.23072415118,9080.522243892527,7937.990447936319,8991.507812415191,9794.491296815173,10788.749646997647,12523.44256574426,13715.08981902957,15718.87126364851,17633.66110086597,16300.876947714878,15212.048337665574,15491.09426755693,15145.612978095965,15132.19126624733,13157.601297541209,10741.790907523475,8114.944244558392,7995.516170281306,7961.999815564452,8488.168759972838,8849.13708084726,8662.344854874178,7852.65744251845,7492.947621968375,8175.641909181389,7059.7788269707125,7764.933796567264,7995.659189954396,7620.3208910354415,7518.142898545863,7905.086137145802,7815.056467603789,8843.100461958982,13239.43108320396,15182.345395721659,20498.260151132672,19149.731017060007,18684.17709342135,20514.161543602444,23194.94946816589,28404.6115474386,28540.82135637037,28103.127780301922,24538.62678736156,24830.616595264888,27261.949735879047,29975.774569377238,28191.380886867835,28768.322395897732,27742.020865593473,27903.798166364897,32361.61848924302,19104.58897677924,15661.758361212873,15441.28598377602,12450.056066523546,6814.44949221273,13369.380472749126,19963.107561027173,27094.897242149807,46037.37128762968,51157.20505513321,51145.50623276871,44712.54440679344,40136.193405863116,33219.4513797017,30347.721673765664,34140.32824410233,39290.217000939585,44195.383673042445,44825.23481887579,47704.6040407196,59267.47310346449,33009.37724782774,26529.743386736143,29687.117368364463,32201.516966960626,19556.237790596064,4818.866229182728,-6493.245074369699,-10702.572818406472,-14522.23539116991,-19033.6631127427,-17538.5432118096,-16561.959161556177,-18536.425750694132,-22354.192334612355,-24150.4033970684,-26676.530184150633,-32638.275747047923,-33296.22857092649,-37865.49264691118,-36103.8852817671,-31202.152686556157,-22012.831049898254,-7710.066538802119,1028.9889248105846,9150.433565575873,27433.535701949164,38073.114614722894,43313.42832863044,42314.15120789444,41061.366782536024,39286.4767673041,39414.25398986784,37030.73277947359,39111.803169519284,39385.60199562686,38097.136354661176,33405.37281711248,26362.40401849345,23075.77988015363,23352.19709693504,21152.75935540762,16630.662242754537,16236.707582007399,15813.353784699912,14309.57201089644,13945.447080685319,12161.651233887662,7888.2898691530545,4368.091816217878],\"type\":\"scatter\"}],                        {\"legend\":{\"bgcolor\":\"#FFFFFF\",\"font\":{\"color\":\"#4D5663\"}},\"paper_bgcolor\":\"#FFFFFF\",\"plot_bgcolor\":\"#FFFFFF\",\"template\":{\"data\":{\"barpolar\":[{\"marker\":{\"line\":{\"color\":\"#E5ECF6\",\"width\":0.5},\"pattern\":{\"fillmode\":\"overlay\",\"size\":10,\"solidity\":0.2}},\"type\":\"barpolar\"}],\"bar\":[{\"error_x\":{\"color\":\"#2a3f5f\"},\"error_y\":{\"color\":\"#2a3f5f\"},\"marker\":{\"line\":{\"color\":\"#E5ECF6\",\"width\":0.5},\"pattern\":{\"fillmode\":\"overlay\",\"size\":10,\"solidity\":0.2}},\"type\":\"bar\"}],\"carpet\":[{\"aaxis\":{\"endlinecolor\":\"#2a3f5f\",\"gridcolor\":\"white\",\"linecolor\":\"white\",\"minorgridcolor\":\"white\",\"startlinecolor\":\"#2a3f5f\"},\"baxis\":{\"endlinecolor\":\"#2a3f5f\",\"gridcolor\":\"white\",\"linecolor\":\"white\",\"minorgridcolor\":\"white\",\"startlinecolor\":\"#2a3f5f\"},\"type\":\"carpet\"}],\"choropleth\":[{\"colorbar\":{\"outlinewidth\":0,\"ticks\":\"\"},\"type\":\"choropleth\"}],\"contourcarpet\":[{\"colorbar\":{\"outlinewidth\":0,\"ticks\":\"\"},\"type\":\"contourcarpet\"}],\"contour\":[{\"colorbar\":{\"outlinewidth\":0,\"ticks\":\"\"},\"colorscale\":[[0.0,\"#0d0887\"],[0.1111111111111111,\"#46039f\"],[0.2222222222222222,\"#7201a8\"],[0.3333333333333333,\"#9c179e\"],[0.4444444444444444,\"#bd3786\"],[0.5555555555555556,\"#d8576b\"],[0.6666666666666666,\"#ed7953\"],[0.7777777777777778,\"#fb9f3a\"],[0.8888888888888888,\"#fdca26\"],[1.0,\"#f0f921\"]],\"type\":\"contour\"}],\"heatmapgl\":[{\"colorbar\":{\"outlinewidth\":0,\"ticks\":\"\"},\"colorscale\":[[0.0,\"#0d0887\"],[0.1111111111111111,\"#46039f\"],[0.2222222222222222,\"#7201a8\"],[0.3333333333333333,\"#9c179e\"],[0.4444444444444444,\"#bd3786\"],[0.5555555555555556,\"#d8576b\"],[0.6666666666666666,\"#ed7953\"],[0.7777777777777778,\"#fb9f3a\"],[0.8888888888888888,\"#fdca26\"],[1.0,\"#f0f921\"]],\"type\":\"heatmapgl\"}],\"heatmap\":[{\"colorbar\":{\"outlinewidth\":0,\"ticks\":\"\"},\"colorscale\":[[0.0,\"#0d0887\"],[0.1111111111111111,\"#46039f\"],[0.2222222222222222,\"#7201a8\"],[0.3333333333333333,\"#9c179e\"],[0.4444444444444444,\"#bd3786\"],[0.5555555555555556,\"#d8576b\"],[0.6666666666666666,\"#ed7953\"],[0.7777777777777778,\"#fb9f3a\"],[0.8888888888888888,\"#fdca26\"],[1.0,\"#f0f921\"]],\"type\":\"heatmap\"}],\"histogram2dcontour\":[{\"colorbar\":{\"outlinewidth\":0,\"ticks\":\"\"},\"colorscale\":[[0.0,\"#0d0887\"],[0.1111111111111111,\"#46039f\"],[0.2222222222222222,\"#7201a8\"],[0.3333333333333333,\"#9c179e\"],[0.4444444444444444,\"#bd3786\"],[0.5555555555555556,\"#d8576b\"],[0.6666666666666666,\"#ed7953\"],[0.7777777777777778,\"#fb9f3a\"],[0.8888888888888888,\"#fdca26\"],[1.0,\"#f0f921\"]],\"type\":\"histogram2dcontour\"}],\"histogram2d\":[{\"colorbar\":{\"outlinewidth\":0,\"ticks\":\"\"},\"colorscale\":[[0.0,\"#0d0887\"],[0.1111111111111111,\"#46039f\"],[0.2222222222222222,\"#7201a8\"],[0.3333333333333333,\"#9c179e\"],[0.4444444444444444,\"#bd3786\"],[0.5555555555555556,\"#d8576b\"],[0.6666666666666666,\"#ed7953\"],[0.7777777777777778,\"#fb9f3a\"],[0.8888888888888888,\"#fdca26\"],[1.0,\"#f0f921\"]],\"type\":\"histogram2d\"}],\"histogram\":[{\"marker\":{\"pattern\":{\"fillmode\":\"overlay\",\"size\":10,\"solidity\":0.2}},\"type\":\"histogram\"}],\"mesh3d\":[{\"colorbar\":{\"outlinewidth\":0,\"ticks\":\"\"},\"type\":\"mesh3d\"}],\"parcoords\":[{\"line\":{\"colorbar\":{\"outlinewidth\":0,\"ticks\":\"\"}},\"type\":\"parcoords\"}],\"pie\":[{\"automargin\":true,\"type\":\"pie\"}],\"scatter3d\":[{\"line\":{\"colorbar\":{\"outlinewidth\":0,\"ticks\":\"\"}},\"marker\":{\"colorbar\":{\"outlinewidth\":0,\"ticks\":\"\"}},\"type\":\"scatter3d\"}],\"scattercarpet\":[{\"marker\":{\"colorbar\":{\"outlinewidth\":0,\"ticks\":\"\"}},\"type\":\"scattercarpet\"}],\"scattergeo\":[{\"marker\":{\"colorbar\":{\"outlinewidth\":0,\"ticks\":\"\"}},\"type\":\"scattergeo\"}],\"scattergl\":[{\"marker\":{\"colorbar\":{\"outlinewidth\":0,\"ticks\":\"\"}},\"type\":\"scattergl\"}],\"scattermapbox\":[{\"marker\":{\"colorbar\":{\"outlinewidth\":0,\"ticks\":\"\"}},\"type\":\"scattermapbox\"}],\"scatterpolargl\":[{\"marker\":{\"colorbar\":{\"outlinewidth\":0,\"ticks\":\"\"}},\"type\":\"scatterpolargl\"}],\"scatterpolar\":[{\"marker\":{\"colorbar\":{\"outlinewidth\":0,\"ticks\":\"\"}},\"type\":\"scatterpolar\"}],\"scatter\":[{\"fillpattern\":{\"fillmode\":\"overlay\",\"size\":10,\"solidity\":0.2},\"type\":\"scatter\"}],\"scatterternary\":[{\"marker\":{\"colorbar\":{\"outlinewidth\":0,\"ticks\":\"\"}},\"type\":\"scatterternary\"}],\"surface\":[{\"colorbar\":{\"outlinewidth\":0,\"ticks\":\"\"},\"colorscale\":[[0.0,\"#0d0887\"],[0.1111111111111111,\"#46039f\"],[0.2222222222222222,\"#7201a8\"],[0.3333333333333333,\"#9c179e\"],[0.4444444444444444,\"#bd3786\"],[0.5555555555555556,\"#d8576b\"],[0.6666666666666666,\"#ed7953\"],[0.7777777777777778,\"#fb9f3a\"],[0.8888888888888888,\"#fdca26\"],[1.0,\"#f0f921\"]],\"type\":\"surface\"}],\"table\":[{\"cells\":{\"fill\":{\"color\":\"#EBF0F8\"},\"line\":{\"color\":\"white\"}},\"header\":{\"fill\":{\"color\":\"#C8D4E3\"},\"line\":{\"color\":\"white\"}},\"type\":\"table\"}]},\"layout\":{\"annotationdefaults\":{\"arrowcolor\":\"#2a3f5f\",\"arrowhead\":0,\"arrowwidth\":1},\"autotypenumbers\":\"strict\",\"coloraxis\":{\"colorbar\":{\"outlinewidth\":0,\"ticks\":\"\"}},\"colorscale\":{\"diverging\":[[0,\"#8e0152\"],[0.1,\"#c51b7d\"],[0.2,\"#de77ae\"],[0.3,\"#f1b6da\"],[0.4,\"#fde0ef\"],[0.5,\"#f7f7f7\"],[0.6,\"#e6f5d0\"],[0.7,\"#b8e186\"],[0.8,\"#7fbc41\"],[0.9,\"#4d9221\"],[1,\"#276419\"]],\"sequential\":[[0.0,\"#0d0887\"],[0.1111111111111111,\"#46039f\"],[0.2222222222222222,\"#7201a8\"],[0.3333333333333333,\"#9c179e\"],[0.4444444444444444,\"#bd3786\"],[0.5555555555555556,\"#d8576b\"],[0.6666666666666666,\"#ed7953\"],[0.7777777777777778,\"#fb9f3a\"],[0.8888888888888888,\"#fdca26\"],[1.0,\"#f0f921\"]],\"sequentialminus\":[[0.0,\"#0d0887\"],[0.1111111111111111,\"#46039f\"],[0.2222222222222222,\"#7201a8\"],[0.3333333333333333,\"#9c179e\"],[0.4444444444444444,\"#bd3786\"],[0.5555555555555556,\"#d8576b\"],[0.6666666666666666,\"#ed7953\"],[0.7777777777777778,\"#fb9f3a\"],[0.8888888888888888,\"#fdca26\"],[1.0,\"#f0f921\"]]},\"colorway\":[\"#636efa\",\"#EF553B\",\"#00cc96\",\"#ab63fa\",\"#FFA15A\",\"#19d3f3\",\"#FF6692\",\"#B6E880\",\"#FF97FF\",\"#FECB52\"],\"font\":{\"color\":\"#2a3f5f\"},\"geo\":{\"bgcolor\":\"white\",\"lakecolor\":\"white\",\"landcolor\":\"#E5ECF6\",\"showlakes\":true,\"showland\":true,\"subunitcolor\":\"white\"},\"hoverlabel\":{\"align\":\"left\"},\"hovermode\":\"closest\",\"mapbox\":{\"style\":\"light\"},\"paper_bgcolor\":\"white\",\"plot_bgcolor\":\"#E5ECF6\",\"polar\":{\"angularaxis\":{\"gridcolor\":\"white\",\"linecolor\":\"white\",\"ticks\":\"\"},\"bgcolor\":\"#E5ECF6\",\"radialaxis\":{\"gridcolor\":\"white\",\"linecolor\":\"white\",\"ticks\":\"\"}},\"scene\":{\"xaxis\":{\"backgroundcolor\":\"#E5ECF6\",\"gridcolor\":\"white\",\"gridwidth\":2,\"linecolor\":\"white\",\"showbackground\":true,\"ticks\":\"\",\"zerolinecolor\":\"white\"},\"yaxis\":{\"backgroundcolor\":\"#E5ECF6\",\"gridcolor\":\"white\",\"gridwidth\":2,\"linecolor\":\"white\",\"showbackground\":true,\"ticks\":\"\",\"zerolinecolor\":\"white\"},\"zaxis\":{\"backgroundcolor\":\"#E5ECF6\",\"gridcolor\":\"white\",\"gridwidth\":2,\"linecolor\":\"white\",\"showbackground\":true,\"ticks\":\"\",\"zerolinecolor\":\"white\"}},\"shapedefaults\":{\"line\":{\"color\":\"#2a3f5f\"}},\"ternary\":{\"aaxis\":{\"gridcolor\":\"white\",\"linecolor\":\"white\",\"ticks\":\"\"},\"baxis\":{\"gridcolor\":\"white\",\"linecolor\":\"white\",\"ticks\":\"\"},\"bgcolor\":\"#E5ECF6\",\"caxis\":{\"gridcolor\":\"white\",\"linecolor\":\"white\",\"ticks\":\"\"}},\"title\":{\"x\":0.05},\"xaxis\":{\"automargin\":true,\"gridcolor\":\"white\",\"linecolor\":\"white\",\"ticks\":\"\",\"title\":{\"standoff\":15},\"zerolinecolor\":\"white\",\"zerolinewidth\":2},\"yaxis\":{\"automargin\":true,\"gridcolor\":\"white\",\"linecolor\":\"white\",\"ticks\":\"\",\"title\":{\"standoff\":15},\"zerolinecolor\":\"white\",\"zerolinewidth\":2}}},\"title\":{\"font\":{\"color\":\"#4D5663\"}},\"xaxis\":{\"gridcolor\":\"#E1E5ED\",\"showgrid\":true,\"tickfont\":{\"color\":\"#4D5663\"},\"title\":{\"font\":{\"color\":\"#4D5663\"},\"text\":\"time_steps\"},\"zerolinecolor\":\"#E1E5ED\"},\"yaxis\":{\"gridcolor\":\"#E1E5ED\",\"showgrid\":true,\"tickfont\":{\"color\":\"#4D5663\"},\"title\":{\"font\":{\"color\":\"#4D5663\"},\"text\":\"Normalized Prices\"},\"zerolinecolor\":\"#E1E5ED\"}},                        {\"showLink\": true, \"linkText\": \"Export to plot.ly\", \"plotlyServerURL\": \"https://plot.ly\", \"responsive\": true}                    ).then(function(){\n",
       "                            \n",
       "var gd = document.getElementById('0fc6093f-6637-46f8-b387-dd724bcffd40');\n",
       "var x = new MutationObserver(function (mutations, observer) {{\n",
       "        var display = window.getComputedStyle(gd).display;\n",
       "        if (!display || display === 'none') {{\n",
       "            console.log([gd, 'removed!']);\n",
       "            Plotly.purge(gd);\n",
       "            observer.disconnect();\n",
       "        }}\n",
       "}});\n",
       "\n",
       "// Listen for the removal of the full notebook cells\n",
       "var notebookContainer = gd.closest('#notebook-container');\n",
       "if (notebookContainer) {{\n",
       "    x.observe(notebookContainer, {childList: true});\n",
       "}}\n",
       "\n",
       "// Listen for the clearing of the current output cell\n",
       "var outputEl = gd.closest('.output');\n",
       "if (outputEl) {{\n",
       "    x.observe(outputEl, {childList: true});\n",
       "}}\n",
       "\n",
       "                        })                };                });            </script>        </div>"
      ]
     },
     "metadata": {},
     "output_type": "display_data"
    }
   ],
   "source": [
    "cf.go_offline()\n",
    "cf.set_config_file(world_readable=True, theme=\"white\")\n",
    "\n",
    "buffer = SimulatedStockBuffer.objects.select_related(\"stock\").order_by(\"captured_at\").all()\n",
    "\n",
    "price_variations = {\"reward_c\": reward_c}\n",
    "\n",
    "# # print(price_variations)\n",
    "# for stck_name in price_variations:\n",
    "#     price_snaps = price_variations[stck_name]\n",
    "#     price_array = np.array(price_snaps)\n",
    "#     max_price = max(price_array)\n",
    "#     normalized_snaps = price_array/max_price\n",
    "#     price_variations[stck_name] = normalized_snaps\n",
    "\n",
    "    \n",
    "\n",
    "stock_names = [\"reward_c\"]\n",
    "\n",
    "\n",
    "# print(price_variations)\n",
    "df_regret_comparisons = pd.DataFrame(price_variations)\n",
    "df_regret_comparisons.iplot(\n",
    "    xTitle='time_steps',\n",
    "    yTitle='Normalized Prices'\n",
    ")"
   ]
  }
 ],
 "metadata": {
  "kernelspec": {
   "display_name": "v2env",
   "language": "python",
   "name": "v2env"
  },
  "language_info": {
   "codemirror_mode": {
    "name": "ipython",
    "version": 3
   },
   "file_extension": ".py",
   "mimetype": "text/x-python",
   "name": "python",
   "nbconvert_exporter": "python",
   "pygments_lexer": "ipython3",
   "version": "3.10.13"
  },
  "orig_nbformat": 4
 },
 "nbformat": 4,
 "nbformat_minor": 2
}
