{
 "cells": [
  {
   "cell_type": "code",
   "execution_count": 1,
   "metadata": {},
   "outputs": [
    {
     "name": "stderr",
     "output_type": "stream",
     "text": [
      "2023-12-04 00:53:01.534207: I tensorflow/core/platform/cpu_feature_guard.cc:182] This TensorFlow binary is optimized to use available CPU instructions in performance-critical operations.\n",
      "To enable the following instructions: AVX2 FMA, in other operations, rebuild TensorFlow with the appropriate compiler flags.\n"
     ]
    }
   ],
   "source": [
    "import sys\n",
    "import django\n",
    "import os\n",
    "file_dir = \"/Users/mirbilal/Desktop/MobCommission/commissionV2/\"\n",
    "if file_dir not in sys.path:\n",
    "    sys.path.insert(0, file_dir)\n",
    "\n",
    "os.environ[\"DJANGO_SETTINGS_MODULE\"] = \"commissionerv2.settings\"\n",
    "os.environ[\"DJANGO_ALLOW_ASYNC_UNSAFE\"] = \"true\" \n",
    "django.setup()\n",
    "from os import path, environ\n",
    "from datetime import datetime\n",
    "from services.zayev.environment.market_simulator import MarketSimulator\n",
    "from services.zayev.service_layer.forester import Forester\n",
    "import tensorflow as tf\n",
    "\n",
    "import numpy as np\n"
   ]
  },
  {
   "cell_type": "code",
   "execution_count": 2,
   "metadata": {},
   "outputs": [],
   "source": [
    "\n",
    "\n",
    "starting_time_step = datetime(year=1995, month=1, day=1, hour=10)\n",
    "\n",
    "db_params = {\n",
    "    'database': environ.get(\"POSTGRES_DB\"),\n",
    "    'user': environ.get(\"POSTGRES_USER\"),\n",
    "    'password': environ.get(\"POSTGRES_PASSWORD\"),\n",
    "    'host': environ.get(\"DB_HOST\"),\n",
    "    'port': environ.get(\"DB_PORT\"),\n",
    "}\n",
    "env_config = {\n",
    "    \"db_params\": db_params, \n",
    "    \"max_episode_steps\": 2000, \n",
    "    \"the_current_time_step\": starting_time_step,\n",
    "    \"print_output\": False,\n",
    "    \"is_test\": False,\n",
    "    \"test_steps\": 200,\n",
    "    \"n_step_stocks\": 5,\n",
    "    \"n_step_cmmdties\": 5,\n",
    "    \"preparing\": True\n",
    "} \n",
    "\n",
    "market = MarketSimulator(env_config=env_config)"
   ]
  },
  {
   "cell_type": "code",
   "execution_count": 3,
   "metadata": {},
   "outputs": [
    {
     "data": {
      "text/plain": [
       "(array([[0., 0., 0., 0., 0.],\n",
       "        [0., 0., 0., 0., 0.],\n",
       "        [0., 0., 0., 0., 0.],\n",
       "        [0., 0., 0., 0., 0.],\n",
       "        [0., 0., 0., 0., 0.]]),\n",
       " array([[0., 0., 0., 0., 0.],\n",
       "        [0., 0., 0., 0., 0.],\n",
       "        [0., 0., 0., 0., 0.],\n",
       "        [0., 0., 0., 0., 0.],\n",
       "        [0., 0., 0., 0., 0.],\n",
       "        [0., 0., 0., 0., 0.]]),\n",
       " array([[0., 0., 0., 0., 0.],\n",
       "        [0., 0., 0., 0., 0.],\n",
       "        [0., 0., 0., 0., 0.],\n",
       "        [0., 0., 0., 0., 0.],\n",
       "        [0., 0., 0., 0., 0.]]))"
      ]
     },
     "execution_count": 3,
     "metadata": {},
     "output_type": "execute_result"
    }
   ],
   "source": [
    "market.reset()"
   ]
  },
  {
   "cell_type": "code",
   "execution_count": 4,
   "metadata": {},
   "outputs": [
    {
     "name": "stdout",
     "output_type": "stream",
     "text": [
      "done\n"
     ]
    }
   ],
   "source": [
    "forest = Forester(market=market)\n",
    "print(\"done\")"
   ]
  },
  {
   "cell_type": "code",
   "execution_count": 13,
   "metadata": {},
   "outputs": [
    {
     "name": "stdout",
     "output_type": "stream",
     "text": [
      "test output: indx, 2 chng > offer_vol 2761.38362784536> 2761.3836278453596\n"
     ]
    },
    {
     "data": {
      "text/plain": [
       "((array([[-0.02846564, -0.03530218, -0.04147502, -0.02905806, -0.01986838],\n",
       "         [ 0.00430969,  0.01183701,  0.02041852,  0.02235196,  0.00889054],\n",
       "         [ 0.02799265,  0.06022457,  0.0617041 ,  0.03877704,  0.04074955],\n",
       "         [-0.02152703, -0.01077146,  0.02075958,  0.02063911,  0.00219324],\n",
       "         [-0.01430887, -0.00234406, -0.00568703, -0.00963894, -0.00016054]]),\n",
       "  array([[-0.05936728, -0.06399051, -0.02248568, -0.0189497 , -0.04376922],\n",
       "         [ 0.01214107, -0.00165588, -0.00261344,  0.00625529,  0.01128686],\n",
       "         [-0.02308626, -0.03035286, -0.01251526,  0.00521165, -0.01703313],\n",
       "         [-0.01478374, -0.01294796,  0.00352659,  0.00987303, -0.01082911],\n",
       "         [-0.01757247, -0.01522848, -0.01103836, -0.01568249, -0.01434613],\n",
       "         [-0.03790692, -0.03867508, -0.02344572, -0.02418792, -0.02557386]]),\n",
       "  array([[0.00198781, 0.00067794, 0.00310005, 0.01854009, 0.00094466],\n",
       "         [0.00557802, 0.00588305, 0.00050826, 0.00020597, 0.00189556],\n",
       "         [0.00343964, 0.00358911, 0.00798503, 0.00175646, 0.00848932],\n",
       "         [0.00063755, 0.01098187, 0.01600568, 0.00526412, 0.01246307],\n",
       "         [0.00369999, 0.01765537, 0.02303401, 0.00195331, 0.01298837]])),\n",
       " -0.00415415974248938,\n",
       " False,\n",
       " {})"
      ]
     },
     "execution_count": 13,
     "metadata": {},
     "output_type": "execute_result"
    }
   ],
   "source": [
    "rand_acts = forest.act_random()\n",
    "forest.market.step(rand_acts)"
   ]
  }
 ],
 "metadata": {
  "kernelspec": {
   "display_name": "v2env",
   "language": "python",
   "name": "v2env"
  },
  "language_info": {
   "codemirror_mode": {
    "name": "ipython",
    "version": 3
   },
   "file_extension": ".py",
   "mimetype": "text/x-python",
   "name": "python",
   "nbconvert_exporter": "python",
   "pygments_lexer": "ipython3",
   "version": "3.10.13"
  },
  "orig_nbformat": 4
 },
 "nbformat": 4,
 "nbformat_minor": 2
}
