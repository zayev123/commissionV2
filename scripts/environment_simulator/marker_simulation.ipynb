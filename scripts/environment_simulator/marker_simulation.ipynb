{
 "cells": [
  {
   "cell_type": "code",
   "execution_count": 1,
   "metadata": {},
   "outputs": [
    {
     "name": "stderr",
     "output_type": "stream",
     "text": [
      "2023-12-10 05:32:48.297093: I tensorflow/core/platform/cpu_feature_guard.cc:182] This TensorFlow binary is optimized to use available CPU instructions in performance-critical operations.\n",
      "To enable the following instructions: AVX2 FMA, in other operations, rebuild TensorFlow with the appropriate compiler flags.\n"
     ]
    }
   ],
   "source": [
    "import sys\n",
    "import django\n",
    "import os\n",
    "file_dir = \"/Users/mirbilal/Desktop/MobCommission/commissionV2/\"\n",
    "if file_dir not in sys.path:\n",
    "    sys.path.insert(0, file_dir)\n",
    "\n",
    "os.environ[\"DJANGO_SETTINGS_MODULE\"] = \"commissionerv2.settings\"\n",
    "os.environ[\"DJANGO_ALLOW_ASYNC_UNSAFE\"] = \"true\" \n",
    "django.setup()\n",
    "from os import path, environ\n",
    "from datetime import datetime\n",
    "from services.zayev.environment.market_simulator import MarketSimulator\n",
    "from services.zayev.service_layer.forester import Forester\n",
    "import tensorflow as tf\n",
    "from sklearn.ensemble import RandomForestClassifier\n",
    "import numpy as np\n",
    "from sklearn.metrics import accuracy_score\n"
   ]
  },
  {
   "cell_type": "code",
   "execution_count": 2,
   "metadata": {},
   "outputs": [],
   "source": [
    "\n",
    "\n",
    "starting_time_step = datetime(year=1995, month=1, day=1, hour=10)\n",
    "\n",
    "db_params = {\n",
    "    'database': environ.get(\"POSTGRES_DB\"),\n",
    "    'user': environ.get(\"POSTGRES_USER\"),\n",
    "    'password': environ.get(\"POSTGRES_PASSWORD\"),\n",
    "    'host': environ.get(\"DB_HOST\"),\n",
    "    'port': environ.get(\"DB_PORT\"),\n",
    "}\n",
    "env_config = {\n",
    "    \"db_params\": db_params, \n",
    "    \"max_episode_steps\": 1000, \n",
    "    \"the_current_time_step\": starting_time_step,\n",
    "    \"print_output\": False,\n",
    "    \"is_test\": False,\n",
    "    \"test_steps\": 200,\n",
    "    \"n_step_stocks\": 5,\n",
    "    \"n_step_cmmdties\": 5,\n",
    "    \"preparing\": True\n",
    "} \n",
    "\n",
    "market = MarketSimulator(env_config=env_config)"
   ]
  },
  {
   "cell_type": "code",
   "execution_count": 3,
   "metadata": {},
   "outputs": [
    {
     "data": {
      "text/plain": [
       "(array([[0., 0., 0., 0., 0.],\n",
       "        [0., 0., 0., 0., 0.],\n",
       "        [0., 0., 0., 0., 0.],\n",
       "        [0., 0., 0., 0., 0.],\n",
       "        [0., 0., 0., 0., 0.]]),\n",
       " array([[0., 0., 0., 0., 0.],\n",
       "        [0., 0., 0., 0., 0.],\n",
       "        [0., 0., 0., 0., 0.],\n",
       "        [0., 0., 0., 0., 0.],\n",
       "        [0., 0., 0., 0., 0.],\n",
       "        [0., 0., 0., 0., 0.]]),\n",
       " array([[0., 0., 0., 0., 0.],\n",
       "        [0., 0., 0., 0., 0.],\n",
       "        [0., 0., 0., 0., 0.],\n",
       "        [0., 0., 0., 0., 0.],\n",
       "        [0., 0., 0., 0., 0.]]))"
      ]
     },
     "execution_count": 3,
     "metadata": {},
     "output_type": "execute_result"
    }
   ],
   "source": [
    "market.reset()"
   ]
  },
  {
   "cell_type": "code",
   "execution_count": 4,
   "metadata": {},
   "outputs": [
    {
     "name": "stdout",
     "output_type": "stream",
     "text": [
      "done\n"
     ]
    }
   ],
   "source": [
    "forest = Forester(market=market)\n",
    "print(\"done\")"
   ]
  },
  {
   "cell_type": "code",
   "execution_count": 5,
   "metadata": {},
   "outputs": [],
   "source": [
    "forest.make_forest_data()"
   ]
  },
  {
   "cell_type": "code",
   "execution_count": 6,
   "metadata": {},
   "outputs": [
    {
     "name": "stdout",
     "output_type": "stream",
     "text": [
      "[-1.29080310e-02 -7.57105219e-03 -1.62929304e-03 -1.16672352e-03\n",
      "  1.63131116e-02  1.84732531e-03 -5.57881967e-03  9.55223357e-03\n",
      "  7.29820962e-03  1.62479197e-02  6.74165694e-03 -7.04839883e-03\n",
      " -4.55755739e-02 -4.45162225e-02 -5.46539683e-02  3.48319067e-03\n",
      "  6.13891037e-03  6.19844181e-03  1.46138027e-02 -1.01126905e-02\n",
      "  1.04352002e-02  1.78105042e-02 -7.35834346e-03 -1.02725985e-03\n",
      "  8.75760649e-03 -2.03242558e-02 -3.55360208e-03  3.19915527e-02\n",
      "  3.91445421e-02  2.85282289e-02 -3.40803669e-03 -4.40754751e-04\n",
      "  1.83065726e-02  1.73662478e-02  1.92435078e-03 -4.34676681e-03\n",
      " -8.46276602e-03  3.37578649e-02  3.57776237e-02  1.97667973e-02\n",
      " -9.86161586e-03 -1.92699408e-03  2.46194882e-02  2.06063293e-02\n",
      "  2.32773301e-02  9.09141519e-03 -1.18774900e-02 -2.09352902e-02\n",
      " -1.77393948e-02  8.50242124e-03 -2.45983759e-03  1.11713703e-02\n",
      "  7.92924828e-03  1.91343096e-02 -1.04378462e-02  9.40707227e-04\n",
      "  9.64974681e-04  1.49986359e-03  1.56791994e-03  1.86584757e-03\n",
      "  1.36374261e-02  8.76363380e-05  2.56325590e-02  2.19426754e-03\n",
      "  2.37775425e-03  8.61969890e-04  5.00336422e-04  1.51209860e-03\n",
      "  4.96002602e-03  1.03336230e-03  1.10352950e-02  6.18565672e-03\n",
      "  4.87296117e-03  9.45112288e-03  3.84280963e-02  1.57395608e-03\n",
      "  8.84622380e-03  4.41546642e-04  8.44574417e-04  3.66454938e-03]\n",
      "[ 9. 11. 11. 11. 12.]\n"
     ]
    }
   ],
   "source": [
    "X_train = forest.train_input\n",
    "y_train = forest.train_output\n",
    "y_test = forest.test_output\n",
    "X_test = forest.test_input\n",
    "\n",
    "print(X_train[9])\n",
    "# print(X_test)\n",
    "print(y_train[8])\n",
    "# print(y_test)"
   ]
  },
  {
   "cell_type": "code",
   "execution_count": 7,
   "metadata": {},
   "outputs": [],
   "source": [
    "# rf = RandomForestClassifier()\n",
    "# rf.fit(X_train, y_train)"
   ]
  },
  {
   "cell_type": "code",
   "execution_count": 10,
   "metadata": {},
   "outputs": [
    {
     "name": "stdout",
     "output_type": "stream",
     "text": [
      "[200, 400, 600, 800, 1000, 1200, 1400, 1600, 1800, 2000]\n"
     ]
    }
   ],
   "source": [
    "# Number of trees in random forest\n",
    "n_estimators = [int(x) for x in np.linspace(start = 200, stop = 1200, num = 10)]\n",
    "# Number of features to consider at every split\n",
    "max_features = ['auto', 'sqrt']\n",
    "# Maximum number of levels in tree\n",
    "max_depth = [int(x) for x in np.linspace(10, 80, num = 11)]\n",
    "max_depth.append(None)\n",
    "# Minimum number of samples required to split a node\n",
    "min_samples_split = [2, 5, 10]\n",
    "# Minimum number of samples required at each leaf node\n",
    "min_samples_leaf = [1, 2, 4]\n",
    "# Method of selecting samples for training each tree\n",
    "bootstrap = [True, False]\n",
    "\n",
    "random_grid = {\n",
    "    'n_estimators': n_estimators,\n",
    "    'max_features': max_features,\n",
    "    'max_depth': max_depth,\n",
    "    'min_samples_split': min_samples_split,\n",
    "    'min_samples_leaf': min_samples_leaf,\n",
    "    'bootstrap': bootstrap\n",
    "}\n",
    "\n",
    "for n_ests in n_estimators:\n",
    "    for max_feat in max_features:\n",
    "        for max_dept in max_depth:\n",
    "            for min_sample_sp in min_samples_split:\n",
    "                for min_sample_lf in min_samples_leaf:\n",
    "                    for bt_strp in bootstrap:\n",
    "                        rf = RandomForestClassifier(\n",
    "                            n_estimators=n_ests,\n",
    "                            max_features=max_feat,\n",
    "                            max_depth=max_dept,\n",
    "                            min_samples_split=min_sample_sp,\n",
    "                            min_samples_leaf=min_sample_lf,\n",
    "                            bootstrap=bt_strp\n",
    "                        )\n",
    "                        rf.fit(X_train, y_train)\n",
    "                        X_test = forest.test_input\n",
    "                        y_pred = rf.predict(X_test)\n",
    "                        y_test = forest.test_output\n",
    "                        y_test_first_column = [row[0] for row in y_test]\n",
    "                        y_pred_first_column = [row[0] for row in y_pred]\n",
    "                        accuracy = accuracy_score(y_test_first_column, y_pred_first_column)\n",
    "                        print(\"Accuracy:\", accuracy)"
   ]
  },
  {
   "cell_type": "code",
   "execution_count": 8,
   "metadata": {},
   "outputs": [],
   "source": [
    "X_test = forest.test_input\n",
    "# X_test = forest.train_input\n",
    "y_pred = rf.predict(X_test)"
   ]
  },
  {
   "cell_type": "code",
   "execution_count": 16,
   "metadata": {},
   "outputs": [
    {
     "name": "stdout",
     "output_type": "stream",
     "text": [
      "[10. 12. 10. 11. 10. 10. 11. 13. 11. 10. 10. 11. 11. 12. 12. 12. 11. 10.\n",
      " 11. 10.  9.  9.  8. 10. 11. 11. 11.  9.  9.  9.  9. 11. 10. 11. 11. 11.\n",
      " 10. 10.  7.  7.  9. 11. 10. 11. 10. 10. 11. 11. 11. 10. 11.  7.  6. 10.\n",
      "  9.  9.  9. 12. 11. 13. 10. 10. 11. 11. 10. 12. 10.  9. 11.  9. 12. 10.\n",
      " 12. 10. 10.  7.  7.  9.  6. 21. 11. 10. 10. 11. 10.  9. 11. 10. 11.  7.\n",
      "  9.  9. 21. 11. 12.  7. 11. 10. 11. 11. 11. 11.  9.  9.  8.  9.  8.  9.\n",
      " 11. 11. 11. 10.  9. 11. 11. 10. 10. 11. 10. 10. 11. 11. 11. 11. 11. 10.\n",
      " 10. 11. 10. 11. 11.  9. 10. 11. 11. 11. 11. 10. 10. 11. 10. 10. 11.  9.\n",
      " 10. 10. 10.  9. 10. 10. 11. 11. 11. 10. 10. 11. 10. 11. 11.  9.  9. 11.\n",
      " 10. 10. 10.  9.  9. 10. 10. 10.  9.  9. 10. 11.  8. 10. 11. 10. 10. 10.\n",
      " 10. 10. 10. 10. 10.  9. 10. 10. 10. 10. 10. 12. 11. 12. 11. 10. 11. 10.\n",
      "  9. 10.  7.  8.  7.  8. 11.  8.  8.  8.  8. 10.  8. 11. 10.]\n"
     ]
    }
   ],
   "source": [
    "print(y_pred[:, 0])"
   ]
  },
  {
   "cell_type": "code",
   "execution_count": 9,
   "metadata": {},
   "outputs": [],
   "source": [
    "y_test = forest.test_output\n",
    "# y_test = forest.train_output\n",
    "y_test_first_column = [row[0] for row in y_test]\n",
    "y_pred_first_column = [row[0] for row in y_pred]"
   ]
  },
  {
   "cell_type": "code",
   "execution_count": 10,
   "metadata": {},
   "outputs": [
    {
     "name": "stdout",
     "output_type": "stream",
     "text": [
      "Accuracy: 0.18309859154929578\n"
     ]
    }
   ],
   "source": [
    "y_test = forest.test_output\n",
    "accuracy = accuracy_score(y_test_first_column, y_pred_first_column)\n",
    "print(\"Accuracy:\", accuracy)"
   ]
  },
  {
   "cell_type": "code",
   "execution_count": 44,
   "metadata": {},
   "outputs": [],
   "source": [
    "\n",
    "from matplotlib.dates import relativedelta\n",
    "\n",
    "\n",
    "nw_starting_time_step = datetime(year=1995, month=1, day=1, hour=10) + relativedelta(hours=1000)\n",
    "\n",
    "nw_db_params = {\n",
    "    'database': environ.get(\"POSTGRES_DB\"),\n",
    "    'user': environ.get(\"POSTGRES_USER\"),\n",
    "    'password': environ.get(\"POSTGRES_PASSWORD\"),\n",
    "    'host': environ.get(\"DB_HOST\"),\n",
    "    'port': environ.get(\"DB_PORT\"),\n",
    "}\n",
    "nw_env_config = {\n",
    "    \"db_params\": nw_db_params, \n",
    "    \"max_episode_steps\": 72, \n",
    "    \"the_current_time_step\": nw_starting_time_step,\n",
    "    \"print_output\": False,\n",
    "    \"is_test\": False,\n",
    "    \"test_steps\": 200,\n",
    "    \"n_step_stocks\": 5,\n",
    "    \"n_step_cmmdties\": 5,\n",
    "    \"preparing\": True\n",
    "} \n",
    "\n",
    "nw_market = MarketSimulator(env_config=nw_env_config)\n",
    "nw_market.reset()\n",
    "nw_forest = Forester(market=nw_market)"
   ]
  },
  {
   "cell_type": "code",
   "execution_count": 45,
   "metadata": {},
   "outputs": [],
   "source": [
    "nw_forest.make_forest_data()"
   ]
  },
  {
   "cell_type": "code",
   "execution_count": 46,
   "metadata": {},
   "outputs": [],
   "source": [
    "nw_X_train = nw_forest.train_input\n",
    "nw_y_train = nw_forest.train_output\n",
    "nw_y_test = nw_forest.test_output\n",
    "nw_X_test = nw_forest.test_input\n",
    "\n",
    "nw_X_test = nw_forest.test_input\n",
    "nw_y_pred = rf.predict(nw_X_test)\n",
    "\n",
    "nw_y_test = nw_forest.test_output\n",
    "nw_y_test_first_column = [row[1] for row in nw_y_test]\n",
    "nw_y_pred_first_column = [row[1] for row in nw_y_pred]"
   ]
  },
  {
   "cell_type": "code",
   "execution_count": 47,
   "metadata": {},
   "outputs": [
    {
     "name": "stdout",
     "output_type": "stream",
     "text": [
      "Accuracy: 1.0\n"
     ]
    }
   ],
   "source": [
    "accuracy = accuracy_score(nw_y_test_first_column, nw_y_pred_first_column)\n",
    "print(\"Accuracy:\", accuracy)"
   ]
  },
  {
   "cell_type": "code",
   "execution_count": 49,
   "metadata": {},
   "outputs": [
    {
     "name": "stdout",
     "output_type": "stream",
     "text": [
      "1995-02-19 14:00:00+00:00\n",
      "[[ 8. 10. 12. 13. 11.]\n",
      " [11.  9. 10. 10. 11.]\n",
      " [ 0. 16. 21. 19.  3.]\n",
      " [ 1. 16. 21. 21.  5.]\n",
      " [ 9. 12. 12. 13. 10.]\n",
      " [21.  8.  6.  9. 14.]\n",
      " [13.  8.  4.  6. 12.]\n",
      " [10. 10.  9.  9. 10.]\n",
      " [ 8. 12. 17. 13.  9.]\n",
      " [11.  9.  7.  7. 11.]]\n"
     ]
    }
   ],
   "source": [
    "print(nw_forest.market.the_current_time_step)\n",
    "print(nw_y_pred)"
   ]
  },
  {
   "cell_type": "code",
   "execution_count": 15,
   "metadata": {},
   "outputs": [
    {
     "name": "stdout",
     "output_type": "stream",
     "text": [
      "1995-03-05 10:30:00+00:00\n",
      "38 [[13.  9. 10.  7. 12.]]\n"
     ]
    }
   ],
   "source": [
    "time_data = {}\n",
    "for it in range(5):\n",
    "    rand_acts = nw_forest.act_random()\n",
    "    state, reward, done, info = nw_forest.market.step([rand_acts])\n",
    "    time_data[nw_forest.market.the_current_time_step] = state\n",
    "nw_state = state\n",
    "print(nw_forest.market.the_current_time_step)\n",
    "flat_state = np.array([nw_forest.get_flattened_states(nw_state)])\n",
    "my_pred = rf.predict(flat_state)\n",
    "print(len(nw_y_pred), my_pred)"
   ]
  }
 ],
 "metadata": {
  "kernelspec": {
   "display_name": "v2env",
   "language": "python",
   "name": "v2env"
  },
  "language_info": {
   "codemirror_mode": {
    "name": "ipython",
    "version": 3
   },
   "file_extension": ".py",
   "mimetype": "text/x-python",
   "name": "python",
   "nbconvert_exporter": "python",
   "pygments_lexer": "ipython3",
   "version": "3.10.13"
  },
  "orig_nbformat": 4
 },
 "nbformat": 4,
 "nbformat_minor": 2
}
