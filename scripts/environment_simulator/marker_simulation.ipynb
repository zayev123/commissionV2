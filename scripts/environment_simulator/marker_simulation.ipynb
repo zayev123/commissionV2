{
 "cells": [
  {
   "cell_type": "code",
   "execution_count": 1,
   "metadata": {},
   "outputs": [
    {
     "name": "stderr",
     "output_type": "stream",
     "text": [
      "2023-12-09 21:08:14.235128: I tensorflow/core/platform/cpu_feature_guard.cc:182] This TensorFlow binary is optimized to use available CPU instructions in performance-critical operations.\n",
      "To enable the following instructions: AVX2 FMA, in other operations, rebuild TensorFlow with the appropriate compiler flags.\n"
     ]
    }
   ],
   "source": [
    "import sys\n",
    "import django\n",
    "import os\n",
    "file_dir = \"/Users/mirbilal/Desktop/MobCommission/commissionV2/\"\n",
    "if file_dir not in sys.path:\n",
    "    sys.path.insert(0, file_dir)\n",
    "\n",
    "os.environ[\"DJANGO_SETTINGS_MODULE\"] = \"commissionerv2.settings\"\n",
    "os.environ[\"DJANGO_ALLOW_ASYNC_UNSAFE\"] = \"true\" \n",
    "django.setup()\n",
    "from os import path, environ\n",
    "from datetime import datetime\n",
    "from services.zayev.environment.market_simulator import MarketSimulator\n",
    "from services.zayev.service_layer.forester import Forester\n",
    "import tensorflow as tf\n",
    "from sklearn.ensemble import RandomForestClassifier\n",
    "import numpy as np\n",
    "from sklearn.metrics import accuracy_score\n"
   ]
  },
  {
   "cell_type": "code",
   "execution_count": 2,
   "metadata": {},
   "outputs": [],
   "source": [
    "\n",
    "\n",
    "starting_time_step = datetime(year=1995, month=1, day=1, hour=10)\n",
    "\n",
    "db_params = {\n",
    "    'database': environ.get(\"POSTGRES_DB\"),\n",
    "    'user': environ.get(\"POSTGRES_USER\"),\n",
    "    'password': environ.get(\"POSTGRES_PASSWORD\"),\n",
    "    'host': environ.get(\"DB_HOST\"),\n",
    "    'port': environ.get(\"DB_PORT\"),\n",
    "}\n",
    "env_config = {\n",
    "    \"db_params\": db_params, \n",
    "    \"max_episode_steps\": 1000, \n",
    "    \"the_current_time_step\": starting_time_step,\n",
    "    \"print_output\": False,\n",
    "    \"is_test\": False,\n",
    "    \"test_steps\": 200,\n",
    "    \"n_step_stocks\": 5,\n",
    "    \"n_step_cmmdties\": 5,\n",
    "    \"preparing\": True\n",
    "} \n",
    "\n",
    "market = MarketSimulator(env_config=env_config)"
   ]
  },
  {
   "cell_type": "code",
   "execution_count": 3,
   "metadata": {},
   "outputs": [
    {
     "data": {
      "text/plain": [
       "(array([[0., 0., 0., 0., 0.],\n",
       "        [0., 0., 0., 0., 0.],\n",
       "        [0., 0., 0., 0., 0.],\n",
       "        [0., 0., 0., 0., 0.],\n",
       "        [0., 0., 0., 0., 0.]]),\n",
       " array([[0., 0., 0., 0., 0.],\n",
       "        [0., 0., 0., 0., 0.],\n",
       "        [0., 0., 0., 0., 0.],\n",
       "        [0., 0., 0., 0., 0.],\n",
       "        [0., 0., 0., 0., 0.],\n",
       "        [0., 0., 0., 0., 0.]]),\n",
       " array([[0., 0., 0., 0., 0.],\n",
       "        [0., 0., 0., 0., 0.],\n",
       "        [0., 0., 0., 0., 0.],\n",
       "        [0., 0., 0., 0., 0.],\n",
       "        [0., 0., 0., 0., 0.]]))"
      ]
     },
     "execution_count": 3,
     "metadata": {},
     "output_type": "execute_result"
    }
   ],
   "source": [
    "market.reset()"
   ]
  },
  {
   "cell_type": "code",
   "execution_count": 4,
   "metadata": {},
   "outputs": [
    {
     "name": "stdout",
     "output_type": "stream",
     "text": [
      "done\n"
     ]
    }
   ],
   "source": [
    "forest = Forester(market=market)\n",
    "print(\"done\")"
   ]
  },
  {
   "cell_type": "code",
   "execution_count": 5,
   "metadata": {},
   "outputs": [],
   "source": [
    "forest.make_forest_data()"
   ]
  },
  {
   "cell_type": "code",
   "execution_count": 9,
   "metadata": {},
   "outputs": [
    {
     "name": "stdout",
     "output_type": "stream",
     "text": [
      "[ 1.49639915e-02 -8.50818621e-03 -4.48764145e-03  2.28122451e-03\n",
      "  2.35183485e-02  3.03715492e-03  1.29796454e-02  5.22536868e-03\n",
      "  3.13730489e-03 -6.75404387e-04 -3.50180951e-02 -3.15110921e-02\n",
      " -2.26922180e-02 -3.89107075e-02 -3.98692603e-03  1.02915384e-03\n",
      "  1.88470028e-02  1.12386743e-02  2.77893229e-02  6.73462503e-03\n",
      " -2.22613055e-03 -1.12463872e-02 -3.73182763e-03  4.14643446e-03\n",
      "  5.16252945e-03  3.78137953e-02  4.10717068e-02  3.57146809e-02\n",
      "  5.57466733e-02  4.16309734e-02  1.94529730e-03  9.68548209e-03\n",
      "  3.62461991e-03 -3.07445644e-03 -1.41437252e-02  1.78049749e-02\n",
      "  3.67290709e-02  1.89020626e-02  2.97636466e-02  1.51442092e-03\n",
      "  2.33995592e-02  3.32378741e-02  3.04598742e-02  3.89001026e-02\n",
      "  2.79919740e-02  7.97810541e-03 -1.65280503e-02 -1.49548909e-02\n",
      " -1.08078437e-02 -5.59201052e-03  3.48037217e-04  1.61778604e-03\n",
      "  1.51521489e-03  6.63276318e-03  8.50068392e-03  2.10359897e-05\n",
      "  4.62129242e-03  1.84297344e-03  1.54455347e-03  1.42750937e-03\n",
      "  9.86964536e-04  7.88353129e-03  7.63555349e-03  2.01884367e-03\n",
      "  5.19623560e-03  1.68527232e-03  4.67164568e-03  1.69046415e-02\n",
      "  7.22801523e-04  1.00201964e-03  4.86415608e-02  2.63716507e-02\n",
      "  5.17046384e-02  4.65869765e-03  5.39465005e-04  1.05528351e-02\n",
      "  4.59875434e-04  1.26810051e-02  2.87006043e-03  9.58189424e-04]\n",
      "[12. 11.  7. 11. 10.]\n"
     ]
    }
   ],
   "source": [
    "X_train = forest.train_input\n",
    "y_train = forest.train_output\n",
    "y_test = forest.test_output\n",
    "X_test = forest.test_input\n",
    "\n",
    "print(X_train[9])\n",
    "# print(X_test)\n",
    "print(y_train[8])\n",
    "# print(y_test)"
   ]
  },
  {
   "cell_type": "code",
   "execution_count": 10,
   "metadata": {},
   "outputs": [
    {
     "data": {
      "text/html": [
       "<style>#sk-container-id-1 {color: black;}#sk-container-id-1 pre{padding: 0;}#sk-container-id-1 div.sk-toggleable {background-color: white;}#sk-container-id-1 label.sk-toggleable__label {cursor: pointer;display: block;width: 100%;margin-bottom: 0;padding: 0.3em;box-sizing: border-box;text-align: center;}#sk-container-id-1 label.sk-toggleable__label-arrow:before {content: \"▸\";float: left;margin-right: 0.25em;color: #696969;}#sk-container-id-1 label.sk-toggleable__label-arrow:hover:before {color: black;}#sk-container-id-1 div.sk-estimator:hover label.sk-toggleable__label-arrow:before {color: black;}#sk-container-id-1 div.sk-toggleable__content {max-height: 0;max-width: 0;overflow: hidden;text-align: left;background-color: #f0f8ff;}#sk-container-id-1 div.sk-toggleable__content pre {margin: 0.2em;color: black;border-radius: 0.25em;background-color: #f0f8ff;}#sk-container-id-1 input.sk-toggleable__control:checked~div.sk-toggleable__content {max-height: 200px;max-width: 100%;overflow: auto;}#sk-container-id-1 input.sk-toggleable__control:checked~label.sk-toggleable__label-arrow:before {content: \"▾\";}#sk-container-id-1 div.sk-estimator input.sk-toggleable__control:checked~label.sk-toggleable__label {background-color: #d4ebff;}#sk-container-id-1 div.sk-label input.sk-toggleable__control:checked~label.sk-toggleable__label {background-color: #d4ebff;}#sk-container-id-1 input.sk-hidden--visually {border: 0;clip: rect(1px 1px 1px 1px);clip: rect(1px, 1px, 1px, 1px);height: 1px;margin: -1px;overflow: hidden;padding: 0;position: absolute;width: 1px;}#sk-container-id-1 div.sk-estimator {font-family: monospace;background-color: #f0f8ff;border: 1px dotted black;border-radius: 0.25em;box-sizing: border-box;margin-bottom: 0.5em;}#sk-container-id-1 div.sk-estimator:hover {background-color: #d4ebff;}#sk-container-id-1 div.sk-parallel-item::after {content: \"\";width: 100%;border-bottom: 1px solid gray;flex-grow: 1;}#sk-container-id-1 div.sk-label:hover label.sk-toggleable__label {background-color: #d4ebff;}#sk-container-id-1 div.sk-serial::before {content: \"\";position: absolute;border-left: 1px solid gray;box-sizing: border-box;top: 0;bottom: 0;left: 50%;z-index: 0;}#sk-container-id-1 div.sk-serial {display: flex;flex-direction: column;align-items: center;background-color: white;padding-right: 0.2em;padding-left: 0.2em;position: relative;}#sk-container-id-1 div.sk-item {position: relative;z-index: 1;}#sk-container-id-1 div.sk-parallel {display: flex;align-items: stretch;justify-content: center;background-color: white;position: relative;}#sk-container-id-1 div.sk-item::before, #sk-container-id-1 div.sk-parallel-item::before {content: \"\";position: absolute;border-left: 1px solid gray;box-sizing: border-box;top: 0;bottom: 0;left: 50%;z-index: -1;}#sk-container-id-1 div.sk-parallel-item {display: flex;flex-direction: column;z-index: 1;position: relative;background-color: white;}#sk-container-id-1 div.sk-parallel-item:first-child::after {align-self: flex-end;width: 50%;}#sk-container-id-1 div.sk-parallel-item:last-child::after {align-self: flex-start;width: 50%;}#sk-container-id-1 div.sk-parallel-item:only-child::after {width: 0;}#sk-container-id-1 div.sk-dashed-wrapped {border: 1px dashed gray;margin: 0 0.4em 0.5em 0.4em;box-sizing: border-box;padding-bottom: 0.4em;background-color: white;}#sk-container-id-1 div.sk-label label {font-family: monospace;font-weight: bold;display: inline-block;line-height: 1.2em;}#sk-container-id-1 div.sk-label-container {text-align: center;}#sk-container-id-1 div.sk-container {/* jupyter's `normalize.less` sets `[hidden] { display: none; }` but bootstrap.min.css set `[hidden] { display: none !important; }` so we also need the `!important` here to be able to override the default hidden behavior on the sphinx rendered scikit-learn.org. See: https://github.com/scikit-learn/scikit-learn/issues/21755 */display: inline-block !important;position: relative;}#sk-container-id-1 div.sk-text-repr-fallback {display: none;}</style><div id=\"sk-container-id-1\" class=\"sk-top-container\"><div class=\"sk-text-repr-fallback\"><pre>RandomForestClassifier()</pre><b>In a Jupyter environment, please rerun this cell to show the HTML representation or trust the notebook. <br />On GitHub, the HTML representation is unable to render, please try loading this page with nbviewer.org.</b></div><div class=\"sk-container\" hidden><div class=\"sk-item\"><div class=\"sk-estimator sk-toggleable\"><input class=\"sk-toggleable__control sk-hidden--visually\" id=\"sk-estimator-id-1\" type=\"checkbox\" checked><label for=\"sk-estimator-id-1\" class=\"sk-toggleable__label sk-toggleable__label-arrow\">RandomForestClassifier</label><div class=\"sk-toggleable__content\"><pre>RandomForestClassifier()</pre></div></div></div></div></div>"
      ],
      "text/plain": [
       "RandomForestClassifier()"
      ]
     },
     "execution_count": 10,
     "metadata": {},
     "output_type": "execute_result"
    }
   ],
   "source": [
    "rf = RandomForestClassifier()\n",
    "rf.fit(X_train, y_train)"
   ]
  },
  {
   "cell_type": "code",
   "execution_count": 14,
   "metadata": {},
   "outputs": [],
   "source": [
    "X_test = forest.test_input\n",
    "# X_test = forest.train_input\n",
    "y_pred = rf.predict(X_test)"
   ]
  },
  {
   "cell_type": "code",
   "execution_count": 16,
   "metadata": {},
   "outputs": [
    {
     "name": "stdout",
     "output_type": "stream",
     "text": [
      "[10. 12. 10. 11. 10. 10. 11. 13. 11. 10. 10. 11. 11. 12. 12. 12. 11. 10.\n",
      " 11. 10.  9.  9.  8. 10. 11. 11. 11.  9.  9.  9.  9. 11. 10. 11. 11. 11.\n",
      " 10. 10.  7.  7.  9. 11. 10. 11. 10. 10. 11. 11. 11. 10. 11.  7.  6. 10.\n",
      "  9.  9.  9. 12. 11. 13. 10. 10. 11. 11. 10. 12. 10.  9. 11.  9. 12. 10.\n",
      " 12. 10. 10.  7.  7.  9.  6. 21. 11. 10. 10. 11. 10.  9. 11. 10. 11.  7.\n",
      "  9.  9. 21. 11. 12.  7. 11. 10. 11. 11. 11. 11.  9.  9.  8.  9.  8.  9.\n",
      " 11. 11. 11. 10.  9. 11. 11. 10. 10. 11. 10. 10. 11. 11. 11. 11. 11. 10.\n",
      " 10. 11. 10. 11. 11.  9. 10. 11. 11. 11. 11. 10. 10. 11. 10. 10. 11.  9.\n",
      " 10. 10. 10.  9. 10. 10. 11. 11. 11. 10. 10. 11. 10. 11. 11.  9.  9. 11.\n",
      " 10. 10. 10.  9.  9. 10. 10. 10.  9.  9. 10. 11.  8. 10. 11. 10. 10. 10.\n",
      " 10. 10. 10. 10. 10.  9. 10. 10. 10. 10. 10. 12. 11. 12. 11. 10. 11. 10.\n",
      "  9. 10.  7.  8.  7.  8. 11.  8.  8.  8.  8. 10.  8. 11. 10.]\n"
     ]
    }
   ],
   "source": [
    "print(y_pred[:, 0])"
   ]
  },
  {
   "cell_type": "code",
   "execution_count": 18,
   "metadata": {},
   "outputs": [],
   "source": [
    "y_test = forest.test_output\n",
    "# y_test = forest.train_output\n",
    "y_test_first_column = [row[0] for row in y_test]\n",
    "y_pred_first_column = [row[0] for row in y_pred]"
   ]
  },
  {
   "cell_type": "code",
   "execution_count": 19,
   "metadata": {},
   "outputs": [
    {
     "name": "stdout",
     "output_type": "stream",
     "text": [
      "Accuracy: 0.215962441314554\n"
     ]
    }
   ],
   "source": [
    "y_test = forest.test_output\n",
    "accuracy = accuracy_score(y_test_first_column, y_pred_first_column)\n",
    "print(\"Accuracy:\", accuracy)"
   ]
  },
  {
   "cell_type": "code",
   "execution_count": null,
   "metadata": {},
   "outputs": [],
   "source": [
    "forest.market.state"
   ]
  },
  {
   "cell_type": "code",
   "execution_count": 20,
   "metadata": {},
   "outputs": [],
   "source": [
    "\n",
    "from matplotlib.dates import relativedelta\n",
    "\n",
    "\n",
    "nw_starting_time_step = datetime(year=1995, month=1, day=1, hour=10) + relativedelta(hours=1000)\n",
    "\n",
    "nw_db_params = {\n",
    "    'database': environ.get(\"POSTGRES_DB\"),\n",
    "    'user': environ.get(\"POSTGRES_USER\"),\n",
    "    'password': environ.get(\"POSTGRES_PASSWORD\"),\n",
    "    'host': environ.get(\"DB_HOST\"),\n",
    "    'port': environ.get(\"DB_PORT\"),\n",
    "}\n",
    "nw_env_config = {\n",
    "    \"db_params\": nw_db_params, \n",
    "    \"max_episode_steps\": 200, \n",
    "    \"the_current_time_step\": nw_starting_time_step,\n",
    "    \"print_output\": False,\n",
    "    \"is_test\": False,\n",
    "    \"test_steps\": 200,\n",
    "    \"n_step_stocks\": 5,\n",
    "    \"n_step_cmmdties\": 5,\n",
    "    \"preparing\": True\n",
    "} \n",
    "\n",
    "nw_market = MarketSimulator(env_config=nw_env_config)\n",
    "nw_market.reset()\n",
    "nw_forest = Forester(market=nw_market)"
   ]
  },
  {
   "cell_type": "code",
   "execution_count": 21,
   "metadata": {},
   "outputs": [],
   "source": [
    "nw_forest.make_forest_data()"
   ]
  },
  {
   "cell_type": "code",
   "execution_count": 22,
   "metadata": {},
   "outputs": [],
   "source": [
    "nw_X_train = nw_forest.train_input\n",
    "nw_y_train = nw_forest.train_output\n",
    "nw_y_test = nw_forest.test_output\n",
    "nw_X_test = nw_forest.test_input\n",
    "\n",
    "nw_X_test = nw_forest.test_input\n",
    "nw_y_pred = rf.predict(nw_X_test)\n",
    "\n",
    "nw_y_test = nw_forest.test_output\n",
    "nw_y_test_first_column = [row[1] for row in nw_y_test]\n",
    "nw_y_pred_first_column = [row[1] for row in nw_y_pred]"
   ]
  },
  {
   "cell_type": "code",
   "execution_count": 23,
   "metadata": {},
   "outputs": [
    {
     "name": "stdout",
     "output_type": "stream",
     "text": [
      "Accuracy: 0.9069767441860465\n"
     ]
    }
   ],
   "source": [
    "accuracy = accuracy_score(nw_y_test_first_column, nw_y_pred_first_column)\n",
    "print(\"Accuracy:\", accuracy)"
   ]
  },
  {
   "cell_type": "code",
   "execution_count": 32,
   "metadata": {},
   "outputs": [
    {
     "name": "stdout",
     "output_type": "stream",
     "text": [
      "1995-03-09 14:30:00+00:00\n",
      "43 [[11. 11. 13. 12. 10.]]\n"
     ]
    }
   ],
   "source": [
    "time_data = {}\n",
    "for it in range(5):\n",
    "    rand_acts = nw_forest.act_random()\n",
    "    state, reward, done, info = nw_forest.market.step([rand_acts])\n",
    "    time_data[nw_forest.market.the_current_time_step] = state\n",
    "nw_state = state\n",
    "print(nw_forest.market.the_current_time_step)\n",
    "flat_state = np.array([nw_forest.get_flattened_states(nw_state)])\n",
    "my_pred = rf.predict(flat_state)\n",
    "print(len(nw_y_pred), my_pred)"
   ]
  }
 ],
 "metadata": {
  "kernelspec": {
   "display_name": "v2env",
   "language": "python",
   "name": "v2env"
  },
  "language_info": {
   "codemirror_mode": {
    "name": "ipython",
    "version": 3
   },
   "file_extension": ".py",
   "mimetype": "text/x-python",
   "name": "python",
   "nbconvert_exporter": "python",
   "pygments_lexer": "ipython3",
   "version": "3.10.13"
  },
  "orig_nbformat": 4
 },
 "nbformat": 4,
 "nbformat_minor": 2
}
