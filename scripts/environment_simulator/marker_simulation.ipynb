{
 "cells": [
  {
   "cell_type": "code",
   "execution_count": 1,
   "metadata": {},
   "outputs": [
    {
     "name": "stderr",
     "output_type": "stream",
     "text": [
      "2023-12-10 06:03:32.088570: I tensorflow/core/platform/cpu_feature_guard.cc:182] This TensorFlow binary is optimized to use available CPU instructions in performance-critical operations.\n",
      "To enable the following instructions: AVX2 FMA, in other operations, rebuild TensorFlow with the appropriate compiler flags.\n"
     ]
    }
   ],
   "source": [
    "import sys\n",
    "import django\n",
    "import os\n",
    "file_dir = \"/Users/mirbilal/Desktop/MobCommission/commissionV2/\"\n",
    "if file_dir not in sys.path:\n",
    "    sys.path.insert(0, file_dir)\n",
    "\n",
    "os.environ[\"DJANGO_SETTINGS_MODULE\"] = \"commissionerv2.settings\"\n",
    "os.environ[\"DJANGO_ALLOW_ASYNC_UNSAFE\"] = \"true\" \n",
    "django.setup()\n",
    "from os import path, environ\n",
    "from datetime import datetime\n",
    "from services.zayev.environment.market_simulator import MarketSimulator\n",
    "from services.zayev.service_layer.forester import Forester\n",
    "import tensorflow as tf\n",
    "from sklearn.ensemble import RandomForestClassifier\n",
    "import numpy as np\n",
    "from sklearn.metrics import accuracy_score\n",
    "from matplotlib.dates import relativedelta\n"
   ]
  },
  {
   "cell_type": "code",
   "execution_count": 5,
   "metadata": {},
   "outputs": [
    {
     "name": "stdout",
     "output_type": "stream",
     "text": [
      "1995-01-01 10:00:00+00:00\n"
     ]
    }
   ],
   "source": [
    "\n",
    "\n",
    "starting_time_step = datetime(year=1995, month=1, day=1, hour=10)\n",
    "\n",
    "db_params = {\n",
    "    'database': environ.get(\"POSTGRES_DB\"),\n",
    "    'user': environ.get(\"POSTGRES_USER\"),\n",
    "    'password': environ.get(\"POSTGRES_PASSWORD\"),\n",
    "    'host': environ.get(\"DB_HOST\"),\n",
    "    'port': environ.get(\"DB_PORT\"),\n",
    "}\n",
    "env_config = {\n",
    "    \"db_params\": db_params, \n",
    "    \"max_episode_steps\": 1000, \n",
    "    \"the_current_time_step\": starting_time_step,\n",
    "    \"print_output\": False,\n",
    "    \"is_test\": False,\n",
    "    \"test_steps\": 200,\n",
    "    \"n_step_stocks\": 5,\n",
    "    \"n_step_cmmdties\": 5,\n",
    "    \"preparing\": True\n",
    "} \n",
    "\n",
    "market = MarketSimulator(env_config=env_config)\n",
    "market.reset()\n",
    "print(market.the_current_time_step)"
   ]
  },
  {
   "cell_type": "code",
   "execution_count": 8,
   "metadata": {},
   "outputs": [
    {
     "name": "stdout",
     "output_type": "stream",
     "text": [
      "1995-04-15 14:00:00+00:00\n"
     ]
    }
   ],
   "source": [
    "\n",
    "\n",
    "\n",
    "nw_starting_time_step = datetime(year=1995, month=1, day=1, hour=10) + relativedelta(hours=2500)\n",
    "\n",
    "nw_db_params = {\n",
    "    'database': environ.get(\"POSTGRES_DB\"),\n",
    "    'user': environ.get(\"POSTGRES_USER\"),\n",
    "    'password': environ.get(\"POSTGRES_PASSWORD\"),\n",
    "    'host': environ.get(\"DB_HOST\"),\n",
    "    'port': environ.get(\"DB_PORT\"),\n",
    "}\n",
    "nw_env_config = {\n",
    "    \"db_params\": nw_db_params, \n",
    "    \"max_episode_steps\": 72, \n",
    "    \"the_current_time_step\": nw_starting_time_step,\n",
    "    \"print_output\": False,\n",
    "    \"is_test\": False,\n",
    "    \"test_steps\": 200,\n",
    "    \"n_step_stocks\": 5,\n",
    "    \"n_step_cmmdties\": 5,\n",
    "    \"preparing\": True\n",
    "} \n",
    "\n",
    "nw_market = MarketSimulator(env_config=nw_env_config)\n",
    "nw_market.reset()\n",
    "nw_forest = Forester(market=nw_market)\n",
    "print(nw_market.the_current_time_step)"
   ]
  },
  {
   "cell_type": "code",
   "execution_count": 4,
   "metadata": {},
   "outputs": [
    {
     "name": "stdout",
     "output_type": "stream",
     "text": [
      "1995-04-15 14:00:00+00:00\n",
      "1995-02-19 14:00:00+00:00\n"
     ]
    }
   ],
   "source": [
    "forest = Forester(market=market)\n",
    "forest.make_forest_data()\n",
    "X_train = forest.train_input\n",
    "y_train = forest.train_output\n",
    "y_test = forest.test_output\n",
    "X_test = forest.test_input\n",
    "print(forest.market.the_current_time_step)\n",
    "\n",
    "nw_forest.make_forest_data()\n",
    "nw_X_train = nw_forest.train_input\n",
    "nw_y_train = nw_forest.train_output\n",
    "nw_y_test = nw_forest.test_output\n",
    "nw_X_test = nw_forest.test_input\n",
    "print(nw_forest.market.the_current_time_step)"
   ]
  },
  {
   "cell_type": "code",
   "execution_count": null,
   "metadata": {},
   "outputs": [],
   "source": [
    "# rf = RandomForestClassifier()\n",
    "# rf.fit(X_train, y_train)"
   ]
  },
  {
   "cell_type": "code",
   "execution_count": null,
   "metadata": {},
   "outputs": [],
   "source": [
    "# Number of trees in random forest\n",
    "n_estimators = [int(x) for x in np.linspace(start = 200, stop = 1200, num = 10)]\n",
    "# Number of features to consider at every split\n",
    "max_features = ['sqrt', 'log2']\n",
    "# Maximum number of levels in tree\n",
    "max_depth = [int(x) for x in np.linspace(10, 80, num = 11)]\n",
    "max_depth.append(None)\n",
    "# Minimum number of samples required to split a node\n",
    "min_samples_split = [2, 5, 10]\n",
    "# Minimum number of samples required at each leaf node\n",
    "min_samples_leaf = [1, 2, 4]\n",
    "# Method of selecting samples for training each tree\n",
    "bootstrap = [True, False]\n",
    "\n",
    "random_grid = {\n",
    "    'n_estimators': n_estimators,\n",
    "    'max_features': max_features,\n",
    "    'max_depth': max_depth,\n",
    "    'min_samples_split': min_samples_split,\n",
    "    'min_samples_leaf': min_samples_leaf,\n",
    "    'bootstrap': bootstrap\n",
    "}\n",
    "\n",
    "for n_ests in n_estimators:\n",
    "    for max_feat in max_features:\n",
    "        for max_dept in max_depth:\n",
    "            for min_sample_sp in min_samples_split:\n",
    "                for min_sample_lf in min_samples_leaf:\n",
    "                    for bt_strp in bootstrap:\n",
    "                        rf = RandomForestClassifier(\n",
    "                            n_estimators=n_ests,\n",
    "                            max_features=max_feat,\n",
    "                            max_depth=max_dept,\n",
    "                            min_samples_split=min_sample_sp,\n",
    "                            min_samples_leaf=min_sample_lf,\n",
    "                            bootstrap=bt_strp\n",
    "                        )\n",
    "                        rf.fit(X_train, y_train)\n",
    "                        nw_X_test = nw_forest.test_input\n",
    "                        nw_y_pred = rf.predict(nw_X_test)\n",
    "\n",
    "                        nw_y_test = nw_forest.test_output\n",
    "                        nw_y_test_first_column = [row[1] for row in nw_y_test]\n",
    "                        nw_y_pred_first_column = [row[1] for row in nw_y_pred]\n",
    "                        accuracy = accuracy_score(nw_y_test_first_column, nw_y_pred_first_column)\n",
    "                        print(\"Accuracy:\", accuracy)"
   ]
  },
  {
   "cell_type": "code",
   "execution_count": null,
   "metadata": {},
   "outputs": [],
   "source": [
    "time_data = {}\n",
    "for it in range(5):\n",
    "    rand_acts = nw_forest.act_random()\n",
    "    state, reward, done, info = nw_forest.market.step([rand_acts])\n",
    "    time_data[nw_forest.market.the_current_time_step] = state\n",
    "nw_state = state\n",
    "print(nw_forest.market.the_current_time_step)\n",
    "flat_state = np.array([nw_forest.get_flattened_states(nw_state)])\n",
    "my_pred = rf.predict(flat_state)\n",
    "print(len(nw_y_pred), my_pred)"
   ]
  }
 ],
 "metadata": {
  "kernelspec": {
   "display_name": "v2env",
   "language": "python",
   "name": "v2env"
  },
  "language_info": {
   "codemirror_mode": {
    "name": "ipython",
    "version": 3
   },
   "file_extension": ".py",
   "mimetype": "text/x-python",
   "name": "python",
   "nbconvert_exporter": "python",
   "pygments_lexer": "ipython3",
   "version": "3.10.13"
  },
  "orig_nbformat": 4
 },
 "nbformat": 4,
 "nbformat_minor": 2
}
