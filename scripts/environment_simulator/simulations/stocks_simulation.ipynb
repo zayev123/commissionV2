{
 "cells": [
  {
   "cell_type": "code",
   "execution_count": 2,
   "metadata": {},
   "outputs": [],
   "source": [
    "import sys\n",
    "import django\n",
    "import os\n",
    "file_dir = \"/Users/mirbilal/Desktop/MobCommission/commissionV2/\"\n",
    "if file_dir not in sys.path:\n",
    "    sys.path.insert(0, file_dir)\n",
    "\n",
    "os.environ[\"DJANGO_SETTINGS_MODULE\"] = \"commissionerv2.settings\"\n",
    "os.environ[\"DJANGO_ALLOW_ASYNC_UNSAFE\"] = \"true\" \n",
    "django.setup()\n",
    "from apps.environment_simulator.models import SimulatedStockBuffer\n",
    "from apps.environment_simulator.sevice_layer.stock_simulator import StockSimulator\n",
    "import numpy as np\n",
    "import json\n",
    "from datetime import datetime\n",
    "from dateutil.relativedelta import relativedelta\n",
    "import pytz\n",
    "import pandas as pd\n",
    "import cufflinks as cf\n",
    "from django.db.models import Q"
   ]
  },
  {
   "cell_type": "code",
   "execution_count": 2,
   "metadata": {},
   "outputs": [
    {
     "name": "stdout",
     "output_type": "stream",
     "text": [
      "0.012569880966563989\n"
     ]
    }
   ],
   "source": [
    "ognl = 102.76960814733987\n",
    "abc = 6.737933572495763\n",
    "perc = 0.06556348412689915\n",
    "covar = +0.19172075941288885\n",
    "\n",
    "fnl = covar*perc\n",
    "print(fnl)"
   ]
  },
  {
   "cell_type": "code",
   "execution_count": 2,
   "metadata": {},
   "outputs": [],
   "source": [
    "np.random.seed(3)\n",
    "for i in range(1200):\n",
    "    starting_latest_time_step = SimulatedStockBuffer.objects.first().captured_at\n",
    "    curr_month = starting_latest_time_step.month\n",
    "    # starting_latest_time_step = pytz.utc.localize(datetime.strptime(str(starting_latest_time_step), '%Y-%m-%d %H:%M:%S'))\n",
    "    starting_next_time_step: datetime = starting_latest_time_step + relativedelta(hours= 2, minutes=30)\n",
    "    next_month = starting_next_time_step.month\n",
    "    latest_time_step = starting_latest_time_step\n",
    "    next_time_step = starting_next_time_step\n",
    "    stck_smltr = StockSimulator(latest_time_step, next_time_step, is_coupled=True)\n",
    "    if next_month > curr_month:\n",
    "        stck_smltr.reset_sentiments()\n",
    "    stck_smltr.vary_stock_prices()"
   ]
  },
  {
   "cell_type": "code",
   "execution_count": 11,
   "metadata": {},
   "outputs": [
    {
     "name": "stdout",
     "output_type": "stream",
     "text": [
      "10.602655363504164\n",
      "0.9970779278621654\n"
     ]
    }
   ],
   "source": [
    "set = 10.40094383806864\n",
    "x = 10.40094383806864 + set*(-0.0020001797619766054 - 0.010002471279435696 + 0.010960868361941743 + 0.0038893709977549295 + 0.050702439575785074 - 0.03415644894816287)\n",
    "print(x)\n",
    "print(28.5/28.583523116499876)"
   ]
  },
  {
   "cell_type": "code",
   "execution_count": 1,
   "metadata": {},
   "outputs": [
    {
     "ename": "NameError",
     "evalue": "name 'datetime' is not defined",
     "output_type": "error",
     "traceback": [
      "\u001b[0;31m---------------------------------------------------------------------------\u001b[0m",
      "\u001b[0;31mNameError\u001b[0m                                 Traceback (most recent call last)",
      "\u001b[1;32m/Users/mirbilal/Desktop/MobCommission/commissionV2/scripts/environment_simulator/simulations/stocks_simulation.ipynb Cell 5\u001b[0m line \u001b[0;36m9\n\u001b[1;32m      <a href='vscode-notebook-cell:/Users/mirbilal/Desktop/MobCommission/commissionV2/scripts/environment_simulator/simulations/stocks_simulation.ipynb#W4sZmlsZQ%3D%3D?line=4'>5</a>\u001b[0m \u001b[39melse\u001b[39;00m:\n\u001b[1;32m      <a href='vscode-notebook-cell:/Users/mirbilal/Desktop/MobCommission/commissionV2/scripts/environment_simulator/simulations/stocks_simulation.ipynb#W4sZmlsZQ%3D%3D?line=5'>6</a>\u001b[0m     mymins \u001b[39m=\u001b[39m \u001b[39m0\u001b[39m\n\u001b[0;32m----> <a href='vscode-notebook-cell:/Users/mirbilal/Desktop/MobCommission/commissionV2/scripts/environment_simulator/simulations/stocks_simulation.ipynb#W4sZmlsZQ%3D%3D?line=8'>9</a>\u001b[0m starting_time \u001b[39m=\u001b[39m datetime(year\u001b[39m=\u001b[39m\u001b[39m1995\u001b[39m, month\u001b[39m=\u001b[39m\u001b[39m1\u001b[39m, day\u001b[39m=\u001b[39m\u001b[39m1\u001b[39m, hour\u001b[39m=\u001b[39m\u001b[39m10\u001b[39m) \u001b[39m+\u001b[39m relativedelta(hours\u001b[39m=\u001b[39m\u001b[39m0\u001b[39m)\n\u001b[1;32m     <a href='vscode-notebook-cell:/Users/mirbilal/Desktop/MobCommission/commissionV2/scripts/environment_simulator/simulations/stocks_simulation.ipynb#W4sZmlsZQ%3D%3D?line=9'>10</a>\u001b[0m ending_time \u001b[39m=\u001b[39m starting_time \u001b[39m+\u001b[39m relativedelta(hours\u001b[39m=\u001b[39m\u001b[39mint\u001b[39m(myHrs), minutes\u001b[39m=\u001b[39mmymins)\n\u001b[1;32m     <a href='vscode-notebook-cell:/Users/mirbilal/Desktop/MobCommission/commissionV2/scripts/environment_simulator/simulations/stocks_simulation.ipynb#W4sZmlsZQ%3D%3D?line=10'>11</a>\u001b[0m \u001b[39mprint\u001b[39m(\u001b[39m\"\u001b[39m\u001b[39mending_time\u001b[39m\u001b[39m\"\u001b[39m, ending_time)\n",
      "\u001b[0;31mNameError\u001b[0m: name 'datetime' is not defined"
     ]
    }
   ],
   "source": [
    "stps = 200\n",
    "myHrs = stps*2.5\n",
    "if myHrs%1:\n",
    "    mymins = 30\n",
    "else:\n",
    "    mymins = 0\n",
    "\n",
    "\n",
    "starting_time = datetime(year=1995, month=1, day=1, hour=10) + relativedelta(hours=0)\n",
    "ending_time = starting_time + relativedelta(hours=int(myHrs), minutes=mymins)\n",
    "print(\"ending_time\", ending_time)\n",
    "\n",
    "cf.go_offline()\n",
    "cf.set_config_file(world_readable=True, theme=\"white\")\n",
    "\n",
    "buffer = SimulatedStockBuffer.objects.select_related(\"stock\").order_by(\"captured_at\").filter(\n",
    "    Q(captured_at__gte = starting_time)\n",
    "    & Q(captured_at__lte = ending_time)\n",
    ").all()\n",
    "\n",
    "price_variations = {}\n",
    "for snapshot in buffer:\n",
    "    if snapshot.stock.name not in price_variations:\n",
    "        price_variations[snapshot.stock.name] = []\n",
    "    price_variations[snapshot.stock.name].append(snapshot.price_snapshot)\n",
    "\n",
    "# print(price_variations)\n",
    "for stck_name in price_variations:\n",
    "    price_snaps = price_variations[stck_name]\n",
    "    price_array = np.array(price_snaps)\n",
    "    max_price = max(price_array)\n",
    "    normalized_snaps = price_array/max_price\n",
    "    price_variations[stck_name] = normalized_snaps\n",
    "\n",
    "    \n",
    "\n",
    "stock_names = list(price_variations.keys())\n",
    "\n",
    "\n",
    "# print(price_variations)\n",
    "df_regret_comparisons = pd.DataFrame(price_variations)\n",
    "df_regret_comparisons.iplot(\n",
    "    xTitle='time_steps',\n",
    "    yTitle='Normalized Prices'\n",
    ")"
   ]
  },
  {
   "cell_type": "code",
   "execution_count": 10,
   "metadata": {},
   "outputs": [
    {
     "name": "stdout",
     "output_type": "stream",
     "text": [
      "[{'captured_at': datetime.datetime(1995, 3, 18, 21, 0, tzinfo=datetime.timezone.utc), 'price_snapshot': 7.647669717365825, 'volume': None}, {'captured_at': datetime.datetime(1995, 3, 18, 23, 30, tzinfo=datetime.timezone.utc), 'price_snapshot': 7.525568258004343, 'volume': None}, {'captured_at': datetime.datetime(1995, 3, 19, 2, 0, tzinfo=datetime.timezone.utc), 'price_snapshot': 7.654550160330033, 'volume': None}, {'captured_at': datetime.datetime(1995, 3, 19, 4, 30, tzinfo=datetime.timezone.utc), 'price_snapshot': 7.568721850159026, 'volume': None}, {'captured_at': datetime.datetime(1995, 3, 19, 7, 0, tzinfo=datetime.timezone.utc), 'price_snapshot': 7.454565801011557, 'volume': None}, {'captured_at': datetime.datetime(1995, 3, 19, 9, 30, tzinfo=datetime.timezone.utc), 'price_snapshot': 7.251004055947827, 'volume': None}, {'captured_at': datetime.datetime(1995, 3, 19, 12, 0, tzinfo=datetime.timezone.utc), 'price_snapshot': 7.378228483298571, 'volume': None}, {'captured_at': datetime.datetime(1995, 3, 19, 14, 30, tzinfo=datetime.timezone.utc), 'price_snapshot': 7.549134760552486, 'volume': None}, {'captured_at': datetime.datetime(1995, 3, 19, 17, 0, tzinfo=datetime.timezone.utc), 'price_snapshot': 7.540599018080943, 'volume': None}]\n"
     ]
    }
   ],
   "source": [
    "last_9_objects = SimulatedStockBuffer.objects.filter(stock_id = 318).order_by('-captured_at')[:9].values('captured_at', 'price_snapshot', 'volume')\n",
    "last_9_objects = list(reversed(last_9_objects))\n",
    "print(last_9_objects)"
   ]
  },
  {
   "cell_type": "code",
   "execution_count": 6,
   "metadata": {},
   "outputs": [
    {
     "name": "stdout",
     "output_type": "stream",
     "text": [
      "False\n",
      "4117.69688204119 4074.27659355893\n",
      "start\n",
      "4074.27659355893\n",
      "4117.69688204119\n",
      "\n",
      "{\n",
      "   \"345\": {\n",
      "      \"first_8_consecutives\": 5,\n",
      "      \"latest_2_consecutives\": 1,\n",
      "      \"latest_change\": 0.010184361848924435,\n",
      "      \"index\": 10,\n",
      "      \"price_x_volume_factor\": 0.030112735814634917,\n",
      "      \"expected_volume_perc_change\": 0.03198392401231392,\n",
      "      \"volume_x_price_factor\": 0.33338335772283384,\n",
      "      \"volume_so_far\": 1839.9297386839573,\n",
      "      \"vol_price_effect\": 0.00406311377675934,\n",
      "      \"new_volume\": 1861.2613800015936\n",
      "   },\n",
      "   \"343\": {\n",
      "      \"first_8_consecutives\": -7,\n",
      "      \"latest_2_consecutives\": -1,\n",
      "      \"latest_change\": -0.029663671876132683,\n",
      "      \"index\": 10,\n",
      "      \"price_x_volume_factor\": 0.26868661472450533,\n",
      "      \"expected_volume_perc_change\": 0,\n",
      "      \"volume_x_price_factor\": 0.3793078121611786,\n",
      "      \"volume_so_far\": 4074.27659355893,\n",
      "      \"vol_price_effect\": 0.004338790879042177,\n",
      "      \"new_volume\": 4117.69688204119\n",
      "   },\n",
      "   \"342\": {\n",
      "      \"first_8_consecutives\": 7,\n",
      "      \"latest_2_consecutives\": 1,\n",
      "      \"latest_change\": 0.012979030948359878,\n",
      "      \"index\": 10,\n",
      "      \"price_x_volume_factor\": 0.043564649850770354,\n",
      "      \"expected_volume_perc_change\": 0,\n",
      "      \"volume_x_price_factor\": 0.01010919872016286,\n",
      "      \"volume_so_far\": 2359.2369241893134,\n",
      "      \"vol_price_effect\": 0.0002604083836821835,\n",
      "      \"new_volume\": 2420.689738120542\n",
      "   },\n",
      "   \"341\": {\n",
      "      \"first_8_consecutives\": 1,\n",
      "      \"latest_2_consecutives\": 1,\n",
      "      \"latest_change\": 0.00981722457769486,\n",
      "      \"index\": 10,\n",
      "      \"price_x_volume_factor\": 0.48183138025051464,\n",
      "      \"expected_volume_perc_change\": 0.44880893705127123,\n",
      "      \"volume_x_price_factor\": 0.19172075941288885,\n",
      "      \"volume_so_far\": 220.1661829082625,\n",
      "      \"vol_price_effect\": 0.004183708329894099,\n",
      "      \"new_volume\": 226.1717207240394\n",
      "   },\n",
      "   \"344\": {\n",
      "      \"first_8_consecutives\": 0,\n",
      "      \"latest_2_consecutives\": 0,\n",
      "      \"latest_change\": 0.015171261504494946,\n",
      "      \"index\": 10,\n",
      "      \"price_x_volume_factor\": 0.009394900218177571,\n",
      "      \"expected_volume_perc_change\": 0,\n",
      "      \"volume_x_price_factor\": 0.30881774853793853,\n",
      "      \"volume_so_far\": 1579.5227686871565,\n",
      "      \"vol_price_effect\": 0.001273797899358806,\n",
      "      \"new_volume\": 1586.136748693194\n",
      "   }\n",
      "}\n"
     ]
    }
   ],
   "source": [
    "a_time_step = datetime(year=1995, month=1, day=7, hour=16, minute=00)\n",
    "t_time_step = pytz.utc.localize(datetime.strptime(str(a_time_step), '%Y-%m-%d %H:%M:%S'))\n",
    "a_next_time_step = t_time_step + relativedelta(hours=2, minutes=30)\n",
    "ten_time_steps_ago = t_time_step - relativedelta(hours= 25)\n",
    "\n",
    "# last_10_snapshots: list[SimulatedStockBuffer] = SimulatedStockBuffer.objects.filter(\n",
    "#     Q(captured_at__gte=ten_time_steps_ago)\n",
    "#     & Q(captured_at__lte=t_time_step)\n",
    "#     & Q(stock_id = 318)\n",
    "# ).order_by('-captured_at')\n",
    "# last_10_snapshots = list(reversed(last_10_snapshots))\n",
    "# blk_updts: list[SimulatedStockBuffer] = []\n",
    "\n",
    "# for asnpsht in last_10_snapshots:\n",
    "#     asnpsht.change = +1\n",
    "#     asnpsht.volume = 1000\n",
    "#     blk_updts.append(asnpsht)\n",
    "# # blk_updts[7].change = 1\n",
    "# blk_updts[8].change = -1\n",
    "# blk_updts[9].change = -1\n",
    "\n",
    "# blk_updts[9].captured_at\n",
    "# # blk_updts[9].change = -1\n",
    "# SimulatedStockBuffer.objects.bulk_update(blk_updts, [\"change\", \"volume\"])\n",
    "\n",
    "stck_smltr = StockSimulator(a_time_step, a_next_time_step, is_coupled=True)\n",
    "vols = stck_smltr.market_sentiment\n",
    "print(json.dumps(vols, indent=3))"
   ]
  },
  {
   "cell_type": "code",
   "execution_count": null,
   "metadata": {},
   "outputs": [],
   "source": []
  },
  {
   "cell_type": "code",
   "execution_count": 7,
   "metadata": {},
   "outputs": [
    {
     "data": {
      "text/plain": [
       "array([[0., 0., 0., 0., 0., 0.],\n",
       "       [0., 0., 0., 0., 0., 0.],\n",
       "       [0., 0., 0., 0., 0., 0.],\n",
       "       [0., 0., 0., 0., 0., 0.],\n",
       "       [0., 0., 0., 0., 0., 0.],\n",
       "       [0., 0., 0., 0., 0., 0.],\n",
       "       [0., 0., 0., 0., 0., 0.],\n",
       "       [0., 0., 0., 0., 0., 0.],\n",
       "       [0., 0., 0., 0., 0., 0.],\n",
       "       [0., 0., 0., 0., 0., 0.]])"
      ]
     },
     "execution_count": 7,
     "metadata": {},
     "output_type": "execute_result"
    }
   ],
   "source": [
    "np.zeros((10,6))"
   ]
  }
 ],
 "metadata": {
  "kernelspec": {
   "display_name": "v2env",
   "language": "python",
   "name": "v2env"
  },
  "language_info": {
   "codemirror_mode": {
    "name": "ipython",
    "version": 3
   },
   "file_extension": ".py",
   "mimetype": "text/x-python",
   "name": "python",
   "nbconvert_exporter": "python",
   "pygments_lexer": "ipython3",
   "version": "3.10.13"
  },
  "orig_nbformat": 4
 },
 "nbformat": 4,
 "nbformat_minor": 2
}
