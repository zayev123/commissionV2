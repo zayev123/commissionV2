{
 "cells": [
  {
   "cell_type": "code",
   "execution_count": null,
   "metadata": {},
   "outputs": [],
   "source": [
    "import sys\n",
    "import django\n",
    "import os\n",
    "file_dir = \"/Users/mirbilal/Desktop/MobCommission/commissionV2/\"\n",
    "if file_dir not in sys.path:\n",
    "    sys.path.insert(0, file_dir)\n",
    "\n",
    "os.environ[\"DJANGO_SETTINGS_MODULE\"] = \"commissionerv2.settings\"\n",
    "os.environ[\"DJANGO_ALLOW_ASYNC_UNSAFE\"] = \"true\" \n",
    "django.setup()\n",
    "from apps.environment_simulator.models import SimulatedStockBuffer\n",
    "from apps.environment_simulator.sevice_layer.stock_simulator import StockSimulator\n",
    "import numpy as np\n",
    "import json\n",
    "from datetime import datetime\n",
    "from dateutil.relativedelta import relativedelta\n",
    "import pytz\n",
    "import pandas as pd\n",
    "import cufflinks as cf\n",
    "from django.db.models import Q"
   ]
  },
  {
   "cell_type": "code",
   "execution_count": null,
   "metadata": {},
   "outputs": [],
   "source": [
    "ognl = 102.76960814733987\n",
    "abc = 6.737933572495763\n",
    "perc = 0.06556348412689915\n",
    "covar = +0.19172075941288885\n",
    "\n",
    "fnl = covar*perc\n",
    "print(fnl)"
   ]
  },
  {
   "cell_type": "code",
   "execution_count": null,
   "metadata": {},
   "outputs": [],
   "source": [
    "np.random.seed(3)\n",
    "for i in range(1200):\n",
    "    starting_latest_time_step = SimulatedStockBuffer.objects.first().captured_at\n",
    "    curr_month = starting_latest_time_step.month\n",
    "    # starting_latest_time_step = pytz.utc.localize(datetime.strptime(str(starting_latest_time_step), '%Y-%m-%d %H:%M:%S'))\n",
    "    starting_next_time_step: datetime = starting_latest_time_step + relativedelta(hours= 2, minutes=30)\n",
    "    next_month = starting_next_time_step.month\n",
    "    latest_time_step = starting_latest_time_step\n",
    "    next_time_step = starting_next_time_step\n",
    "    stck_smltr = StockSimulator(latest_time_step, next_time_step, is_coupled=True)\n",
    "    if next_month > curr_month:\n",
    "        stck_smltr.reset_sentiments()\n",
    "    stck_smltr.vary_stock_prices()"
   ]
  },
  {
   "cell_type": "code",
   "execution_count": null,
   "metadata": {},
   "outputs": [],
   "source": [
    "set = 10.40094383806864\n",
    "x = 10.40094383806864 + set*(-0.0020001797619766054 - 0.010002471279435696 + 0.010960868361941743 + 0.0038893709977549295 + 0.050702439575785074 - 0.03415644894816287)\n",
    "print(x)\n",
    "print(28.5/28.583523116499876)"
   ]
  },
  {
   "cell_type": "code",
   "execution_count": null,
   "metadata": {},
   "outputs": [],
   "source": [
    "stps = 200\n",
    "myHrs = stps*2.5\n",
    "if myHrs%1:\n",
    "    mymins = 30\n",
    "else:\n",
    "    mymins = 0\n",
    "\n",
    "\n",
    "starting_time = datetime(year=1995, month=1, day=1, hour=10) + relativedelta(hours=0)\n",
    "ending_time = starting_time + relativedelta(hours=int(myHrs), minutes=mymins)\n",
    "print(\"ending_time\", ending_time)\n",
    "\n",
    "cf.go_offline()\n",
    "cf.set_config_file(world_readable=True, theme=\"white\")\n",
    "\n",
    "buffer = SimulatedStockBuffer.objects.select_related(\"stock\").order_by(\"captured_at\").filter(\n",
    "    Q(captured_at__gte = starting_time)\n",
    "    & Q(captured_at__lte = ending_time)\n",
    ").all()\n",
    "\n",
    "price_variations = {}\n",
    "for snapshot in buffer:\n",
    "    if snapshot.stock.name not in price_variations:\n",
    "        price_variations[snapshot.stock.name] = []\n",
    "    price_variations[snapshot.stock.name].append(snapshot.price_snapshot)\n",
    "\n",
    "# print(price_variations)\n",
    "for stck_name in price_variations:\n",
    "    price_snaps = price_variations[stck_name]\n",
    "    price_array = np.array(price_snaps)\n",
    "    max_price = max(price_array)\n",
    "    normalized_snaps = price_array/max_price\n",
    "    price_variations[stck_name] = normalized_snaps\n",
    "\n",
    "    \n",
    "\n",
    "stock_names = list(price_variations.keys())\n",
    "\n",
    "\n",
    "# print(price_variations)\n",
    "df_regret_comparisons = pd.DataFrame(price_variations)\n",
    "df_regret_comparisons.iplot(\n",
    "    xTitle='time_steps',\n",
    "    yTitle='Normalized Prices'\n",
    ")"
   ]
  },
  {
   "cell_type": "code",
   "execution_count": null,
   "metadata": {},
   "outputs": [],
   "source": [
    "last_9_objects = SimulatedStockBuffer.objects.filter(stock_id = 318).order_by('-captured_at')[:9].values('captured_at', 'price_snapshot', 'volume')\n",
    "last_9_objects = list(reversed(last_9_objects))\n",
    "print(last_9_objects)"
   ]
  },
  {
   "cell_type": "code",
   "execution_count": null,
   "metadata": {},
   "outputs": [],
   "source": [
    "a_time_step = datetime(year=1995, month=1, day=7, hour=16, minute=00)\n",
    "t_time_step = pytz.utc.localize(datetime.strptime(str(a_time_step), '%Y-%m-%d %H:%M:%S'))\n",
    "a_next_time_step = t_time_step + relativedelta(hours=2, minutes=30)\n",
    "ten_time_steps_ago = t_time_step - relativedelta(hours= 25)\n",
    "\n",
    "# last_10_snapshots: list[SimulatedStockBuffer] = SimulatedStockBuffer.objects.filter(\n",
    "#     Q(captured_at__gte=ten_time_steps_ago)\n",
    "#     & Q(captured_at__lte=t_time_step)\n",
    "#     & Q(stock_id = 318)\n",
    "# ).order_by('-captured_at')\n",
    "# last_10_snapshots = list(reversed(last_10_snapshots))\n",
    "# blk_updts: list[SimulatedStockBuffer] = []\n",
    "\n",
    "# for asnpsht in last_10_snapshots:\n",
    "#     asnpsht.change = +1\n",
    "#     asnpsht.volume = 1000\n",
    "#     blk_updts.append(asnpsht)\n",
    "# # blk_updts[7].change = 1\n",
    "# blk_updts[8].change = -1\n",
    "# blk_updts[9].change = -1\n",
    "\n",
    "# blk_updts[9].captured_at\n",
    "# # blk_updts[9].change = -1\n",
    "# SimulatedStockBuffer.objects.bulk_update(blk_updts, [\"change\", \"volume\"])\n",
    "\n",
    "stck_smltr = StockSimulator(a_time_step, a_next_time_step, is_coupled=True)\n",
    "vols = stck_smltr.market_sentiment\n",
    "print(json.dumps(vols, indent=3))"
   ]
  },
  {
   "cell_type": "code",
   "execution_count": null,
   "metadata": {},
   "outputs": [],
   "source": []
  },
  {
   "cell_type": "code",
   "execution_count": null,
   "metadata": {},
   "outputs": [],
   "source": [
    "np.zeros((10,6))"
   ]
  }
 ],
 "metadata": {
  "kernelspec": {
   "display_name": "v2env",
   "language": "python",
   "name": "v2env"
  },
  "language_info": {
   "codemirror_mode": {
    "name": "ipython",
    "version": 3
   },
   "file_extension": ".py",
   "mimetype": "text/x-python",
   "name": "python",
   "nbconvert_exporter": "python",
   "pygments_lexer": "ipython3",
   "version": "3.10.13"
  },
  "orig_nbformat": 4
 },
 "nbformat": 4,
 "nbformat_minor": 2
}
