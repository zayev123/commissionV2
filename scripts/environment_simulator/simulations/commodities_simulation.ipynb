{
 "cells": [
  {
   "cell_type": "code",
   "execution_count": 1,
   "metadata": {},
   "outputs": [],
   "source": [
    "import sys\n",
    "import django\n",
    "import os\n",
    "file_dir = \"/Users/mirbilal/Desktop/MobCommission/commissionV2/\"\n",
    "if file_dir not in sys.path:\n",
    "    sys.path.insert(0, file_dir)\n",
    "\n",
    "os.environ[\"DJANGO_SETTINGS_MODULE\"] = \"commissionerv2.settings\"\n",
    "os.environ[\"DJANGO_ALLOW_ASYNC_UNSAFE\"] = \"true\" \n",
    "django.setup()\n",
    "from apps.environment_simulator.models import SimulatedCommodity, SimulatedCommodityCovariance, SimulatedCommodityBuffer\n",
    "from apps.environment_simulator.sevice_layer.commodity_simulator import CommoditySimulator\n",
    "import numpy as np\n",
    "import json\n",
    "from datetime import datetime\n",
    "from dateutil.relativedelta import relativedelta\n",
    "import pytz"
   ]
  },
  {
   "cell_type": "code",
   "execution_count": 2,
   "metadata": {},
   "outputs": [
    {
     "name": "stdout",
     "output_type": "stream",
     "text": [
      "1995-01-01 10:00:00+00:00\n",
      "1995-01-01 10:00:00+00:00\n",
      "1995-01-01 10:00:00+00:00\n",
      "1995-01-01 10:00:00+00:00\n",
      "1995-01-01 10:00:00+00:00\n",
      "1995-01-01 10:00:00+00:00\n",
      "1995-01-01 10:00:00+00:00\n",
      "1995-01-01 10:00:00+00:00\n",
      "1995-01-01 10:00:00+00:00\n",
      "1995-01-01 10:00:00+00:00\n",
      "1995-01-01 10:00:00+00:00\n",
      "1995-01-01 10:00:00+00:00\n",
      "1995-01-01 10:00:00+00:00\n",
      "1995-01-01 10:00:00+00:00\n",
      "1995-01-01 10:00:00+00:00\n",
      "1995-01-10 10:00:00 latest_time_step\n",
      "{}\n"
     ]
    },
    {
     "name": "stderr",
     "output_type": "stream",
     "text": [
      "/Users/mirbilal/Desktop/MobCommission/commissionV2/v2env/lib/python3.10/site-packages/django/db/models/fields/__init__.py:1595: RuntimeWarning: DateTimeField SimulatedCommodityBuffer.captured_at received a naive datetime (1995-01-10 10:00:00) while time zone support is active.\n",
      "  warnings.warn(\n"
     ]
    },
    {
     "ename": "KeyError",
     "evalue": "95",
     "output_type": "error",
     "traceback": [
      "\u001b[0;31m---------------------------------------------------------------------------\u001b[0m",
      "\u001b[0;31mKeyError\u001b[0m                                  Traceback (most recent call last)",
      "\u001b[1;32m/Users/mirbilal/Desktop/MobCommission/commissionV2/scripts/environment_simulator/simulations/commodities_simulation.ipynb Cell 2\u001b[0m line \u001b[0;36m7\n\u001b[1;32m      <a href='vscode-notebook-cell:/Users/mirbilal/Desktop/MobCommission/commissionV2/scripts/environment_simulator/simulations/commodities_simulation.ipynb#W1sZmlsZQ%3D%3D?line=4'>5</a>\u001b[0m next_time_step \u001b[39m=\u001b[39m starting_next_time_step\n\u001b[1;32m      <a href='vscode-notebook-cell:/Users/mirbilal/Desktop/MobCommission/commissionV2/scripts/environment_simulator/simulations/commodities_simulation.ipynb#W1sZmlsZQ%3D%3D?line=5'>6</a>\u001b[0m cmmdty_smltr \u001b[39m=\u001b[39m CommoditySimulator(latest_time_step, next_time_step)\n\u001b[0;32m----> <a href='vscode-notebook-cell:/Users/mirbilal/Desktop/MobCommission/commissionV2/scripts/environment_simulator/simulations/commodities_simulation.ipynb#W1sZmlsZQ%3D%3D?line=6'>7</a>\u001b[0m cmmdty_smltr\u001b[39m.\u001b[39;49mvary_commodity_prices()\n",
      "File \u001b[0;32m~/Desktop/MobCommission/commissionV2/apps/environment_simulator/sevice_layer/commodity_simulator.py:75\u001b[0m, in \u001b[0;36mCommoditySimulator.vary_commodity_prices\u001b[0;34m(self)\u001b[0m\n\u001b[1;32m     71\u001b[0m steps_left \u001b[39m=\u001b[39m cmmdty\u001b[39m.\u001b[39msteps_left\n\u001b[1;32m     73\u001b[0m \u001b[39mprint\u001b[39m(\u001b[39mself\u001b[39m\u001b[39m.\u001b[39mmem_buffer)\n\u001b[0;32m---> 75\u001b[0m curr_price \u001b[39m=\u001b[39m \u001b[39mself\u001b[39;49m\u001b[39m.\u001b[39;49mmem_buffer[cmmdty\u001b[39m.\u001b[39;49mid]\u001b[39m.\u001b[39mprice_snapshot\n\u001b[1;32m     77\u001b[0m next_grad_price \u001b[39m=\u001b[39m curr_price \u001b[39m+\u001b[39m gradient\n\u001b[1;32m     78\u001b[0m next_grad_price \u001b[39m=\u001b[39m np\u001b[39m.\u001b[39mrandom\u001b[39m.\u001b[39mnormal(next_grad_price, sd)\n",
      "\u001b[0;31mKeyError\u001b[0m: 95"
     ]
    }
   ],
   "source": [
    "starting_latest_time_step = datetime(year=1995, month=1, day=10, hour=10)\n",
    "starting_next_time_step = starting_latest_time_step + relativedelta(hours= 2, minutes=30)\n",
    "\n",
    "latest_time_step = starting_latest_time_step\n",
    "next_time_step = starting_next_time_step\n",
    "cmmdty_smltr = CommoditySimulator(latest_time_step, next_time_step)\n",
    "cmmdty_smltr.vary_commodity_prices()"
   ]
  }
 ],
 "metadata": {
  "kernelspec": {
   "display_name": "v2env",
   "language": "python",
   "name": "v2env"
  },
  "language_info": {
   "codemirror_mode": {
    "name": "ipython",
    "version": 3
   },
   "file_extension": ".py",
   "mimetype": "text/x-python",
   "name": "python",
   "nbconvert_exporter": "python",
   "pygments_lexer": "ipython3",
   "version": "3.10.13"
  },
  "orig_nbformat": 4
 },
 "nbformat": 4,
 "nbformat_minor": 2
}
