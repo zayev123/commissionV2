{
 "cells": [
  {
   "cell_type": "code",
   "execution_count": null,
   "metadata": {},
   "outputs": [],
   "source": [
    "import sys\n",
    "import django\n",
    "import os\n",
    "file_dir = \"/Users/mirbilal/Desktop/MobCommission/commissionV2/\"\n",
    "if file_dir not in sys.path:\n",
    "    sys.path.insert(0, file_dir)\n",
    "\n",
    "os.environ[\"DJANGO_SETTINGS_MODULE\"] = \"commissionerv2.settings\"\n",
    "os.environ[\"DJANGO_ALLOW_ASYNC_UNSAFE\"] = \"true\" \n",
    "django.setup()\n",
    "from apps.environment_simulator.models import SimulatedCommodityBuffer\n",
    "from apps.environment_simulator.sevice_layer.commodity_simulator import CommoditySimulator\n",
    "import numpy as np\n",
    "import json\n",
    "from datetime import datetime\n",
    "from dateutil.relativedelta import relativedelta\n",
    "import pytz\n",
    "import pandas as pd\n",
    "import cufflinks as cf"
   ]
  },
  {
   "cell_type": "code",
   "execution_count": null,
   "metadata": {},
   "outputs": [],
   "source": [
    "np.random.seed(0)\n",
    "for i in range(1000):\n",
    "    starting_latest_time_step = SimulatedCommodityBuffer.objects.first().captured_at\n",
    "    # starting_latest_time_step = pytz.utc.localize(datetime.strptime(str(starting_latest_time_step), '%Y-%m-%d %H:%M:%S'))\n",
    "    starting_next_time_step = starting_latest_time_step + relativedelta(hours= 2, minutes=30)\n",
    "\n",
    "    latest_time_step = starting_latest_time_step\n",
    "    next_time_step = starting_next_time_step\n",
    "    cmmdty_smltr = CommoditySimulator(latest_time_step, next_time_step)\n",
    "    cmmdty_smltr.vary_commodity_prices()"
   ]
  },
  {
   "cell_type": "code",
   "execution_count": null,
   "metadata": {},
   "outputs": [],
   "source": [
    "set = 8000.0\n",
    "x = 7949.538159146002 + set*(\n",
    "    0.008331516517697953 \n",
    "    - 0.004478571188740903 \n",
    "    + 0.01722214354311691 \n",
    "    + 0.013152424016901289\n",
    "    - 0.01732241508539263\n",
    ")\n",
    "print(x)\n",
    "print(3.25/3.3166940076617384)"
   ]
  },
  {
   "cell_type": "code",
   "execution_count": null,
   "metadata": {},
   "outputs": [],
   "source": [
    "cf.go_offline()\n",
    "cf.set_config_file(world_readable=True, theme=\"white\")\n",
    "\n",
    "buffer = SimulatedCommodityBuffer.objects.select_related(\"commodity\").order_by(\"captured_at\").all()\n",
    "\n",
    "price_variations = {}\n",
    "for snapshot in buffer:\n",
    "    if snapshot.commodity.name not in price_variations:\n",
    "        price_variations[snapshot.commodity.name] = []\n",
    "    price_variations[snapshot.commodity.name].append(snapshot.price_snapshot)\n",
    "\n",
    "# print(price_variations)\n",
    "for cmmdty_name in price_variations:\n",
    "    price_snaps = price_variations[cmmdty_name]\n",
    "    price_array = np.array(np.absolute(price_snaps))\n",
    "    max_price = max(price_array)\n",
    "    normalized_snaps = price_array/max_price\n",
    "    price_variations[cmmdty_name] = normalized_snaps\n",
    "\n",
    "    \n",
    "\n",
    "commodity_names = list(price_variations.keys())\n",
    "\n",
    "\n",
    "df_regret_comparisons = pd.DataFrame(price_variations)\n",
    "df_regret_comparisons.iplot(\n",
    "    xTitle='time_steps',\n",
    "    yTitle='Normalized Prices'\n",
    ")"
   ]
  },
  {
   "cell_type": "code",
   "execution_count": null,
   "metadata": {},
   "outputs": [],
   "source": []
  }
 ],
 "metadata": {
  "kernelspec": {
   "display_name": "v2env",
   "language": "python",
   "name": "v2env"
  },
  "language_info": {
   "codemirror_mode": {
    "name": "ipython",
    "version": 3
   },
   "file_extension": ".py",
   "mimetype": "text/x-python",
   "name": "python",
   "nbconvert_exporter": "python",
   "pygments_lexer": "ipython3",
   "version": "3.10.13"
  },
  "orig_nbformat": 4
 },
 "nbformat": 4,
 "nbformat_minor": 2
}
