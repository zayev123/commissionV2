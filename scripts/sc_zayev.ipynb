{
 "cells": [
  {
   "cell_type": "code",
   "execution_count": 1,
   "metadata": {},
   "outputs": [
    {
     "name": "stderr",
     "output_type": "stream",
     "text": [
      "2023-10-10 23:03:34.473333: I tensorflow/core/platform/cpu_feature_guard.cc:182] This TensorFlow binary is optimized to use available CPU instructions in performance-critical operations.\n",
      "To enable the following instructions: AVX2 FMA, in other operations, rebuild TensorFlow with the appropriate compiler flags.\n"
     ]
    }
   ],
   "source": [
    "import sys\n",
    "import django\n",
    "import os\n",
    "file_dir = \"/Users/mirbilal/Desktop/MobCommission/commissionV2/\"\n",
    "if file_dir not in sys.path:\n",
    "    sys.path.insert(0, file_dir)\n",
    "\n",
    "os.environ[\"DJANGO_SETTINGS_MODULE\"] = \"commissionerv2.settings\"\n",
    "os.environ[\"DJANGO_ALLOW_ASYNC_UNSAFE\"] = \"true\" \n",
    "django.setup()\n",
    "from datetime import datetime\n",
    "from os import environ\n",
    "from scripts.keras_simulator.test_1 import Test1\n",
    "from services.zayev.service_layer.agent import PPOAgent"
   ]
  },
  {
   "cell_type": "code",
   "execution_count": 2,
   "metadata": {},
   "outputs": [
    {
     "name": "stdout",
     "output_type": "stream",
     "text": [
      "{'db_params': {'database': 'traderdb', 'user': 'traderadmin', 'password': 'i4n6s9l1y', 'host': 'localhost', 'port': '5432'}, 'max_episode_steps': 150, 'print_output': False, 'the_current_time_step': datetime.datetime(1995, 1, 1, 10, 0)}\n"
     ]
    }
   ],
   "source": [
    "\n",
    "\n",
    "# from services.zayev.service_layer.actor import Actor_Model\n",
    "\n",
    "\n",
    "# starting_time_step = datetime(year=1995, month=1, day=1, hour=10)\n",
    "\n",
    "# agent = PPOAgent(starting_time_step)\n",
    "# acto = Actor_Model(\"\",\"\",\"\")\n",
    "#agent.run_batch() # train as PPO\n",
    "#agent.run_multiprocesses(num_worker = 16)  # train PPO multiprocessed (fastest)\n",
    "# f = open(\"BipedalWalker-v3_PPO_Actor.h5\", \"r\")\n",
    "# agent.test()\n",
    "tes = Test1()\n",
    "# tes.get_Q_test()\n",
    "tes.tes2()"
   ]
  }
 ],
 "metadata": {
  "kernelspec": {
   "display_name": "v2env",
   "language": "python",
   "name": "v2env"
  },
  "language_info": {
   "codemirror_mode": {
    "name": "ipython",
    "version": 3
   },
   "file_extension": ".py",
   "mimetype": "text/x-python",
   "name": "python",
   "nbconvert_exporter": "python",
   "pygments_lexer": "ipython3",
   "version": "3.10.13"
  },
  "orig_nbformat": 4
 },
 "nbformat": 4,
 "nbformat_minor": 2
}
