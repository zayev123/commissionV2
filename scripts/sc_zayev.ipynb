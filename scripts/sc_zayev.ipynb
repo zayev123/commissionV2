{
 "cells": [
  {
   "cell_type": "code",
   "execution_count": 1,
   "metadata": {},
   "outputs": [
    {
     "name": "stderr",
     "output_type": "stream",
     "text": [
      "2023-10-10 06:24:11.735958: I tensorflow/core/platform/cpu_feature_guard.cc:182] This TensorFlow binary is optimized to use available CPU instructions in performance-critical operations.\n",
      "To enable the following instructions: AVX2 FMA, in other operations, rebuild TensorFlow with the appropriate compiler flags.\n"
     ]
    }
   ],
   "source": [
    "import sys\n",
    "import django\n",
    "import os\n",
    "file_dir = \"/Users/mirbilal/Desktop/MobCommission/commissionV2/\"\n",
    "if file_dir not in sys.path:\n",
    "    sys.path.insert(0, file_dir)\n",
    "\n",
    "os.environ[\"DJANGO_SETTINGS_MODULE\"] = \"commissionerv2.settings\"\n",
    "os.environ[\"DJANGO_ALLOW_ASYNC_UNSAFE\"] = \"true\" \n",
    "django.setup()\n",
    "import numpy as np\n",
    "import json\n",
    "from datetime import datetime\n",
    "from dateutil.relativedelta import relativedelta\n",
    "import pytz\n",
    "import pandas as pd\n",
    "import cufflinks as cf\n",
    "from services.zayev.service_layer.zayev import Zayev"
   ]
  },
  {
   "cell_type": "code",
   "execution_count": 2,
   "metadata": {},
   "outputs": [],
   "source": [
    "starting_time_step = datetime(year=1995, month=1, day=1, hour=10)\n",
    "\n",
    "config = {\n",
    "    \"env\": \"CartPole-v1\",\n",
    "    \"obs_shape\": (4,), \n",
    "    \"num_workers\": 1,\n",
    "    \"eval_num_workers\": 1,\n",
    "    \"n_step\": 3,\n",
    "    \"n_actions\": 5,\n",
    "    \"max_eps\": 0.5,\n",
    "    \"train_batch_size\": 50,\n",
    "    \"gamma\": 0.99,\n",
    "    \"fcnet_hiddens\": [256, 256],\n",
    "    \"fcnet_activation\": \"tanh\",\n",
    "    \"learning_rate\": 0.0001,\n",
    "    \"buffer_size\": 100,\n",
    "    \"learning_starts\": 100,\n",
    "    \"timesteps_per_iteration\": 200,\n",
    "    \"grad_clip\": 10,\n",
    "    \"max_samples\": 500,\n",
    "    \"starting_time_step\": starting_time_step\n",
    "}"
   ]
  },
  {
   "cell_type": "code",
   "execution_count": 3,
   "metadata": {},
   "outputs": [
    {
     "name": "stdout",
     "output_type": "stream",
     "text": [
      "Model: \"model\"\n",
      "__________________________________________________________________________________________________\n",
      " Layer (type)                Output Shape                 Param #   Connected to                  \n",
      "==================================================================================================\n",
      " input_1 (InputLayer)        [(None, 40)]                 0         []                            \n",
      "                                                                                                  \n",
      " input_2 (InputLayer)        [(None, 6)]                  0         []                            \n",
      "                                                                                                  \n",
      " input_3 (InputLayer)        [(None, 1)]                  0         []                            \n",
      "                                                                                                  \n",
      " Q_input (Concatenate)       (None, 47)                   0         ['input_1[0][0]',             \n",
      "                                                                     'input_2[0][0]',             \n",
      "                                                                     'input_3[0][0]']             \n",
      "                                                                                                  \n",
      " flatten_3 (Flatten)         (None, 47)                   0         ['Q_input[1][0]']             \n",
      "                                                                                                  \n",
      " Q_1 (Dense)                 (None, 256)                  12288     ['flatten_3[1][0]']           \n",
      "                                                                                                  \n",
      " Q_2 (Dense)                 (None, 256)                  65792     ['Q_1[1][0]']                 \n",
      "                                                                                                  \n",
      " Q_output (Dense)            (None, 5)                    1285      ['Q_2[1][0]']                 \n",
      "                                                                                                  \n",
      "==================================================================================================\n",
      "Total params: 79365 (310.02 KB)\n",
      "Trainable params: 79365 (310.02 KB)\n",
      "Non-trainable params: 0 (0.00 Byte)\n",
      "__________________________________________________________________________________________________\n",
      "Model: \"model_1\"\n",
      "__________________________________________________________________________________________________\n",
      " Layer (type)                Output Shape                 Param #   Connected to                  \n",
      "==================================================================================================\n",
      " input_4 (InputLayer)        [(None, 40)]                 0         []                            \n",
      "                                                                                                  \n",
      " input_5 (InputLayer)        [(None, 6)]                  0         []                            \n",
      "                                                                                                  \n",
      " input_6 (InputLayer)        [(None, 1)]                  0         []                            \n",
      "                                                                                                  \n",
      " Q_input (Concatenate)       (None, 47)                   0         ['input_4[0][0]',             \n",
      "                                                                     'input_5[0][0]',             \n",
      "                                                                     'input_6[0][0]']             \n",
      "                                                                                                  \n",
      " flatten_7 (Flatten)         (None, 47)                   0         ['Q_input[1][0]']             \n",
      "                                                                                                  \n",
      " Q_1 (Dense)                 (None, 256)                  12288     ['flatten_7[1][0]']           \n",
      "                                                                                                  \n",
      " Q_2 (Dense)                 (None, 256)                  65792     ['Q_1[1][0]']                 \n",
      "                                                                                                  \n",
      " Q_output (Dense)            (None, 5)                    1285      ['Q_2[1][0]']                 \n",
      "                                                                                                  \n",
      "==================================================================================================\n",
      "Total params: 79365 (310.02 KB)\n",
      "Trainable params: 79365 (310.02 KB)\n",
      "Non-trainable params: 0 (0.00 Byte)\n",
      "__________________________________________________________________________________________________\n",
      "my_layer Q_input\n",
      "Model: \"model_2\"\n",
      "__________________________________________________________________________________________________\n",
      " Layer (type)                Output Shape                 Param #   Connected to                  \n",
      "==================================================================================================\n",
      " input_7 (InputLayer)        [(None, 47)]                 0         []                            \n",
      "                                                                                                  \n",
      " flatten_7 (Flatten)         (None, 47)                   0         ['input_7[0][0]']             \n",
      "                                                                                                  \n",
      " Q_1 (Dense)                 (None, 256)                  12288     ['flatten_7[2][0]']           \n",
      "                                                                                                  \n",
      " Q_2 (Dense)                 (None, 256)                  65792     ['Q_1[2][0]']                 \n",
      "                                                                                                  \n",
      " Q_sampled (InputLayer)      [(None, 1)]                  0         []                            \n",
      "                                                                                                  \n",
      " Q_output (Dense)            (None, 5)                    1285      ['Q_2[2][0]']                 \n",
      "                                                                                                  \n",
      " Q_mask (InputLayer)         [(None, 5)]                  0         []                            \n",
      "                                                                                                  \n",
      " Q_masked_out (Lambda)       (None,)                      0         ['Q_sampled[0][0]',           \n",
      "                                                                     'Q_output[2][0]',            \n",
      "                                                                     'Q_mask[0][0]']              \n",
      "                                                                                                  \n",
      "==================================================================================================\n",
      "Total params: 79365 (310.02 KB)\n",
      "Trainable params: 79365 (310.02 KB)\n",
      "Non-trainable params: 0 (0.00 Byte)\n",
      "__________________________________________________________________________________________________\n"
     ]
    }
   ],
   "source": [
    "zev = Zayev(config=config)"
   ]
  }
 ],
 "metadata": {
  "kernelspec": {
   "display_name": "v2env",
   "language": "python",
   "name": "v2env"
  },
  "language_info": {
   "codemirror_mode": {
    "name": "ipython",
    "version": 3
   },
   "file_extension": ".py",
   "mimetype": "text/x-python",
   "name": "python",
   "nbconvert_exporter": "python",
   "pygments_lexer": "ipython3",
   "version": "3.10.13"
  },
  "orig_nbformat": 4
 },
 "nbformat": 4,
 "nbformat_minor": 2
}
